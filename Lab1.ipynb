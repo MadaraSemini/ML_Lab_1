{
  "nbformat": 4,
  "nbformat_minor": 0,
  "metadata": {
    "colab": {
      "provenance": [],
      "toc_visible": true
    },
    "kernelspec": {
      "name": "python3",
      "display_name": "Python 3"
    },
    "language_info": {
      "name": "python"
    }
  },
  "cells": [
    {
      "cell_type": "markdown",
      "source": [
        "## Lab 1"
      ],
      "metadata": {
        "id": "CzG8vO6W4zgt"
      }
    },
    {
      "cell_type": "code",
      "execution_count": null,
      "metadata": {
        "id": "FAOe5xz0zfab"
      },
      "outputs": [],
      "source": [
        "import numpy as np\n",
        "import matplotlib.pyplot as plt\n",
        "import pandas as pd"
      ]
    },
    {
      "cell_type": "markdown",
      "source": [
        "Read data"
      ],
      "metadata": {
        "id": "oSG_lP__SSxz"
      }
    },
    {
      "cell_type": "code",
      "source": [
        "names=[]\n",
        "# Assign column names to the dataset\n",
        "for i in range(1,257):\n",
        " names.append(\"feature_\"+str(i))\n",
        "labels=[\"label_1\",\"label_2\",\"label_3\",\"label_4\"]\n",
        "names+=labels\n",
        "\n",
        "# Read in the dataset\n",
        "train_df = pd.read_csv('/content/drive/MyDrive/Colab Notebooks/Lab 1/DataSet/train.csv')\n",
        "valid_df = pd.read_csv('/content/drive/MyDrive/Colab Notebooks/Lab 1/DataSet/valid.csv')\n",
        "test_df = pd.read_csv('/content/drive/MyDrive/Colab Notebooks/Lab 1/DataSet/Test.csv')"
      ],
      "metadata": {
        "id": "b6Q3AaRf0FT1"
      },
      "execution_count": null,
      "outputs": []
    },
    {
      "cell_type": "code",
      "source": [
        "train_df.head()"
      ],
      "metadata": {
        "colab": {
          "base_uri": "https://localhost:8080/",
          "height": 255
        },
        "id": "cXlJnBFF0lHU",
        "outputId": "08f26fb9-1bbd-4564-8687-557d673350af"
      },
      "execution_count": null,
      "outputs": [
        {
          "output_type": "execute_result",
          "data": {
            "text/plain": [
              "   feature_1  feature_2  feature_3  feature_4  feature_5  feature_6  \\\n",
              "0  -1.928826  -0.291540   1.105909   2.070652   0.657838  -0.670940   \n",
              "1  -1.709277  -1.008998   0.956611   4.313823  -0.669455   1.928765   \n",
              "2  -1.906183  -0.357562  -0.682627   4.651838  -0.884940   1.159512   \n",
              "3   0.697872  -2.218567  -0.572214   1.192062   0.329554   0.741364   \n",
              "4  -1.976895  -0.496308   0.368102   3.739787  -0.132058   1.234980   \n",
              "\n",
              "   feature_7  feature_8  feature_9  feature_10  ...  feature_251  feature_252  \\\n",
              "0  -0.968238   0.049916   1.111149   -1.834592  ...    -0.691538    -1.152522   \n",
              "1   0.162550   0.152173   2.356505   -2.898549  ...    -0.668235    -0.532695   \n",
              "2   1.354481  -1.432248   2.160144   -3.175735  ...    -0.026728     0.440408   \n",
              "3   0.962354   0.993512   2.896854   -1.600380  ...     0.709032     0.812106   \n",
              "4  -0.501003   0.881554   1.630941   -3.853953  ...    -0.599700    -1.024829   \n",
              "\n",
              "   feature_253  feature_254  feature_255  feature_256  label_1  label_2  \\\n",
              "0     0.441157    -1.494434    -0.344974    -0.395641       45      NaN   \n",
              "1     0.151163    -1.876885     1.651534    -2.706490       45      NaN   \n",
              "2     2.745906    -0.680754    -0.643588    -2.587203       45      NaN   \n",
              "3     1.055266    -0.915258    -0.924856    -1.318964       45      NaN   \n",
              "4     1.869753    -2.498570     3.268253    -1.356606       45      NaN   \n",
              "\n",
              "   label_3  label_4  \n",
              "0        1        6  \n",
              "1        1        6  \n",
              "2        1        6  \n",
              "3        1        6  \n",
              "4        1        6  \n",
              "\n",
              "[5 rows x 260 columns]"
            ],
            "text/html": [
              "\n",
              "  <div id=\"df-bc7db40f-b26f-42de-bf4d-0bbaf907c759\" class=\"colab-df-container\">\n",
              "    <div>\n",
              "<style scoped>\n",
              "    .dataframe tbody tr th:only-of-type {\n",
              "        vertical-align: middle;\n",
              "    }\n",
              "\n",
              "    .dataframe tbody tr th {\n",
              "        vertical-align: top;\n",
              "    }\n",
              "\n",
              "    .dataframe thead th {\n",
              "        text-align: right;\n",
              "    }\n",
              "</style>\n",
              "<table border=\"1\" class=\"dataframe\">\n",
              "  <thead>\n",
              "    <tr style=\"text-align: right;\">\n",
              "      <th></th>\n",
              "      <th>feature_1</th>\n",
              "      <th>feature_2</th>\n",
              "      <th>feature_3</th>\n",
              "      <th>feature_4</th>\n",
              "      <th>feature_5</th>\n",
              "      <th>feature_6</th>\n",
              "      <th>feature_7</th>\n",
              "      <th>feature_8</th>\n",
              "      <th>feature_9</th>\n",
              "      <th>feature_10</th>\n",
              "      <th>...</th>\n",
              "      <th>feature_251</th>\n",
              "      <th>feature_252</th>\n",
              "      <th>feature_253</th>\n",
              "      <th>feature_254</th>\n",
              "      <th>feature_255</th>\n",
              "      <th>feature_256</th>\n",
              "      <th>label_1</th>\n",
              "      <th>label_2</th>\n",
              "      <th>label_3</th>\n",
              "      <th>label_4</th>\n",
              "    </tr>\n",
              "  </thead>\n",
              "  <tbody>\n",
              "    <tr>\n",
              "      <th>0</th>\n",
              "      <td>-1.928826</td>\n",
              "      <td>-0.291540</td>\n",
              "      <td>1.105909</td>\n",
              "      <td>2.070652</td>\n",
              "      <td>0.657838</td>\n",
              "      <td>-0.670940</td>\n",
              "      <td>-0.968238</td>\n",
              "      <td>0.049916</td>\n",
              "      <td>1.111149</td>\n",
              "      <td>-1.834592</td>\n",
              "      <td>...</td>\n",
              "      <td>-0.691538</td>\n",
              "      <td>-1.152522</td>\n",
              "      <td>0.441157</td>\n",
              "      <td>-1.494434</td>\n",
              "      <td>-0.344974</td>\n",
              "      <td>-0.395641</td>\n",
              "      <td>45</td>\n",
              "      <td>NaN</td>\n",
              "      <td>1</td>\n",
              "      <td>6</td>\n",
              "    </tr>\n",
              "    <tr>\n",
              "      <th>1</th>\n",
              "      <td>-1.709277</td>\n",
              "      <td>-1.008998</td>\n",
              "      <td>0.956611</td>\n",
              "      <td>4.313823</td>\n",
              "      <td>-0.669455</td>\n",
              "      <td>1.928765</td>\n",
              "      <td>0.162550</td>\n",
              "      <td>0.152173</td>\n",
              "      <td>2.356505</td>\n",
              "      <td>-2.898549</td>\n",
              "      <td>...</td>\n",
              "      <td>-0.668235</td>\n",
              "      <td>-0.532695</td>\n",
              "      <td>0.151163</td>\n",
              "      <td>-1.876885</td>\n",
              "      <td>1.651534</td>\n",
              "      <td>-2.706490</td>\n",
              "      <td>45</td>\n",
              "      <td>NaN</td>\n",
              "      <td>1</td>\n",
              "      <td>6</td>\n",
              "    </tr>\n",
              "    <tr>\n",
              "      <th>2</th>\n",
              "      <td>-1.906183</td>\n",
              "      <td>-0.357562</td>\n",
              "      <td>-0.682627</td>\n",
              "      <td>4.651838</td>\n",
              "      <td>-0.884940</td>\n",
              "      <td>1.159512</td>\n",
              "      <td>1.354481</td>\n",
              "      <td>-1.432248</td>\n",
              "      <td>2.160144</td>\n",
              "      <td>-3.175735</td>\n",
              "      <td>...</td>\n",
              "      <td>-0.026728</td>\n",
              "      <td>0.440408</td>\n",
              "      <td>2.745906</td>\n",
              "      <td>-0.680754</td>\n",
              "      <td>-0.643588</td>\n",
              "      <td>-2.587203</td>\n",
              "      <td>45</td>\n",
              "      <td>NaN</td>\n",
              "      <td>1</td>\n",
              "      <td>6</td>\n",
              "    </tr>\n",
              "    <tr>\n",
              "      <th>3</th>\n",
              "      <td>0.697872</td>\n",
              "      <td>-2.218567</td>\n",
              "      <td>-0.572214</td>\n",
              "      <td>1.192062</td>\n",
              "      <td>0.329554</td>\n",
              "      <td>0.741364</td>\n",
              "      <td>0.962354</td>\n",
              "      <td>0.993512</td>\n",
              "      <td>2.896854</td>\n",
              "      <td>-1.600380</td>\n",
              "      <td>...</td>\n",
              "      <td>0.709032</td>\n",
              "      <td>0.812106</td>\n",
              "      <td>1.055266</td>\n",
              "      <td>-0.915258</td>\n",
              "      <td>-0.924856</td>\n",
              "      <td>-1.318964</td>\n",
              "      <td>45</td>\n",
              "      <td>NaN</td>\n",
              "      <td>1</td>\n",
              "      <td>6</td>\n",
              "    </tr>\n",
              "    <tr>\n",
              "      <th>4</th>\n",
              "      <td>-1.976895</td>\n",
              "      <td>-0.496308</td>\n",
              "      <td>0.368102</td>\n",
              "      <td>3.739787</td>\n",
              "      <td>-0.132058</td>\n",
              "      <td>1.234980</td>\n",
              "      <td>-0.501003</td>\n",
              "      <td>0.881554</td>\n",
              "      <td>1.630941</td>\n",
              "      <td>-3.853953</td>\n",
              "      <td>...</td>\n",
              "      <td>-0.599700</td>\n",
              "      <td>-1.024829</td>\n",
              "      <td>1.869753</td>\n",
              "      <td>-2.498570</td>\n",
              "      <td>3.268253</td>\n",
              "      <td>-1.356606</td>\n",
              "      <td>45</td>\n",
              "      <td>NaN</td>\n",
              "      <td>1</td>\n",
              "      <td>6</td>\n",
              "    </tr>\n",
              "  </tbody>\n",
              "</table>\n",
              "<p>5 rows × 260 columns</p>\n",
              "</div>\n",
              "    <div class=\"colab-df-buttons\">\n",
              "\n",
              "  <div class=\"colab-df-container\">\n",
              "    <button class=\"colab-df-convert\" onclick=\"convertToInteractive('df-bc7db40f-b26f-42de-bf4d-0bbaf907c759')\"\n",
              "            title=\"Convert this dataframe to an interactive table.\"\n",
              "            style=\"display:none;\">\n",
              "\n",
              "  <svg xmlns=\"http://www.w3.org/2000/svg\" height=\"24px\" viewBox=\"0 -960 960 960\">\n",
              "    <path d=\"M120-120v-720h720v720H120Zm60-500h600v-160H180v160Zm220 220h160v-160H400v160Zm0 220h160v-160H400v160ZM180-400h160v-160H180v160Zm440 0h160v-160H620v160ZM180-180h160v-160H180v160Zm440 0h160v-160H620v160Z\"/>\n",
              "  </svg>\n",
              "    </button>\n",
              "\n",
              "  <style>\n",
              "    .colab-df-container {\n",
              "      display:flex;\n",
              "      gap: 12px;\n",
              "    }\n",
              "\n",
              "    .colab-df-convert {\n",
              "      background-color: #E8F0FE;\n",
              "      border: none;\n",
              "      border-radius: 50%;\n",
              "      cursor: pointer;\n",
              "      display: none;\n",
              "      fill: #1967D2;\n",
              "      height: 32px;\n",
              "      padding: 0 0 0 0;\n",
              "      width: 32px;\n",
              "    }\n",
              "\n",
              "    .colab-df-convert:hover {\n",
              "      background-color: #E2EBFA;\n",
              "      box-shadow: 0px 1px 2px rgba(60, 64, 67, 0.3), 0px 1px 3px 1px rgba(60, 64, 67, 0.15);\n",
              "      fill: #174EA6;\n",
              "    }\n",
              "\n",
              "    .colab-df-buttons div {\n",
              "      margin-bottom: 4px;\n",
              "    }\n",
              "\n",
              "    [theme=dark] .colab-df-convert {\n",
              "      background-color: #3B4455;\n",
              "      fill: #D2E3FC;\n",
              "    }\n",
              "\n",
              "    [theme=dark] .colab-df-convert:hover {\n",
              "      background-color: #434B5C;\n",
              "      box-shadow: 0px 1px 3px 1px rgba(0, 0, 0, 0.15);\n",
              "      filter: drop-shadow(0px 1px 2px rgba(0, 0, 0, 0.3));\n",
              "      fill: #FFFFFF;\n",
              "    }\n",
              "  </style>\n",
              "\n",
              "    <script>\n",
              "      const buttonEl =\n",
              "        document.querySelector('#df-bc7db40f-b26f-42de-bf4d-0bbaf907c759 button.colab-df-convert');\n",
              "      buttonEl.style.display =\n",
              "        google.colab.kernel.accessAllowed ? 'block' : 'none';\n",
              "\n",
              "      async function convertToInteractive(key) {\n",
              "        const element = document.querySelector('#df-bc7db40f-b26f-42de-bf4d-0bbaf907c759');\n",
              "        const dataTable =\n",
              "          await google.colab.kernel.invokeFunction('convertToInteractive',\n",
              "                                                    [key], {});\n",
              "        if (!dataTable) return;\n",
              "\n",
              "        const docLinkHtml = 'Like what you see? Visit the ' +\n",
              "          '<a target=\"_blank\" href=https://colab.research.google.com/notebooks/data_table.ipynb>data table notebook</a>'\n",
              "          + ' to learn more about interactive tables.';\n",
              "        element.innerHTML = '';\n",
              "        dataTable['output_type'] = 'display_data';\n",
              "        await google.colab.output.renderOutput(dataTable, element);\n",
              "        const docLink = document.createElement('div');\n",
              "        docLink.innerHTML = docLinkHtml;\n",
              "        element.appendChild(docLink);\n",
              "      }\n",
              "    </script>\n",
              "  </div>\n",
              "\n",
              "\n",
              "<div id=\"df-6e5fd694-de2e-4bee-ac80-9f2a1cdce6f6\">\n",
              "  <button class=\"colab-df-quickchart\" onclick=\"quickchart('df-6e5fd694-de2e-4bee-ac80-9f2a1cdce6f6')\"\n",
              "            title=\"Suggest charts.\"\n",
              "            style=\"display:none;\">\n",
              "\n",
              "<svg xmlns=\"http://www.w3.org/2000/svg\" height=\"24px\"viewBox=\"0 0 24 24\"\n",
              "     width=\"24px\">\n",
              "    <g>\n",
              "        <path d=\"M19 3H5c-1.1 0-2 .9-2 2v14c0 1.1.9 2 2 2h14c1.1 0 2-.9 2-2V5c0-1.1-.9-2-2-2zM9 17H7v-7h2v7zm4 0h-2V7h2v10zm4 0h-2v-4h2v4z\"/>\n",
              "    </g>\n",
              "</svg>\n",
              "  </button>\n",
              "\n",
              "<style>\n",
              "  .colab-df-quickchart {\n",
              "    background-color: #E8F0FE;\n",
              "    border: none;\n",
              "    border-radius: 50%;\n",
              "    cursor: pointer;\n",
              "    display: none;\n",
              "    fill: #1967D2;\n",
              "    height: 32px;\n",
              "    padding: 0 0 0 0;\n",
              "    width: 32px;\n",
              "  }\n",
              "\n",
              "  .colab-df-quickchart:hover {\n",
              "    background-color: #E2EBFA;\n",
              "    box-shadow: 0px 1px 2px rgba(60, 64, 67, 0.3), 0px 1px 3px 1px rgba(60, 64, 67, 0.15);\n",
              "    fill: #174EA6;\n",
              "  }\n",
              "\n",
              "  [theme=dark] .colab-df-quickchart {\n",
              "    background-color: #3B4455;\n",
              "    fill: #D2E3FC;\n",
              "  }\n",
              "\n",
              "  [theme=dark] .colab-df-quickchart:hover {\n",
              "    background-color: #434B5C;\n",
              "    box-shadow: 0px 1px 3px 1px rgba(0, 0, 0, 0.15);\n",
              "    filter: drop-shadow(0px 1px 2px rgba(0, 0, 0, 0.3));\n",
              "    fill: #FFFFFF;\n",
              "  }\n",
              "</style>\n",
              "\n",
              "  <script>\n",
              "    async function quickchart(key) {\n",
              "      const charts = await google.colab.kernel.invokeFunction(\n",
              "          'suggestCharts', [key], {});\n",
              "    }\n",
              "    (() => {\n",
              "      let quickchartButtonEl =\n",
              "        document.querySelector('#df-6e5fd694-de2e-4bee-ac80-9f2a1cdce6f6 button');\n",
              "      quickchartButtonEl.style.display =\n",
              "        google.colab.kernel.accessAllowed ? 'block' : 'none';\n",
              "    })();\n",
              "  </script>\n",
              "</div>\n",
              "    </div>\n",
              "  </div>\n"
            ]
          },
          "metadata": {},
          "execution_count": 3
        }
      ]
    },
    {
      "cell_type": "code",
      "source": [
        "train_df.shape"
      ],
      "metadata": {
        "colab": {
          "base_uri": "https://localhost:8080/"
        },
        "id": "cq1RJJ0S7vRS",
        "outputId": "75b7920e-0ffe-4038-da15-00db7360d027"
      },
      "execution_count": null,
      "outputs": [
        {
          "output_type": "execute_result",
          "data": {
            "text/plain": [
              "(28520, 260)"
            ]
          },
          "metadata": {},
          "execution_count": 4
        }
      ]
    },
    {
      "cell_type": "code",
      "source": [
        "train_df.isnull().sum()"
      ],
      "metadata": {
        "colab": {
          "base_uri": "https://localhost:8080/"
        },
        "id": "Xd5-qSLA6-MM",
        "outputId": "9246ffb0-36d7-4900-dbd7-b38a3d92b163"
      },
      "execution_count": null,
      "outputs": [
        {
          "output_type": "execute_result",
          "data": {
            "text/plain": [
              "feature_1        0\n",
              "feature_2        0\n",
              "feature_3        0\n",
              "feature_4        0\n",
              "feature_5        0\n",
              "              ... \n",
              "feature_256      0\n",
              "label_1          0\n",
              "label_2        480\n",
              "label_3          0\n",
              "label_4          0\n",
              "Length: 260, dtype: int64"
            ]
          },
          "metadata": {},
          "execution_count": 5
        }
      ]
    },
    {
      "cell_type": "code",
      "source": [
        "valid_df.isnull().sum()"
      ],
      "metadata": {
        "colab": {
          "base_uri": "https://localhost:8080/"
        },
        "id": "cev6Cp625jCb",
        "outputId": "abb12dd6-fa1e-485d-97e1-4bd64b1e5b82"
      },
      "execution_count": null,
      "outputs": [
        {
          "output_type": "execute_result",
          "data": {
            "text/plain": [
              "feature_1       0\n",
              "feature_2       0\n",
              "feature_3       0\n",
              "feature_4       0\n",
              "feature_5       0\n",
              "               ..\n",
              "feature_256     0\n",
              "label_1         0\n",
              "label_2        14\n",
              "label_3         0\n",
              "label_4         0\n",
              "Length: 260, dtype: int64"
            ]
          },
          "metadata": {},
          "execution_count": 6
        }
      ]
    },
    {
      "cell_type": "code",
      "source": [
        "test_df.isnull().sum()"
      ],
      "metadata": {
        "colab": {
          "base_uri": "https://localhost:8080/"
        },
        "id": "nO8p3lBYl1Qy",
        "outputId": "32a00530-75c5-428e-c87c-d41ad615969d"
      },
      "execution_count": null,
      "outputs": [
        {
          "output_type": "execute_result",
          "data": {
            "text/plain": [
              "feature_1        0\n",
              "feature_2        0\n",
              "feature_3        0\n",
              "feature_4        0\n",
              "feature_5        0\n",
              "              ... \n",
              "feature_256      0\n",
              "label_1        750\n",
              "label_2        750\n",
              "label_3        750\n",
              "label_4        750\n",
              "Length: 260, dtype: int64"
            ]
          },
          "metadata": {},
          "execution_count": 7
        }
      ]
    },
    {
      "cell_type": "markdown",
      "source": [
        "Scaling"
      ],
      "metadata": {
        "id": "q-y-hpRZvS_S"
      }
    },
    {
      "cell_type": "code",
      "source": [
        "from sklearn.preprocessing import RobustScaler\n",
        "\n",
        "x_train ={}\n",
        "y_train ={}\n",
        "x_valid ={}\n",
        "y_valid ={}\n",
        "x_test = {}\n",
        "\n",
        "df_t = train_df\n",
        "df_v = valid_df\n",
        "\n",
        "for label in labels:\n",
        "  scaler = RobustScaler()\n",
        "  if label == 'label_2':\n",
        "    df_t = train_df.dropna()\n",
        "    df_v = valid_df.dropna()\n",
        "\n",
        "  x_train[label] = scaler.fit_transform(df_t.drop(labels, axis=1))\n",
        "  y_train[label] = df_t[label]\n",
        "  x_valid[label] = scaler.transform(df_v.drop(labels, axis=1))\n",
        "  y_valid[label] = df_v[label]\n",
        "  x_test[label] = scaler.transform(test_df.drop(labels, axis=1))\n",
        "\n",
        "\n"
      ],
      "metadata": {
        "id": "bOGRsINW4IaW"
      },
      "execution_count": null,
      "outputs": []
    },
    {
      "cell_type": "code",
      "source": [
        "pd.DataFrame(x_train['label_2']).shape"
      ],
      "metadata": {
        "colab": {
          "base_uri": "https://localhost:8080/"
        },
        "id": "ml4d5YSUmA85",
        "outputId": "f2b58cb8-f382-409c-8c7b-03d090ecef0e"
      },
      "execution_count": null,
      "outputs": [
        {
          "output_type": "execute_result",
          "data": {
            "text/plain": [
              "(28040, 256)"
            ]
          },
          "metadata": {},
          "execution_count": 15
        }
      ]
    },
    {
      "cell_type": "markdown",
      "source": [
        "##KNN"
      ],
      "metadata": {
        "id": "EhpLFyO1SiXL"
      }
    },
    {
      "cell_type": "code",
      "source": [
        "from sklearn.neighbors import KNeighborsClassifier\n",
        "from sklearn.metrics import classification_report, confusion_matrix\n",
        "\n",
        "def KNN(x_t,x_v,y_t):\n",
        "  classifier = KNeighborsClassifier(n_neighbors=5)\n",
        "  classifier.fit(x_t, y_t)\n",
        "\n",
        "  y_pred = classifier.predict(x_v)\n",
        "  return y_pred\n",
        "\n",
        "  # print(confusion_matrix(y_v, y_pred))\n",
        "  # print(classification_report(y_v, y_pred))"
      ],
      "metadata": {
        "id": "lCZB8xQzSmxk"
      },
      "execution_count": null,
      "outputs": []
    },
    {
      "cell_type": "markdown",
      "source": [
        "## SVM"
      ],
      "metadata": {
        "id": "Yk_Loah9TRPM"
      }
    },
    {
      "cell_type": "code",
      "source": [
        "def SVM(x_t,x_v,y_t,y_v):\n",
        "  svm_classifier = SVC(kernel='linear', class_weight='balanced')\n",
        "  svm_classifier.fit(x_t, y_t)\n",
        "\n",
        "  # Make predictions on the test data\n",
        "  y_pred = svm_classifier.predict(x_v)\n",
        "\n",
        "  # Evaluate model performance\n",
        "  print(classification_report(y_v, y_pred))"
      ],
      "metadata": {
        "id": "msVMDMyRTXv7"
      },
      "execution_count": null,
      "outputs": []
    },
    {
      "cell_type": "markdown",
      "source": [
        "## Regression"
      ],
      "metadata": {
        "id": "poggEEdET4rT"
      }
    },
    {
      "cell_type": "code",
      "source": [
        "from sklearn.linear_model import LinearRegression  # You can replace this with other regression algorithms\n",
        "from sklearn.metrics import mean_squared_error, r2_score  # For evaluation\n",
        "from sklearn.ensemble import RandomForestRegressor\n",
        "\n",
        "def reg(x_t,x_v,y_t,y_v):\n",
        "  regressor = LinearRegression()\n",
        "  regressor.fit(x_t, y_t)\n",
        "\n",
        "  y_pred = regressor.predict(x_v)\n",
        "\n",
        "  mse = mean_squared_error(y_v, y_pred)\n",
        "  r2 = r2_score(y_v, y_pred)\n",
        "\n",
        "  print(\"Mean Squared Error:\", mse)\n",
        "  print(\"R-squared:\", r2)"
      ],
      "metadata": {
        "id": "I5UDLAYbT74M"
      },
      "execution_count": null,
      "outputs": []
    },
    {
      "cell_type": "markdown",
      "source": [
        "## Label 1"
      ],
      "metadata": {
        "id": "Tdb_h1D7vitC"
      }
    },
    {
      "cell_type": "code",
      "source": [
        "from sklearn.neighbors import KNeighborsClassifier\n",
        "classifier = KNeighborsClassifier(n_neighbors=5)\n",
        "classifier.fit(x_train['label_1'], y_train['label_1'])"
      ],
      "metadata": {
        "colab": {
          "base_uri": "https://localhost:8080/",
          "height": 74
        },
        "id": "nvr4M87n4X1f",
        "outputId": "0078704d-5073-4fd3-c89e-10495b443dbd"
      },
      "execution_count": null,
      "outputs": [
        {
          "output_type": "execute_result",
          "data": {
            "text/plain": [
              "KNeighborsClassifier()"
            ],
            "text/html": [
              "<style>#sk-container-id-1 {color: black;background-color: white;}#sk-container-id-1 pre{padding: 0;}#sk-container-id-1 div.sk-toggleable {background-color: white;}#sk-container-id-1 label.sk-toggleable__label {cursor: pointer;display: block;width: 100%;margin-bottom: 0;padding: 0.3em;box-sizing: border-box;text-align: center;}#sk-container-id-1 label.sk-toggleable__label-arrow:before {content: \"▸\";float: left;margin-right: 0.25em;color: #696969;}#sk-container-id-1 label.sk-toggleable__label-arrow:hover:before {color: black;}#sk-container-id-1 div.sk-estimator:hover label.sk-toggleable__label-arrow:before {color: black;}#sk-container-id-1 div.sk-toggleable__content {max-height: 0;max-width: 0;overflow: hidden;text-align: left;background-color: #f0f8ff;}#sk-container-id-1 div.sk-toggleable__content pre {margin: 0.2em;color: black;border-radius: 0.25em;background-color: #f0f8ff;}#sk-container-id-1 input.sk-toggleable__control:checked~div.sk-toggleable__content {max-height: 200px;max-width: 100%;overflow: auto;}#sk-container-id-1 input.sk-toggleable__control:checked~label.sk-toggleable__label-arrow:before {content: \"▾\";}#sk-container-id-1 div.sk-estimator input.sk-toggleable__control:checked~label.sk-toggleable__label {background-color: #d4ebff;}#sk-container-id-1 div.sk-label input.sk-toggleable__control:checked~label.sk-toggleable__label {background-color: #d4ebff;}#sk-container-id-1 input.sk-hidden--visually {border: 0;clip: rect(1px 1px 1px 1px);clip: rect(1px, 1px, 1px, 1px);height: 1px;margin: -1px;overflow: hidden;padding: 0;position: absolute;width: 1px;}#sk-container-id-1 div.sk-estimator {font-family: monospace;background-color: #f0f8ff;border: 1px dotted black;border-radius: 0.25em;box-sizing: border-box;margin-bottom: 0.5em;}#sk-container-id-1 div.sk-estimator:hover {background-color: #d4ebff;}#sk-container-id-1 div.sk-parallel-item::after {content: \"\";width: 100%;border-bottom: 1px solid gray;flex-grow: 1;}#sk-container-id-1 div.sk-label:hover label.sk-toggleable__label {background-color: #d4ebff;}#sk-container-id-1 div.sk-serial::before {content: \"\";position: absolute;border-left: 1px solid gray;box-sizing: border-box;top: 0;bottom: 0;left: 50%;z-index: 0;}#sk-container-id-1 div.sk-serial {display: flex;flex-direction: column;align-items: center;background-color: white;padding-right: 0.2em;padding-left: 0.2em;position: relative;}#sk-container-id-1 div.sk-item {position: relative;z-index: 1;}#sk-container-id-1 div.sk-parallel {display: flex;align-items: stretch;justify-content: center;background-color: white;position: relative;}#sk-container-id-1 div.sk-item::before, #sk-container-id-1 div.sk-parallel-item::before {content: \"\";position: absolute;border-left: 1px solid gray;box-sizing: border-box;top: 0;bottom: 0;left: 50%;z-index: -1;}#sk-container-id-1 div.sk-parallel-item {display: flex;flex-direction: column;z-index: 1;position: relative;background-color: white;}#sk-container-id-1 div.sk-parallel-item:first-child::after {align-self: flex-end;width: 50%;}#sk-container-id-1 div.sk-parallel-item:last-child::after {align-self: flex-start;width: 50%;}#sk-container-id-1 div.sk-parallel-item:only-child::after {width: 0;}#sk-container-id-1 div.sk-dashed-wrapped {border: 1px dashed gray;margin: 0 0.4em 0.5em 0.4em;box-sizing: border-box;padding-bottom: 0.4em;background-color: white;}#sk-container-id-1 div.sk-label label {font-family: monospace;font-weight: bold;display: inline-block;line-height: 1.2em;}#sk-container-id-1 div.sk-label-container {text-align: center;}#sk-container-id-1 div.sk-container {/* jupyter's `normalize.less` sets `[hidden] { display: none; }` but bootstrap.min.css set `[hidden] { display: none !important; }` so we also need the `!important` here to be able to override the default hidden behavior on the sphinx rendered scikit-learn.org. See: https://github.com/scikit-learn/scikit-learn/issues/21755 */display: inline-block !important;position: relative;}#sk-container-id-1 div.sk-text-repr-fallback {display: none;}</style><div id=\"sk-container-id-1\" class=\"sk-top-container\"><div class=\"sk-text-repr-fallback\"><pre>KNeighborsClassifier()</pre><b>In a Jupyter environment, please rerun this cell to show the HTML representation or trust the notebook. <br />On GitHub, the HTML representation is unable to render, please try loading this page with nbviewer.org.</b></div><div class=\"sk-container\" hidden><div class=\"sk-item\"><div class=\"sk-estimator sk-toggleable\"><input class=\"sk-toggleable__control sk-hidden--visually\" id=\"sk-estimator-id-1\" type=\"checkbox\" checked><label for=\"sk-estimator-id-1\" class=\"sk-toggleable__label sk-toggleable__label-arrow\">KNeighborsClassifier</label><div class=\"sk-toggleable__content\"><pre>KNeighborsClassifier()</pre></div></div></div></div></div>"
            ]
          },
          "metadata": {},
          "execution_count": 19
        }
      ]
    },
    {
      "cell_type": "code",
      "source": [
        "y_pred = classifier.predict(x_valid['label_1'])"
      ],
      "metadata": {
        "id": "8t99zj47AJX0"
      },
      "execution_count": null,
      "outputs": []
    },
    {
      "cell_type": "code",
      "source": [
        "from sklearn.metrics import classification_report, confusion_matrix\n",
        "print(confusion_matrix(y_valid['label_1'], y_pred))\n",
        "print(classification_report(y_valid['label_1'], y_pred))"
      ],
      "metadata": {
        "id": "NSXb8fy8AL8C",
        "colab": {
          "base_uri": "https://localhost:8080/"
        },
        "outputId": "3368e3e4-cc52-404a-d705-65fc048040eb"
      },
      "execution_count": null,
      "outputs": [
        {
          "output_type": "stream",
          "name": "stdout",
          "text": [
            "[[12  0  0 ...  0  0  0]\n",
            " [ 0  9  0 ...  0  0  0]\n",
            " [ 0  0 12 ...  0  0  0]\n",
            " ...\n",
            " [ 0  0  0 ... 20  0  0]\n",
            " [ 0  0  0 ...  0 10  0]\n",
            " [ 0  0  0 ...  0  0 10]]\n",
            "              precision    recall  f1-score   support\n",
            "\n",
            "           1       1.00      0.92      0.96        13\n",
            "           2       1.00      1.00      1.00         9\n",
            "           3       0.92      1.00      0.96        12\n",
            "           4       1.00      1.00      1.00        16\n",
            "           5       1.00      1.00      1.00        18\n",
            "           6       1.00      1.00      1.00         9\n",
            "           7       1.00      1.00      1.00        17\n",
            "           8       1.00      1.00      1.00        14\n",
            "           9       1.00      1.00      1.00        11\n",
            "          10       0.89      1.00      0.94         8\n",
            "          11       0.95      1.00      0.97        19\n",
            "          12       1.00      1.00      1.00         7\n",
            "          13       1.00      1.00      1.00        11\n",
            "          14       1.00      1.00      1.00        15\n",
            "          15       1.00      1.00      1.00        17\n",
            "          16       0.93      1.00      0.97        14\n",
            "          17       1.00      1.00      1.00        14\n",
            "          18       1.00      0.95      0.97        19\n",
            "          19       1.00      1.00      1.00        15\n",
            "          20       1.00      1.00      1.00        11\n",
            "          21       1.00      1.00      1.00        14\n",
            "          22       1.00      1.00      1.00        11\n",
            "          23       0.83      1.00      0.91        10\n",
            "          24       1.00      1.00      1.00        12\n",
            "          25       1.00      1.00      1.00        11\n",
            "          26       1.00      1.00      1.00         7\n",
            "          27       1.00      0.94      0.97        16\n",
            "          28       1.00      1.00      1.00        11\n",
            "          29       0.93      0.93      0.93        15\n",
            "          30       1.00      1.00      1.00         8\n",
            "          31       1.00      1.00      1.00        12\n",
            "          32       1.00      1.00      1.00         9\n",
            "          33       0.86      1.00      0.92         6\n",
            "          34       1.00      1.00      1.00        13\n",
            "          35       1.00      1.00      1.00         8\n",
            "          36       1.00      1.00      1.00        18\n",
            "          37       1.00      1.00      1.00        16\n",
            "          38       1.00      0.91      0.95        11\n",
            "          39       1.00      1.00      1.00        13\n",
            "          40       1.00      1.00      1.00        12\n",
            "          41       1.00      1.00      1.00        10\n",
            "          42       1.00      1.00      1.00        12\n",
            "          43       1.00      1.00      1.00        12\n",
            "          44       1.00      1.00      1.00        19\n",
            "          45       1.00      0.93      0.96        14\n",
            "          46       1.00      1.00      1.00        11\n",
            "          47       1.00      1.00      1.00         8\n",
            "          48       0.94      0.94      0.94        17\n",
            "          49       1.00      1.00      1.00        13\n",
            "          50       0.93      1.00      0.96        13\n",
            "          51       1.00      1.00      1.00         8\n",
            "          52       1.00      0.91      0.95        11\n",
            "          53       1.00      0.87      0.93        15\n",
            "          54       1.00      1.00      1.00         9\n",
            "          55       1.00      1.00      1.00         8\n",
            "          56       1.00      1.00      1.00        10\n",
            "          57       1.00      1.00      1.00        18\n",
            "          58       1.00      1.00      1.00        20\n",
            "          59       1.00      1.00      1.00        10\n",
            "          60       1.00      1.00      1.00        10\n",
            "\n",
            "    accuracy                           0.99       750\n",
            "   macro avg       0.99      0.99      0.99       750\n",
            "weighted avg       0.99      0.99      0.99       750\n",
            "\n"
          ]
        }
      ]
    },
    {
      "cell_type": "markdown",
      "source": [
        "### Filter Method"
      ],
      "metadata": {
        "id": "UU9qEk6mvp_4"
      }
    },
    {
      "cell_type": "code",
      "source": [
        "from sklearn.feature_selection import SelectKBest,f_classif\n",
        "\n",
        "# scaler = RobustScaler()\n",
        "# x_train_scaled = scaler.fit_transform(x_train[['label_1']])\n",
        "# y_train_scaled = scaler.transform(y_train[['label_2']])\n",
        "\n",
        "chi2_features = SelectKBest(f_classif, k=70)\n",
        "x_kbest = chi2_features.fit_transform(x_train['label_1'], y_train['label_1'])\n",
        "\n",
        "x_kbest.shape"
      ],
      "metadata": {
        "colab": {
          "base_uri": "https://localhost:8080/"
        },
        "id": "SPOy-V1ZiR5m",
        "outputId": "13054b99-a64f-4e6f-d30d-6f0331e75839"
      },
      "execution_count": null,
      "outputs": [
        {
          "output_type": "execute_result",
          "data": {
            "text/plain": [
              "(28520, 70)"
            ]
          },
          "metadata": {},
          "execution_count": 22
        }
      ]
    },
    {
      "cell_type": "code",
      "source": [
        "from sklearn.neighbors import KNeighborsClassifier\n",
        "classifier = KNeighborsClassifier(n_neighbors=5)\n",
        "classifier.fit(x_kbest, y_train['label_1'])"
      ],
      "metadata": {
        "colab": {
          "base_uri": "https://localhost:8080/",
          "height": 74
        },
        "id": "UzmkvM7XoSkn",
        "outputId": "d368ac94-47d8-4ab4-a977-ee56aedbfb6b"
      },
      "execution_count": null,
      "outputs": [
        {
          "output_type": "execute_result",
          "data": {
            "text/plain": [
              "KNeighborsClassifier()"
            ],
            "text/html": [
              "<style>#sk-container-id-2 {color: black;background-color: white;}#sk-container-id-2 pre{padding: 0;}#sk-container-id-2 div.sk-toggleable {background-color: white;}#sk-container-id-2 label.sk-toggleable__label {cursor: pointer;display: block;width: 100%;margin-bottom: 0;padding: 0.3em;box-sizing: border-box;text-align: center;}#sk-container-id-2 label.sk-toggleable__label-arrow:before {content: \"▸\";float: left;margin-right: 0.25em;color: #696969;}#sk-container-id-2 label.sk-toggleable__label-arrow:hover:before {color: black;}#sk-container-id-2 div.sk-estimator:hover label.sk-toggleable__label-arrow:before {color: black;}#sk-container-id-2 div.sk-toggleable__content {max-height: 0;max-width: 0;overflow: hidden;text-align: left;background-color: #f0f8ff;}#sk-container-id-2 div.sk-toggleable__content pre {margin: 0.2em;color: black;border-radius: 0.25em;background-color: #f0f8ff;}#sk-container-id-2 input.sk-toggleable__control:checked~div.sk-toggleable__content {max-height: 200px;max-width: 100%;overflow: auto;}#sk-container-id-2 input.sk-toggleable__control:checked~label.sk-toggleable__label-arrow:before {content: \"▾\";}#sk-container-id-2 div.sk-estimator input.sk-toggleable__control:checked~label.sk-toggleable__label {background-color: #d4ebff;}#sk-container-id-2 div.sk-label input.sk-toggleable__control:checked~label.sk-toggleable__label {background-color: #d4ebff;}#sk-container-id-2 input.sk-hidden--visually {border: 0;clip: rect(1px 1px 1px 1px);clip: rect(1px, 1px, 1px, 1px);height: 1px;margin: -1px;overflow: hidden;padding: 0;position: absolute;width: 1px;}#sk-container-id-2 div.sk-estimator {font-family: monospace;background-color: #f0f8ff;border: 1px dotted black;border-radius: 0.25em;box-sizing: border-box;margin-bottom: 0.5em;}#sk-container-id-2 div.sk-estimator:hover {background-color: #d4ebff;}#sk-container-id-2 div.sk-parallel-item::after {content: \"\";width: 100%;border-bottom: 1px solid gray;flex-grow: 1;}#sk-container-id-2 div.sk-label:hover label.sk-toggleable__label {background-color: #d4ebff;}#sk-container-id-2 div.sk-serial::before {content: \"\";position: absolute;border-left: 1px solid gray;box-sizing: border-box;top: 0;bottom: 0;left: 50%;z-index: 0;}#sk-container-id-2 div.sk-serial {display: flex;flex-direction: column;align-items: center;background-color: white;padding-right: 0.2em;padding-left: 0.2em;position: relative;}#sk-container-id-2 div.sk-item {position: relative;z-index: 1;}#sk-container-id-2 div.sk-parallel {display: flex;align-items: stretch;justify-content: center;background-color: white;position: relative;}#sk-container-id-2 div.sk-item::before, #sk-container-id-2 div.sk-parallel-item::before {content: \"\";position: absolute;border-left: 1px solid gray;box-sizing: border-box;top: 0;bottom: 0;left: 50%;z-index: -1;}#sk-container-id-2 div.sk-parallel-item {display: flex;flex-direction: column;z-index: 1;position: relative;background-color: white;}#sk-container-id-2 div.sk-parallel-item:first-child::after {align-self: flex-end;width: 50%;}#sk-container-id-2 div.sk-parallel-item:last-child::after {align-self: flex-start;width: 50%;}#sk-container-id-2 div.sk-parallel-item:only-child::after {width: 0;}#sk-container-id-2 div.sk-dashed-wrapped {border: 1px dashed gray;margin: 0 0.4em 0.5em 0.4em;box-sizing: border-box;padding-bottom: 0.4em;background-color: white;}#sk-container-id-2 div.sk-label label {font-family: monospace;font-weight: bold;display: inline-block;line-height: 1.2em;}#sk-container-id-2 div.sk-label-container {text-align: center;}#sk-container-id-2 div.sk-container {/* jupyter's `normalize.less` sets `[hidden] { display: none; }` but bootstrap.min.css set `[hidden] { display: none !important; }` so we also need the `!important` here to be able to override the default hidden behavior on the sphinx rendered scikit-learn.org. See: https://github.com/scikit-learn/scikit-learn/issues/21755 */display: inline-block !important;position: relative;}#sk-container-id-2 div.sk-text-repr-fallback {display: none;}</style><div id=\"sk-container-id-2\" class=\"sk-top-container\"><div class=\"sk-text-repr-fallback\"><pre>KNeighborsClassifier()</pre><b>In a Jupyter environment, please rerun this cell to show the HTML representation or trust the notebook. <br />On GitHub, the HTML representation is unable to render, please try loading this page with nbviewer.org.</b></div><div class=\"sk-container\" hidden><div class=\"sk-item\"><div class=\"sk-estimator sk-toggleable\"><input class=\"sk-toggleable__control sk-hidden--visually\" id=\"sk-estimator-id-2\" type=\"checkbox\" checked><label for=\"sk-estimator-id-2\" class=\"sk-toggleable__label sk-toggleable__label-arrow\">KNeighborsClassifier</label><div class=\"sk-toggleable__content\"><pre>KNeighborsClassifier()</pre></div></div></div></div></div>"
            ]
          },
          "metadata": {},
          "execution_count": 23
        }
      ]
    },
    {
      "cell_type": "code",
      "source": [
        "y_pred = classifier.predict(chi2_features.transform(x_valid['label_1']))"
      ],
      "metadata": {
        "id": "L5-K9KrSocuq"
      },
      "execution_count": null,
      "outputs": []
    },
    {
      "cell_type": "code",
      "source": [
        "from sklearn.metrics import classification_report, confusion_matrix\n",
        "print(confusion_matrix(y_valid['label_1'], y_pred))\n",
        "print(classification_report(y_valid['label_1'], y_pred))"
      ],
      "metadata": {
        "colab": {
          "base_uri": "https://localhost:8080/"
        },
        "id": "5YUNSI1xohyD",
        "outputId": "f44accfc-0757-4504-ef17-a66f4a6dede5"
      },
      "execution_count": null,
      "outputs": [
        {
          "output_type": "stream",
          "name": "stdout",
          "text": [
            "[[13  0  0 ...  0  0  0]\n",
            " [ 0  9  0 ...  0  0  0]\n",
            " [ 0  0 12 ...  0  0  0]\n",
            " ...\n",
            " [ 0  0  0 ... 18  0  1]\n",
            " [ 0  0  0 ...  0 10  0]\n",
            " [ 0  0  0 ...  0  0 10]]\n",
            "              precision    recall  f1-score   support\n",
            "\n",
            "           1       1.00      1.00      1.00        13\n",
            "           2       0.90      1.00      0.95         9\n",
            "           3       1.00      1.00      1.00        12\n",
            "           4       1.00      1.00      1.00        16\n",
            "           5       0.95      1.00      0.97        18\n",
            "           6       1.00      1.00      1.00         9\n",
            "           7       1.00      1.00      1.00        17\n",
            "           8       1.00      1.00      1.00        14\n",
            "           9       1.00      1.00      1.00        11\n",
            "          10       0.73      1.00      0.84         8\n",
            "          11       0.95      1.00      0.97        19\n",
            "          12       1.00      1.00      1.00         7\n",
            "          13       0.92      1.00      0.96        11\n",
            "          14       0.94      1.00      0.97        15\n",
            "          15       1.00      1.00      1.00        17\n",
            "          16       0.93      1.00      0.97        14\n",
            "          17       1.00      1.00      1.00        14\n",
            "          18       1.00      0.79      0.88        19\n",
            "          19       1.00      0.93      0.97        15\n",
            "          20       1.00      1.00      1.00        11\n",
            "          21       0.87      0.93      0.90        14\n",
            "          22       0.92      1.00      0.96        11\n",
            "          23       1.00      1.00      1.00        10\n",
            "          24       1.00      1.00      1.00        12\n",
            "          25       1.00      0.91      0.95        11\n",
            "          26       1.00      1.00      1.00         7\n",
            "          27       1.00      0.94      0.97        16\n",
            "          28       1.00      1.00      1.00        11\n",
            "          29       1.00      0.93      0.97        15\n",
            "          30       1.00      1.00      1.00         8\n",
            "          31       1.00      1.00      1.00        12\n",
            "          32       1.00      1.00      1.00         9\n",
            "          33       0.75      1.00      0.86         6\n",
            "          34       1.00      1.00      1.00        13\n",
            "          35       1.00      1.00      1.00         8\n",
            "          36       0.95      1.00      0.97        18\n",
            "          37       1.00      1.00      1.00        16\n",
            "          38       1.00      1.00      1.00        11\n",
            "          39       1.00      1.00      1.00        13\n",
            "          40       0.92      1.00      0.96        12\n",
            "          41       1.00      1.00      1.00        10\n",
            "          42       1.00      1.00      1.00        12\n",
            "          43       1.00      1.00      1.00        12\n",
            "          44       1.00      0.95      0.97        19\n",
            "          45       1.00      0.93      0.96        14\n",
            "          46       1.00      1.00      1.00        11\n",
            "          47       1.00      1.00      1.00         8\n",
            "          48       1.00      0.94      0.97        17\n",
            "          49       1.00      0.92      0.96        13\n",
            "          50       1.00      1.00      1.00        13\n",
            "          51       1.00      1.00      1.00         8\n",
            "          52       1.00      0.91      0.95        11\n",
            "          53       1.00      0.87      0.93        15\n",
            "          54       1.00      1.00      1.00         9\n",
            "          55       1.00      1.00      1.00         8\n",
            "          56       1.00      1.00      1.00        10\n",
            "          57       0.95      1.00      0.97        18\n",
            "          58       1.00      0.90      0.95        20\n",
            "          59       1.00      1.00      1.00        10\n",
            "          60       0.91      1.00      0.95        10\n",
            "\n",
            "    accuracy                           0.98       750\n",
            "   macro avg       0.98      0.98      0.98       750\n",
            "weighted avg       0.98      0.98      0.98       750\n",
            "\n"
          ]
        }
      ]
    },
    {
      "cell_type": "markdown",
      "source": [
        "### Estimator Model"
      ],
      "metadata": {
        "id": "zM5iDwQSwUh3"
      }
    },
    {
      "cell_type": "code",
      "source": [
        "from sklearn.feature_selection import SelectFromModel\n",
        "from sklearn.ensemble import RandomForestClassifier  # You can replace this with any other model\n"
      ],
      "metadata": {
        "id": "bEt84sO6wZkv"
      },
      "execution_count": null,
      "outputs": []
    },
    {
      "cell_type": "code",
      "source": [
        "model = RandomForestClassifier(n_estimators=100)\n",
        "model.fit(x_train['label_1'], y_train['label_1'])  # Assuming x_train and y_train are your feature and target data\n"
      ],
      "metadata": {
        "colab": {
          "base_uri": "https://localhost:8080/",
          "height": 74
        },
        "id": "Mq_qaqY9wa_A",
        "outputId": "43e38c12-0d4c-49d3-f8d3-de3aac5a44b8"
      },
      "execution_count": null,
      "outputs": [
        {
          "output_type": "execute_result",
          "data": {
            "text/plain": [
              "RandomForestClassifier()"
            ],
            "text/html": [
              "<style>#sk-container-id-3 {color: black;background-color: white;}#sk-container-id-3 pre{padding: 0;}#sk-container-id-3 div.sk-toggleable {background-color: white;}#sk-container-id-3 label.sk-toggleable__label {cursor: pointer;display: block;width: 100%;margin-bottom: 0;padding: 0.3em;box-sizing: border-box;text-align: center;}#sk-container-id-3 label.sk-toggleable__label-arrow:before {content: \"▸\";float: left;margin-right: 0.25em;color: #696969;}#sk-container-id-3 label.sk-toggleable__label-arrow:hover:before {color: black;}#sk-container-id-3 div.sk-estimator:hover label.sk-toggleable__label-arrow:before {color: black;}#sk-container-id-3 div.sk-toggleable__content {max-height: 0;max-width: 0;overflow: hidden;text-align: left;background-color: #f0f8ff;}#sk-container-id-3 div.sk-toggleable__content pre {margin: 0.2em;color: black;border-radius: 0.25em;background-color: #f0f8ff;}#sk-container-id-3 input.sk-toggleable__control:checked~div.sk-toggleable__content {max-height: 200px;max-width: 100%;overflow: auto;}#sk-container-id-3 input.sk-toggleable__control:checked~label.sk-toggleable__label-arrow:before {content: \"▾\";}#sk-container-id-3 div.sk-estimator input.sk-toggleable__control:checked~label.sk-toggleable__label {background-color: #d4ebff;}#sk-container-id-3 div.sk-label input.sk-toggleable__control:checked~label.sk-toggleable__label {background-color: #d4ebff;}#sk-container-id-3 input.sk-hidden--visually {border: 0;clip: rect(1px 1px 1px 1px);clip: rect(1px, 1px, 1px, 1px);height: 1px;margin: -1px;overflow: hidden;padding: 0;position: absolute;width: 1px;}#sk-container-id-3 div.sk-estimator {font-family: monospace;background-color: #f0f8ff;border: 1px dotted black;border-radius: 0.25em;box-sizing: border-box;margin-bottom: 0.5em;}#sk-container-id-3 div.sk-estimator:hover {background-color: #d4ebff;}#sk-container-id-3 div.sk-parallel-item::after {content: \"\";width: 100%;border-bottom: 1px solid gray;flex-grow: 1;}#sk-container-id-3 div.sk-label:hover label.sk-toggleable__label {background-color: #d4ebff;}#sk-container-id-3 div.sk-serial::before {content: \"\";position: absolute;border-left: 1px solid gray;box-sizing: border-box;top: 0;bottom: 0;left: 50%;z-index: 0;}#sk-container-id-3 div.sk-serial {display: flex;flex-direction: column;align-items: center;background-color: white;padding-right: 0.2em;padding-left: 0.2em;position: relative;}#sk-container-id-3 div.sk-item {position: relative;z-index: 1;}#sk-container-id-3 div.sk-parallel {display: flex;align-items: stretch;justify-content: center;background-color: white;position: relative;}#sk-container-id-3 div.sk-item::before, #sk-container-id-3 div.sk-parallel-item::before {content: \"\";position: absolute;border-left: 1px solid gray;box-sizing: border-box;top: 0;bottom: 0;left: 50%;z-index: -1;}#sk-container-id-3 div.sk-parallel-item {display: flex;flex-direction: column;z-index: 1;position: relative;background-color: white;}#sk-container-id-3 div.sk-parallel-item:first-child::after {align-self: flex-end;width: 50%;}#sk-container-id-3 div.sk-parallel-item:last-child::after {align-self: flex-start;width: 50%;}#sk-container-id-3 div.sk-parallel-item:only-child::after {width: 0;}#sk-container-id-3 div.sk-dashed-wrapped {border: 1px dashed gray;margin: 0 0.4em 0.5em 0.4em;box-sizing: border-box;padding-bottom: 0.4em;background-color: white;}#sk-container-id-3 div.sk-label label {font-family: monospace;font-weight: bold;display: inline-block;line-height: 1.2em;}#sk-container-id-3 div.sk-label-container {text-align: center;}#sk-container-id-3 div.sk-container {/* jupyter's `normalize.less` sets `[hidden] { display: none; }` but bootstrap.min.css set `[hidden] { display: none !important; }` so we also need the `!important` here to be able to override the default hidden behavior on the sphinx rendered scikit-learn.org. See: https://github.com/scikit-learn/scikit-learn/issues/21755 */display: inline-block !important;position: relative;}#sk-container-id-3 div.sk-text-repr-fallback {display: none;}</style><div id=\"sk-container-id-3\" class=\"sk-top-container\"><div class=\"sk-text-repr-fallback\"><pre>RandomForestClassifier()</pre><b>In a Jupyter environment, please rerun this cell to show the HTML representation or trust the notebook. <br />On GitHub, the HTML representation is unable to render, please try loading this page with nbviewer.org.</b></div><div class=\"sk-container\" hidden><div class=\"sk-item\"><div class=\"sk-estimator sk-toggleable\"><input class=\"sk-toggleable__control sk-hidden--visually\" id=\"sk-estimator-id-3\" type=\"checkbox\" checked><label for=\"sk-estimator-id-3\" class=\"sk-toggleable__label sk-toggleable__label-arrow\">RandomForestClassifier</label><div class=\"sk-toggleable__content\"><pre>RandomForestClassifier()</pre></div></div></div></div></div>"
            ]
          },
          "metadata": {},
          "execution_count": 27
        }
      ]
    },
    {
      "cell_type": "code",
      "source": [
        "selector = SelectFromModel(model, threshold='mean')  # You can adjust the threshold as needed\n",
        "x_train_selected = selector.fit_transform(x_train['label_1'], y_train['label_1'])"
      ],
      "metadata": {
        "id": "E57zw4Qhwngk"
      },
      "execution_count": null,
      "outputs": []
    },
    {
      "cell_type": "code",
      "source": [
        "x_train_selected.shape"
      ],
      "metadata": {
        "colab": {
          "base_uri": "https://localhost:8080/"
        },
        "id": "kxYWCAEz0cV1",
        "outputId": "9ff366cc-5d1a-4070-a13a-146869efb148"
      },
      "execution_count": null,
      "outputs": [
        {
          "output_type": "execute_result",
          "data": {
            "text/plain": [
              "(28520, 103)"
            ]
          },
          "metadata": {},
          "execution_count": 29
        }
      ]
    },
    {
      "cell_type": "code",
      "source": [
        "x_test_selected = selector.transform(x_valid['label_1'])  # Assuming x_test is your test data"
      ],
      "metadata": {
        "id": "qMLX9Tefwzgb"
      },
      "execution_count": null,
      "outputs": []
    },
    {
      "cell_type": "code",
      "source": [
        "from sklearn.neighbors import KNeighborsClassifier\n",
        "classifier = KNeighborsClassifier(n_neighbors=5)\n",
        "classifier.fit(x_train_selected, y_train['label_1'])"
      ],
      "metadata": {
        "colab": {
          "base_uri": "https://localhost:8080/",
          "height": 74
        },
        "id": "zZ0vr4q0x3Wg",
        "outputId": "67ee5875-01bf-42a5-9c13-c8702a8375d4"
      },
      "execution_count": null,
      "outputs": [
        {
          "output_type": "execute_result",
          "data": {
            "text/plain": [
              "KNeighborsClassifier()"
            ],
            "text/html": [
              "<style>#sk-container-id-4 {color: black;background-color: white;}#sk-container-id-4 pre{padding: 0;}#sk-container-id-4 div.sk-toggleable {background-color: white;}#sk-container-id-4 label.sk-toggleable__label {cursor: pointer;display: block;width: 100%;margin-bottom: 0;padding: 0.3em;box-sizing: border-box;text-align: center;}#sk-container-id-4 label.sk-toggleable__label-arrow:before {content: \"▸\";float: left;margin-right: 0.25em;color: #696969;}#sk-container-id-4 label.sk-toggleable__label-arrow:hover:before {color: black;}#sk-container-id-4 div.sk-estimator:hover label.sk-toggleable__label-arrow:before {color: black;}#sk-container-id-4 div.sk-toggleable__content {max-height: 0;max-width: 0;overflow: hidden;text-align: left;background-color: #f0f8ff;}#sk-container-id-4 div.sk-toggleable__content pre {margin: 0.2em;color: black;border-radius: 0.25em;background-color: #f0f8ff;}#sk-container-id-4 input.sk-toggleable__control:checked~div.sk-toggleable__content {max-height: 200px;max-width: 100%;overflow: auto;}#sk-container-id-4 input.sk-toggleable__control:checked~label.sk-toggleable__label-arrow:before {content: \"▾\";}#sk-container-id-4 div.sk-estimator input.sk-toggleable__control:checked~label.sk-toggleable__label {background-color: #d4ebff;}#sk-container-id-4 div.sk-label input.sk-toggleable__control:checked~label.sk-toggleable__label {background-color: #d4ebff;}#sk-container-id-4 input.sk-hidden--visually {border: 0;clip: rect(1px 1px 1px 1px);clip: rect(1px, 1px, 1px, 1px);height: 1px;margin: -1px;overflow: hidden;padding: 0;position: absolute;width: 1px;}#sk-container-id-4 div.sk-estimator {font-family: monospace;background-color: #f0f8ff;border: 1px dotted black;border-radius: 0.25em;box-sizing: border-box;margin-bottom: 0.5em;}#sk-container-id-4 div.sk-estimator:hover {background-color: #d4ebff;}#sk-container-id-4 div.sk-parallel-item::after {content: \"\";width: 100%;border-bottom: 1px solid gray;flex-grow: 1;}#sk-container-id-4 div.sk-label:hover label.sk-toggleable__label {background-color: #d4ebff;}#sk-container-id-4 div.sk-serial::before {content: \"\";position: absolute;border-left: 1px solid gray;box-sizing: border-box;top: 0;bottom: 0;left: 50%;z-index: 0;}#sk-container-id-4 div.sk-serial {display: flex;flex-direction: column;align-items: center;background-color: white;padding-right: 0.2em;padding-left: 0.2em;position: relative;}#sk-container-id-4 div.sk-item {position: relative;z-index: 1;}#sk-container-id-4 div.sk-parallel {display: flex;align-items: stretch;justify-content: center;background-color: white;position: relative;}#sk-container-id-4 div.sk-item::before, #sk-container-id-4 div.sk-parallel-item::before {content: \"\";position: absolute;border-left: 1px solid gray;box-sizing: border-box;top: 0;bottom: 0;left: 50%;z-index: -1;}#sk-container-id-4 div.sk-parallel-item {display: flex;flex-direction: column;z-index: 1;position: relative;background-color: white;}#sk-container-id-4 div.sk-parallel-item:first-child::after {align-self: flex-end;width: 50%;}#sk-container-id-4 div.sk-parallel-item:last-child::after {align-self: flex-start;width: 50%;}#sk-container-id-4 div.sk-parallel-item:only-child::after {width: 0;}#sk-container-id-4 div.sk-dashed-wrapped {border: 1px dashed gray;margin: 0 0.4em 0.5em 0.4em;box-sizing: border-box;padding-bottom: 0.4em;background-color: white;}#sk-container-id-4 div.sk-label label {font-family: monospace;font-weight: bold;display: inline-block;line-height: 1.2em;}#sk-container-id-4 div.sk-label-container {text-align: center;}#sk-container-id-4 div.sk-container {/* jupyter's `normalize.less` sets `[hidden] { display: none; }` but bootstrap.min.css set `[hidden] { display: none !important; }` so we also need the `!important` here to be able to override the default hidden behavior on the sphinx rendered scikit-learn.org. See: https://github.com/scikit-learn/scikit-learn/issues/21755 */display: inline-block !important;position: relative;}#sk-container-id-4 div.sk-text-repr-fallback {display: none;}</style><div id=\"sk-container-id-4\" class=\"sk-top-container\"><div class=\"sk-text-repr-fallback\"><pre>KNeighborsClassifier()</pre><b>In a Jupyter environment, please rerun this cell to show the HTML representation or trust the notebook. <br />On GitHub, the HTML representation is unable to render, please try loading this page with nbviewer.org.</b></div><div class=\"sk-container\" hidden><div class=\"sk-item\"><div class=\"sk-estimator sk-toggleable\"><input class=\"sk-toggleable__control sk-hidden--visually\" id=\"sk-estimator-id-4\" type=\"checkbox\" checked><label for=\"sk-estimator-id-4\" class=\"sk-toggleable__label sk-toggleable__label-arrow\">KNeighborsClassifier</label><div class=\"sk-toggleable__content\"><pre>KNeighborsClassifier()</pre></div></div></div></div></div>"
            ]
          },
          "metadata": {},
          "execution_count": 31
        }
      ]
    },
    {
      "cell_type": "code",
      "source": [
        "y_pred = classifier.predict(x_test_selected)"
      ],
      "metadata": {
        "id": "hd-vZ97Kx4Pn"
      },
      "execution_count": null,
      "outputs": []
    },
    {
      "cell_type": "code",
      "source": [
        "from sklearn.metrics import classification_report, confusion_matrix\n",
        "print(confusion_matrix(y_valid['label_1'], y_pred))\n",
        "print(classification_report(y_valid['label_1'], y_pred))"
      ],
      "metadata": {
        "colab": {
          "base_uri": "https://localhost:8080/"
        },
        "id": "ap7jSmJox8bI",
        "outputId": "55c5e3b5-ff4d-478a-8e15-9c4ac98e98e3"
      },
      "execution_count": null,
      "outputs": [
        {
          "output_type": "stream",
          "name": "stdout",
          "text": [
            "[[12  0  0 ...  0  0  0]\n",
            " [ 0  9  0 ...  0  0  0]\n",
            " [ 0  0 12 ...  0  0  0]\n",
            " ...\n",
            " [ 0  0  0 ... 20  0  0]\n",
            " [ 0  0  0 ...  0 10  0]\n",
            " [ 0  0  0 ...  0  0 10]]\n",
            "              precision    recall  f1-score   support\n",
            "\n",
            "           1       1.00      0.92      0.96        13\n",
            "           2       1.00      1.00      1.00         9\n",
            "           3       0.92      1.00      0.96        12\n",
            "           4       1.00      1.00      1.00        16\n",
            "           5       1.00      1.00      1.00        18\n",
            "           6       0.90      1.00      0.95         9\n",
            "           7       1.00      1.00      1.00        17\n",
            "           8       1.00      1.00      1.00        14\n",
            "           9       1.00      1.00      1.00        11\n",
            "          10       0.80      1.00      0.89         8\n",
            "          11       0.95      1.00      0.97        19\n",
            "          12       1.00      1.00      1.00         7\n",
            "          13       1.00      1.00      1.00        11\n",
            "          14       1.00      1.00      1.00        15\n",
            "          15       1.00      1.00      1.00        17\n",
            "          16       0.93      1.00      0.97        14\n",
            "          17       1.00      1.00      1.00        14\n",
            "          18       1.00      0.95      0.97        19\n",
            "          19       1.00      1.00      1.00        15\n",
            "          20       0.92      1.00      0.96        11\n",
            "          21       1.00      1.00      1.00        14\n",
            "          22       1.00      1.00      1.00        11\n",
            "          23       0.77      1.00      0.87        10\n",
            "          24       1.00      1.00      1.00        12\n",
            "          25       1.00      0.91      0.95        11\n",
            "          26       1.00      1.00      1.00         7\n",
            "          27       0.94      0.94      0.94        16\n",
            "          28       1.00      1.00      1.00        11\n",
            "          29       1.00      0.93      0.97        15\n",
            "          30       1.00      1.00      1.00         8\n",
            "          31       1.00      0.92      0.96        12\n",
            "          32       1.00      1.00      1.00         9\n",
            "          33       0.86      1.00      0.92         6\n",
            "          34       1.00      1.00      1.00        13\n",
            "          35       0.89      1.00      0.94         8\n",
            "          36       1.00      1.00      1.00        18\n",
            "          37       1.00      1.00      1.00        16\n",
            "          38       1.00      0.91      0.95        11\n",
            "          39       1.00      1.00      1.00        13\n",
            "          40       0.92      1.00      0.96        12\n",
            "          41       1.00      1.00      1.00        10\n",
            "          42       1.00      1.00      1.00        12\n",
            "          43       1.00      1.00      1.00        12\n",
            "          44       1.00      0.95      0.97        19\n",
            "          45       1.00      1.00      1.00        14\n",
            "          46       1.00      1.00      1.00        11\n",
            "          47       1.00      1.00      1.00         8\n",
            "          48       1.00      0.94      0.97        17\n",
            "          49       1.00      0.92      0.96        13\n",
            "          50       1.00      1.00      1.00        13\n",
            "          51       1.00      1.00      1.00         8\n",
            "          52       1.00      0.91      0.95        11\n",
            "          53       1.00      0.87      0.93        15\n",
            "          54       1.00      0.89      0.94         9\n",
            "          55       1.00      1.00      1.00         8\n",
            "          56       1.00      1.00      1.00        10\n",
            "          57       1.00      1.00      1.00        18\n",
            "          58       1.00      1.00      1.00        20\n",
            "          59       1.00      1.00      1.00        10\n",
            "          60       1.00      1.00      1.00        10\n",
            "\n",
            "    accuracy                           0.98       750\n",
            "   macro avg       0.98      0.98      0.98       750\n",
            "weighted avg       0.98      0.98      0.98       750\n",
            "\n"
          ]
        }
      ]
    },
    {
      "cell_type": "code",
      "source": [
        "selector = SelectFromModel(model, threshold='median')  # You can adjust the threshold as needed\n",
        "x_train_selected_2 = selector.fit_transform(x_train['label_1'], y_train['label_1'])"
      ],
      "metadata": {
        "id": "LzooEjOb0kmu"
      },
      "execution_count": null,
      "outputs": []
    },
    {
      "cell_type": "code",
      "source": [
        "x_train_selected_2.shape"
      ],
      "metadata": {
        "colab": {
          "base_uri": "https://localhost:8080/"
        },
        "id": "77pTZ3NE0vo2",
        "outputId": "64c25fbf-63ba-40cf-f8b6-ef93045490e5"
      },
      "execution_count": null,
      "outputs": [
        {
          "output_type": "execute_result",
          "data": {
            "text/plain": [
              "(28520, 128)"
            ]
          },
          "metadata": {},
          "execution_count": 35
        }
      ]
    },
    {
      "cell_type": "code",
      "source": [
        "x_test_selected_2 = selector.transform(x_valid['label_1'])  # Assuming x_test is your test data"
      ],
      "metadata": {
        "id": "QK-9sJbL09x3"
      },
      "execution_count": null,
      "outputs": []
    },
    {
      "cell_type": "code",
      "source": [
        "from sklearn.neighbors import KNeighborsClassifier\n",
        "classifier = KNeighborsClassifier(n_neighbors=5)\n",
        "classifier.fit(x_train_selected_2, y_train['label_1'])"
      ],
      "metadata": {
        "colab": {
          "base_uri": "https://localhost:8080/",
          "height": 74
        },
        "id": "AgniK0eW1AQ-",
        "outputId": "0e2aed0c-bf8b-4bef-f693-88b38e6ab210"
      },
      "execution_count": null,
      "outputs": [
        {
          "output_type": "execute_result",
          "data": {
            "text/plain": [
              "KNeighborsClassifier()"
            ],
            "text/html": [
              "<style>#sk-container-id-5 {color: black;background-color: white;}#sk-container-id-5 pre{padding: 0;}#sk-container-id-5 div.sk-toggleable {background-color: white;}#sk-container-id-5 label.sk-toggleable__label {cursor: pointer;display: block;width: 100%;margin-bottom: 0;padding: 0.3em;box-sizing: border-box;text-align: center;}#sk-container-id-5 label.sk-toggleable__label-arrow:before {content: \"▸\";float: left;margin-right: 0.25em;color: #696969;}#sk-container-id-5 label.sk-toggleable__label-arrow:hover:before {color: black;}#sk-container-id-5 div.sk-estimator:hover label.sk-toggleable__label-arrow:before {color: black;}#sk-container-id-5 div.sk-toggleable__content {max-height: 0;max-width: 0;overflow: hidden;text-align: left;background-color: #f0f8ff;}#sk-container-id-5 div.sk-toggleable__content pre {margin: 0.2em;color: black;border-radius: 0.25em;background-color: #f0f8ff;}#sk-container-id-5 input.sk-toggleable__control:checked~div.sk-toggleable__content {max-height: 200px;max-width: 100%;overflow: auto;}#sk-container-id-5 input.sk-toggleable__control:checked~label.sk-toggleable__label-arrow:before {content: \"▾\";}#sk-container-id-5 div.sk-estimator input.sk-toggleable__control:checked~label.sk-toggleable__label {background-color: #d4ebff;}#sk-container-id-5 div.sk-label input.sk-toggleable__control:checked~label.sk-toggleable__label {background-color: #d4ebff;}#sk-container-id-5 input.sk-hidden--visually {border: 0;clip: rect(1px 1px 1px 1px);clip: rect(1px, 1px, 1px, 1px);height: 1px;margin: -1px;overflow: hidden;padding: 0;position: absolute;width: 1px;}#sk-container-id-5 div.sk-estimator {font-family: monospace;background-color: #f0f8ff;border: 1px dotted black;border-radius: 0.25em;box-sizing: border-box;margin-bottom: 0.5em;}#sk-container-id-5 div.sk-estimator:hover {background-color: #d4ebff;}#sk-container-id-5 div.sk-parallel-item::after {content: \"\";width: 100%;border-bottom: 1px solid gray;flex-grow: 1;}#sk-container-id-5 div.sk-label:hover label.sk-toggleable__label {background-color: #d4ebff;}#sk-container-id-5 div.sk-serial::before {content: \"\";position: absolute;border-left: 1px solid gray;box-sizing: border-box;top: 0;bottom: 0;left: 50%;z-index: 0;}#sk-container-id-5 div.sk-serial {display: flex;flex-direction: column;align-items: center;background-color: white;padding-right: 0.2em;padding-left: 0.2em;position: relative;}#sk-container-id-5 div.sk-item {position: relative;z-index: 1;}#sk-container-id-5 div.sk-parallel {display: flex;align-items: stretch;justify-content: center;background-color: white;position: relative;}#sk-container-id-5 div.sk-item::before, #sk-container-id-5 div.sk-parallel-item::before {content: \"\";position: absolute;border-left: 1px solid gray;box-sizing: border-box;top: 0;bottom: 0;left: 50%;z-index: -1;}#sk-container-id-5 div.sk-parallel-item {display: flex;flex-direction: column;z-index: 1;position: relative;background-color: white;}#sk-container-id-5 div.sk-parallel-item:first-child::after {align-self: flex-end;width: 50%;}#sk-container-id-5 div.sk-parallel-item:last-child::after {align-self: flex-start;width: 50%;}#sk-container-id-5 div.sk-parallel-item:only-child::after {width: 0;}#sk-container-id-5 div.sk-dashed-wrapped {border: 1px dashed gray;margin: 0 0.4em 0.5em 0.4em;box-sizing: border-box;padding-bottom: 0.4em;background-color: white;}#sk-container-id-5 div.sk-label label {font-family: monospace;font-weight: bold;display: inline-block;line-height: 1.2em;}#sk-container-id-5 div.sk-label-container {text-align: center;}#sk-container-id-5 div.sk-container {/* jupyter's `normalize.less` sets `[hidden] { display: none; }` but bootstrap.min.css set `[hidden] { display: none !important; }` so we also need the `!important` here to be able to override the default hidden behavior on the sphinx rendered scikit-learn.org. See: https://github.com/scikit-learn/scikit-learn/issues/21755 */display: inline-block !important;position: relative;}#sk-container-id-5 div.sk-text-repr-fallback {display: none;}</style><div id=\"sk-container-id-5\" class=\"sk-top-container\"><div class=\"sk-text-repr-fallback\"><pre>KNeighborsClassifier()</pre><b>In a Jupyter environment, please rerun this cell to show the HTML representation or trust the notebook. <br />On GitHub, the HTML representation is unable to render, please try loading this page with nbviewer.org.</b></div><div class=\"sk-container\" hidden><div class=\"sk-item\"><div class=\"sk-estimator sk-toggleable\"><input class=\"sk-toggleable__control sk-hidden--visually\" id=\"sk-estimator-id-5\" type=\"checkbox\" checked><label for=\"sk-estimator-id-5\" class=\"sk-toggleable__label sk-toggleable__label-arrow\">KNeighborsClassifier</label><div class=\"sk-toggleable__content\"><pre>KNeighborsClassifier()</pre></div></div></div></div></div>"
            ]
          },
          "metadata": {},
          "execution_count": 37
        }
      ]
    },
    {
      "cell_type": "code",
      "source": [
        "y_pred = classifier.predict(x_test_selected_2)"
      ],
      "metadata": {
        "id": "WDQpFzqp1C7W"
      },
      "execution_count": null,
      "outputs": []
    },
    {
      "cell_type": "code",
      "source": [
        "from sklearn.metrics import classification_report, confusion_matrix\n",
        "print(confusion_matrix(y_valid['label_1'], y_pred))\n",
        "print(classification_report(y_valid['label_1'], y_pred))"
      ],
      "metadata": {
        "colab": {
          "base_uri": "https://localhost:8080/"
        },
        "id": "pcLxAKik1F0Q",
        "outputId": "5e7d20a1-1fcf-49d9-e1d2-cef8a83ab435"
      },
      "execution_count": null,
      "outputs": [
        {
          "output_type": "stream",
          "name": "stdout",
          "text": [
            "[[12  0  0 ...  0  0  0]\n",
            " [ 0  9  0 ...  0  0  0]\n",
            " [ 0  0 12 ...  0  0  0]\n",
            " ...\n",
            " [ 0  0  0 ... 20  0  0]\n",
            " [ 0  0  0 ...  0 10  0]\n",
            " [ 0  0  0 ...  0  0 10]]\n",
            "              precision    recall  f1-score   support\n",
            "\n",
            "           1       1.00      0.92      0.96        13\n",
            "           2       1.00      1.00      1.00         9\n",
            "           3       0.92      1.00      0.96        12\n",
            "           4       1.00      1.00      1.00        16\n",
            "           5       1.00      1.00      1.00        18\n",
            "           6       0.90      1.00      0.95         9\n",
            "           7       1.00      1.00      1.00        17\n",
            "           8       1.00      1.00      1.00        14\n",
            "           9       1.00      1.00      1.00        11\n",
            "          10       0.80      1.00      0.89         8\n",
            "          11       0.95      1.00      0.97        19\n",
            "          12       1.00      1.00      1.00         7\n",
            "          13       1.00      1.00      1.00        11\n",
            "          14       1.00      1.00      1.00        15\n",
            "          15       1.00      1.00      1.00        17\n",
            "          16       0.93      1.00      0.97        14\n",
            "          17       1.00      1.00      1.00        14\n",
            "          18       1.00      0.95      0.97        19\n",
            "          19       1.00      1.00      1.00        15\n",
            "          20       1.00      1.00      1.00        11\n",
            "          21       1.00      0.93      0.96        14\n",
            "          22       1.00      1.00      1.00        11\n",
            "          23       0.77      1.00      0.87        10\n",
            "          24       1.00      1.00      1.00        12\n",
            "          25       1.00      0.91      0.95        11\n",
            "          26       1.00      1.00      1.00         7\n",
            "          27       0.94      0.94      0.94        16\n",
            "          28       1.00      1.00      1.00        11\n",
            "          29       1.00      0.93      0.97        15\n",
            "          30       1.00      1.00      1.00         8\n",
            "          31       1.00      1.00      1.00        12\n",
            "          32       1.00      1.00      1.00         9\n",
            "          33       0.86      1.00      0.92         6\n",
            "          34       1.00      1.00      1.00        13\n",
            "          35       1.00      1.00      1.00         8\n",
            "          36       1.00      1.00      1.00        18\n",
            "          37       1.00      1.00      1.00        16\n",
            "          38       1.00      0.91      0.95        11\n",
            "          39       1.00      1.00      1.00        13\n",
            "          40       0.92      1.00      0.96        12\n",
            "          41       1.00      1.00      1.00        10\n",
            "          42       1.00      1.00      1.00        12\n",
            "          43       1.00      1.00      1.00        12\n",
            "          44       1.00      1.00      1.00        19\n",
            "          45       1.00      1.00      1.00        14\n",
            "          46       1.00      1.00      1.00        11\n",
            "          47       1.00      1.00      1.00         8\n",
            "          48       1.00      0.94      0.97        17\n",
            "          49       1.00      0.92      0.96        13\n",
            "          50       1.00      1.00      1.00        13\n",
            "          51       1.00      1.00      1.00         8\n",
            "          52       1.00      0.91      0.95        11\n",
            "          53       1.00      0.87      0.93        15\n",
            "          54       1.00      1.00      1.00         9\n",
            "          55       1.00      1.00      1.00         8\n",
            "          56       1.00      1.00      1.00        10\n",
            "          57       1.00      1.00      1.00        18\n",
            "          58       1.00      1.00      1.00        20\n",
            "          59       1.00      1.00      1.00        10\n",
            "          60       1.00      1.00      1.00        10\n",
            "\n",
            "    accuracy                           0.98       750\n",
            "   macro avg       0.98      0.99      0.98       750\n",
            "weighted avg       0.99      0.98      0.98       750\n",
            "\n"
          ]
        }
      ]
    },
    {
      "cell_type": "markdown",
      "source": [
        "### Random Forest"
      ],
      "metadata": {
        "id": "I3b6WR8lBjZ5"
      }
    },
    {
      "cell_type": "code",
      "source": [
        "impotance = model.feature_importances_\n",
        "final_df = pd.DataFrame({\"Features\":pd.DataFrame(x_train['label_1']).columns,\"importance\":impotance})\n",
        "final_df.set_index('importance')\n",
        "final_df_sorted = final_df.sort_values('importance')\n",
        "final_df_sorted"
      ],
      "metadata": {
        "colab": {
          "base_uri": "https://localhost:8080/",
          "height": 423
        },
        "outputId": "44aa6186-5a08-4382-9bb6-5d5d6591d5e2",
        "id": "uecT_FsaBFqs"
      },
      "execution_count": null,
      "outputs": [
        {
          "output_type": "execute_result",
          "data": {
            "text/plain": [
              "     Features  importance\n",
              "4           4    0.002611\n",
              "238       238    0.002618\n",
              "30         30    0.002633\n",
              "21         21    0.002655\n",
              "158       158    0.002754\n",
              "..        ...         ...\n",
              "23         23    0.006860\n",
              "231       231    0.006898\n",
              "221       221    0.007377\n",
              "232       232    0.007702\n",
              "43         43    0.008431\n",
              "\n",
              "[256 rows x 2 columns]"
            ],
            "text/html": [
              "\n",
              "  <div id=\"df-6974db06-43f4-424c-b486-bc6e30255cf1\" class=\"colab-df-container\">\n",
              "    <div>\n",
              "<style scoped>\n",
              "    .dataframe tbody tr th:only-of-type {\n",
              "        vertical-align: middle;\n",
              "    }\n",
              "\n",
              "    .dataframe tbody tr th {\n",
              "        vertical-align: top;\n",
              "    }\n",
              "\n",
              "    .dataframe thead th {\n",
              "        text-align: right;\n",
              "    }\n",
              "</style>\n",
              "<table border=\"1\" class=\"dataframe\">\n",
              "  <thead>\n",
              "    <tr style=\"text-align: right;\">\n",
              "      <th></th>\n",
              "      <th>Features</th>\n",
              "      <th>importance</th>\n",
              "    </tr>\n",
              "  </thead>\n",
              "  <tbody>\n",
              "    <tr>\n",
              "      <th>4</th>\n",
              "      <td>4</td>\n",
              "      <td>0.002611</td>\n",
              "    </tr>\n",
              "    <tr>\n",
              "      <th>238</th>\n",
              "      <td>238</td>\n",
              "      <td>0.002618</td>\n",
              "    </tr>\n",
              "    <tr>\n",
              "      <th>30</th>\n",
              "      <td>30</td>\n",
              "      <td>0.002633</td>\n",
              "    </tr>\n",
              "    <tr>\n",
              "      <th>21</th>\n",
              "      <td>21</td>\n",
              "      <td>0.002655</td>\n",
              "    </tr>\n",
              "    <tr>\n",
              "      <th>158</th>\n",
              "      <td>158</td>\n",
              "      <td>0.002754</td>\n",
              "    </tr>\n",
              "    <tr>\n",
              "      <th>...</th>\n",
              "      <td>...</td>\n",
              "      <td>...</td>\n",
              "    </tr>\n",
              "    <tr>\n",
              "      <th>23</th>\n",
              "      <td>23</td>\n",
              "      <td>0.006860</td>\n",
              "    </tr>\n",
              "    <tr>\n",
              "      <th>231</th>\n",
              "      <td>231</td>\n",
              "      <td>0.006898</td>\n",
              "    </tr>\n",
              "    <tr>\n",
              "      <th>221</th>\n",
              "      <td>221</td>\n",
              "      <td>0.007377</td>\n",
              "    </tr>\n",
              "    <tr>\n",
              "      <th>232</th>\n",
              "      <td>232</td>\n",
              "      <td>0.007702</td>\n",
              "    </tr>\n",
              "    <tr>\n",
              "      <th>43</th>\n",
              "      <td>43</td>\n",
              "      <td>0.008431</td>\n",
              "    </tr>\n",
              "  </tbody>\n",
              "</table>\n",
              "<p>256 rows × 2 columns</p>\n",
              "</div>\n",
              "    <div class=\"colab-df-buttons\">\n",
              "\n",
              "  <div class=\"colab-df-container\">\n",
              "    <button class=\"colab-df-convert\" onclick=\"convertToInteractive('df-6974db06-43f4-424c-b486-bc6e30255cf1')\"\n",
              "            title=\"Convert this dataframe to an interactive table.\"\n",
              "            style=\"display:none;\">\n",
              "\n",
              "  <svg xmlns=\"http://www.w3.org/2000/svg\" height=\"24px\" viewBox=\"0 -960 960 960\">\n",
              "    <path d=\"M120-120v-720h720v720H120Zm60-500h600v-160H180v160Zm220 220h160v-160H400v160Zm0 220h160v-160H400v160ZM180-400h160v-160H180v160Zm440 0h160v-160H620v160ZM180-180h160v-160H180v160Zm440 0h160v-160H620v160Z\"/>\n",
              "  </svg>\n",
              "    </button>\n",
              "\n",
              "  <style>\n",
              "    .colab-df-container {\n",
              "      display:flex;\n",
              "      gap: 12px;\n",
              "    }\n",
              "\n",
              "    .colab-df-convert {\n",
              "      background-color: #E8F0FE;\n",
              "      border: none;\n",
              "      border-radius: 50%;\n",
              "      cursor: pointer;\n",
              "      display: none;\n",
              "      fill: #1967D2;\n",
              "      height: 32px;\n",
              "      padding: 0 0 0 0;\n",
              "      width: 32px;\n",
              "    }\n",
              "\n",
              "    .colab-df-convert:hover {\n",
              "      background-color: #E2EBFA;\n",
              "      box-shadow: 0px 1px 2px rgba(60, 64, 67, 0.3), 0px 1px 3px 1px rgba(60, 64, 67, 0.15);\n",
              "      fill: #174EA6;\n",
              "    }\n",
              "\n",
              "    .colab-df-buttons div {\n",
              "      margin-bottom: 4px;\n",
              "    }\n",
              "\n",
              "    [theme=dark] .colab-df-convert {\n",
              "      background-color: #3B4455;\n",
              "      fill: #D2E3FC;\n",
              "    }\n",
              "\n",
              "    [theme=dark] .colab-df-convert:hover {\n",
              "      background-color: #434B5C;\n",
              "      box-shadow: 0px 1px 3px 1px rgba(0, 0, 0, 0.15);\n",
              "      filter: drop-shadow(0px 1px 2px rgba(0, 0, 0, 0.3));\n",
              "      fill: #FFFFFF;\n",
              "    }\n",
              "  </style>\n",
              "\n",
              "    <script>\n",
              "      const buttonEl =\n",
              "        document.querySelector('#df-6974db06-43f4-424c-b486-bc6e30255cf1 button.colab-df-convert');\n",
              "      buttonEl.style.display =\n",
              "        google.colab.kernel.accessAllowed ? 'block' : 'none';\n",
              "\n",
              "      async function convertToInteractive(key) {\n",
              "        const element = document.querySelector('#df-6974db06-43f4-424c-b486-bc6e30255cf1');\n",
              "        const dataTable =\n",
              "          await google.colab.kernel.invokeFunction('convertToInteractive',\n",
              "                                                    [key], {});\n",
              "        if (!dataTable) return;\n",
              "\n",
              "        const docLinkHtml = 'Like what you see? Visit the ' +\n",
              "          '<a target=\"_blank\" href=https://colab.research.google.com/notebooks/data_table.ipynb>data table notebook</a>'\n",
              "          + ' to learn more about interactive tables.';\n",
              "        element.innerHTML = '';\n",
              "        dataTable['output_type'] = 'display_data';\n",
              "        await google.colab.output.renderOutput(dataTable, element);\n",
              "        const docLink = document.createElement('div');\n",
              "        docLink.innerHTML = docLinkHtml;\n",
              "        element.appendChild(docLink);\n",
              "      }\n",
              "    </script>\n",
              "  </div>\n",
              "\n",
              "\n",
              "<div id=\"df-9dcf8ec5-b14f-4762-8957-009527d07bd6\">\n",
              "  <button class=\"colab-df-quickchart\" onclick=\"quickchart('df-9dcf8ec5-b14f-4762-8957-009527d07bd6')\"\n",
              "            title=\"Suggest charts.\"\n",
              "            style=\"display:none;\">\n",
              "\n",
              "<svg xmlns=\"http://www.w3.org/2000/svg\" height=\"24px\"viewBox=\"0 0 24 24\"\n",
              "     width=\"24px\">\n",
              "    <g>\n",
              "        <path d=\"M19 3H5c-1.1 0-2 .9-2 2v14c0 1.1.9 2 2 2h14c1.1 0 2-.9 2-2V5c0-1.1-.9-2-2-2zM9 17H7v-7h2v7zm4 0h-2V7h2v10zm4 0h-2v-4h2v4z\"/>\n",
              "    </g>\n",
              "</svg>\n",
              "  </button>\n",
              "\n",
              "<style>\n",
              "  .colab-df-quickchart {\n",
              "    background-color: #E8F0FE;\n",
              "    border: none;\n",
              "    border-radius: 50%;\n",
              "    cursor: pointer;\n",
              "    display: none;\n",
              "    fill: #1967D2;\n",
              "    height: 32px;\n",
              "    padding: 0 0 0 0;\n",
              "    width: 32px;\n",
              "  }\n",
              "\n",
              "  .colab-df-quickchart:hover {\n",
              "    background-color: #E2EBFA;\n",
              "    box-shadow: 0px 1px 2px rgba(60, 64, 67, 0.3), 0px 1px 3px 1px rgba(60, 64, 67, 0.15);\n",
              "    fill: #174EA6;\n",
              "  }\n",
              "\n",
              "  [theme=dark] .colab-df-quickchart {\n",
              "    background-color: #3B4455;\n",
              "    fill: #D2E3FC;\n",
              "  }\n",
              "\n",
              "  [theme=dark] .colab-df-quickchart:hover {\n",
              "    background-color: #434B5C;\n",
              "    box-shadow: 0px 1px 3px 1px rgba(0, 0, 0, 0.15);\n",
              "    filter: drop-shadow(0px 1px 2px rgba(0, 0, 0, 0.3));\n",
              "    fill: #FFFFFF;\n",
              "  }\n",
              "</style>\n",
              "\n",
              "  <script>\n",
              "    async function quickchart(key) {\n",
              "      const charts = await google.colab.kernel.invokeFunction(\n",
              "          'suggestCharts', [key], {});\n",
              "    }\n",
              "    (() => {\n",
              "      let quickchartButtonEl =\n",
              "        document.querySelector('#df-9dcf8ec5-b14f-4762-8957-009527d07bd6 button');\n",
              "      quickchartButtonEl.style.display =\n",
              "        google.colab.kernel.accessAllowed ? 'block' : 'none';\n",
              "    })();\n",
              "  </script>\n",
              "</div>\n",
              "    </div>\n",
              "  </div>\n"
            ]
          },
          "metadata": {},
          "execution_count": 40
        }
      ]
    },
    {
      "cell_type": "code",
      "source": [
        "# Get the indices of the least important features to remove\n",
        "indices_to_remove = final_df_sorted[\"Features\"][:202]\n",
        "\n",
        "# Remove the least important features from the training dataset\n",
        "X_train_removed = np.delete(x_train['label_1'], indices_to_remove, axis=1)\n",
        "x_valid_removed = np.delete(x_valid['label_1'], indices_to_remove, axis=1)"
      ],
      "metadata": {
        "id": "gCsJXReTBFq5"
      },
      "execution_count": null,
      "outputs": []
    },
    {
      "cell_type": "code",
      "source": [
        "X_train_removed.shape"
      ],
      "metadata": {
        "colab": {
          "base_uri": "https://localhost:8080/"
        },
        "id": "DF_ldiHCEHR8",
        "outputId": "8bb6ef20-3c9e-4377-8489-bd05a252a22a"
      },
      "execution_count": null,
      "outputs": [
        {
          "output_type": "execute_result",
          "data": {
            "text/plain": [
              "(28520, 54)"
            ]
          },
          "metadata": {},
          "execution_count": 42
        }
      ]
    },
    {
      "cell_type": "code",
      "source": [
        "from sklearn.neighbors import KNeighborsClassifier\n",
        "classifier = KNeighborsClassifier(n_neighbors=5)\n",
        "classifier.fit(X_train_removed, y_train['label_1'])"
      ],
      "metadata": {
        "colab": {
          "base_uri": "https://localhost:8080/",
          "height": 74
        },
        "outputId": "26ac37be-d439-412f-d536-454154388817",
        "id": "wjIb0TaaBPGp"
      },
      "execution_count": null,
      "outputs": [
        {
          "output_type": "execute_result",
          "data": {
            "text/plain": [
              "KNeighborsClassifier()"
            ],
            "text/html": [
              "<style>#sk-container-id-6 {color: black;background-color: white;}#sk-container-id-6 pre{padding: 0;}#sk-container-id-6 div.sk-toggleable {background-color: white;}#sk-container-id-6 label.sk-toggleable__label {cursor: pointer;display: block;width: 100%;margin-bottom: 0;padding: 0.3em;box-sizing: border-box;text-align: center;}#sk-container-id-6 label.sk-toggleable__label-arrow:before {content: \"▸\";float: left;margin-right: 0.25em;color: #696969;}#sk-container-id-6 label.sk-toggleable__label-arrow:hover:before {color: black;}#sk-container-id-6 div.sk-estimator:hover label.sk-toggleable__label-arrow:before {color: black;}#sk-container-id-6 div.sk-toggleable__content {max-height: 0;max-width: 0;overflow: hidden;text-align: left;background-color: #f0f8ff;}#sk-container-id-6 div.sk-toggleable__content pre {margin: 0.2em;color: black;border-radius: 0.25em;background-color: #f0f8ff;}#sk-container-id-6 input.sk-toggleable__control:checked~div.sk-toggleable__content {max-height: 200px;max-width: 100%;overflow: auto;}#sk-container-id-6 input.sk-toggleable__control:checked~label.sk-toggleable__label-arrow:before {content: \"▾\";}#sk-container-id-6 div.sk-estimator input.sk-toggleable__control:checked~label.sk-toggleable__label {background-color: #d4ebff;}#sk-container-id-6 div.sk-label input.sk-toggleable__control:checked~label.sk-toggleable__label {background-color: #d4ebff;}#sk-container-id-6 input.sk-hidden--visually {border: 0;clip: rect(1px 1px 1px 1px);clip: rect(1px, 1px, 1px, 1px);height: 1px;margin: -1px;overflow: hidden;padding: 0;position: absolute;width: 1px;}#sk-container-id-6 div.sk-estimator {font-family: monospace;background-color: #f0f8ff;border: 1px dotted black;border-radius: 0.25em;box-sizing: border-box;margin-bottom: 0.5em;}#sk-container-id-6 div.sk-estimator:hover {background-color: #d4ebff;}#sk-container-id-6 div.sk-parallel-item::after {content: \"\";width: 100%;border-bottom: 1px solid gray;flex-grow: 1;}#sk-container-id-6 div.sk-label:hover label.sk-toggleable__label {background-color: #d4ebff;}#sk-container-id-6 div.sk-serial::before {content: \"\";position: absolute;border-left: 1px solid gray;box-sizing: border-box;top: 0;bottom: 0;left: 50%;z-index: 0;}#sk-container-id-6 div.sk-serial {display: flex;flex-direction: column;align-items: center;background-color: white;padding-right: 0.2em;padding-left: 0.2em;position: relative;}#sk-container-id-6 div.sk-item {position: relative;z-index: 1;}#sk-container-id-6 div.sk-parallel {display: flex;align-items: stretch;justify-content: center;background-color: white;position: relative;}#sk-container-id-6 div.sk-item::before, #sk-container-id-6 div.sk-parallel-item::before {content: \"\";position: absolute;border-left: 1px solid gray;box-sizing: border-box;top: 0;bottom: 0;left: 50%;z-index: -1;}#sk-container-id-6 div.sk-parallel-item {display: flex;flex-direction: column;z-index: 1;position: relative;background-color: white;}#sk-container-id-6 div.sk-parallel-item:first-child::after {align-self: flex-end;width: 50%;}#sk-container-id-6 div.sk-parallel-item:last-child::after {align-self: flex-start;width: 50%;}#sk-container-id-6 div.sk-parallel-item:only-child::after {width: 0;}#sk-container-id-6 div.sk-dashed-wrapped {border: 1px dashed gray;margin: 0 0.4em 0.5em 0.4em;box-sizing: border-box;padding-bottom: 0.4em;background-color: white;}#sk-container-id-6 div.sk-label label {font-family: monospace;font-weight: bold;display: inline-block;line-height: 1.2em;}#sk-container-id-6 div.sk-label-container {text-align: center;}#sk-container-id-6 div.sk-container {/* jupyter's `normalize.less` sets `[hidden] { display: none; }` but bootstrap.min.css set `[hidden] { display: none !important; }` so we also need the `!important` here to be able to override the default hidden behavior on the sphinx rendered scikit-learn.org. See: https://github.com/scikit-learn/scikit-learn/issues/21755 */display: inline-block !important;position: relative;}#sk-container-id-6 div.sk-text-repr-fallback {display: none;}</style><div id=\"sk-container-id-6\" class=\"sk-top-container\"><div class=\"sk-text-repr-fallback\"><pre>KNeighborsClassifier()</pre><b>In a Jupyter environment, please rerun this cell to show the HTML representation or trust the notebook. <br />On GitHub, the HTML representation is unable to render, please try loading this page with nbviewer.org.</b></div><div class=\"sk-container\" hidden><div class=\"sk-item\"><div class=\"sk-estimator sk-toggleable\"><input class=\"sk-toggleable__control sk-hidden--visually\" id=\"sk-estimator-id-6\" type=\"checkbox\" checked><label for=\"sk-estimator-id-6\" class=\"sk-toggleable__label sk-toggleable__label-arrow\">KNeighborsClassifier</label><div class=\"sk-toggleable__content\"><pre>KNeighborsClassifier()</pre></div></div></div></div></div>"
            ]
          },
          "metadata": {},
          "execution_count": 43
        }
      ]
    },
    {
      "cell_type": "code",
      "source": [
        "y_pred = classifier.predict(x_valid_removed)"
      ],
      "metadata": {
        "id": "MStGF-H2BPGq"
      },
      "execution_count": null,
      "outputs": []
    },
    {
      "cell_type": "code",
      "source": [
        "from sklearn.metrics import classification_report, confusion_matrix\n",
        "print(confusion_matrix(y_valid['label_1'], y_pred))\n",
        "print(classification_report(y_valid['label_1'], y_pred))"
      ],
      "metadata": {
        "colab": {
          "base_uri": "https://localhost:8080/"
        },
        "outputId": "f5c8b72d-9749-4d91-dcaa-1252501eaaed",
        "id": "hF7qWXBUBPGq"
      },
      "execution_count": null,
      "outputs": [
        {
          "output_type": "stream",
          "name": "stdout",
          "text": [
            "[[12  0  0 ...  0  0  0]\n",
            " [ 0  8  0 ...  0  0  0]\n",
            " [ 0  0 12 ...  0  0  0]\n",
            " ...\n",
            " [ 0  0  0 ... 19  0  1]\n",
            " [ 0  0  0 ...  0 10  0]\n",
            " [ 0  0  0 ...  0  0 10]]\n",
            "              precision    recall  f1-score   support\n",
            "\n",
            "           1       0.92      0.92      0.92        13\n",
            "           2       1.00      0.89      0.94         9\n",
            "           3       0.80      1.00      0.89        12\n",
            "           4       1.00      1.00      1.00        16\n",
            "           5       1.00      1.00      1.00        18\n",
            "           6       0.90      1.00      0.95         9\n",
            "           7       1.00      1.00      1.00        17\n",
            "           8       0.93      1.00      0.97        14\n",
            "           9       1.00      1.00      1.00        11\n",
            "          10       0.80      1.00      0.89         8\n",
            "          11       0.90      1.00      0.95        19\n",
            "          12       1.00      1.00      1.00         7\n",
            "          13       1.00      1.00      1.00        11\n",
            "          14       1.00      1.00      1.00        15\n",
            "          15       1.00      1.00      1.00        17\n",
            "          16       0.93      1.00      0.97        14\n",
            "          17       1.00      1.00      1.00        14\n",
            "          18       1.00      0.89      0.94        19\n",
            "          19       1.00      0.93      0.97        15\n",
            "          20       0.92      1.00      0.96        11\n",
            "          21       1.00      0.93      0.96        14\n",
            "          22       1.00      1.00      1.00        11\n",
            "          23       1.00      1.00      1.00        10\n",
            "          24       0.92      1.00      0.96        12\n",
            "          25       0.91      0.91      0.91        11\n",
            "          26       1.00      1.00      1.00         7\n",
            "          27       1.00      0.94      0.97        16\n",
            "          28       1.00      1.00      1.00        11\n",
            "          29       1.00      0.93      0.97        15\n",
            "          30       1.00      1.00      1.00         8\n",
            "          31       0.92      1.00      0.96        12\n",
            "          32       1.00      1.00      1.00         9\n",
            "          33       0.86      1.00      0.92         6\n",
            "          34       1.00      1.00      1.00        13\n",
            "          35       1.00      1.00      1.00         8\n",
            "          36       1.00      1.00      1.00        18\n",
            "          37       1.00      1.00      1.00        16\n",
            "          38       1.00      1.00      1.00        11\n",
            "          39       1.00      1.00      1.00        13\n",
            "          40       0.92      1.00      0.96        12\n",
            "          41       1.00      1.00      1.00        10\n",
            "          42       1.00      1.00      1.00        12\n",
            "          43       1.00      1.00      1.00        12\n",
            "          44       1.00      0.95      0.97        19\n",
            "          45       1.00      0.93      0.96        14\n",
            "          46       1.00      1.00      1.00        11\n",
            "          47       1.00      1.00      1.00         8\n",
            "          48       1.00      0.94      0.97        17\n",
            "          49       1.00      0.92      0.96        13\n",
            "          50       1.00      1.00      1.00        13\n",
            "          51       1.00      0.88      0.93         8\n",
            "          52       1.00      1.00      1.00        11\n",
            "          53       1.00      0.87      0.93        15\n",
            "          54       1.00      1.00      1.00         9\n",
            "          55       1.00      0.88      0.93         8\n",
            "          56       1.00      1.00      1.00        10\n",
            "          57       1.00      1.00      1.00        18\n",
            "          58       1.00      0.95      0.97        20\n",
            "          59       1.00      1.00      1.00        10\n",
            "          60       0.91      1.00      0.95        10\n",
            "\n",
            "    accuracy                           0.98       750\n",
            "   macro avg       0.98      0.98      0.98       750\n",
            "weighted avg       0.98      0.98      0.98       750\n",
            "\n"
          ]
        }
      ]
    },
    {
      "cell_type": "markdown",
      "source": [
        "### PCA"
      ],
      "metadata": {
        "id": "WAMQh8n6yAhv"
      }
    },
    {
      "cell_type": "code",
      "source": [
        "from sklearn.decomposition import PCA\n",
        "\n",
        "pca = PCA(n_components= 0.84, svd_solver=\"full\")\n",
        "pca.fit(x_train['label_1'])\n",
        "x_train_pca = pca.transform(x_train['label_1'])\n",
        "x_valid_pca = pca.transform(x_valid['label_1'])"
      ],
      "metadata": {
        "id": "4vg5Wo-ZyCpu"
      },
      "execution_count": null,
      "outputs": []
    },
    {
      "cell_type": "code",
      "source": [
        "x_train_pca.shape"
      ],
      "metadata": {
        "colab": {
          "base_uri": "https://localhost:8080/"
        },
        "id": "lZTR3Qb72vnn",
        "outputId": "240f0f94-88a6-4eb6-d9b1-6fa5a32c852c"
      },
      "execution_count": null,
      "outputs": [
        {
          "output_type": "execute_result",
          "data": {
            "text/plain": [
              "(28520, 37)"
            ]
          },
          "metadata": {},
          "execution_count": 47
        }
      ]
    },
    {
      "cell_type": "code",
      "source": [
        "from sklearn.neighbors import KNeighborsClassifier\n",
        "classifier = KNeighborsClassifier(n_neighbors=5)\n",
        "classifier.fit(x_train_pca, y_train['label_1'])"
      ],
      "metadata": {
        "colab": {
          "base_uri": "https://localhost:8080/",
          "height": 74
        },
        "id": "eFKl-KKi3FZl",
        "outputId": "d4cd0aa8-db32-4656-f001-07bca459da47"
      },
      "execution_count": null,
      "outputs": [
        {
          "output_type": "execute_result",
          "data": {
            "text/plain": [
              "KNeighborsClassifier()"
            ],
            "text/html": [
              "<style>#sk-container-id-7 {color: black;background-color: white;}#sk-container-id-7 pre{padding: 0;}#sk-container-id-7 div.sk-toggleable {background-color: white;}#sk-container-id-7 label.sk-toggleable__label {cursor: pointer;display: block;width: 100%;margin-bottom: 0;padding: 0.3em;box-sizing: border-box;text-align: center;}#sk-container-id-7 label.sk-toggleable__label-arrow:before {content: \"▸\";float: left;margin-right: 0.25em;color: #696969;}#sk-container-id-7 label.sk-toggleable__label-arrow:hover:before {color: black;}#sk-container-id-7 div.sk-estimator:hover label.sk-toggleable__label-arrow:before {color: black;}#sk-container-id-7 div.sk-toggleable__content {max-height: 0;max-width: 0;overflow: hidden;text-align: left;background-color: #f0f8ff;}#sk-container-id-7 div.sk-toggleable__content pre {margin: 0.2em;color: black;border-radius: 0.25em;background-color: #f0f8ff;}#sk-container-id-7 input.sk-toggleable__control:checked~div.sk-toggleable__content {max-height: 200px;max-width: 100%;overflow: auto;}#sk-container-id-7 input.sk-toggleable__control:checked~label.sk-toggleable__label-arrow:before {content: \"▾\";}#sk-container-id-7 div.sk-estimator input.sk-toggleable__control:checked~label.sk-toggleable__label {background-color: #d4ebff;}#sk-container-id-7 div.sk-label input.sk-toggleable__control:checked~label.sk-toggleable__label {background-color: #d4ebff;}#sk-container-id-7 input.sk-hidden--visually {border: 0;clip: rect(1px 1px 1px 1px);clip: rect(1px, 1px, 1px, 1px);height: 1px;margin: -1px;overflow: hidden;padding: 0;position: absolute;width: 1px;}#sk-container-id-7 div.sk-estimator {font-family: monospace;background-color: #f0f8ff;border: 1px dotted black;border-radius: 0.25em;box-sizing: border-box;margin-bottom: 0.5em;}#sk-container-id-7 div.sk-estimator:hover {background-color: #d4ebff;}#sk-container-id-7 div.sk-parallel-item::after {content: \"\";width: 100%;border-bottom: 1px solid gray;flex-grow: 1;}#sk-container-id-7 div.sk-label:hover label.sk-toggleable__label {background-color: #d4ebff;}#sk-container-id-7 div.sk-serial::before {content: \"\";position: absolute;border-left: 1px solid gray;box-sizing: border-box;top: 0;bottom: 0;left: 50%;z-index: 0;}#sk-container-id-7 div.sk-serial {display: flex;flex-direction: column;align-items: center;background-color: white;padding-right: 0.2em;padding-left: 0.2em;position: relative;}#sk-container-id-7 div.sk-item {position: relative;z-index: 1;}#sk-container-id-7 div.sk-parallel {display: flex;align-items: stretch;justify-content: center;background-color: white;position: relative;}#sk-container-id-7 div.sk-item::before, #sk-container-id-7 div.sk-parallel-item::before {content: \"\";position: absolute;border-left: 1px solid gray;box-sizing: border-box;top: 0;bottom: 0;left: 50%;z-index: -1;}#sk-container-id-7 div.sk-parallel-item {display: flex;flex-direction: column;z-index: 1;position: relative;background-color: white;}#sk-container-id-7 div.sk-parallel-item:first-child::after {align-self: flex-end;width: 50%;}#sk-container-id-7 div.sk-parallel-item:last-child::after {align-self: flex-start;width: 50%;}#sk-container-id-7 div.sk-parallel-item:only-child::after {width: 0;}#sk-container-id-7 div.sk-dashed-wrapped {border: 1px dashed gray;margin: 0 0.4em 0.5em 0.4em;box-sizing: border-box;padding-bottom: 0.4em;background-color: white;}#sk-container-id-7 div.sk-label label {font-family: monospace;font-weight: bold;display: inline-block;line-height: 1.2em;}#sk-container-id-7 div.sk-label-container {text-align: center;}#sk-container-id-7 div.sk-container {/* jupyter's `normalize.less` sets `[hidden] { display: none; }` but bootstrap.min.css set `[hidden] { display: none !important; }` so we also need the `!important` here to be able to override the default hidden behavior on the sphinx rendered scikit-learn.org. See: https://github.com/scikit-learn/scikit-learn/issues/21755 */display: inline-block !important;position: relative;}#sk-container-id-7 div.sk-text-repr-fallback {display: none;}</style><div id=\"sk-container-id-7\" class=\"sk-top-container\"><div class=\"sk-text-repr-fallback\"><pre>KNeighborsClassifier()</pre><b>In a Jupyter environment, please rerun this cell to show the HTML representation or trust the notebook. <br />On GitHub, the HTML representation is unable to render, please try loading this page with nbviewer.org.</b></div><div class=\"sk-container\" hidden><div class=\"sk-item\"><div class=\"sk-estimator sk-toggleable\"><input class=\"sk-toggleable__control sk-hidden--visually\" id=\"sk-estimator-id-7\" type=\"checkbox\" checked><label for=\"sk-estimator-id-7\" class=\"sk-toggleable__label sk-toggleable__label-arrow\">KNeighborsClassifier</label><div class=\"sk-toggleable__content\"><pre>KNeighborsClassifier()</pre></div></div></div></div></div>"
            ]
          },
          "metadata": {},
          "execution_count": 48
        }
      ]
    },
    {
      "cell_type": "code",
      "source": [
        "y_pred = classifier.predict(x_valid_pca)"
      ],
      "metadata": {
        "id": "9xyREsfJ3K06"
      },
      "execution_count": null,
      "outputs": []
    },
    {
      "cell_type": "code",
      "source": [
        "from sklearn.metrics import classification_report, confusion_matrix\n",
        "print(confusion_matrix(y_valid['label_1'], y_pred))\n",
        "print(classification_report(y_valid['label_1'], y_pred))"
      ],
      "metadata": {
        "colab": {
          "base_uri": "https://localhost:8080/"
        },
        "id": "Fp-KdHpC3UR9",
        "outputId": "363b9098-4d9c-47a2-f9b7-de0f1dbe1ac7"
      },
      "execution_count": null,
      "outputs": [
        {
          "output_type": "stream",
          "name": "stdout",
          "text": [
            "[[11  0  0 ...  0  0  0]\n",
            " [ 0  9  0 ...  0  0  0]\n",
            " [ 0  0 12 ...  0  0  0]\n",
            " ...\n",
            " [ 0  0  0 ... 20  0  0]\n",
            " [ 0  0  0 ...  0 10  0]\n",
            " [ 0  0  0 ...  0  0 10]]\n",
            "              precision    recall  f1-score   support\n",
            "\n",
            "           1       1.00      0.85      0.92        13\n",
            "           2       1.00      1.00      1.00         9\n",
            "           3       0.92      1.00      0.96        12\n",
            "           4       1.00      1.00      1.00        16\n",
            "           5       0.95      1.00      0.97        18\n",
            "           6       1.00      1.00      1.00         9\n",
            "           7       1.00      1.00      1.00        17\n",
            "           8       1.00      1.00      1.00        14\n",
            "           9       1.00      1.00      1.00        11\n",
            "          10       0.89      1.00      0.94         8\n",
            "          11       0.95      1.00      0.97        19\n",
            "          12       1.00      1.00      1.00         7\n",
            "          13       1.00      1.00      1.00        11\n",
            "          14       0.88      0.93      0.90        15\n",
            "          15       1.00      1.00      1.00        17\n",
            "          16       0.93      1.00      0.97        14\n",
            "          17       0.93      1.00      0.97        14\n",
            "          18       1.00      0.95      0.97        19\n",
            "          19       1.00      1.00      1.00        15\n",
            "          20       0.92      1.00      0.96        11\n",
            "          21       1.00      1.00      1.00        14\n",
            "          22       0.92      1.00      0.96        11\n",
            "          23       0.91      1.00      0.95        10\n",
            "          24       1.00      1.00      1.00        12\n",
            "          25       1.00      0.91      0.95        11\n",
            "          26       1.00      1.00      1.00         7\n",
            "          27       1.00      0.94      0.97        16\n",
            "          28       1.00      1.00      1.00        11\n",
            "          29       1.00      0.87      0.93        15\n",
            "          30       1.00      1.00      1.00         8\n",
            "          31       1.00      1.00      1.00        12\n",
            "          32       0.89      0.89      0.89         9\n",
            "          33       0.86      1.00      0.92         6\n",
            "          34       1.00      1.00      1.00        13\n",
            "          35       1.00      1.00      1.00         8\n",
            "          36       1.00      1.00      1.00        18\n",
            "          37       1.00      1.00      1.00        16\n",
            "          38       1.00      0.91      0.95        11\n",
            "          39       1.00      1.00      1.00        13\n",
            "          40       0.92      1.00      0.96        12\n",
            "          41       1.00      1.00      1.00        10\n",
            "          42       1.00      1.00      1.00        12\n",
            "          43       1.00      1.00      1.00        12\n",
            "          44       1.00      0.89      0.94        19\n",
            "          45       1.00      0.93      0.96        14\n",
            "          46       1.00      1.00      1.00        11\n",
            "          47       1.00      1.00      1.00         8\n",
            "          48       0.94      0.94      0.94        17\n",
            "          49       0.93      1.00      0.96        13\n",
            "          50       1.00      1.00      1.00        13\n",
            "          51       1.00      1.00      1.00         8\n",
            "          52       1.00      0.91      0.95        11\n",
            "          53       1.00      0.87      0.93        15\n",
            "          54       1.00      1.00      1.00         9\n",
            "          55       1.00      1.00      1.00         8\n",
            "          56       1.00      1.00      1.00        10\n",
            "          57       0.95      1.00      0.97        18\n",
            "          58       1.00      1.00      1.00        20\n",
            "          59       1.00      1.00      1.00        10\n",
            "          60       1.00      1.00      1.00        10\n",
            "\n",
            "    accuracy                           0.98       750\n",
            "   macro avg       0.98      0.98      0.98       750\n",
            "weighted avg       0.98      0.98      0.98       750\n",
            "\n"
          ]
        }
      ]
    },
    {
      "cell_type": "code",
      "source": [
        "label_1_pred_before = KNN(x_train[\"label_1\"],x_test['label_1'],y_train['label_1'])"
      ],
      "metadata": {
        "id": "BMbL2ckEstae"
      },
      "execution_count": null,
      "outputs": []
    },
    {
      "cell_type": "code",
      "source": [
        "from sklearn.neighbors import KNeighborsClassifier\n",
        "x_tets_pca = pca.transform(x_test['label_1'])\n",
        "label_1_pred_after = classifier.predict(x_tets_pca)\n",
        "\n",
        "pd.DataFrame(x_tets_pca)\n"
      ],
      "metadata": {
        "colab": {
          "base_uri": "https://localhost:8080/",
          "height": 443
        },
        "id": "ruZ19uVsqnQH",
        "outputId": "61ecbcd1-be31-4d39-c92c-986474c09510"
      },
      "execution_count": null,
      "outputs": [
        {
          "output_type": "execute_result",
          "data": {
            "text/plain": [
              "           0         1         2         3         4         5         6   \\\n",
              "0   -1.500508  5.167699 -2.679607 -1.251477 -4.766163 -1.009115  2.646372   \n",
              "1   -5.185601  6.477794  0.066528 -7.786906 -3.425548  1.659710 -1.279572   \n",
              "2   -3.655569  2.583212 -0.056895 -4.151993 -1.596252 -0.865812 -0.053392   \n",
              "3   -1.665615  4.492834 -0.723284 -0.693712  1.638894  3.461804  0.222297   \n",
              "4    0.310091  4.514874  1.348366 -2.426086 -2.180181 -0.866983  1.366032   \n",
              "..        ...       ...       ...       ...       ...       ...       ...   \n",
              "745  0.472381 -0.940024 -5.715502  3.065052  0.260611 -2.485517  0.507330   \n",
              "746  8.421127  3.184758 -0.930040 -0.742543 -0.142731  0.486019  0.519685   \n",
              "747 -4.104663  1.678485 -1.596858 -1.128760  1.334694  3.414412 -4.176270   \n",
              "748 -3.391183  2.768467  2.498624  2.333551 -1.653734 -0.274364 -0.304824   \n",
              "749  2.366818  2.071706 -2.925003  0.976219 -4.708499 -1.914967 -1.088126   \n",
              "\n",
              "           7         8         9   ...        27        28        29  \\\n",
              "0    2.059013  4.486463  1.481350  ... -0.659240 -2.238538  1.203118   \n",
              "1    1.855615 -2.025913  5.425406  ...  0.259978 -0.215138  0.162254   \n",
              "2    0.049968 -4.426579  3.808164  ...  1.160343 -0.315466  1.025855   \n",
              "3    0.470753  1.110993  4.823751  ...  1.303351 -2.371168  0.606335   \n",
              "4    2.748820  0.603869  5.468676  ...  0.200779  0.956095  1.885016   \n",
              "..        ...       ...       ...  ...       ...       ...       ...   \n",
              "745 -2.754692 -1.054212  1.208389  ...  0.012224 -1.724243 -0.334600   \n",
              "746 -1.169271 -0.275767 -1.740194  ...  1.124367  0.350932 -0.131597   \n",
              "747 -1.710421 -0.688657 -0.214286  ... -0.837321  1.657879  0.832305   \n",
              "748 -1.916929  2.581346 -2.323765  ...  0.613270 -0.298772  2.011881   \n",
              "749 -0.073634  0.911300  0.581575  ... -0.286006 -1.171562 -1.389265   \n",
              "\n",
              "           30        31        32        33        34        35        36  \n",
              "0    0.790715  0.032765  2.000264  2.157813 -0.579622 -0.941363 -0.396000  \n",
              "1    0.559397  0.108823 -0.771920  0.289616 -0.627237 -0.761139 -1.039271  \n",
              "2    1.593888 -0.130312 -0.548878 -0.640456 -0.951691 -0.514799 -0.711533  \n",
              "3    0.558340 -1.002022 -1.738454 -1.304003 -0.939968  0.192779 -1.716378  \n",
              "4   -0.493400  0.552957 -1.029181  0.203553 -0.198968 -0.259912 -1.443620  \n",
              "..        ...       ...       ...       ...       ...       ...       ...  \n",
              "745  0.993278  0.236256  0.201985  1.300281  0.119619 -1.146856  0.148063  \n",
              "746 -0.456930  2.102418  0.997167  1.314345  0.459685  0.659913 -0.182789  \n",
              "747 -0.217676 -0.432318  1.682600  0.326617  0.764817  0.982816  0.862530  \n",
              "748  3.357274  0.058312  0.325797  0.832059 -0.167548  0.718258 -2.395365  \n",
              "749 -1.484005  0.122331  0.502410  1.154396  0.255722 -0.036411 -0.128858  \n",
              "\n",
              "[750 rows x 37 columns]"
            ],
            "text/html": [
              "\n",
              "  <div id=\"df-144cd32b-fbed-451e-9560-6a2fd04b7d8c\" class=\"colab-df-container\">\n",
              "    <div>\n",
              "<style scoped>\n",
              "    .dataframe tbody tr th:only-of-type {\n",
              "        vertical-align: middle;\n",
              "    }\n",
              "\n",
              "    .dataframe tbody tr th {\n",
              "        vertical-align: top;\n",
              "    }\n",
              "\n",
              "    .dataframe thead th {\n",
              "        text-align: right;\n",
              "    }\n",
              "</style>\n",
              "<table border=\"1\" class=\"dataframe\">\n",
              "  <thead>\n",
              "    <tr style=\"text-align: right;\">\n",
              "      <th></th>\n",
              "      <th>0</th>\n",
              "      <th>1</th>\n",
              "      <th>2</th>\n",
              "      <th>3</th>\n",
              "      <th>4</th>\n",
              "      <th>5</th>\n",
              "      <th>6</th>\n",
              "      <th>7</th>\n",
              "      <th>8</th>\n",
              "      <th>9</th>\n",
              "      <th>...</th>\n",
              "      <th>27</th>\n",
              "      <th>28</th>\n",
              "      <th>29</th>\n",
              "      <th>30</th>\n",
              "      <th>31</th>\n",
              "      <th>32</th>\n",
              "      <th>33</th>\n",
              "      <th>34</th>\n",
              "      <th>35</th>\n",
              "      <th>36</th>\n",
              "    </tr>\n",
              "  </thead>\n",
              "  <tbody>\n",
              "    <tr>\n",
              "      <th>0</th>\n",
              "      <td>-1.500508</td>\n",
              "      <td>5.167699</td>\n",
              "      <td>-2.679607</td>\n",
              "      <td>-1.251477</td>\n",
              "      <td>-4.766163</td>\n",
              "      <td>-1.009115</td>\n",
              "      <td>2.646372</td>\n",
              "      <td>2.059013</td>\n",
              "      <td>4.486463</td>\n",
              "      <td>1.481350</td>\n",
              "      <td>...</td>\n",
              "      <td>-0.659240</td>\n",
              "      <td>-2.238538</td>\n",
              "      <td>1.203118</td>\n",
              "      <td>0.790715</td>\n",
              "      <td>0.032765</td>\n",
              "      <td>2.000264</td>\n",
              "      <td>2.157813</td>\n",
              "      <td>-0.579622</td>\n",
              "      <td>-0.941363</td>\n",
              "      <td>-0.396000</td>\n",
              "    </tr>\n",
              "    <tr>\n",
              "      <th>1</th>\n",
              "      <td>-5.185601</td>\n",
              "      <td>6.477794</td>\n",
              "      <td>0.066528</td>\n",
              "      <td>-7.786906</td>\n",
              "      <td>-3.425548</td>\n",
              "      <td>1.659710</td>\n",
              "      <td>-1.279572</td>\n",
              "      <td>1.855615</td>\n",
              "      <td>-2.025913</td>\n",
              "      <td>5.425406</td>\n",
              "      <td>...</td>\n",
              "      <td>0.259978</td>\n",
              "      <td>-0.215138</td>\n",
              "      <td>0.162254</td>\n",
              "      <td>0.559397</td>\n",
              "      <td>0.108823</td>\n",
              "      <td>-0.771920</td>\n",
              "      <td>0.289616</td>\n",
              "      <td>-0.627237</td>\n",
              "      <td>-0.761139</td>\n",
              "      <td>-1.039271</td>\n",
              "    </tr>\n",
              "    <tr>\n",
              "      <th>2</th>\n",
              "      <td>-3.655569</td>\n",
              "      <td>2.583212</td>\n",
              "      <td>-0.056895</td>\n",
              "      <td>-4.151993</td>\n",
              "      <td>-1.596252</td>\n",
              "      <td>-0.865812</td>\n",
              "      <td>-0.053392</td>\n",
              "      <td>0.049968</td>\n",
              "      <td>-4.426579</td>\n",
              "      <td>3.808164</td>\n",
              "      <td>...</td>\n",
              "      <td>1.160343</td>\n",
              "      <td>-0.315466</td>\n",
              "      <td>1.025855</td>\n",
              "      <td>1.593888</td>\n",
              "      <td>-0.130312</td>\n",
              "      <td>-0.548878</td>\n",
              "      <td>-0.640456</td>\n",
              "      <td>-0.951691</td>\n",
              "      <td>-0.514799</td>\n",
              "      <td>-0.711533</td>\n",
              "    </tr>\n",
              "    <tr>\n",
              "      <th>3</th>\n",
              "      <td>-1.665615</td>\n",
              "      <td>4.492834</td>\n",
              "      <td>-0.723284</td>\n",
              "      <td>-0.693712</td>\n",
              "      <td>1.638894</td>\n",
              "      <td>3.461804</td>\n",
              "      <td>0.222297</td>\n",
              "      <td>0.470753</td>\n",
              "      <td>1.110993</td>\n",
              "      <td>4.823751</td>\n",
              "      <td>...</td>\n",
              "      <td>1.303351</td>\n",
              "      <td>-2.371168</td>\n",
              "      <td>0.606335</td>\n",
              "      <td>0.558340</td>\n",
              "      <td>-1.002022</td>\n",
              "      <td>-1.738454</td>\n",
              "      <td>-1.304003</td>\n",
              "      <td>-0.939968</td>\n",
              "      <td>0.192779</td>\n",
              "      <td>-1.716378</td>\n",
              "    </tr>\n",
              "    <tr>\n",
              "      <th>4</th>\n",
              "      <td>0.310091</td>\n",
              "      <td>4.514874</td>\n",
              "      <td>1.348366</td>\n",
              "      <td>-2.426086</td>\n",
              "      <td>-2.180181</td>\n",
              "      <td>-0.866983</td>\n",
              "      <td>1.366032</td>\n",
              "      <td>2.748820</td>\n",
              "      <td>0.603869</td>\n",
              "      <td>5.468676</td>\n",
              "      <td>...</td>\n",
              "      <td>0.200779</td>\n",
              "      <td>0.956095</td>\n",
              "      <td>1.885016</td>\n",
              "      <td>-0.493400</td>\n",
              "      <td>0.552957</td>\n",
              "      <td>-1.029181</td>\n",
              "      <td>0.203553</td>\n",
              "      <td>-0.198968</td>\n",
              "      <td>-0.259912</td>\n",
              "      <td>-1.443620</td>\n",
              "    </tr>\n",
              "    <tr>\n",
              "      <th>...</th>\n",
              "      <td>...</td>\n",
              "      <td>...</td>\n",
              "      <td>...</td>\n",
              "      <td>...</td>\n",
              "      <td>...</td>\n",
              "      <td>...</td>\n",
              "      <td>...</td>\n",
              "      <td>...</td>\n",
              "      <td>...</td>\n",
              "      <td>...</td>\n",
              "      <td>...</td>\n",
              "      <td>...</td>\n",
              "      <td>...</td>\n",
              "      <td>...</td>\n",
              "      <td>...</td>\n",
              "      <td>...</td>\n",
              "      <td>...</td>\n",
              "      <td>...</td>\n",
              "      <td>...</td>\n",
              "      <td>...</td>\n",
              "      <td>...</td>\n",
              "    </tr>\n",
              "    <tr>\n",
              "      <th>745</th>\n",
              "      <td>0.472381</td>\n",
              "      <td>-0.940024</td>\n",
              "      <td>-5.715502</td>\n",
              "      <td>3.065052</td>\n",
              "      <td>0.260611</td>\n",
              "      <td>-2.485517</td>\n",
              "      <td>0.507330</td>\n",
              "      <td>-2.754692</td>\n",
              "      <td>-1.054212</td>\n",
              "      <td>1.208389</td>\n",
              "      <td>...</td>\n",
              "      <td>0.012224</td>\n",
              "      <td>-1.724243</td>\n",
              "      <td>-0.334600</td>\n",
              "      <td>0.993278</td>\n",
              "      <td>0.236256</td>\n",
              "      <td>0.201985</td>\n",
              "      <td>1.300281</td>\n",
              "      <td>0.119619</td>\n",
              "      <td>-1.146856</td>\n",
              "      <td>0.148063</td>\n",
              "    </tr>\n",
              "    <tr>\n",
              "      <th>746</th>\n",
              "      <td>8.421127</td>\n",
              "      <td>3.184758</td>\n",
              "      <td>-0.930040</td>\n",
              "      <td>-0.742543</td>\n",
              "      <td>-0.142731</td>\n",
              "      <td>0.486019</td>\n",
              "      <td>0.519685</td>\n",
              "      <td>-1.169271</td>\n",
              "      <td>-0.275767</td>\n",
              "      <td>-1.740194</td>\n",
              "      <td>...</td>\n",
              "      <td>1.124367</td>\n",
              "      <td>0.350932</td>\n",
              "      <td>-0.131597</td>\n",
              "      <td>-0.456930</td>\n",
              "      <td>2.102418</td>\n",
              "      <td>0.997167</td>\n",
              "      <td>1.314345</td>\n",
              "      <td>0.459685</td>\n",
              "      <td>0.659913</td>\n",
              "      <td>-0.182789</td>\n",
              "    </tr>\n",
              "    <tr>\n",
              "      <th>747</th>\n",
              "      <td>-4.104663</td>\n",
              "      <td>1.678485</td>\n",
              "      <td>-1.596858</td>\n",
              "      <td>-1.128760</td>\n",
              "      <td>1.334694</td>\n",
              "      <td>3.414412</td>\n",
              "      <td>-4.176270</td>\n",
              "      <td>-1.710421</td>\n",
              "      <td>-0.688657</td>\n",
              "      <td>-0.214286</td>\n",
              "      <td>...</td>\n",
              "      <td>-0.837321</td>\n",
              "      <td>1.657879</td>\n",
              "      <td>0.832305</td>\n",
              "      <td>-0.217676</td>\n",
              "      <td>-0.432318</td>\n",
              "      <td>1.682600</td>\n",
              "      <td>0.326617</td>\n",
              "      <td>0.764817</td>\n",
              "      <td>0.982816</td>\n",
              "      <td>0.862530</td>\n",
              "    </tr>\n",
              "    <tr>\n",
              "      <th>748</th>\n",
              "      <td>-3.391183</td>\n",
              "      <td>2.768467</td>\n",
              "      <td>2.498624</td>\n",
              "      <td>2.333551</td>\n",
              "      <td>-1.653734</td>\n",
              "      <td>-0.274364</td>\n",
              "      <td>-0.304824</td>\n",
              "      <td>-1.916929</td>\n",
              "      <td>2.581346</td>\n",
              "      <td>-2.323765</td>\n",
              "      <td>...</td>\n",
              "      <td>0.613270</td>\n",
              "      <td>-0.298772</td>\n",
              "      <td>2.011881</td>\n",
              "      <td>3.357274</td>\n",
              "      <td>0.058312</td>\n",
              "      <td>0.325797</td>\n",
              "      <td>0.832059</td>\n",
              "      <td>-0.167548</td>\n",
              "      <td>0.718258</td>\n",
              "      <td>-2.395365</td>\n",
              "    </tr>\n",
              "    <tr>\n",
              "      <th>749</th>\n",
              "      <td>2.366818</td>\n",
              "      <td>2.071706</td>\n",
              "      <td>-2.925003</td>\n",
              "      <td>0.976219</td>\n",
              "      <td>-4.708499</td>\n",
              "      <td>-1.914967</td>\n",
              "      <td>-1.088126</td>\n",
              "      <td>-0.073634</td>\n",
              "      <td>0.911300</td>\n",
              "      <td>0.581575</td>\n",
              "      <td>...</td>\n",
              "      <td>-0.286006</td>\n",
              "      <td>-1.171562</td>\n",
              "      <td>-1.389265</td>\n",
              "      <td>-1.484005</td>\n",
              "      <td>0.122331</td>\n",
              "      <td>0.502410</td>\n",
              "      <td>1.154396</td>\n",
              "      <td>0.255722</td>\n",
              "      <td>-0.036411</td>\n",
              "      <td>-0.128858</td>\n",
              "    </tr>\n",
              "  </tbody>\n",
              "</table>\n",
              "<p>750 rows × 37 columns</p>\n",
              "</div>\n",
              "    <div class=\"colab-df-buttons\">\n",
              "\n",
              "  <div class=\"colab-df-container\">\n",
              "    <button class=\"colab-df-convert\" onclick=\"convertToInteractive('df-144cd32b-fbed-451e-9560-6a2fd04b7d8c')\"\n",
              "            title=\"Convert this dataframe to an interactive table.\"\n",
              "            style=\"display:none;\">\n",
              "\n",
              "  <svg xmlns=\"http://www.w3.org/2000/svg\" height=\"24px\" viewBox=\"0 -960 960 960\">\n",
              "    <path d=\"M120-120v-720h720v720H120Zm60-500h600v-160H180v160Zm220 220h160v-160H400v160Zm0 220h160v-160H400v160ZM180-400h160v-160H180v160Zm440 0h160v-160H620v160ZM180-180h160v-160H180v160Zm440 0h160v-160H620v160Z\"/>\n",
              "  </svg>\n",
              "    </button>\n",
              "\n",
              "  <style>\n",
              "    .colab-df-container {\n",
              "      display:flex;\n",
              "      gap: 12px;\n",
              "    }\n",
              "\n",
              "    .colab-df-convert {\n",
              "      background-color: #E8F0FE;\n",
              "      border: none;\n",
              "      border-radius: 50%;\n",
              "      cursor: pointer;\n",
              "      display: none;\n",
              "      fill: #1967D2;\n",
              "      height: 32px;\n",
              "      padding: 0 0 0 0;\n",
              "      width: 32px;\n",
              "    }\n",
              "\n",
              "    .colab-df-convert:hover {\n",
              "      background-color: #E2EBFA;\n",
              "      box-shadow: 0px 1px 2px rgba(60, 64, 67, 0.3), 0px 1px 3px 1px rgba(60, 64, 67, 0.15);\n",
              "      fill: #174EA6;\n",
              "    }\n",
              "\n",
              "    .colab-df-buttons div {\n",
              "      margin-bottom: 4px;\n",
              "    }\n",
              "\n",
              "    [theme=dark] .colab-df-convert {\n",
              "      background-color: #3B4455;\n",
              "      fill: #D2E3FC;\n",
              "    }\n",
              "\n",
              "    [theme=dark] .colab-df-convert:hover {\n",
              "      background-color: #434B5C;\n",
              "      box-shadow: 0px 1px 3px 1px rgba(0, 0, 0, 0.15);\n",
              "      filter: drop-shadow(0px 1px 2px rgba(0, 0, 0, 0.3));\n",
              "      fill: #FFFFFF;\n",
              "    }\n",
              "  </style>\n",
              "\n",
              "    <script>\n",
              "      const buttonEl =\n",
              "        document.querySelector('#df-144cd32b-fbed-451e-9560-6a2fd04b7d8c button.colab-df-convert');\n",
              "      buttonEl.style.display =\n",
              "        google.colab.kernel.accessAllowed ? 'block' : 'none';\n",
              "\n",
              "      async function convertToInteractive(key) {\n",
              "        const element = document.querySelector('#df-144cd32b-fbed-451e-9560-6a2fd04b7d8c');\n",
              "        const dataTable =\n",
              "          await google.colab.kernel.invokeFunction('convertToInteractive',\n",
              "                                                    [key], {});\n",
              "        if (!dataTable) return;\n",
              "\n",
              "        const docLinkHtml = 'Like what you see? Visit the ' +\n",
              "          '<a target=\"_blank\" href=https://colab.research.google.com/notebooks/data_table.ipynb>data table notebook</a>'\n",
              "          + ' to learn more about interactive tables.';\n",
              "        element.innerHTML = '';\n",
              "        dataTable['output_type'] = 'display_data';\n",
              "        await google.colab.output.renderOutput(dataTable, element);\n",
              "        const docLink = document.createElement('div');\n",
              "        docLink.innerHTML = docLinkHtml;\n",
              "        element.appendChild(docLink);\n",
              "      }\n",
              "    </script>\n",
              "  </div>\n",
              "\n",
              "\n",
              "<div id=\"df-5568110b-faac-40b5-91d3-46e12192cfa4\">\n",
              "  <button class=\"colab-df-quickchart\" onclick=\"quickchart('df-5568110b-faac-40b5-91d3-46e12192cfa4')\"\n",
              "            title=\"Suggest charts.\"\n",
              "            style=\"display:none;\">\n",
              "\n",
              "<svg xmlns=\"http://www.w3.org/2000/svg\" height=\"24px\"viewBox=\"0 0 24 24\"\n",
              "     width=\"24px\">\n",
              "    <g>\n",
              "        <path d=\"M19 3H5c-1.1 0-2 .9-2 2v14c0 1.1.9 2 2 2h14c1.1 0 2-.9 2-2V5c0-1.1-.9-2-2-2zM9 17H7v-7h2v7zm4 0h-2V7h2v10zm4 0h-2v-4h2v4z\"/>\n",
              "    </g>\n",
              "</svg>\n",
              "  </button>\n",
              "\n",
              "<style>\n",
              "  .colab-df-quickchart {\n",
              "    background-color: #E8F0FE;\n",
              "    border: none;\n",
              "    border-radius: 50%;\n",
              "    cursor: pointer;\n",
              "    display: none;\n",
              "    fill: #1967D2;\n",
              "    height: 32px;\n",
              "    padding: 0 0 0 0;\n",
              "    width: 32px;\n",
              "  }\n",
              "\n",
              "  .colab-df-quickchart:hover {\n",
              "    background-color: #E2EBFA;\n",
              "    box-shadow: 0px 1px 2px rgba(60, 64, 67, 0.3), 0px 1px 3px 1px rgba(60, 64, 67, 0.15);\n",
              "    fill: #174EA6;\n",
              "  }\n",
              "\n",
              "  [theme=dark] .colab-df-quickchart {\n",
              "    background-color: #3B4455;\n",
              "    fill: #D2E3FC;\n",
              "  }\n",
              "\n",
              "  [theme=dark] .colab-df-quickchart:hover {\n",
              "    background-color: #434B5C;\n",
              "    box-shadow: 0px 1px 3px 1px rgba(0, 0, 0, 0.15);\n",
              "    filter: drop-shadow(0px 1px 2px rgba(0, 0, 0, 0.3));\n",
              "    fill: #FFFFFF;\n",
              "  }\n",
              "</style>\n",
              "\n",
              "  <script>\n",
              "    async function quickchart(key) {\n",
              "      const charts = await google.colab.kernel.invokeFunction(\n",
              "          'suggestCharts', [key], {});\n",
              "    }\n",
              "    (() => {\n",
              "      let quickchartButtonEl =\n",
              "        document.querySelector('#df-5568110b-faac-40b5-91d3-46e12192cfa4 button');\n",
              "      quickchartButtonEl.style.display =\n",
              "        google.colab.kernel.accessAllowed ? 'block' : 'none';\n",
              "    })();\n",
              "  </script>\n",
              "</div>\n",
              "    </div>\n",
              "  </div>\n"
            ]
          },
          "metadata": {},
          "execution_count": 55
        }
      ]
    },
    {
      "cell_type": "code",
      "source": [
        "label1_features = pd.DataFrame(data=x_tets_pca, columns=[f'new_feature_{i+1}' for i in range(x_tets_pca.shape[1])])\n",
        "label1_features.insert(0,'Predicted labels before feature engineering',label_1_pred_before)\n",
        "label1_features.insert(1,'Predicted labels after feature engineering', label_1_pred_after)\n",
        "label1_features.insert(2,'No of new features', x_tets_pca.shape[1])"
      ],
      "metadata": {
        "id": "aBT2n7Xlsu9m"
      },
      "execution_count": null,
      "outputs": []
    },
    {
      "cell_type": "code",
      "source": [
        "def write_csv(feature_df, label):\n",
        "  for i in range(feature_df['No of new features'][0], 256):\n",
        "        feature_df[f'new_feature_{i+1}'] = pd.NA\n",
        "  filename = f'/content/drive/MyDrive/Colab Notebooks/Lab 1/DataSet/190200X_label_{label}.csv'\n",
        "  feature_df.to_csv(filename,index=False)"
      ],
      "metadata": {
        "id": "mkeZyC1puIqA"
      },
      "execution_count": null,
      "outputs": []
    },
    {
      "cell_type": "code",
      "source": [
        "write_csv(label1_features,\"label_1\")"
      ],
      "metadata": {
        "id": "58WQH1gouquV"
      },
      "execution_count": null,
      "outputs": []
    },
    {
      "cell_type": "markdown",
      "source": [
        "### Random Forest + PCA"
      ],
      "metadata": {
        "id": "CuvflhUXErBS"
      }
    },
    {
      "cell_type": "code",
      "source": [
        "from sklearn.decomposition import PCA\n",
        "\n",
        "pca = PCA(n_components= 0.99, svd_solver=\"full\")\n",
        "pca.fit(X_train_removed)\n",
        "x_train_pca = pca.transform(X_train_removed)\n",
        "x_valid_pca = pca.transform(x_valid_removed)"
      ],
      "metadata": {
        "id": "N_UO8fiTE9Rb"
      },
      "execution_count": null,
      "outputs": []
    },
    {
      "cell_type": "code",
      "source": [
        "x_train_pca.shape"
      ],
      "metadata": {
        "colab": {
          "base_uri": "https://localhost:8080/"
        },
        "outputId": "d30ff995-38fd-4b00-c737-b7f25dedec75",
        "id": "r6IgKklxE9Rb"
      },
      "execution_count": null,
      "outputs": [
        {
          "output_type": "execute_result",
          "data": {
            "text/plain": [
              "(28520, 46)"
            ]
          },
          "metadata": {},
          "execution_count": 126
        }
      ]
    },
    {
      "cell_type": "code",
      "source": [
        "from sklearn.neighbors import KNeighborsClassifier\n",
        "classifier = KNeighborsClassifier(n_neighbors=5)\n",
        "classifier.fit(x_train_pca, y_train['label_1'])"
      ],
      "metadata": {
        "colab": {
          "base_uri": "https://localhost:8080/",
          "height": 74
        },
        "outputId": "9b361cee-9628-4787-a24a-1dac4898ce99",
        "id": "G4PKdJa_E9Rc"
      },
      "execution_count": null,
      "outputs": [
        {
          "output_type": "execute_result",
          "data": {
            "text/plain": [
              "KNeighborsClassifier()"
            ],
            "text/html": [
              "<style>#sk-container-id-26 {color: black;background-color: white;}#sk-container-id-26 pre{padding: 0;}#sk-container-id-26 div.sk-toggleable {background-color: white;}#sk-container-id-26 label.sk-toggleable__label {cursor: pointer;display: block;width: 100%;margin-bottom: 0;padding: 0.3em;box-sizing: border-box;text-align: center;}#sk-container-id-26 label.sk-toggleable__label-arrow:before {content: \"▸\";float: left;margin-right: 0.25em;color: #696969;}#sk-container-id-26 label.sk-toggleable__label-arrow:hover:before {color: black;}#sk-container-id-26 div.sk-estimator:hover label.sk-toggleable__label-arrow:before {color: black;}#sk-container-id-26 div.sk-toggleable__content {max-height: 0;max-width: 0;overflow: hidden;text-align: left;background-color: #f0f8ff;}#sk-container-id-26 div.sk-toggleable__content pre {margin: 0.2em;color: black;border-radius: 0.25em;background-color: #f0f8ff;}#sk-container-id-26 input.sk-toggleable__control:checked~div.sk-toggleable__content {max-height: 200px;max-width: 100%;overflow: auto;}#sk-container-id-26 input.sk-toggleable__control:checked~label.sk-toggleable__label-arrow:before {content: \"▾\";}#sk-container-id-26 div.sk-estimator input.sk-toggleable__control:checked~label.sk-toggleable__label {background-color: #d4ebff;}#sk-container-id-26 div.sk-label input.sk-toggleable__control:checked~label.sk-toggleable__label {background-color: #d4ebff;}#sk-container-id-26 input.sk-hidden--visually {border: 0;clip: rect(1px 1px 1px 1px);clip: rect(1px, 1px, 1px, 1px);height: 1px;margin: -1px;overflow: hidden;padding: 0;position: absolute;width: 1px;}#sk-container-id-26 div.sk-estimator {font-family: monospace;background-color: #f0f8ff;border: 1px dotted black;border-radius: 0.25em;box-sizing: border-box;margin-bottom: 0.5em;}#sk-container-id-26 div.sk-estimator:hover {background-color: #d4ebff;}#sk-container-id-26 div.sk-parallel-item::after {content: \"\";width: 100%;border-bottom: 1px solid gray;flex-grow: 1;}#sk-container-id-26 div.sk-label:hover label.sk-toggleable__label {background-color: #d4ebff;}#sk-container-id-26 div.sk-serial::before {content: \"\";position: absolute;border-left: 1px solid gray;box-sizing: border-box;top: 0;bottom: 0;left: 50%;z-index: 0;}#sk-container-id-26 div.sk-serial {display: flex;flex-direction: column;align-items: center;background-color: white;padding-right: 0.2em;padding-left: 0.2em;position: relative;}#sk-container-id-26 div.sk-item {position: relative;z-index: 1;}#sk-container-id-26 div.sk-parallel {display: flex;align-items: stretch;justify-content: center;background-color: white;position: relative;}#sk-container-id-26 div.sk-item::before, #sk-container-id-26 div.sk-parallel-item::before {content: \"\";position: absolute;border-left: 1px solid gray;box-sizing: border-box;top: 0;bottom: 0;left: 50%;z-index: -1;}#sk-container-id-26 div.sk-parallel-item {display: flex;flex-direction: column;z-index: 1;position: relative;background-color: white;}#sk-container-id-26 div.sk-parallel-item:first-child::after {align-self: flex-end;width: 50%;}#sk-container-id-26 div.sk-parallel-item:last-child::after {align-self: flex-start;width: 50%;}#sk-container-id-26 div.sk-parallel-item:only-child::after {width: 0;}#sk-container-id-26 div.sk-dashed-wrapped {border: 1px dashed gray;margin: 0 0.4em 0.5em 0.4em;box-sizing: border-box;padding-bottom: 0.4em;background-color: white;}#sk-container-id-26 div.sk-label label {font-family: monospace;font-weight: bold;display: inline-block;line-height: 1.2em;}#sk-container-id-26 div.sk-label-container {text-align: center;}#sk-container-id-26 div.sk-container {/* jupyter's `normalize.less` sets `[hidden] { display: none; }` but bootstrap.min.css set `[hidden] { display: none !important; }` so we also need the `!important` here to be able to override the default hidden behavior on the sphinx rendered scikit-learn.org. See: https://github.com/scikit-learn/scikit-learn/issues/21755 */display: inline-block !important;position: relative;}#sk-container-id-26 div.sk-text-repr-fallback {display: none;}</style><div id=\"sk-container-id-26\" class=\"sk-top-container\"><div class=\"sk-text-repr-fallback\"><pre>KNeighborsClassifier()</pre><b>In a Jupyter environment, please rerun this cell to show the HTML representation or trust the notebook. <br />On GitHub, the HTML representation is unable to render, please try loading this page with nbviewer.org.</b></div><div class=\"sk-container\" hidden><div class=\"sk-item\"><div class=\"sk-estimator sk-toggleable\"><input class=\"sk-toggleable__control sk-hidden--visually\" id=\"sk-estimator-id-26\" type=\"checkbox\" checked><label for=\"sk-estimator-id-26\" class=\"sk-toggleable__label sk-toggleable__label-arrow\">KNeighborsClassifier</label><div class=\"sk-toggleable__content\"><pre>KNeighborsClassifier()</pre></div></div></div></div></div>"
            ]
          },
          "metadata": {},
          "execution_count": 127
        }
      ]
    },
    {
      "cell_type": "code",
      "source": [
        "y_pred = classifier.predict(x_valid_pca)"
      ],
      "metadata": {
        "id": "CwKqiXLfE9Rc"
      },
      "execution_count": null,
      "outputs": []
    },
    {
      "cell_type": "code",
      "source": [
        "from sklearn.metrics import classification_report, confusion_matrix\n",
        "print(confusion_matrix(y_valid['label_1'], y_pred))\n",
        "print(classification_report(y_valid['label_1'], y_pred))"
      ],
      "metadata": {
        "colab": {
          "base_uri": "https://localhost:8080/"
        },
        "outputId": "ca29b2fc-7dae-4ecd-9073-b9233e5185a8",
        "id": "WT3DRHE4E9Rc"
      },
      "execution_count": null,
      "outputs": [
        {
          "output_type": "stream",
          "name": "stdout",
          "text": [
            "[[13  0  0 ...  0  0  0]\n",
            " [ 0  8  0 ...  0  0  0]\n",
            " [ 0  0 12 ...  0  0  0]\n",
            " ...\n",
            " [ 0  0  0 ... 19  0  1]\n",
            " [ 0  0  0 ...  0 10  0]\n",
            " [ 0  0  0 ...  0  0 10]]\n",
            "              precision    recall  f1-score   support\n",
            "\n",
            "           1       0.87      1.00      0.93        13\n",
            "           2       1.00      0.89      0.94         9\n",
            "           3       1.00      1.00      1.00        12\n",
            "           4       1.00      1.00      1.00        16\n",
            "           5       0.95      1.00      0.97        18\n",
            "           6       0.90      1.00      0.95         9\n",
            "           7       0.94      1.00      0.97        17\n",
            "           8       1.00      1.00      1.00        14\n",
            "           9       1.00      1.00      1.00        11\n",
            "          10       0.80      1.00      0.89         8\n",
            "          11       0.86      1.00      0.93        19\n",
            "          12       1.00      1.00      1.00         7\n",
            "          13       0.92      1.00      0.96        11\n",
            "          14       1.00      1.00      1.00        15\n",
            "          15       1.00      1.00      1.00        17\n",
            "          16       0.88      1.00      0.93        14\n",
            "          17       1.00      1.00      1.00        14\n",
            "          18       1.00      0.89      0.94        19\n",
            "          19       1.00      0.93      0.97        15\n",
            "          20       0.90      0.82      0.86        11\n",
            "          21       1.00      0.93      0.96        14\n",
            "          22       1.00      1.00      1.00        11\n",
            "          23       1.00      1.00      1.00        10\n",
            "          24       0.86      1.00      0.92        12\n",
            "          25       1.00      0.91      0.95        11\n",
            "          26       1.00      1.00      1.00         7\n",
            "          27       1.00      0.94      0.97        16\n",
            "          28       1.00      1.00      1.00        11\n",
            "          29       0.93      0.93      0.93        15\n",
            "          30       1.00      1.00      1.00         8\n",
            "          31       0.92      1.00      0.96        12\n",
            "          32       1.00      1.00      1.00         9\n",
            "          33       0.86      1.00      0.92         6\n",
            "          34       1.00      1.00      1.00        13\n",
            "          35       1.00      1.00      1.00         8\n",
            "          36       1.00      1.00      1.00        18\n",
            "          37       1.00      0.94      0.97        16\n",
            "          38       1.00      1.00      1.00        11\n",
            "          39       1.00      1.00      1.00        13\n",
            "          40       0.92      0.92      0.92        12\n",
            "          41       1.00      1.00      1.00        10\n",
            "          42       1.00      1.00      1.00        12\n",
            "          43       1.00      1.00      1.00        12\n",
            "          44       1.00      0.95      0.97        19\n",
            "          45       1.00      0.93      0.96        14\n",
            "          46       1.00      0.91      0.95        11\n",
            "          47       1.00      1.00      1.00         8\n",
            "          48       1.00      0.94      0.97        17\n",
            "          49       1.00      0.92      0.96        13\n",
            "          50       1.00      1.00      1.00        13\n",
            "          51       1.00      1.00      1.00         8\n",
            "          52       1.00      1.00      1.00        11\n",
            "          53       1.00      0.87      0.93        15\n",
            "          54       1.00      1.00      1.00         9\n",
            "          55       1.00      0.88      0.93         8\n",
            "          56       1.00      1.00      1.00        10\n",
            "          57       1.00      1.00      1.00        18\n",
            "          58       1.00      0.95      0.97        20\n",
            "          59       1.00      1.00      1.00        10\n",
            "          60       0.91      1.00      0.95        10\n",
            "\n",
            "    accuracy                           0.97       750\n",
            "   macro avg       0.97      0.97      0.97       750\n",
            "weighted avg       0.97      0.97      0.97       750\n",
            "\n"
          ]
        }
      ]
    },
    {
      "cell_type": "code",
      "source": [],
      "metadata": {
        "id": "SIIklfFEEw55"
      },
      "execution_count": null,
      "outputs": []
    },
    {
      "cell_type": "markdown",
      "source": [
        "### Ridge"
      ],
      "metadata": {
        "id": "QP8rVHHI99-I"
      }
    },
    {
      "cell_type": "code",
      "source": [
        "from sklearn.linear_model import Ridge"
      ],
      "metadata": {
        "id": "SeU_dD_x4Yft"
      },
      "execution_count": null,
      "outputs": []
    },
    {
      "cell_type": "code",
      "source": [
        "ridge_reg = Ridge(alpha =1.0)\n",
        "ridge_reg.fit(x_train['label_1'],y_train['label_1'])\n",
        "coefs = ridge_reg.coef_\n",
        "final_df = pd.DataFrame({\"Features\":pd.DataFrame(x_train['label_1']).columns,\"coefs\":coefs})\n",
        "final_df.set_index('coefs')\n",
        "final_df_sorted = final_df.sort_values('coefs')"
      ],
      "metadata": {
        "id": "OzKH33cm4pZS"
      },
      "execution_count": null,
      "outputs": []
    },
    {
      "cell_type": "code",
      "source": [
        "# Get the indices of the least important features to remove\n",
        "indices_to_remove = final_df_sorted[\"Features\"][:170]\n",
        "\n",
        "# Remove the least important features from the training dataset\n",
        "X_train_removed = np.delete(x_train['label_1'], indices_to_remove, axis=1)\n",
        "x_valid_removed = np.delete(x_valid['label_1'], indices_to_remove, axis=1)"
      ],
      "metadata": {
        "id": "Xsw_6PeK-UTB"
      },
      "execution_count": null,
      "outputs": []
    },
    {
      "cell_type": "code",
      "source": [
        "X_train_removed.shape"
      ],
      "metadata": {
        "colab": {
          "base_uri": "https://localhost:8080/"
        },
        "id": "esf3513OF2yD",
        "outputId": "6d241725-17c9-4c50-d18a-1f843112092c"
      },
      "execution_count": null,
      "outputs": [
        {
          "output_type": "execute_result",
          "data": {
            "text/plain": [
              "(28520, 86)"
            ]
          },
          "metadata": {},
          "execution_count": 154
        }
      ]
    },
    {
      "cell_type": "code",
      "source": [
        "from sklearn.neighbors import KNeighborsClassifier\n",
        "classifier = KNeighborsClassifier(n_neighbors=5)\n",
        "classifier.fit(X_train_removed, y_train['label_1'])"
      ],
      "metadata": {
        "colab": {
          "base_uri": "https://localhost:8080/",
          "height": 74
        },
        "outputId": "33812efc-0111-4b83-ebac-34945ec46952",
        "id": "It7zdlJw-p5a"
      },
      "execution_count": null,
      "outputs": [
        {
          "output_type": "execute_result",
          "data": {
            "text/plain": [
              "KNeighborsClassifier()"
            ],
            "text/html": [
              "<style>#sk-container-id-31 {color: black;background-color: white;}#sk-container-id-31 pre{padding: 0;}#sk-container-id-31 div.sk-toggleable {background-color: white;}#sk-container-id-31 label.sk-toggleable__label {cursor: pointer;display: block;width: 100%;margin-bottom: 0;padding: 0.3em;box-sizing: border-box;text-align: center;}#sk-container-id-31 label.sk-toggleable__label-arrow:before {content: \"▸\";float: left;margin-right: 0.25em;color: #696969;}#sk-container-id-31 label.sk-toggleable__label-arrow:hover:before {color: black;}#sk-container-id-31 div.sk-estimator:hover label.sk-toggleable__label-arrow:before {color: black;}#sk-container-id-31 div.sk-toggleable__content {max-height: 0;max-width: 0;overflow: hidden;text-align: left;background-color: #f0f8ff;}#sk-container-id-31 div.sk-toggleable__content pre {margin: 0.2em;color: black;border-radius: 0.25em;background-color: #f0f8ff;}#sk-container-id-31 input.sk-toggleable__control:checked~div.sk-toggleable__content {max-height: 200px;max-width: 100%;overflow: auto;}#sk-container-id-31 input.sk-toggleable__control:checked~label.sk-toggleable__label-arrow:before {content: \"▾\";}#sk-container-id-31 div.sk-estimator input.sk-toggleable__control:checked~label.sk-toggleable__label {background-color: #d4ebff;}#sk-container-id-31 div.sk-label input.sk-toggleable__control:checked~label.sk-toggleable__label {background-color: #d4ebff;}#sk-container-id-31 input.sk-hidden--visually {border: 0;clip: rect(1px 1px 1px 1px);clip: rect(1px, 1px, 1px, 1px);height: 1px;margin: -1px;overflow: hidden;padding: 0;position: absolute;width: 1px;}#sk-container-id-31 div.sk-estimator {font-family: monospace;background-color: #f0f8ff;border: 1px dotted black;border-radius: 0.25em;box-sizing: border-box;margin-bottom: 0.5em;}#sk-container-id-31 div.sk-estimator:hover {background-color: #d4ebff;}#sk-container-id-31 div.sk-parallel-item::after {content: \"\";width: 100%;border-bottom: 1px solid gray;flex-grow: 1;}#sk-container-id-31 div.sk-label:hover label.sk-toggleable__label {background-color: #d4ebff;}#sk-container-id-31 div.sk-serial::before {content: \"\";position: absolute;border-left: 1px solid gray;box-sizing: border-box;top: 0;bottom: 0;left: 50%;z-index: 0;}#sk-container-id-31 div.sk-serial {display: flex;flex-direction: column;align-items: center;background-color: white;padding-right: 0.2em;padding-left: 0.2em;position: relative;}#sk-container-id-31 div.sk-item {position: relative;z-index: 1;}#sk-container-id-31 div.sk-parallel {display: flex;align-items: stretch;justify-content: center;background-color: white;position: relative;}#sk-container-id-31 div.sk-item::before, #sk-container-id-31 div.sk-parallel-item::before {content: \"\";position: absolute;border-left: 1px solid gray;box-sizing: border-box;top: 0;bottom: 0;left: 50%;z-index: -1;}#sk-container-id-31 div.sk-parallel-item {display: flex;flex-direction: column;z-index: 1;position: relative;background-color: white;}#sk-container-id-31 div.sk-parallel-item:first-child::after {align-self: flex-end;width: 50%;}#sk-container-id-31 div.sk-parallel-item:last-child::after {align-self: flex-start;width: 50%;}#sk-container-id-31 div.sk-parallel-item:only-child::after {width: 0;}#sk-container-id-31 div.sk-dashed-wrapped {border: 1px dashed gray;margin: 0 0.4em 0.5em 0.4em;box-sizing: border-box;padding-bottom: 0.4em;background-color: white;}#sk-container-id-31 div.sk-label label {font-family: monospace;font-weight: bold;display: inline-block;line-height: 1.2em;}#sk-container-id-31 div.sk-label-container {text-align: center;}#sk-container-id-31 div.sk-container {/* jupyter's `normalize.less` sets `[hidden] { display: none; }` but bootstrap.min.css set `[hidden] { display: none !important; }` so we also need the `!important` here to be able to override the default hidden behavior on the sphinx rendered scikit-learn.org. See: https://github.com/scikit-learn/scikit-learn/issues/21755 */display: inline-block !important;position: relative;}#sk-container-id-31 div.sk-text-repr-fallback {display: none;}</style><div id=\"sk-container-id-31\" class=\"sk-top-container\"><div class=\"sk-text-repr-fallback\"><pre>KNeighborsClassifier()</pre><b>In a Jupyter environment, please rerun this cell to show the HTML representation or trust the notebook. <br />On GitHub, the HTML representation is unable to render, please try loading this page with nbviewer.org.</b></div><div class=\"sk-container\" hidden><div class=\"sk-item\"><div class=\"sk-estimator sk-toggleable\"><input class=\"sk-toggleable__control sk-hidden--visually\" id=\"sk-estimator-id-31\" type=\"checkbox\" checked><label for=\"sk-estimator-id-31\" class=\"sk-toggleable__label sk-toggleable__label-arrow\">KNeighborsClassifier</label><div class=\"sk-toggleable__content\"><pre>KNeighborsClassifier()</pre></div></div></div></div></div>"
            ]
          },
          "metadata": {},
          "execution_count": 155
        }
      ]
    },
    {
      "cell_type": "code",
      "source": [
        "y_pred = classifier.predict(x_valid_removed)"
      ],
      "metadata": {
        "id": "2OpAECTK-p5b"
      },
      "execution_count": null,
      "outputs": []
    },
    {
      "cell_type": "code",
      "source": [
        "from sklearn.metrics import classification_report, confusion_matrix\n",
        "print(confusion_matrix(y_valid['label_1'], y_pred))\n",
        "print(classification_report(y_valid['label_1'], y_pred))"
      ],
      "metadata": {
        "colab": {
          "base_uri": "https://localhost:8080/"
        },
        "outputId": "78bb9741-383e-44a9-f67c-815ce240dd9e",
        "id": "evuRBmkM-p5c"
      },
      "execution_count": null,
      "outputs": [
        {
          "output_type": "stream",
          "name": "stdout",
          "text": [
            "[[12  0  0 ...  0  0  0]\n",
            " [ 0  9  0 ...  0  0  0]\n",
            " [ 0  0 12 ...  0  0  0]\n",
            " ...\n",
            " [ 0  0  0 ... 20  0  0]\n",
            " [ 0  0  0 ...  0 10  0]\n",
            " [ 0  0  0 ...  0  0 10]]\n",
            "              precision    recall  f1-score   support\n",
            "\n",
            "           1       1.00      0.92      0.96        13\n",
            "           2       1.00      1.00      1.00         9\n",
            "           3       0.75      1.00      0.86        12\n",
            "           4       1.00      1.00      1.00        16\n",
            "           5       1.00      1.00      1.00        18\n",
            "           6       1.00      1.00      1.00         9\n",
            "           7       0.94      1.00      0.97        17\n",
            "           8       1.00      1.00      1.00        14\n",
            "           9       1.00      1.00      1.00        11\n",
            "          10       0.89      1.00      0.94         8\n",
            "          11       0.95      1.00      0.97        19\n",
            "          12       1.00      1.00      1.00         7\n",
            "          13       1.00      1.00      1.00        11\n",
            "          14       1.00      1.00      1.00        15\n",
            "          15       1.00      1.00      1.00        17\n",
            "          16       0.93      1.00      0.97        14\n",
            "          17       1.00      1.00      1.00        14\n",
            "          18       1.00      0.89      0.94        19\n",
            "          19       1.00      1.00      1.00        15\n",
            "          20       0.92      1.00      0.96        11\n",
            "          21       1.00      1.00      1.00        14\n",
            "          22       1.00      1.00      1.00        11\n",
            "          23       0.77      1.00      0.87        10\n",
            "          24       1.00      1.00      1.00        12\n",
            "          25       1.00      1.00      1.00        11\n",
            "          26       0.88      1.00      0.93         7\n",
            "          27       0.94      0.94      0.94        16\n",
            "          28       1.00      1.00      1.00        11\n",
            "          29       0.92      0.80      0.86        15\n",
            "          30       1.00      1.00      1.00         8\n",
            "          31       1.00      1.00      1.00        12\n",
            "          32       1.00      0.89      0.94         9\n",
            "          33       1.00      1.00      1.00         6\n",
            "          34       1.00      1.00      1.00        13\n",
            "          35       1.00      1.00      1.00         8\n",
            "          36       1.00      1.00      1.00        18\n",
            "          37       1.00      1.00      1.00        16\n",
            "          38       1.00      0.82      0.90        11\n",
            "          39       1.00      1.00      1.00        13\n",
            "          40       1.00      1.00      1.00        12\n",
            "          41       1.00      1.00      1.00        10\n",
            "          42       1.00      0.92      0.96        12\n",
            "          43       1.00      1.00      1.00        12\n",
            "          44       1.00      0.95      0.97        19\n",
            "          45       1.00      0.93      0.96        14\n",
            "          46       1.00      1.00      1.00        11\n",
            "          47       1.00      1.00      1.00         8\n",
            "          48       0.94      0.94      0.94        17\n",
            "          49       0.93      1.00      0.96        13\n",
            "          50       0.93      1.00      0.96        13\n",
            "          51       1.00      1.00      1.00         8\n",
            "          52       1.00      0.91      0.95        11\n",
            "          53       1.00      0.87      0.93        15\n",
            "          54       1.00      1.00      1.00         9\n",
            "          55       1.00      1.00      1.00         8\n",
            "          56       1.00      0.90      0.95        10\n",
            "          57       1.00      1.00      1.00        18\n",
            "          58       1.00      1.00      1.00        20\n",
            "          59       1.00      1.00      1.00        10\n",
            "          60       1.00      1.00      1.00        10\n",
            "\n",
            "    accuracy                           0.98       750\n",
            "   macro avg       0.98      0.98      0.98       750\n",
            "weighted avg       0.98      0.98      0.98       750\n",
            "\n"
          ]
        }
      ]
    },
    {
      "cell_type": "markdown",
      "source": [
        "## Label 2"
      ],
      "metadata": {
        "id": "UaD-NGi04TEk"
      }
    },
    {
      "cell_type": "code",
      "source": [
        "from sklearn.linear_model import LinearRegression  # You can replace this with other regression algorithms\n",
        "from sklearn.metrics import mean_squared_error, r2_score  # For evaluation\n",
        "from sklearn.ensemble import RandomForestRegressor\n"
      ],
      "metadata": {
        "id": "WLGDRx7Z4tNs"
      },
      "execution_count": null,
      "outputs": []
    },
    {
      "cell_type": "code",
      "source": [
        "regressor = LinearRegression()  # You can replace this with other regression algorithms\n",
        "regressor.fit(x_train['label_2'], y_train['label_2'])\n"
      ],
      "metadata": {
        "colab": {
          "base_uri": "https://localhost:8080/",
          "height": 74
        },
        "id": "Q-H6Yp_m5anj",
        "outputId": "90e116a1-7744-4bfc-d380-eacae61f54dd"
      },
      "execution_count": null,
      "outputs": [
        {
          "output_type": "execute_result",
          "data": {
            "text/plain": [
              "LinearRegression()"
            ],
            "text/html": [
              "<style>#sk-container-id-8 {color: black;background-color: white;}#sk-container-id-8 pre{padding: 0;}#sk-container-id-8 div.sk-toggleable {background-color: white;}#sk-container-id-8 label.sk-toggleable__label {cursor: pointer;display: block;width: 100%;margin-bottom: 0;padding: 0.3em;box-sizing: border-box;text-align: center;}#sk-container-id-8 label.sk-toggleable__label-arrow:before {content: \"▸\";float: left;margin-right: 0.25em;color: #696969;}#sk-container-id-8 label.sk-toggleable__label-arrow:hover:before {color: black;}#sk-container-id-8 div.sk-estimator:hover label.sk-toggleable__label-arrow:before {color: black;}#sk-container-id-8 div.sk-toggleable__content {max-height: 0;max-width: 0;overflow: hidden;text-align: left;background-color: #f0f8ff;}#sk-container-id-8 div.sk-toggleable__content pre {margin: 0.2em;color: black;border-radius: 0.25em;background-color: #f0f8ff;}#sk-container-id-8 input.sk-toggleable__control:checked~div.sk-toggleable__content {max-height: 200px;max-width: 100%;overflow: auto;}#sk-container-id-8 input.sk-toggleable__control:checked~label.sk-toggleable__label-arrow:before {content: \"▾\";}#sk-container-id-8 div.sk-estimator input.sk-toggleable__control:checked~label.sk-toggleable__label {background-color: #d4ebff;}#sk-container-id-8 div.sk-label input.sk-toggleable__control:checked~label.sk-toggleable__label {background-color: #d4ebff;}#sk-container-id-8 input.sk-hidden--visually {border: 0;clip: rect(1px 1px 1px 1px);clip: rect(1px, 1px, 1px, 1px);height: 1px;margin: -1px;overflow: hidden;padding: 0;position: absolute;width: 1px;}#sk-container-id-8 div.sk-estimator {font-family: monospace;background-color: #f0f8ff;border: 1px dotted black;border-radius: 0.25em;box-sizing: border-box;margin-bottom: 0.5em;}#sk-container-id-8 div.sk-estimator:hover {background-color: #d4ebff;}#sk-container-id-8 div.sk-parallel-item::after {content: \"\";width: 100%;border-bottom: 1px solid gray;flex-grow: 1;}#sk-container-id-8 div.sk-label:hover label.sk-toggleable__label {background-color: #d4ebff;}#sk-container-id-8 div.sk-serial::before {content: \"\";position: absolute;border-left: 1px solid gray;box-sizing: border-box;top: 0;bottom: 0;left: 50%;z-index: 0;}#sk-container-id-8 div.sk-serial {display: flex;flex-direction: column;align-items: center;background-color: white;padding-right: 0.2em;padding-left: 0.2em;position: relative;}#sk-container-id-8 div.sk-item {position: relative;z-index: 1;}#sk-container-id-8 div.sk-parallel {display: flex;align-items: stretch;justify-content: center;background-color: white;position: relative;}#sk-container-id-8 div.sk-item::before, #sk-container-id-8 div.sk-parallel-item::before {content: \"\";position: absolute;border-left: 1px solid gray;box-sizing: border-box;top: 0;bottom: 0;left: 50%;z-index: -1;}#sk-container-id-8 div.sk-parallel-item {display: flex;flex-direction: column;z-index: 1;position: relative;background-color: white;}#sk-container-id-8 div.sk-parallel-item:first-child::after {align-self: flex-end;width: 50%;}#sk-container-id-8 div.sk-parallel-item:last-child::after {align-self: flex-start;width: 50%;}#sk-container-id-8 div.sk-parallel-item:only-child::after {width: 0;}#sk-container-id-8 div.sk-dashed-wrapped {border: 1px dashed gray;margin: 0 0.4em 0.5em 0.4em;box-sizing: border-box;padding-bottom: 0.4em;background-color: white;}#sk-container-id-8 div.sk-label label {font-family: monospace;font-weight: bold;display: inline-block;line-height: 1.2em;}#sk-container-id-8 div.sk-label-container {text-align: center;}#sk-container-id-8 div.sk-container {/* jupyter's `normalize.less` sets `[hidden] { display: none; }` but bootstrap.min.css set `[hidden] { display: none !important; }` so we also need the `!important` here to be able to override the default hidden behavior on the sphinx rendered scikit-learn.org. See: https://github.com/scikit-learn/scikit-learn/issues/21755 */display: inline-block !important;position: relative;}#sk-container-id-8 div.sk-text-repr-fallback {display: none;}</style><div id=\"sk-container-id-8\" class=\"sk-top-container\"><div class=\"sk-text-repr-fallback\"><pre>LinearRegression()</pre><b>In a Jupyter environment, please rerun this cell to show the HTML representation or trust the notebook. <br />On GitHub, the HTML representation is unable to render, please try loading this page with nbviewer.org.</b></div><div class=\"sk-container\" hidden><div class=\"sk-item\"><div class=\"sk-estimator sk-toggleable\"><input class=\"sk-toggleable__control sk-hidden--visually\" id=\"sk-estimator-id-8\" type=\"checkbox\" checked><label for=\"sk-estimator-id-8\" class=\"sk-toggleable__label sk-toggleable__label-arrow\">LinearRegression</label><div class=\"sk-toggleable__content\"><pre>LinearRegression()</pre></div></div></div></div></div>"
            ]
          },
          "metadata": {},
          "execution_count": 69
        }
      ]
    },
    {
      "cell_type": "code",
      "source": [
        "y_pred = regressor.predict(x_valid['label_2'])"
      ],
      "metadata": {
        "id": "ktsoS9CP5wA1"
      },
      "execution_count": null,
      "outputs": []
    },
    {
      "cell_type": "code",
      "source": [
        "mse = mean_squared_error(y_valid['label_2'], y_pred)\n",
        "r2 = r2_score(y_valid['label_2'], y_pred)\n",
        "\n",
        "print(\"Mean Squared Error:\", mse)\n",
        "print(\"R-squared:\", r2)\n"
      ],
      "metadata": {
        "colab": {
          "base_uri": "https://localhost:8080/"
        },
        "id": "Fl5JB4E_5538",
        "outputId": "83ee48e3-3339-4f35-d188-3d36cf48256e"
      },
      "execution_count": null,
      "outputs": [
        {
          "output_type": "stream",
          "name": "stdout",
          "text": [
            "Mean Squared Error: 23.8255920404057\n",
            "R-squared: 0.43851414716544457\n"
          ]
        }
      ]
    },
    {
      "cell_type": "code",
      "source": [
        "label_2_pred_before = regressor.predict(x_test['label_2'])"
      ],
      "metadata": {
        "id": "0EJnK7B9vZX1"
      },
      "execution_count": null,
      "outputs": []
    },
    {
      "cell_type": "code",
      "source": [
        "from sklearn.ensemble import GradientBoostingRegressor\n",
        "from sklearn.metrics import mean_squared_error, r2_score\n",
        "\n",
        "\n",
        "# Create and train the Gradient Boosting Regressor\n",
        "regressor = GradientBoostingRegressor(n_estimators=100, learning_rate=0.1, random_state=42)\n",
        "regressor.fit(x_train['label_2'], y_train['label_2'])\n",
        "\n",
        "# Make predictions\n",
        "y_pred = regressor.predict(x_valid['label_2'])\n",
        "\n",
        "# Evaluate model performance\n",
        "mse = mean_squared_error(y_valid['label_2'], y_pred)\n",
        "r2 = r2_score(y_valid['label_2'], y_pred)\n",
        "\n",
        "print(\"Mean Squared Error:\", mse)\n",
        "print(\"R-squared:\", r2)\n"
      ],
      "metadata": {
        "colab": {
          "base_uri": "https://localhost:8080/"
        },
        "id": "DYnos97DJlF_",
        "outputId": "8c0405d8-49cc-4793-bdce-a551e3c09769"
      },
      "execution_count": null,
      "outputs": [
        {
          "output_type": "stream",
          "name": "stdout",
          "text": [
            "Mean Squared Error: 20.213011619939863\n",
            "R-squared: 0.5236500294083161\n"
          ]
        }
      ]
    },
    {
      "cell_type": "markdown",
      "source": [
        "### Filter Method"
      ],
      "metadata": {
        "id": "8_PaMuLH877H"
      }
    },
    {
      "cell_type": "code",
      "source": [
        "from sklearn.feature_selection import SelectKBest,f_regression\n",
        "\n",
        "# scaler = RobustScaler()\n",
        "# x_train_scaled = scaler.fit_transform(x_train[['label_1']])\n",
        "# y_train_scaled = scaler.transform(y_train[['label_2']])\n",
        "\n",
        "chi2_features = SelectKBest(f_regression, k=200)\n",
        "x_kbest = chi2_features.fit_transform(x_train['label_2'], y_train['label_2'])\n",
        "\n",
        "x_kbest.shape"
      ],
      "metadata": {
        "colab": {
          "base_uri": "https://localhost:8080/"
        },
        "outputId": "a17a3bfa-919e-4999-ea0f-46c092330666",
        "id": "U76glTLT84Tk"
      },
      "execution_count": null,
      "outputs": [
        {
          "output_type": "execute_result",
          "data": {
            "text/plain": [
              "(28040, 200)"
            ]
          },
          "metadata": {},
          "execution_count": 74
        }
      ]
    },
    {
      "cell_type": "code",
      "source": [
        "regressor = LinearRegression()  # You can replace this with other regression algorithms\n",
        "regressor.fit(x_kbest, y_train['label_2'])\n"
      ],
      "metadata": {
        "colab": {
          "base_uri": "https://localhost:8080/",
          "height": 74
        },
        "outputId": "418ac488-4637-4572-beca-87cc9ba6cfa0",
        "id": "KYvXd9bBGCwo"
      },
      "execution_count": null,
      "outputs": [
        {
          "output_type": "execute_result",
          "data": {
            "text/plain": [
              "LinearRegression()"
            ],
            "text/html": [
              "<style>#sk-container-id-9 {color: black;background-color: white;}#sk-container-id-9 pre{padding: 0;}#sk-container-id-9 div.sk-toggleable {background-color: white;}#sk-container-id-9 label.sk-toggleable__label {cursor: pointer;display: block;width: 100%;margin-bottom: 0;padding: 0.3em;box-sizing: border-box;text-align: center;}#sk-container-id-9 label.sk-toggleable__label-arrow:before {content: \"▸\";float: left;margin-right: 0.25em;color: #696969;}#sk-container-id-9 label.sk-toggleable__label-arrow:hover:before {color: black;}#sk-container-id-9 div.sk-estimator:hover label.sk-toggleable__label-arrow:before {color: black;}#sk-container-id-9 div.sk-toggleable__content {max-height: 0;max-width: 0;overflow: hidden;text-align: left;background-color: #f0f8ff;}#sk-container-id-9 div.sk-toggleable__content pre {margin: 0.2em;color: black;border-radius: 0.25em;background-color: #f0f8ff;}#sk-container-id-9 input.sk-toggleable__control:checked~div.sk-toggleable__content {max-height: 200px;max-width: 100%;overflow: auto;}#sk-container-id-9 input.sk-toggleable__control:checked~label.sk-toggleable__label-arrow:before {content: \"▾\";}#sk-container-id-9 div.sk-estimator input.sk-toggleable__control:checked~label.sk-toggleable__label {background-color: #d4ebff;}#sk-container-id-9 div.sk-label input.sk-toggleable__control:checked~label.sk-toggleable__label {background-color: #d4ebff;}#sk-container-id-9 input.sk-hidden--visually {border: 0;clip: rect(1px 1px 1px 1px);clip: rect(1px, 1px, 1px, 1px);height: 1px;margin: -1px;overflow: hidden;padding: 0;position: absolute;width: 1px;}#sk-container-id-9 div.sk-estimator {font-family: monospace;background-color: #f0f8ff;border: 1px dotted black;border-radius: 0.25em;box-sizing: border-box;margin-bottom: 0.5em;}#sk-container-id-9 div.sk-estimator:hover {background-color: #d4ebff;}#sk-container-id-9 div.sk-parallel-item::after {content: \"\";width: 100%;border-bottom: 1px solid gray;flex-grow: 1;}#sk-container-id-9 div.sk-label:hover label.sk-toggleable__label {background-color: #d4ebff;}#sk-container-id-9 div.sk-serial::before {content: \"\";position: absolute;border-left: 1px solid gray;box-sizing: border-box;top: 0;bottom: 0;left: 50%;z-index: 0;}#sk-container-id-9 div.sk-serial {display: flex;flex-direction: column;align-items: center;background-color: white;padding-right: 0.2em;padding-left: 0.2em;position: relative;}#sk-container-id-9 div.sk-item {position: relative;z-index: 1;}#sk-container-id-9 div.sk-parallel {display: flex;align-items: stretch;justify-content: center;background-color: white;position: relative;}#sk-container-id-9 div.sk-item::before, #sk-container-id-9 div.sk-parallel-item::before {content: \"\";position: absolute;border-left: 1px solid gray;box-sizing: border-box;top: 0;bottom: 0;left: 50%;z-index: -1;}#sk-container-id-9 div.sk-parallel-item {display: flex;flex-direction: column;z-index: 1;position: relative;background-color: white;}#sk-container-id-9 div.sk-parallel-item:first-child::after {align-self: flex-end;width: 50%;}#sk-container-id-9 div.sk-parallel-item:last-child::after {align-self: flex-start;width: 50%;}#sk-container-id-9 div.sk-parallel-item:only-child::after {width: 0;}#sk-container-id-9 div.sk-dashed-wrapped {border: 1px dashed gray;margin: 0 0.4em 0.5em 0.4em;box-sizing: border-box;padding-bottom: 0.4em;background-color: white;}#sk-container-id-9 div.sk-label label {font-family: monospace;font-weight: bold;display: inline-block;line-height: 1.2em;}#sk-container-id-9 div.sk-label-container {text-align: center;}#sk-container-id-9 div.sk-container {/* jupyter's `normalize.less` sets `[hidden] { display: none; }` but bootstrap.min.css set `[hidden] { display: none !important; }` so we also need the `!important` here to be able to override the default hidden behavior on the sphinx rendered scikit-learn.org. See: https://github.com/scikit-learn/scikit-learn/issues/21755 */display: inline-block !important;position: relative;}#sk-container-id-9 div.sk-text-repr-fallback {display: none;}</style><div id=\"sk-container-id-9\" class=\"sk-top-container\"><div class=\"sk-text-repr-fallback\"><pre>LinearRegression()</pre><b>In a Jupyter environment, please rerun this cell to show the HTML representation or trust the notebook. <br />On GitHub, the HTML representation is unable to render, please try loading this page with nbviewer.org.</b></div><div class=\"sk-container\" hidden><div class=\"sk-item\"><div class=\"sk-estimator sk-toggleable\"><input class=\"sk-toggleable__control sk-hidden--visually\" id=\"sk-estimator-id-9\" type=\"checkbox\" checked><label for=\"sk-estimator-id-9\" class=\"sk-toggleable__label sk-toggleable__label-arrow\">LinearRegression</label><div class=\"sk-toggleable__content\"><pre>LinearRegression()</pre></div></div></div></div></div>"
            ]
          },
          "metadata": {},
          "execution_count": 75
        }
      ]
    },
    {
      "cell_type": "code",
      "source": [
        "y_pred = regressor.predict(chi2_features.transform(x_valid['label_2']))"
      ],
      "metadata": {
        "id": "BZP9hyuxF-vG"
      },
      "execution_count": null,
      "outputs": []
    },
    {
      "cell_type": "code",
      "source": [
        "mse = mean_squared_error(y_valid['label_2'], y_pred)\n",
        "r2 = r2_score(y_valid['label_2'], y_pred)\n",
        "\n",
        "print(\"Mean Squared Error:\", mse)\n",
        "print(\"R-squared:\", r2)\n"
      ],
      "metadata": {
        "colab": {
          "base_uri": "https://localhost:8080/"
        },
        "outputId": "acb62d3a-29f1-457c-d715-41e7621fedd9",
        "id": "xTDTk0VUF-vG"
      },
      "execution_count": null,
      "outputs": [
        {
          "output_type": "stream",
          "name": "stdout",
          "text": [
            "Mean Squared Error: 25.436027322168574\n",
            "R-squared: 0.40056182152828956\n"
          ]
        }
      ]
    },
    {
      "cell_type": "markdown",
      "source": [
        "### Estimator Model"
      ],
      "metadata": {
        "id": "8uHGD1RG9C3c"
      }
    },
    {
      "cell_type": "code",
      "source": [
        "from sklearn.feature_selection import SelectFromModel\n",
        "from sklearn.ensemble import RandomForestClassifier  # You can replace this with any other model\n"
      ],
      "metadata": {
        "id": "--QzPDYc84Tm"
      },
      "execution_count": null,
      "outputs": []
    },
    {
      "cell_type": "code",
      "source": [
        "model = RandomForestClassifier(n_estimators=100)\n",
        "model.fit(x_train['label_2'], y_train['label_2'])  # Assuming x_train and y_train are your feature and target data\n"
      ],
      "metadata": {
        "colab": {
          "base_uri": "https://localhost:8080/",
          "height": 74
        },
        "outputId": "9127350f-b9c7-468f-9104-e1f517dece70",
        "id": "-LCNcX5184Tm"
      },
      "execution_count": null,
      "outputs": [
        {
          "output_type": "execute_result",
          "data": {
            "text/plain": [
              "RandomForestClassifier()"
            ],
            "text/html": [
              "<style>#sk-container-id-10 {color: black;background-color: white;}#sk-container-id-10 pre{padding: 0;}#sk-container-id-10 div.sk-toggleable {background-color: white;}#sk-container-id-10 label.sk-toggleable__label {cursor: pointer;display: block;width: 100%;margin-bottom: 0;padding: 0.3em;box-sizing: border-box;text-align: center;}#sk-container-id-10 label.sk-toggleable__label-arrow:before {content: \"▸\";float: left;margin-right: 0.25em;color: #696969;}#sk-container-id-10 label.sk-toggleable__label-arrow:hover:before {color: black;}#sk-container-id-10 div.sk-estimator:hover label.sk-toggleable__label-arrow:before {color: black;}#sk-container-id-10 div.sk-toggleable__content {max-height: 0;max-width: 0;overflow: hidden;text-align: left;background-color: #f0f8ff;}#sk-container-id-10 div.sk-toggleable__content pre {margin: 0.2em;color: black;border-radius: 0.25em;background-color: #f0f8ff;}#sk-container-id-10 input.sk-toggleable__control:checked~div.sk-toggleable__content {max-height: 200px;max-width: 100%;overflow: auto;}#sk-container-id-10 input.sk-toggleable__control:checked~label.sk-toggleable__label-arrow:before {content: \"▾\";}#sk-container-id-10 div.sk-estimator input.sk-toggleable__control:checked~label.sk-toggleable__label {background-color: #d4ebff;}#sk-container-id-10 div.sk-label input.sk-toggleable__control:checked~label.sk-toggleable__label {background-color: #d4ebff;}#sk-container-id-10 input.sk-hidden--visually {border: 0;clip: rect(1px 1px 1px 1px);clip: rect(1px, 1px, 1px, 1px);height: 1px;margin: -1px;overflow: hidden;padding: 0;position: absolute;width: 1px;}#sk-container-id-10 div.sk-estimator {font-family: monospace;background-color: #f0f8ff;border: 1px dotted black;border-radius: 0.25em;box-sizing: border-box;margin-bottom: 0.5em;}#sk-container-id-10 div.sk-estimator:hover {background-color: #d4ebff;}#sk-container-id-10 div.sk-parallel-item::after {content: \"\";width: 100%;border-bottom: 1px solid gray;flex-grow: 1;}#sk-container-id-10 div.sk-label:hover label.sk-toggleable__label {background-color: #d4ebff;}#sk-container-id-10 div.sk-serial::before {content: \"\";position: absolute;border-left: 1px solid gray;box-sizing: border-box;top: 0;bottom: 0;left: 50%;z-index: 0;}#sk-container-id-10 div.sk-serial {display: flex;flex-direction: column;align-items: center;background-color: white;padding-right: 0.2em;padding-left: 0.2em;position: relative;}#sk-container-id-10 div.sk-item {position: relative;z-index: 1;}#sk-container-id-10 div.sk-parallel {display: flex;align-items: stretch;justify-content: center;background-color: white;position: relative;}#sk-container-id-10 div.sk-item::before, #sk-container-id-10 div.sk-parallel-item::before {content: \"\";position: absolute;border-left: 1px solid gray;box-sizing: border-box;top: 0;bottom: 0;left: 50%;z-index: -1;}#sk-container-id-10 div.sk-parallel-item {display: flex;flex-direction: column;z-index: 1;position: relative;background-color: white;}#sk-container-id-10 div.sk-parallel-item:first-child::after {align-self: flex-end;width: 50%;}#sk-container-id-10 div.sk-parallel-item:last-child::after {align-self: flex-start;width: 50%;}#sk-container-id-10 div.sk-parallel-item:only-child::after {width: 0;}#sk-container-id-10 div.sk-dashed-wrapped {border: 1px dashed gray;margin: 0 0.4em 0.5em 0.4em;box-sizing: border-box;padding-bottom: 0.4em;background-color: white;}#sk-container-id-10 div.sk-label label {font-family: monospace;font-weight: bold;display: inline-block;line-height: 1.2em;}#sk-container-id-10 div.sk-label-container {text-align: center;}#sk-container-id-10 div.sk-container {/* jupyter's `normalize.less` sets `[hidden] { display: none; }` but bootstrap.min.css set `[hidden] { display: none !important; }` so we also need the `!important` here to be able to override the default hidden behavior on the sphinx rendered scikit-learn.org. See: https://github.com/scikit-learn/scikit-learn/issues/21755 */display: inline-block !important;position: relative;}#sk-container-id-10 div.sk-text-repr-fallback {display: none;}</style><div id=\"sk-container-id-10\" class=\"sk-top-container\"><div class=\"sk-text-repr-fallback\"><pre>RandomForestClassifier()</pre><b>In a Jupyter environment, please rerun this cell to show the HTML representation or trust the notebook. <br />On GitHub, the HTML representation is unable to render, please try loading this page with nbviewer.org.</b></div><div class=\"sk-container\" hidden><div class=\"sk-item\"><div class=\"sk-estimator sk-toggleable\"><input class=\"sk-toggleable__control sk-hidden--visually\" id=\"sk-estimator-id-10\" type=\"checkbox\" checked><label for=\"sk-estimator-id-10\" class=\"sk-toggleable__label sk-toggleable__label-arrow\">RandomForestClassifier</label><div class=\"sk-toggleable__content\"><pre>RandomForestClassifier()</pre></div></div></div></div></div>"
            ]
          },
          "metadata": {},
          "execution_count": 79
        }
      ]
    },
    {
      "cell_type": "code",
      "source": [
        "selector = SelectFromModel(model, threshold='mean')  # You can adjust the threshold as needed\n",
        "x_train_selected = selector.fit_transform(x_train['label_2'], y_train['label_2'])"
      ],
      "metadata": {
        "id": "RbFvFosq84Tn"
      },
      "execution_count": null,
      "outputs": []
    },
    {
      "cell_type": "code",
      "source": [
        "x_train_selected.shape"
      ],
      "metadata": {
        "colab": {
          "base_uri": "https://localhost:8080/"
        },
        "outputId": "e55b3a58-255e-49a0-84c8-ffa68c736bb1",
        "id": "v7XHmgK_84Tn"
      },
      "execution_count": null,
      "outputs": [
        {
          "output_type": "execute_result",
          "data": {
            "text/plain": [
              "(28040, 111)"
            ]
          },
          "metadata": {},
          "execution_count": 81
        }
      ]
    },
    {
      "cell_type": "code",
      "source": [
        "x_test_selected = selector.transform(x_valid['label_2'])  # Assuming x_test is your test data"
      ],
      "metadata": {
        "id": "0In3EpNf84Tn"
      },
      "execution_count": null,
      "outputs": []
    },
    {
      "cell_type": "code",
      "source": [
        "regressor = LinearRegression()  # You can replace this with other regression algorithms\n",
        "regressor.fit(x_train_selected, y_train['label_2'])\n"
      ],
      "metadata": {
        "colab": {
          "base_uri": "https://localhost:8080/",
          "height": 74
        },
        "outputId": "ba3a6378-e4ba-4447-a7ea-7baad70009f9",
        "id": "I5Ca94RiLAvR"
      },
      "execution_count": null,
      "outputs": [
        {
          "output_type": "execute_result",
          "data": {
            "text/plain": [
              "LinearRegression()"
            ],
            "text/html": [
              "<style>#sk-container-id-11 {color: black;background-color: white;}#sk-container-id-11 pre{padding: 0;}#sk-container-id-11 div.sk-toggleable {background-color: white;}#sk-container-id-11 label.sk-toggleable__label {cursor: pointer;display: block;width: 100%;margin-bottom: 0;padding: 0.3em;box-sizing: border-box;text-align: center;}#sk-container-id-11 label.sk-toggleable__label-arrow:before {content: \"▸\";float: left;margin-right: 0.25em;color: #696969;}#sk-container-id-11 label.sk-toggleable__label-arrow:hover:before {color: black;}#sk-container-id-11 div.sk-estimator:hover label.sk-toggleable__label-arrow:before {color: black;}#sk-container-id-11 div.sk-toggleable__content {max-height: 0;max-width: 0;overflow: hidden;text-align: left;background-color: #f0f8ff;}#sk-container-id-11 div.sk-toggleable__content pre {margin: 0.2em;color: black;border-radius: 0.25em;background-color: #f0f8ff;}#sk-container-id-11 input.sk-toggleable__control:checked~div.sk-toggleable__content {max-height: 200px;max-width: 100%;overflow: auto;}#sk-container-id-11 input.sk-toggleable__control:checked~label.sk-toggleable__label-arrow:before {content: \"▾\";}#sk-container-id-11 div.sk-estimator input.sk-toggleable__control:checked~label.sk-toggleable__label {background-color: #d4ebff;}#sk-container-id-11 div.sk-label input.sk-toggleable__control:checked~label.sk-toggleable__label {background-color: #d4ebff;}#sk-container-id-11 input.sk-hidden--visually {border: 0;clip: rect(1px 1px 1px 1px);clip: rect(1px, 1px, 1px, 1px);height: 1px;margin: -1px;overflow: hidden;padding: 0;position: absolute;width: 1px;}#sk-container-id-11 div.sk-estimator {font-family: monospace;background-color: #f0f8ff;border: 1px dotted black;border-radius: 0.25em;box-sizing: border-box;margin-bottom: 0.5em;}#sk-container-id-11 div.sk-estimator:hover {background-color: #d4ebff;}#sk-container-id-11 div.sk-parallel-item::after {content: \"\";width: 100%;border-bottom: 1px solid gray;flex-grow: 1;}#sk-container-id-11 div.sk-label:hover label.sk-toggleable__label {background-color: #d4ebff;}#sk-container-id-11 div.sk-serial::before {content: \"\";position: absolute;border-left: 1px solid gray;box-sizing: border-box;top: 0;bottom: 0;left: 50%;z-index: 0;}#sk-container-id-11 div.sk-serial {display: flex;flex-direction: column;align-items: center;background-color: white;padding-right: 0.2em;padding-left: 0.2em;position: relative;}#sk-container-id-11 div.sk-item {position: relative;z-index: 1;}#sk-container-id-11 div.sk-parallel {display: flex;align-items: stretch;justify-content: center;background-color: white;position: relative;}#sk-container-id-11 div.sk-item::before, #sk-container-id-11 div.sk-parallel-item::before {content: \"\";position: absolute;border-left: 1px solid gray;box-sizing: border-box;top: 0;bottom: 0;left: 50%;z-index: -1;}#sk-container-id-11 div.sk-parallel-item {display: flex;flex-direction: column;z-index: 1;position: relative;background-color: white;}#sk-container-id-11 div.sk-parallel-item:first-child::after {align-self: flex-end;width: 50%;}#sk-container-id-11 div.sk-parallel-item:last-child::after {align-self: flex-start;width: 50%;}#sk-container-id-11 div.sk-parallel-item:only-child::after {width: 0;}#sk-container-id-11 div.sk-dashed-wrapped {border: 1px dashed gray;margin: 0 0.4em 0.5em 0.4em;box-sizing: border-box;padding-bottom: 0.4em;background-color: white;}#sk-container-id-11 div.sk-label label {font-family: monospace;font-weight: bold;display: inline-block;line-height: 1.2em;}#sk-container-id-11 div.sk-label-container {text-align: center;}#sk-container-id-11 div.sk-container {/* jupyter's `normalize.less` sets `[hidden] { display: none; }` but bootstrap.min.css set `[hidden] { display: none !important; }` so we also need the `!important` here to be able to override the default hidden behavior on the sphinx rendered scikit-learn.org. See: https://github.com/scikit-learn/scikit-learn/issues/21755 */display: inline-block !important;position: relative;}#sk-container-id-11 div.sk-text-repr-fallback {display: none;}</style><div id=\"sk-container-id-11\" class=\"sk-top-container\"><div class=\"sk-text-repr-fallback\"><pre>LinearRegression()</pre><b>In a Jupyter environment, please rerun this cell to show the HTML representation or trust the notebook. <br />On GitHub, the HTML representation is unable to render, please try loading this page with nbviewer.org.</b></div><div class=\"sk-container\" hidden><div class=\"sk-item\"><div class=\"sk-estimator sk-toggleable\"><input class=\"sk-toggleable__control sk-hidden--visually\" id=\"sk-estimator-id-11\" type=\"checkbox\" checked><label for=\"sk-estimator-id-11\" class=\"sk-toggleable__label sk-toggleable__label-arrow\">LinearRegression</label><div class=\"sk-toggleable__content\"><pre>LinearRegression()</pre></div></div></div></div></div>"
            ]
          },
          "metadata": {},
          "execution_count": 83
        }
      ]
    },
    {
      "cell_type": "code",
      "source": [
        "y_pred = regressor.predict(x_test_selected)"
      ],
      "metadata": {
        "id": "63Vfx9eJLAvR"
      },
      "execution_count": null,
      "outputs": []
    },
    {
      "cell_type": "code",
      "source": [
        "mse = mean_squared_error(y_valid['label_2'], y_pred)\n",
        "r2 = r2_score(y_valid['label_2'], y_pred)\n",
        "\n",
        "print(\"Mean Squared Error:\", mse)\n",
        "print(\"R-squared:\", r2)\n"
      ],
      "metadata": {
        "colab": {
          "base_uri": "https://localhost:8080/"
        },
        "outputId": "5990317b-6611-49e8-d1af-700967cf81eb",
        "id": "rv-tD-35LAvS"
      },
      "execution_count": null,
      "outputs": [
        {
          "output_type": "stream",
          "name": "stdout",
          "text": [
            "Mean Squared Error: 28.446777117686803\n",
            "R-squared: 0.32960898166848174\n"
          ]
        }
      ]
    },
    {
      "cell_type": "code",
      "source": [
        "selector = SelectFromModel(model, threshold='median')  # You can adjust the threshold as needed\n",
        "x_train_selected_2 = selector.fit_transform(x_train['label_2'], y_train['label_2'])"
      ],
      "metadata": {
        "id": "ZyEBluP984To"
      },
      "execution_count": null,
      "outputs": []
    },
    {
      "cell_type": "code",
      "source": [
        "x_train_selected_2.shape"
      ],
      "metadata": {
        "colab": {
          "base_uri": "https://localhost:8080/"
        },
        "outputId": "904315f8-6a70-4420-8526-3c91ce07b492",
        "id": "An7A1HHH84To"
      },
      "execution_count": null,
      "outputs": [
        {
          "output_type": "execute_result",
          "data": {
            "text/plain": [
              "(28040, 128)"
            ]
          },
          "metadata": {},
          "execution_count": 87
        }
      ]
    },
    {
      "cell_type": "code",
      "source": [
        "x_test_selected_2 = selector.transform(x_valid['label_2'])  # Assuming x_test is your test data"
      ],
      "metadata": {
        "id": "8TsT5kpy84To"
      },
      "execution_count": null,
      "outputs": []
    },
    {
      "cell_type": "code",
      "source": [
        "regressor = LinearRegression()  # You can replace this with other regression algorithms\n",
        "regressor.fit(x_train_selected_2, y_train['label_2'])\n"
      ],
      "metadata": {
        "colab": {
          "base_uri": "https://localhost:8080/",
          "height": 74
        },
        "outputId": "d40b49f3-4be6-47c7-d0bc-133f59b4f456",
        "id": "7dQiZVfRc9A5"
      },
      "execution_count": null,
      "outputs": [
        {
          "output_type": "execute_result",
          "data": {
            "text/plain": [
              "LinearRegression()"
            ],
            "text/html": [
              "<style>#sk-container-id-12 {color: black;background-color: white;}#sk-container-id-12 pre{padding: 0;}#sk-container-id-12 div.sk-toggleable {background-color: white;}#sk-container-id-12 label.sk-toggleable__label {cursor: pointer;display: block;width: 100%;margin-bottom: 0;padding: 0.3em;box-sizing: border-box;text-align: center;}#sk-container-id-12 label.sk-toggleable__label-arrow:before {content: \"▸\";float: left;margin-right: 0.25em;color: #696969;}#sk-container-id-12 label.sk-toggleable__label-arrow:hover:before {color: black;}#sk-container-id-12 div.sk-estimator:hover label.sk-toggleable__label-arrow:before {color: black;}#sk-container-id-12 div.sk-toggleable__content {max-height: 0;max-width: 0;overflow: hidden;text-align: left;background-color: #f0f8ff;}#sk-container-id-12 div.sk-toggleable__content pre {margin: 0.2em;color: black;border-radius: 0.25em;background-color: #f0f8ff;}#sk-container-id-12 input.sk-toggleable__control:checked~div.sk-toggleable__content {max-height: 200px;max-width: 100%;overflow: auto;}#sk-container-id-12 input.sk-toggleable__control:checked~label.sk-toggleable__label-arrow:before {content: \"▾\";}#sk-container-id-12 div.sk-estimator input.sk-toggleable__control:checked~label.sk-toggleable__label {background-color: #d4ebff;}#sk-container-id-12 div.sk-label input.sk-toggleable__control:checked~label.sk-toggleable__label {background-color: #d4ebff;}#sk-container-id-12 input.sk-hidden--visually {border: 0;clip: rect(1px 1px 1px 1px);clip: rect(1px, 1px, 1px, 1px);height: 1px;margin: -1px;overflow: hidden;padding: 0;position: absolute;width: 1px;}#sk-container-id-12 div.sk-estimator {font-family: monospace;background-color: #f0f8ff;border: 1px dotted black;border-radius: 0.25em;box-sizing: border-box;margin-bottom: 0.5em;}#sk-container-id-12 div.sk-estimator:hover {background-color: #d4ebff;}#sk-container-id-12 div.sk-parallel-item::after {content: \"\";width: 100%;border-bottom: 1px solid gray;flex-grow: 1;}#sk-container-id-12 div.sk-label:hover label.sk-toggleable__label {background-color: #d4ebff;}#sk-container-id-12 div.sk-serial::before {content: \"\";position: absolute;border-left: 1px solid gray;box-sizing: border-box;top: 0;bottom: 0;left: 50%;z-index: 0;}#sk-container-id-12 div.sk-serial {display: flex;flex-direction: column;align-items: center;background-color: white;padding-right: 0.2em;padding-left: 0.2em;position: relative;}#sk-container-id-12 div.sk-item {position: relative;z-index: 1;}#sk-container-id-12 div.sk-parallel {display: flex;align-items: stretch;justify-content: center;background-color: white;position: relative;}#sk-container-id-12 div.sk-item::before, #sk-container-id-12 div.sk-parallel-item::before {content: \"\";position: absolute;border-left: 1px solid gray;box-sizing: border-box;top: 0;bottom: 0;left: 50%;z-index: -1;}#sk-container-id-12 div.sk-parallel-item {display: flex;flex-direction: column;z-index: 1;position: relative;background-color: white;}#sk-container-id-12 div.sk-parallel-item:first-child::after {align-self: flex-end;width: 50%;}#sk-container-id-12 div.sk-parallel-item:last-child::after {align-self: flex-start;width: 50%;}#sk-container-id-12 div.sk-parallel-item:only-child::after {width: 0;}#sk-container-id-12 div.sk-dashed-wrapped {border: 1px dashed gray;margin: 0 0.4em 0.5em 0.4em;box-sizing: border-box;padding-bottom: 0.4em;background-color: white;}#sk-container-id-12 div.sk-label label {font-family: monospace;font-weight: bold;display: inline-block;line-height: 1.2em;}#sk-container-id-12 div.sk-label-container {text-align: center;}#sk-container-id-12 div.sk-container {/* jupyter's `normalize.less` sets `[hidden] { display: none; }` but bootstrap.min.css set `[hidden] { display: none !important; }` so we also need the `!important` here to be able to override the default hidden behavior on the sphinx rendered scikit-learn.org. See: https://github.com/scikit-learn/scikit-learn/issues/21755 */display: inline-block !important;position: relative;}#sk-container-id-12 div.sk-text-repr-fallback {display: none;}</style><div id=\"sk-container-id-12\" class=\"sk-top-container\"><div class=\"sk-text-repr-fallback\"><pre>LinearRegression()</pre><b>In a Jupyter environment, please rerun this cell to show the HTML representation or trust the notebook. <br />On GitHub, the HTML representation is unable to render, please try loading this page with nbviewer.org.</b></div><div class=\"sk-container\" hidden><div class=\"sk-item\"><div class=\"sk-estimator sk-toggleable\"><input class=\"sk-toggleable__control sk-hidden--visually\" id=\"sk-estimator-id-12\" type=\"checkbox\" checked><label for=\"sk-estimator-id-12\" class=\"sk-toggleable__label sk-toggleable__label-arrow\">LinearRegression</label><div class=\"sk-toggleable__content\"><pre>LinearRegression()</pre></div></div></div></div></div>"
            ]
          },
          "metadata": {},
          "execution_count": 89
        }
      ]
    },
    {
      "cell_type": "code",
      "source": [
        "y_pred = regressor.predict(x_test_selected_2)"
      ],
      "metadata": {
        "id": "TaY2T6hBc9A6"
      },
      "execution_count": null,
      "outputs": []
    },
    {
      "cell_type": "code",
      "source": [
        "mse = mean_squared_error(y_valid['label_2'], y_pred)\n",
        "r2 = r2_score(y_valid['label_2'], y_pred)\n",
        "\n",
        "print(\"Mean Squared Error:\", mse)\n",
        "print(\"R-squared:\", r2)\n"
      ],
      "metadata": {
        "colab": {
          "base_uri": "https://localhost:8080/"
        },
        "outputId": "14412bf0-2181-4a22-8744-6c5a9b483f42",
        "id": "mSz5yzuLc9A6"
      },
      "execution_count": null,
      "outputs": [
        {
          "output_type": "stream",
          "name": "stdout",
          "text": [
            "Mean Squared Error: 28.10477354543721\n",
            "R-squared: 0.3376688093995771\n"
          ]
        }
      ]
    },
    {
      "cell_type": "markdown",
      "source": [
        "### Random Forest"
      ],
      "metadata": {
        "id": "PbOh7uyrykQU"
      }
    },
    {
      "cell_type": "code",
      "source": [
        "impotance = model.feature_importances_\n",
        "final_df = pd.DataFrame({\"Features\":pd.DataFrame(x_train['label_2']).columns,\"importance\":impotance})\n",
        "final_df.set_index('importance')\n",
        "final_df_sorted = final_df.sort_values('importance')\n",
        "final_df_sorted"
      ],
      "metadata": {
        "colab": {
          "base_uri": "https://localhost:8080/",
          "height": 423
        },
        "id": "SHbEoU4ByFho",
        "outputId": "5796e789-9f36-411a-defa-427e82e53912"
      },
      "execution_count": null,
      "outputs": [
        {
          "output_type": "execute_result",
          "data": {
            "text/plain": [
              "     Features  importance\n",
              "47         47    0.002603\n",
              "238       238    0.002662\n",
              "251       251    0.002670\n",
              "4           4    0.002684\n",
              "207       207    0.002700\n",
              "..        ...         ...\n",
              "27         27    0.006559\n",
              "188       188    0.006712\n",
              "232       232    0.007459\n",
              "221       221    0.007485\n",
              "43         43    0.007798\n",
              "\n",
              "[256 rows x 2 columns]"
            ],
            "text/html": [
              "\n",
              "  <div id=\"df-be99d8d0-0137-4111-835c-0efe85b0d63f\" class=\"colab-df-container\">\n",
              "    <div>\n",
              "<style scoped>\n",
              "    .dataframe tbody tr th:only-of-type {\n",
              "        vertical-align: middle;\n",
              "    }\n",
              "\n",
              "    .dataframe tbody tr th {\n",
              "        vertical-align: top;\n",
              "    }\n",
              "\n",
              "    .dataframe thead th {\n",
              "        text-align: right;\n",
              "    }\n",
              "</style>\n",
              "<table border=\"1\" class=\"dataframe\">\n",
              "  <thead>\n",
              "    <tr style=\"text-align: right;\">\n",
              "      <th></th>\n",
              "      <th>Features</th>\n",
              "      <th>importance</th>\n",
              "    </tr>\n",
              "  </thead>\n",
              "  <tbody>\n",
              "    <tr>\n",
              "      <th>47</th>\n",
              "      <td>47</td>\n",
              "      <td>0.002603</td>\n",
              "    </tr>\n",
              "    <tr>\n",
              "      <th>238</th>\n",
              "      <td>238</td>\n",
              "      <td>0.002662</td>\n",
              "    </tr>\n",
              "    <tr>\n",
              "      <th>251</th>\n",
              "      <td>251</td>\n",
              "      <td>0.002670</td>\n",
              "    </tr>\n",
              "    <tr>\n",
              "      <th>4</th>\n",
              "      <td>4</td>\n",
              "      <td>0.002684</td>\n",
              "    </tr>\n",
              "    <tr>\n",
              "      <th>207</th>\n",
              "      <td>207</td>\n",
              "      <td>0.002700</td>\n",
              "    </tr>\n",
              "    <tr>\n",
              "      <th>...</th>\n",
              "      <td>...</td>\n",
              "      <td>...</td>\n",
              "    </tr>\n",
              "    <tr>\n",
              "      <th>27</th>\n",
              "      <td>27</td>\n",
              "      <td>0.006559</td>\n",
              "    </tr>\n",
              "    <tr>\n",
              "      <th>188</th>\n",
              "      <td>188</td>\n",
              "      <td>0.006712</td>\n",
              "    </tr>\n",
              "    <tr>\n",
              "      <th>232</th>\n",
              "      <td>232</td>\n",
              "      <td>0.007459</td>\n",
              "    </tr>\n",
              "    <tr>\n",
              "      <th>221</th>\n",
              "      <td>221</td>\n",
              "      <td>0.007485</td>\n",
              "    </tr>\n",
              "    <tr>\n",
              "      <th>43</th>\n",
              "      <td>43</td>\n",
              "      <td>0.007798</td>\n",
              "    </tr>\n",
              "  </tbody>\n",
              "</table>\n",
              "<p>256 rows × 2 columns</p>\n",
              "</div>\n",
              "    <div class=\"colab-df-buttons\">\n",
              "\n",
              "  <div class=\"colab-df-container\">\n",
              "    <button class=\"colab-df-convert\" onclick=\"convertToInteractive('df-be99d8d0-0137-4111-835c-0efe85b0d63f')\"\n",
              "            title=\"Convert this dataframe to an interactive table.\"\n",
              "            style=\"display:none;\">\n",
              "\n",
              "  <svg xmlns=\"http://www.w3.org/2000/svg\" height=\"24px\" viewBox=\"0 -960 960 960\">\n",
              "    <path d=\"M120-120v-720h720v720H120Zm60-500h600v-160H180v160Zm220 220h160v-160H400v160Zm0 220h160v-160H400v160ZM180-400h160v-160H180v160Zm440 0h160v-160H620v160ZM180-180h160v-160H180v160Zm440 0h160v-160H620v160Z\"/>\n",
              "  </svg>\n",
              "    </button>\n",
              "\n",
              "  <style>\n",
              "    .colab-df-container {\n",
              "      display:flex;\n",
              "      gap: 12px;\n",
              "    }\n",
              "\n",
              "    .colab-df-convert {\n",
              "      background-color: #E8F0FE;\n",
              "      border: none;\n",
              "      border-radius: 50%;\n",
              "      cursor: pointer;\n",
              "      display: none;\n",
              "      fill: #1967D2;\n",
              "      height: 32px;\n",
              "      padding: 0 0 0 0;\n",
              "      width: 32px;\n",
              "    }\n",
              "\n",
              "    .colab-df-convert:hover {\n",
              "      background-color: #E2EBFA;\n",
              "      box-shadow: 0px 1px 2px rgba(60, 64, 67, 0.3), 0px 1px 3px 1px rgba(60, 64, 67, 0.15);\n",
              "      fill: #174EA6;\n",
              "    }\n",
              "\n",
              "    .colab-df-buttons div {\n",
              "      margin-bottom: 4px;\n",
              "    }\n",
              "\n",
              "    [theme=dark] .colab-df-convert {\n",
              "      background-color: #3B4455;\n",
              "      fill: #D2E3FC;\n",
              "    }\n",
              "\n",
              "    [theme=dark] .colab-df-convert:hover {\n",
              "      background-color: #434B5C;\n",
              "      box-shadow: 0px 1px 3px 1px rgba(0, 0, 0, 0.15);\n",
              "      filter: drop-shadow(0px 1px 2px rgba(0, 0, 0, 0.3));\n",
              "      fill: #FFFFFF;\n",
              "    }\n",
              "  </style>\n",
              "\n",
              "    <script>\n",
              "      const buttonEl =\n",
              "        document.querySelector('#df-be99d8d0-0137-4111-835c-0efe85b0d63f button.colab-df-convert');\n",
              "      buttonEl.style.display =\n",
              "        google.colab.kernel.accessAllowed ? 'block' : 'none';\n",
              "\n",
              "      async function convertToInteractive(key) {\n",
              "        const element = document.querySelector('#df-be99d8d0-0137-4111-835c-0efe85b0d63f');\n",
              "        const dataTable =\n",
              "          await google.colab.kernel.invokeFunction('convertToInteractive',\n",
              "                                                    [key], {});\n",
              "        if (!dataTable) return;\n",
              "\n",
              "        const docLinkHtml = 'Like what you see? Visit the ' +\n",
              "          '<a target=\"_blank\" href=https://colab.research.google.com/notebooks/data_table.ipynb>data table notebook</a>'\n",
              "          + ' to learn more about interactive tables.';\n",
              "        element.innerHTML = '';\n",
              "        dataTable['output_type'] = 'display_data';\n",
              "        await google.colab.output.renderOutput(dataTable, element);\n",
              "        const docLink = document.createElement('div');\n",
              "        docLink.innerHTML = docLinkHtml;\n",
              "        element.appendChild(docLink);\n",
              "      }\n",
              "    </script>\n",
              "  </div>\n",
              "\n",
              "\n",
              "<div id=\"df-325924df-341f-4361-91ba-c21201641d8f\">\n",
              "  <button class=\"colab-df-quickchart\" onclick=\"quickchart('df-325924df-341f-4361-91ba-c21201641d8f')\"\n",
              "            title=\"Suggest charts.\"\n",
              "            style=\"display:none;\">\n",
              "\n",
              "<svg xmlns=\"http://www.w3.org/2000/svg\" height=\"24px\"viewBox=\"0 0 24 24\"\n",
              "     width=\"24px\">\n",
              "    <g>\n",
              "        <path d=\"M19 3H5c-1.1 0-2 .9-2 2v14c0 1.1.9 2 2 2h14c1.1 0 2-.9 2-2V5c0-1.1-.9-2-2-2zM9 17H7v-7h2v7zm4 0h-2V7h2v10zm4 0h-2v-4h2v4z\"/>\n",
              "    </g>\n",
              "</svg>\n",
              "  </button>\n",
              "\n",
              "<style>\n",
              "  .colab-df-quickchart {\n",
              "    background-color: #E8F0FE;\n",
              "    border: none;\n",
              "    border-radius: 50%;\n",
              "    cursor: pointer;\n",
              "    display: none;\n",
              "    fill: #1967D2;\n",
              "    height: 32px;\n",
              "    padding: 0 0 0 0;\n",
              "    width: 32px;\n",
              "  }\n",
              "\n",
              "  .colab-df-quickchart:hover {\n",
              "    background-color: #E2EBFA;\n",
              "    box-shadow: 0px 1px 2px rgba(60, 64, 67, 0.3), 0px 1px 3px 1px rgba(60, 64, 67, 0.15);\n",
              "    fill: #174EA6;\n",
              "  }\n",
              "\n",
              "  [theme=dark] .colab-df-quickchart {\n",
              "    background-color: #3B4455;\n",
              "    fill: #D2E3FC;\n",
              "  }\n",
              "\n",
              "  [theme=dark] .colab-df-quickchart:hover {\n",
              "    background-color: #434B5C;\n",
              "    box-shadow: 0px 1px 3px 1px rgba(0, 0, 0, 0.15);\n",
              "    filter: drop-shadow(0px 1px 2px rgba(0, 0, 0, 0.3));\n",
              "    fill: #FFFFFF;\n",
              "  }\n",
              "</style>\n",
              "\n",
              "  <script>\n",
              "    async function quickchart(key) {\n",
              "      const charts = await google.colab.kernel.invokeFunction(\n",
              "          'suggestCharts', [key], {});\n",
              "    }\n",
              "    (() => {\n",
              "      let quickchartButtonEl =\n",
              "        document.querySelector('#df-325924df-341f-4361-91ba-c21201641d8f button');\n",
              "      quickchartButtonEl.style.display =\n",
              "        google.colab.kernel.accessAllowed ? 'block' : 'none';\n",
              "    })();\n",
              "  </script>\n",
              "</div>\n",
              "    </div>\n",
              "  </div>\n"
            ]
          },
          "metadata": {},
          "execution_count": 92
        }
      ]
    },
    {
      "cell_type": "code",
      "source": [
        "# Get the indices of the least important features to remove\n",
        "indices_to_remove = final_df_sorted[\"Features\"][:140]\n",
        "\n",
        "# Remove the least important features from the training dataset\n",
        "X_train_removed = np.delete(x_train['label_2'], indices_to_remove, axis=1)\n",
        "x_valid_removed = np.delete(x_valid['label_2'], indices_to_remove, axis=1)"
      ],
      "metadata": {
        "id": "JgnuKL3RyIii"
      },
      "execution_count": null,
      "outputs": []
    },
    {
      "cell_type": "code",
      "source": [
        "regressor = LinearRegression()  # You can replace this with other regression algorithms\n",
        "regressor.fit(X_train_removed, y_train['label_2'])"
      ],
      "metadata": {
        "colab": {
          "base_uri": "https://localhost:8080/",
          "height": 74
        },
        "id": "uXih9fiiyZwT",
        "outputId": "165cb3c0-6591-4f36-c212-ac42a7df332a"
      },
      "execution_count": null,
      "outputs": [
        {
          "output_type": "execute_result",
          "data": {
            "text/plain": [
              "LinearRegression()"
            ],
            "text/html": [
              "<style>#sk-container-id-16 {color: black;background-color: white;}#sk-container-id-16 pre{padding: 0;}#sk-container-id-16 div.sk-toggleable {background-color: white;}#sk-container-id-16 label.sk-toggleable__label {cursor: pointer;display: block;width: 100%;margin-bottom: 0;padding: 0.3em;box-sizing: border-box;text-align: center;}#sk-container-id-16 label.sk-toggleable__label-arrow:before {content: \"▸\";float: left;margin-right: 0.25em;color: #696969;}#sk-container-id-16 label.sk-toggleable__label-arrow:hover:before {color: black;}#sk-container-id-16 div.sk-estimator:hover label.sk-toggleable__label-arrow:before {color: black;}#sk-container-id-16 div.sk-toggleable__content {max-height: 0;max-width: 0;overflow: hidden;text-align: left;background-color: #f0f8ff;}#sk-container-id-16 div.sk-toggleable__content pre {margin: 0.2em;color: black;border-radius: 0.25em;background-color: #f0f8ff;}#sk-container-id-16 input.sk-toggleable__control:checked~div.sk-toggleable__content {max-height: 200px;max-width: 100%;overflow: auto;}#sk-container-id-16 input.sk-toggleable__control:checked~label.sk-toggleable__label-arrow:before {content: \"▾\";}#sk-container-id-16 div.sk-estimator input.sk-toggleable__control:checked~label.sk-toggleable__label {background-color: #d4ebff;}#sk-container-id-16 div.sk-label input.sk-toggleable__control:checked~label.sk-toggleable__label {background-color: #d4ebff;}#sk-container-id-16 input.sk-hidden--visually {border: 0;clip: rect(1px 1px 1px 1px);clip: rect(1px, 1px, 1px, 1px);height: 1px;margin: -1px;overflow: hidden;padding: 0;position: absolute;width: 1px;}#sk-container-id-16 div.sk-estimator {font-family: monospace;background-color: #f0f8ff;border: 1px dotted black;border-radius: 0.25em;box-sizing: border-box;margin-bottom: 0.5em;}#sk-container-id-16 div.sk-estimator:hover {background-color: #d4ebff;}#sk-container-id-16 div.sk-parallel-item::after {content: \"\";width: 100%;border-bottom: 1px solid gray;flex-grow: 1;}#sk-container-id-16 div.sk-label:hover label.sk-toggleable__label {background-color: #d4ebff;}#sk-container-id-16 div.sk-serial::before {content: \"\";position: absolute;border-left: 1px solid gray;box-sizing: border-box;top: 0;bottom: 0;left: 50%;z-index: 0;}#sk-container-id-16 div.sk-serial {display: flex;flex-direction: column;align-items: center;background-color: white;padding-right: 0.2em;padding-left: 0.2em;position: relative;}#sk-container-id-16 div.sk-item {position: relative;z-index: 1;}#sk-container-id-16 div.sk-parallel {display: flex;align-items: stretch;justify-content: center;background-color: white;position: relative;}#sk-container-id-16 div.sk-item::before, #sk-container-id-16 div.sk-parallel-item::before {content: \"\";position: absolute;border-left: 1px solid gray;box-sizing: border-box;top: 0;bottom: 0;left: 50%;z-index: -1;}#sk-container-id-16 div.sk-parallel-item {display: flex;flex-direction: column;z-index: 1;position: relative;background-color: white;}#sk-container-id-16 div.sk-parallel-item:first-child::after {align-self: flex-end;width: 50%;}#sk-container-id-16 div.sk-parallel-item:last-child::after {align-self: flex-start;width: 50%;}#sk-container-id-16 div.sk-parallel-item:only-child::after {width: 0;}#sk-container-id-16 div.sk-dashed-wrapped {border: 1px dashed gray;margin: 0 0.4em 0.5em 0.4em;box-sizing: border-box;padding-bottom: 0.4em;background-color: white;}#sk-container-id-16 div.sk-label label {font-family: monospace;font-weight: bold;display: inline-block;line-height: 1.2em;}#sk-container-id-16 div.sk-label-container {text-align: center;}#sk-container-id-16 div.sk-container {/* jupyter's `normalize.less` sets `[hidden] { display: none; }` but bootstrap.min.css set `[hidden] { display: none !important; }` so we also need the `!important` here to be able to override the default hidden behavior on the sphinx rendered scikit-learn.org. See: https://github.com/scikit-learn/scikit-learn/issues/21755 */display: inline-block !important;position: relative;}#sk-container-id-16 div.sk-text-repr-fallback {display: none;}</style><div id=\"sk-container-id-16\" class=\"sk-top-container\"><div class=\"sk-text-repr-fallback\"><pre>LinearRegression()</pre><b>In a Jupyter environment, please rerun this cell to show the HTML representation or trust the notebook. <br />On GitHub, the HTML representation is unable to render, please try loading this page with nbviewer.org.</b></div><div class=\"sk-container\" hidden><div class=\"sk-item\"><div class=\"sk-estimator sk-toggleable\"><input class=\"sk-toggleable__control sk-hidden--visually\" id=\"sk-estimator-id-16\" type=\"checkbox\" checked><label for=\"sk-estimator-id-16\" class=\"sk-toggleable__label sk-toggleable__label-arrow\">LinearRegression</label><div class=\"sk-toggleable__content\"><pre>LinearRegression()</pre></div></div></div></div></div>"
            ]
          },
          "metadata": {},
          "execution_count": 109
        }
      ]
    },
    {
      "cell_type": "code",
      "source": [
        "y_pred = regressor.predict(x_valid_removed)"
      ],
      "metadata": {
        "id": "x1auIT4hyeWr"
      },
      "execution_count": null,
      "outputs": []
    },
    {
      "cell_type": "code",
      "source": [
        "mse = mean_squared_error(y_valid['label_2'], y_pred)\n",
        "r2 = r2_score(y_valid['label_2'], y_pred)\n",
        "\n",
        "print(\"Mean Squared Error:\", mse)\n",
        "print(\"R-squared:\", r2)"
      ],
      "metadata": {
        "colab": {
          "base_uri": "https://localhost:8080/"
        },
        "id": "0QVNjTkJyiOU",
        "outputId": "9442fc98-b674-4a58-a9f1-9e2ba38d3bf3"
      },
      "execution_count": null,
      "outputs": [
        {
          "output_type": "stream",
          "name": "stdout",
          "text": [
            "Mean Squared Error: 27.98148384102135\n",
            "R-squared: 0.34057431641540525\n"
          ]
        }
      ]
    },
    {
      "cell_type": "markdown",
      "source": [
        "### PCA"
      ],
      "metadata": {
        "id": "r8HIlk8q9HpA"
      }
    },
    {
      "cell_type": "code",
      "source": [
        "from sklearn.decomposition import PCA\n",
        "\n",
        "pca = PCA(n_components= 0.99, svd_solver=\"full\")\n",
        "pca.fit(x_train['label_2'])\n",
        "x_train_pca = pca.transform(x_train['label_2'])\n",
        "x_valid_pca = pca.transform(x_valid['label_2'])"
      ],
      "metadata": {
        "id": "aUDazeLu84Tp"
      },
      "execution_count": null,
      "outputs": []
    },
    {
      "cell_type": "code",
      "source": [
        "x_train_pca.shape"
      ],
      "metadata": {
        "colab": {
          "base_uri": "https://localhost:8080/"
        },
        "outputId": "fd608422-d631-4868-a654-2158cc2bdf6f",
        "id": "mowcrmlu84Tp"
      },
      "execution_count": null,
      "outputs": [
        {
          "output_type": "execute_result",
          "data": {
            "text/plain": [
              "(28040, 106)"
            ]
          },
          "metadata": {},
          "execution_count": 113
        }
      ]
    },
    {
      "cell_type": "code",
      "source": [
        "regressor = LinearRegression()  # You can replace this with other regression algorithms\n",
        "regressor.fit(x_train_pca, y_train['label_2'])\n"
      ],
      "metadata": {
        "colab": {
          "base_uri": "https://localhost:8080/",
          "height": 74
        },
        "outputId": "9e2ec732-72f4-431f-e846-e8e824c98414",
        "id": "nNzZegtxH-75"
      },
      "execution_count": null,
      "outputs": [
        {
          "output_type": "execute_result",
          "data": {
            "text/plain": [
              "LinearRegression()"
            ],
            "text/html": [
              "<style>#sk-container-id-17 {color: black;background-color: white;}#sk-container-id-17 pre{padding: 0;}#sk-container-id-17 div.sk-toggleable {background-color: white;}#sk-container-id-17 label.sk-toggleable__label {cursor: pointer;display: block;width: 100%;margin-bottom: 0;padding: 0.3em;box-sizing: border-box;text-align: center;}#sk-container-id-17 label.sk-toggleable__label-arrow:before {content: \"▸\";float: left;margin-right: 0.25em;color: #696969;}#sk-container-id-17 label.sk-toggleable__label-arrow:hover:before {color: black;}#sk-container-id-17 div.sk-estimator:hover label.sk-toggleable__label-arrow:before {color: black;}#sk-container-id-17 div.sk-toggleable__content {max-height: 0;max-width: 0;overflow: hidden;text-align: left;background-color: #f0f8ff;}#sk-container-id-17 div.sk-toggleable__content pre {margin: 0.2em;color: black;border-radius: 0.25em;background-color: #f0f8ff;}#sk-container-id-17 input.sk-toggleable__control:checked~div.sk-toggleable__content {max-height: 200px;max-width: 100%;overflow: auto;}#sk-container-id-17 input.sk-toggleable__control:checked~label.sk-toggleable__label-arrow:before {content: \"▾\";}#sk-container-id-17 div.sk-estimator input.sk-toggleable__control:checked~label.sk-toggleable__label {background-color: #d4ebff;}#sk-container-id-17 div.sk-label input.sk-toggleable__control:checked~label.sk-toggleable__label {background-color: #d4ebff;}#sk-container-id-17 input.sk-hidden--visually {border: 0;clip: rect(1px 1px 1px 1px);clip: rect(1px, 1px, 1px, 1px);height: 1px;margin: -1px;overflow: hidden;padding: 0;position: absolute;width: 1px;}#sk-container-id-17 div.sk-estimator {font-family: monospace;background-color: #f0f8ff;border: 1px dotted black;border-radius: 0.25em;box-sizing: border-box;margin-bottom: 0.5em;}#sk-container-id-17 div.sk-estimator:hover {background-color: #d4ebff;}#sk-container-id-17 div.sk-parallel-item::after {content: \"\";width: 100%;border-bottom: 1px solid gray;flex-grow: 1;}#sk-container-id-17 div.sk-label:hover label.sk-toggleable__label {background-color: #d4ebff;}#sk-container-id-17 div.sk-serial::before {content: \"\";position: absolute;border-left: 1px solid gray;box-sizing: border-box;top: 0;bottom: 0;left: 50%;z-index: 0;}#sk-container-id-17 div.sk-serial {display: flex;flex-direction: column;align-items: center;background-color: white;padding-right: 0.2em;padding-left: 0.2em;position: relative;}#sk-container-id-17 div.sk-item {position: relative;z-index: 1;}#sk-container-id-17 div.sk-parallel {display: flex;align-items: stretch;justify-content: center;background-color: white;position: relative;}#sk-container-id-17 div.sk-item::before, #sk-container-id-17 div.sk-parallel-item::before {content: \"\";position: absolute;border-left: 1px solid gray;box-sizing: border-box;top: 0;bottom: 0;left: 50%;z-index: -1;}#sk-container-id-17 div.sk-parallel-item {display: flex;flex-direction: column;z-index: 1;position: relative;background-color: white;}#sk-container-id-17 div.sk-parallel-item:first-child::after {align-self: flex-end;width: 50%;}#sk-container-id-17 div.sk-parallel-item:last-child::after {align-self: flex-start;width: 50%;}#sk-container-id-17 div.sk-parallel-item:only-child::after {width: 0;}#sk-container-id-17 div.sk-dashed-wrapped {border: 1px dashed gray;margin: 0 0.4em 0.5em 0.4em;box-sizing: border-box;padding-bottom: 0.4em;background-color: white;}#sk-container-id-17 div.sk-label label {font-family: monospace;font-weight: bold;display: inline-block;line-height: 1.2em;}#sk-container-id-17 div.sk-label-container {text-align: center;}#sk-container-id-17 div.sk-container {/* jupyter's `normalize.less` sets `[hidden] { display: none; }` but bootstrap.min.css set `[hidden] { display: none !important; }` so we also need the `!important` here to be able to override the default hidden behavior on the sphinx rendered scikit-learn.org. See: https://github.com/scikit-learn/scikit-learn/issues/21755 */display: inline-block !important;position: relative;}#sk-container-id-17 div.sk-text-repr-fallback {display: none;}</style><div id=\"sk-container-id-17\" class=\"sk-top-container\"><div class=\"sk-text-repr-fallback\"><pre>LinearRegression()</pre><b>In a Jupyter environment, please rerun this cell to show the HTML representation or trust the notebook. <br />On GitHub, the HTML representation is unable to render, please try loading this page with nbviewer.org.</b></div><div class=\"sk-container\" hidden><div class=\"sk-item\"><div class=\"sk-estimator sk-toggleable\"><input class=\"sk-toggleable__control sk-hidden--visually\" id=\"sk-estimator-id-17\" type=\"checkbox\" checked><label for=\"sk-estimator-id-17\" class=\"sk-toggleable__label sk-toggleable__label-arrow\">LinearRegression</label><div class=\"sk-toggleable__content\"><pre>LinearRegression()</pre></div></div></div></div></div>"
            ]
          },
          "metadata": {},
          "execution_count": 114
        }
      ]
    },
    {
      "cell_type": "code",
      "source": [
        "y_pred = regressor.predict(x_valid_pca)"
      ],
      "metadata": {
        "id": "jDKvgFF4H-76"
      },
      "execution_count": null,
      "outputs": []
    },
    {
      "cell_type": "code",
      "source": [
        "mse = mean_squared_error(y_valid['label_2'], y_pred)\n",
        "r2 = r2_score(y_valid['label_2'], y_pred)\n",
        "\n",
        "print(\"Mean Squared Error:\", mse)\n",
        "print(\"R-squared:\", r2)\n"
      ],
      "metadata": {
        "colab": {
          "base_uri": "https://localhost:8080/"
        },
        "outputId": "efc3ca4f-892b-4097-a4a1-87b9d1eda351",
        "id": "XFXV7RInH-76"
      },
      "execution_count": null,
      "outputs": [
        {
          "output_type": "stream",
          "name": "stdout",
          "text": [
            "Mean Squared Error: 27.947551854937313\n",
            "R-squared: 0.3413739746195942\n"
          ]
        }
      ]
    },
    {
      "cell_type": "code",
      "source": [
        "x_tets_pca = pca.transform(x_test['label_2'])\n",
        "label_2_pred_after = regressor.predict(x_tets_pca)\n",
        "\n",
        "pd.DataFrame(x_tets_pca)"
      ],
      "metadata": {
        "colab": {
          "base_uri": "https://localhost:8080/",
          "height": 443
        },
        "id": "tlz4ENYT0-_1",
        "outputId": "9ea73ab3-6da3-438f-86ee-557ee9ba1199"
      },
      "execution_count": null,
      "outputs": [
        {
          "output_type": "execute_result",
          "data": {
            "text/plain": [
              "          0         1         2         3         4         5         6    \\\n",
              "0   -1.340205  4.974926 -2.463431 -0.293218 -4.929589 -0.123418  2.821178   \n",
              "1   -4.916497  5.968590  0.216444  5.458443 -5.255487  3.739646 -0.946314   \n",
              "2   -3.488105  2.233849 -0.015782  3.096022 -2.791336  0.041352 -0.145018   \n",
              "3   -1.514295  4.172956 -0.653871  0.501919  2.118996  3.109811 -0.061919   \n",
              "4    0.474417  4.185025  1.483051  1.486173 -2.755140 -0.114920  1.350989   \n",
              "..        ...       ...       ...       ...       ...       ...       ...   \n",
              "745  0.448947 -0.646220 -5.753660 -2.408283  0.738003 -3.273074  0.090460   \n",
              "746  8.518059  3.102605 -0.863859  0.605481 -0.400065  0.875040  0.714044   \n",
              "747 -4.120542  1.930092 -1.584527  1.149447  1.199155  3.698053 -4.019199   \n",
              "748 -3.353879  2.953521  2.631003 -2.415959 -1.040848 -0.376159 -0.225274   \n",
              "749  2.403618  2.169200 -2.802205 -2.172835 -4.548291 -1.379743 -1.034626   \n",
              "\n",
              "          7         8         9    ...       96        97        98   \\\n",
              "0    1.792234  4.454589 -1.476093  ...  0.208509 -0.274583 -0.451363   \n",
              "1    2.011677 -2.027165 -6.018996  ... -0.022700  0.589535  0.052991   \n",
              "2    0.186335 -4.450069 -3.704063  ...  0.295798  0.306357  0.065416   \n",
              "3    0.296568  1.147972 -4.216535  ... -0.147911  0.286405  0.361166   \n",
              "4    2.659574  0.763504 -5.778474  ... -0.172220  0.258270 -0.026467   \n",
              "..        ...       ...       ...  ...       ...       ...       ...   \n",
              "745 -2.777527 -0.996790 -0.866410  ...  0.013069 -0.154438  0.016161   \n",
              "746 -1.067262 -0.286181  1.480675  ...  0.283112 -0.049097 -0.267336   \n",
              "747 -1.535927 -0.870620  0.250776  ...  0.211706  0.026253 -0.383232   \n",
              "748 -2.048063  2.418676  2.822469  ... -0.084207  0.340817 -0.055687   \n",
              "749 -0.010381  0.894225 -0.466329  ... -0.171230 -0.009358  0.115407   \n",
              "\n",
              "          99        100       101       102       103       104       105  \n",
              "0    0.230961  0.074313  0.147012 -0.702237  0.297049  0.264837 -0.080787  \n",
              "1    0.005924  0.280238  0.394139 -0.014935 -0.116512 -0.105058 -0.231154  \n",
              "2   -0.189945  0.014903 -0.122696 -0.216926  0.019179 -0.715185  0.093243  \n",
              "3    0.178927  0.714029  0.541698  0.361302  0.147558  0.151032 -0.465786  \n",
              "4   -0.230994 -0.114979 -0.025865  0.442617  0.128621 -0.066989  0.204249  \n",
              "..        ...       ...       ...       ...       ...       ...       ...  \n",
              "745 -0.276373  0.038584 -0.062504 -0.025251  0.072047 -0.068987  0.478160  \n",
              "746 -0.238764  0.123454 -0.410610  0.228027  0.071662 -0.075674  0.475122  \n",
              "747  0.337476 -0.450441  0.107531  0.350141  0.056679 -0.038525  0.023988  \n",
              "748  0.327965 -1.024172  0.067515  0.237579 -0.300107  0.319717  0.581777  \n",
              "749 -0.394181 -0.297965  0.230186 -0.036326  0.238619  0.577113  0.172433  \n",
              "\n",
              "[750 rows x 106 columns]"
            ],
            "text/html": [
              "\n",
              "  <div id=\"df-3a9ca22a-7c40-43dc-aeb6-6072324df8cc\" class=\"colab-df-container\">\n",
              "    <div>\n",
              "<style scoped>\n",
              "    .dataframe tbody tr th:only-of-type {\n",
              "        vertical-align: middle;\n",
              "    }\n",
              "\n",
              "    .dataframe tbody tr th {\n",
              "        vertical-align: top;\n",
              "    }\n",
              "\n",
              "    .dataframe thead th {\n",
              "        text-align: right;\n",
              "    }\n",
              "</style>\n",
              "<table border=\"1\" class=\"dataframe\">\n",
              "  <thead>\n",
              "    <tr style=\"text-align: right;\">\n",
              "      <th></th>\n",
              "      <th>0</th>\n",
              "      <th>1</th>\n",
              "      <th>2</th>\n",
              "      <th>3</th>\n",
              "      <th>4</th>\n",
              "      <th>5</th>\n",
              "      <th>6</th>\n",
              "      <th>7</th>\n",
              "      <th>8</th>\n",
              "      <th>9</th>\n",
              "      <th>...</th>\n",
              "      <th>96</th>\n",
              "      <th>97</th>\n",
              "      <th>98</th>\n",
              "      <th>99</th>\n",
              "      <th>100</th>\n",
              "      <th>101</th>\n",
              "      <th>102</th>\n",
              "      <th>103</th>\n",
              "      <th>104</th>\n",
              "      <th>105</th>\n",
              "    </tr>\n",
              "  </thead>\n",
              "  <tbody>\n",
              "    <tr>\n",
              "      <th>0</th>\n",
              "      <td>-1.340205</td>\n",
              "      <td>4.974926</td>\n",
              "      <td>-2.463431</td>\n",
              "      <td>-0.293218</td>\n",
              "      <td>-4.929589</td>\n",
              "      <td>-0.123418</td>\n",
              "      <td>2.821178</td>\n",
              "      <td>1.792234</td>\n",
              "      <td>4.454589</td>\n",
              "      <td>-1.476093</td>\n",
              "      <td>...</td>\n",
              "      <td>0.208509</td>\n",
              "      <td>-0.274583</td>\n",
              "      <td>-0.451363</td>\n",
              "      <td>0.230961</td>\n",
              "      <td>0.074313</td>\n",
              "      <td>0.147012</td>\n",
              "      <td>-0.702237</td>\n",
              "      <td>0.297049</td>\n",
              "      <td>0.264837</td>\n",
              "      <td>-0.080787</td>\n",
              "    </tr>\n",
              "    <tr>\n",
              "      <th>1</th>\n",
              "      <td>-4.916497</td>\n",
              "      <td>5.968590</td>\n",
              "      <td>0.216444</td>\n",
              "      <td>5.458443</td>\n",
              "      <td>-5.255487</td>\n",
              "      <td>3.739646</td>\n",
              "      <td>-0.946314</td>\n",
              "      <td>2.011677</td>\n",
              "      <td>-2.027165</td>\n",
              "      <td>-6.018996</td>\n",
              "      <td>...</td>\n",
              "      <td>-0.022700</td>\n",
              "      <td>0.589535</td>\n",
              "      <td>0.052991</td>\n",
              "      <td>0.005924</td>\n",
              "      <td>0.280238</td>\n",
              "      <td>0.394139</td>\n",
              "      <td>-0.014935</td>\n",
              "      <td>-0.116512</td>\n",
              "      <td>-0.105058</td>\n",
              "      <td>-0.231154</td>\n",
              "    </tr>\n",
              "    <tr>\n",
              "      <th>2</th>\n",
              "      <td>-3.488105</td>\n",
              "      <td>2.233849</td>\n",
              "      <td>-0.015782</td>\n",
              "      <td>3.096022</td>\n",
              "      <td>-2.791336</td>\n",
              "      <td>0.041352</td>\n",
              "      <td>-0.145018</td>\n",
              "      <td>0.186335</td>\n",
              "      <td>-4.450069</td>\n",
              "      <td>-3.704063</td>\n",
              "      <td>...</td>\n",
              "      <td>0.295798</td>\n",
              "      <td>0.306357</td>\n",
              "      <td>0.065416</td>\n",
              "      <td>-0.189945</td>\n",
              "      <td>0.014903</td>\n",
              "      <td>-0.122696</td>\n",
              "      <td>-0.216926</td>\n",
              "      <td>0.019179</td>\n",
              "      <td>-0.715185</td>\n",
              "      <td>0.093243</td>\n",
              "    </tr>\n",
              "    <tr>\n",
              "      <th>3</th>\n",
              "      <td>-1.514295</td>\n",
              "      <td>4.172956</td>\n",
              "      <td>-0.653871</td>\n",
              "      <td>0.501919</td>\n",
              "      <td>2.118996</td>\n",
              "      <td>3.109811</td>\n",
              "      <td>-0.061919</td>\n",
              "      <td>0.296568</td>\n",
              "      <td>1.147972</td>\n",
              "      <td>-4.216535</td>\n",
              "      <td>...</td>\n",
              "      <td>-0.147911</td>\n",
              "      <td>0.286405</td>\n",
              "      <td>0.361166</td>\n",
              "      <td>0.178927</td>\n",
              "      <td>0.714029</td>\n",
              "      <td>0.541698</td>\n",
              "      <td>0.361302</td>\n",
              "      <td>0.147558</td>\n",
              "      <td>0.151032</td>\n",
              "      <td>-0.465786</td>\n",
              "    </tr>\n",
              "    <tr>\n",
              "      <th>4</th>\n",
              "      <td>0.474417</td>\n",
              "      <td>4.185025</td>\n",
              "      <td>1.483051</td>\n",
              "      <td>1.486173</td>\n",
              "      <td>-2.755140</td>\n",
              "      <td>-0.114920</td>\n",
              "      <td>1.350989</td>\n",
              "      <td>2.659574</td>\n",
              "      <td>0.763504</td>\n",
              "      <td>-5.778474</td>\n",
              "      <td>...</td>\n",
              "      <td>-0.172220</td>\n",
              "      <td>0.258270</td>\n",
              "      <td>-0.026467</td>\n",
              "      <td>-0.230994</td>\n",
              "      <td>-0.114979</td>\n",
              "      <td>-0.025865</td>\n",
              "      <td>0.442617</td>\n",
              "      <td>0.128621</td>\n",
              "      <td>-0.066989</td>\n",
              "      <td>0.204249</td>\n",
              "    </tr>\n",
              "    <tr>\n",
              "      <th>...</th>\n",
              "      <td>...</td>\n",
              "      <td>...</td>\n",
              "      <td>...</td>\n",
              "      <td>...</td>\n",
              "      <td>...</td>\n",
              "      <td>...</td>\n",
              "      <td>...</td>\n",
              "      <td>...</td>\n",
              "      <td>...</td>\n",
              "      <td>...</td>\n",
              "      <td>...</td>\n",
              "      <td>...</td>\n",
              "      <td>...</td>\n",
              "      <td>...</td>\n",
              "      <td>...</td>\n",
              "      <td>...</td>\n",
              "      <td>...</td>\n",
              "      <td>...</td>\n",
              "      <td>...</td>\n",
              "      <td>...</td>\n",
              "      <td>...</td>\n",
              "    </tr>\n",
              "    <tr>\n",
              "      <th>745</th>\n",
              "      <td>0.448947</td>\n",
              "      <td>-0.646220</td>\n",
              "      <td>-5.753660</td>\n",
              "      <td>-2.408283</td>\n",
              "      <td>0.738003</td>\n",
              "      <td>-3.273074</td>\n",
              "      <td>0.090460</td>\n",
              "      <td>-2.777527</td>\n",
              "      <td>-0.996790</td>\n",
              "      <td>-0.866410</td>\n",
              "      <td>...</td>\n",
              "      <td>0.013069</td>\n",
              "      <td>-0.154438</td>\n",
              "      <td>0.016161</td>\n",
              "      <td>-0.276373</td>\n",
              "      <td>0.038584</td>\n",
              "      <td>-0.062504</td>\n",
              "      <td>-0.025251</td>\n",
              "      <td>0.072047</td>\n",
              "      <td>-0.068987</td>\n",
              "      <td>0.478160</td>\n",
              "    </tr>\n",
              "    <tr>\n",
              "      <th>746</th>\n",
              "      <td>8.518059</td>\n",
              "      <td>3.102605</td>\n",
              "      <td>-0.863859</td>\n",
              "      <td>0.605481</td>\n",
              "      <td>-0.400065</td>\n",
              "      <td>0.875040</td>\n",
              "      <td>0.714044</td>\n",
              "      <td>-1.067262</td>\n",
              "      <td>-0.286181</td>\n",
              "      <td>1.480675</td>\n",
              "      <td>...</td>\n",
              "      <td>0.283112</td>\n",
              "      <td>-0.049097</td>\n",
              "      <td>-0.267336</td>\n",
              "      <td>-0.238764</td>\n",
              "      <td>0.123454</td>\n",
              "      <td>-0.410610</td>\n",
              "      <td>0.228027</td>\n",
              "      <td>0.071662</td>\n",
              "      <td>-0.075674</td>\n",
              "      <td>0.475122</td>\n",
              "    </tr>\n",
              "    <tr>\n",
              "      <th>747</th>\n",
              "      <td>-4.120542</td>\n",
              "      <td>1.930092</td>\n",
              "      <td>-1.584527</td>\n",
              "      <td>1.149447</td>\n",
              "      <td>1.199155</td>\n",
              "      <td>3.698053</td>\n",
              "      <td>-4.019199</td>\n",
              "      <td>-1.535927</td>\n",
              "      <td>-0.870620</td>\n",
              "      <td>0.250776</td>\n",
              "      <td>...</td>\n",
              "      <td>0.211706</td>\n",
              "      <td>0.026253</td>\n",
              "      <td>-0.383232</td>\n",
              "      <td>0.337476</td>\n",
              "      <td>-0.450441</td>\n",
              "      <td>0.107531</td>\n",
              "      <td>0.350141</td>\n",
              "      <td>0.056679</td>\n",
              "      <td>-0.038525</td>\n",
              "      <td>0.023988</td>\n",
              "    </tr>\n",
              "    <tr>\n",
              "      <th>748</th>\n",
              "      <td>-3.353879</td>\n",
              "      <td>2.953521</td>\n",
              "      <td>2.631003</td>\n",
              "      <td>-2.415959</td>\n",
              "      <td>-1.040848</td>\n",
              "      <td>-0.376159</td>\n",
              "      <td>-0.225274</td>\n",
              "      <td>-2.048063</td>\n",
              "      <td>2.418676</td>\n",
              "      <td>2.822469</td>\n",
              "      <td>...</td>\n",
              "      <td>-0.084207</td>\n",
              "      <td>0.340817</td>\n",
              "      <td>-0.055687</td>\n",
              "      <td>0.327965</td>\n",
              "      <td>-1.024172</td>\n",
              "      <td>0.067515</td>\n",
              "      <td>0.237579</td>\n",
              "      <td>-0.300107</td>\n",
              "      <td>0.319717</td>\n",
              "      <td>0.581777</td>\n",
              "    </tr>\n",
              "    <tr>\n",
              "      <th>749</th>\n",
              "      <td>2.403618</td>\n",
              "      <td>2.169200</td>\n",
              "      <td>-2.802205</td>\n",
              "      <td>-2.172835</td>\n",
              "      <td>-4.548291</td>\n",
              "      <td>-1.379743</td>\n",
              "      <td>-1.034626</td>\n",
              "      <td>-0.010381</td>\n",
              "      <td>0.894225</td>\n",
              "      <td>-0.466329</td>\n",
              "      <td>...</td>\n",
              "      <td>-0.171230</td>\n",
              "      <td>-0.009358</td>\n",
              "      <td>0.115407</td>\n",
              "      <td>-0.394181</td>\n",
              "      <td>-0.297965</td>\n",
              "      <td>0.230186</td>\n",
              "      <td>-0.036326</td>\n",
              "      <td>0.238619</td>\n",
              "      <td>0.577113</td>\n",
              "      <td>0.172433</td>\n",
              "    </tr>\n",
              "  </tbody>\n",
              "</table>\n",
              "<p>750 rows × 106 columns</p>\n",
              "</div>\n",
              "    <div class=\"colab-df-buttons\">\n",
              "\n",
              "  <div class=\"colab-df-container\">\n",
              "    <button class=\"colab-df-convert\" onclick=\"convertToInteractive('df-3a9ca22a-7c40-43dc-aeb6-6072324df8cc')\"\n",
              "            title=\"Convert this dataframe to an interactive table.\"\n",
              "            style=\"display:none;\">\n",
              "\n",
              "  <svg xmlns=\"http://www.w3.org/2000/svg\" height=\"24px\" viewBox=\"0 -960 960 960\">\n",
              "    <path d=\"M120-120v-720h720v720H120Zm60-500h600v-160H180v160Zm220 220h160v-160H400v160Zm0 220h160v-160H400v160ZM180-400h160v-160H180v160Zm440 0h160v-160H620v160ZM180-180h160v-160H180v160Zm440 0h160v-160H620v160Z\"/>\n",
              "  </svg>\n",
              "    </button>\n",
              "\n",
              "  <style>\n",
              "    .colab-df-container {\n",
              "      display:flex;\n",
              "      gap: 12px;\n",
              "    }\n",
              "\n",
              "    .colab-df-convert {\n",
              "      background-color: #E8F0FE;\n",
              "      border: none;\n",
              "      border-radius: 50%;\n",
              "      cursor: pointer;\n",
              "      display: none;\n",
              "      fill: #1967D2;\n",
              "      height: 32px;\n",
              "      padding: 0 0 0 0;\n",
              "      width: 32px;\n",
              "    }\n",
              "\n",
              "    .colab-df-convert:hover {\n",
              "      background-color: #E2EBFA;\n",
              "      box-shadow: 0px 1px 2px rgba(60, 64, 67, 0.3), 0px 1px 3px 1px rgba(60, 64, 67, 0.15);\n",
              "      fill: #174EA6;\n",
              "    }\n",
              "\n",
              "    .colab-df-buttons div {\n",
              "      margin-bottom: 4px;\n",
              "    }\n",
              "\n",
              "    [theme=dark] .colab-df-convert {\n",
              "      background-color: #3B4455;\n",
              "      fill: #D2E3FC;\n",
              "    }\n",
              "\n",
              "    [theme=dark] .colab-df-convert:hover {\n",
              "      background-color: #434B5C;\n",
              "      box-shadow: 0px 1px 3px 1px rgba(0, 0, 0, 0.15);\n",
              "      filter: drop-shadow(0px 1px 2px rgba(0, 0, 0, 0.3));\n",
              "      fill: #FFFFFF;\n",
              "    }\n",
              "  </style>\n",
              "\n",
              "    <script>\n",
              "      const buttonEl =\n",
              "        document.querySelector('#df-3a9ca22a-7c40-43dc-aeb6-6072324df8cc button.colab-df-convert');\n",
              "      buttonEl.style.display =\n",
              "        google.colab.kernel.accessAllowed ? 'block' : 'none';\n",
              "\n",
              "      async function convertToInteractive(key) {\n",
              "        const element = document.querySelector('#df-3a9ca22a-7c40-43dc-aeb6-6072324df8cc');\n",
              "        const dataTable =\n",
              "          await google.colab.kernel.invokeFunction('convertToInteractive',\n",
              "                                                    [key], {});\n",
              "        if (!dataTable) return;\n",
              "\n",
              "        const docLinkHtml = 'Like what you see? Visit the ' +\n",
              "          '<a target=\"_blank\" href=https://colab.research.google.com/notebooks/data_table.ipynb>data table notebook</a>'\n",
              "          + ' to learn more about interactive tables.';\n",
              "        element.innerHTML = '';\n",
              "        dataTable['output_type'] = 'display_data';\n",
              "        await google.colab.output.renderOutput(dataTable, element);\n",
              "        const docLink = document.createElement('div');\n",
              "        docLink.innerHTML = docLinkHtml;\n",
              "        element.appendChild(docLink);\n",
              "      }\n",
              "    </script>\n",
              "  </div>\n",
              "\n",
              "\n",
              "<div id=\"df-67446880-acbf-4e6c-8834-64fb28007a9e\">\n",
              "  <button class=\"colab-df-quickchart\" onclick=\"quickchart('df-67446880-acbf-4e6c-8834-64fb28007a9e')\"\n",
              "            title=\"Suggest charts.\"\n",
              "            style=\"display:none;\">\n",
              "\n",
              "<svg xmlns=\"http://www.w3.org/2000/svg\" height=\"24px\"viewBox=\"0 0 24 24\"\n",
              "     width=\"24px\">\n",
              "    <g>\n",
              "        <path d=\"M19 3H5c-1.1 0-2 .9-2 2v14c0 1.1.9 2 2 2h14c1.1 0 2-.9 2-2V5c0-1.1-.9-2-2-2zM9 17H7v-7h2v7zm4 0h-2V7h2v10zm4 0h-2v-4h2v4z\"/>\n",
              "    </g>\n",
              "</svg>\n",
              "  </button>\n",
              "\n",
              "<style>\n",
              "  .colab-df-quickchart {\n",
              "    background-color: #E8F0FE;\n",
              "    border: none;\n",
              "    border-radius: 50%;\n",
              "    cursor: pointer;\n",
              "    display: none;\n",
              "    fill: #1967D2;\n",
              "    height: 32px;\n",
              "    padding: 0 0 0 0;\n",
              "    width: 32px;\n",
              "  }\n",
              "\n",
              "  .colab-df-quickchart:hover {\n",
              "    background-color: #E2EBFA;\n",
              "    box-shadow: 0px 1px 2px rgba(60, 64, 67, 0.3), 0px 1px 3px 1px rgba(60, 64, 67, 0.15);\n",
              "    fill: #174EA6;\n",
              "  }\n",
              "\n",
              "  [theme=dark] .colab-df-quickchart {\n",
              "    background-color: #3B4455;\n",
              "    fill: #D2E3FC;\n",
              "  }\n",
              "\n",
              "  [theme=dark] .colab-df-quickchart:hover {\n",
              "    background-color: #434B5C;\n",
              "    box-shadow: 0px 1px 3px 1px rgba(0, 0, 0, 0.15);\n",
              "    filter: drop-shadow(0px 1px 2px rgba(0, 0, 0, 0.3));\n",
              "    fill: #FFFFFF;\n",
              "  }\n",
              "</style>\n",
              "\n",
              "  <script>\n",
              "    async function quickchart(key) {\n",
              "      const charts = await google.colab.kernel.invokeFunction(\n",
              "          'suggestCharts', [key], {});\n",
              "    }\n",
              "    (() => {\n",
              "      let quickchartButtonEl =\n",
              "        document.querySelector('#df-67446880-acbf-4e6c-8834-64fb28007a9e button');\n",
              "      quickchartButtonEl.style.display =\n",
              "        google.colab.kernel.accessAllowed ? 'block' : 'none';\n",
              "    })();\n",
              "  </script>\n",
              "</div>\n",
              "    </div>\n",
              "  </div>\n"
            ]
          },
          "metadata": {},
          "execution_count": 119
        }
      ]
    },
    {
      "cell_type": "code",
      "source": [
        "label2_features = pd.DataFrame(data=x_tets_pca, columns=[f'new_feature_{i+1}' for i in range(x_tets_pca.shape[1])])\n",
        "label2_features.insert(0,'Predicted labels before feature engineering',label_2_pred_before)\n",
        "label2_features.insert(1,'Predicted labels after feature engineering', label_2_pred_after)\n",
        "label2_features.insert(2,'No of new features', x_tets_pca.shape[1])"
      ],
      "metadata": {
        "id": "_LAQRDAK1TX2"
      },
      "execution_count": null,
      "outputs": []
    },
    {
      "cell_type": "code",
      "source": [
        "write_csv(label2_features,\"label_2\")"
      ],
      "metadata": {
        "colab": {
          "base_uri": "https://localhost:8080/"
        },
        "id": "3aeNDiVJ1TX3",
        "outputId": "1a1d6682-d8c2-4425-b1b6-0c6b4abbc8c9"
      },
      "execution_count": null,
      "outputs": [
        {
          "output_type": "stream",
          "name": "stderr",
          "text": [
            "<ipython-input-66-b9b89ec60ecf>:3: PerformanceWarning: DataFrame is highly fragmented.  This is usually the result of calling `frame.insert` many times, which has poor performance.  Consider joining all columns at once using pd.concat(axis=1) instead. To get a de-fragmented frame, use `newframe = frame.copy()`\n",
            "  feature_df[f'new_feature_{i+1}'] = pd.NA\n",
            "<ipython-input-66-b9b89ec60ecf>:3: PerformanceWarning: DataFrame is highly fragmented.  This is usually the result of calling `frame.insert` many times, which has poor performance.  Consider joining all columns at once using pd.concat(axis=1) instead. To get a de-fragmented frame, use `newframe = frame.copy()`\n",
            "  feature_df[f'new_feature_{i+1}'] = pd.NA\n",
            "<ipython-input-66-b9b89ec60ecf>:3: PerformanceWarning: DataFrame is highly fragmented.  This is usually the result of calling `frame.insert` many times, which has poor performance.  Consider joining all columns at once using pd.concat(axis=1) instead. To get a de-fragmented frame, use `newframe = frame.copy()`\n",
            "  feature_df[f'new_feature_{i+1}'] = pd.NA\n",
            "<ipython-input-66-b9b89ec60ecf>:3: PerformanceWarning: DataFrame is highly fragmented.  This is usually the result of calling `frame.insert` many times, which has poor performance.  Consider joining all columns at once using pd.concat(axis=1) instead. To get a de-fragmented frame, use `newframe = frame.copy()`\n",
            "  feature_df[f'new_feature_{i+1}'] = pd.NA\n",
            "<ipython-input-66-b9b89ec60ecf>:3: PerformanceWarning: DataFrame is highly fragmented.  This is usually the result of calling `frame.insert` many times, which has poor performance.  Consider joining all columns at once using pd.concat(axis=1) instead. To get a de-fragmented frame, use `newframe = frame.copy()`\n",
            "  feature_df[f'new_feature_{i+1}'] = pd.NA\n",
            "<ipython-input-66-b9b89ec60ecf>:3: PerformanceWarning: DataFrame is highly fragmented.  This is usually the result of calling `frame.insert` many times, which has poor performance.  Consider joining all columns at once using pd.concat(axis=1) instead. To get a de-fragmented frame, use `newframe = frame.copy()`\n",
            "  feature_df[f'new_feature_{i+1}'] = pd.NA\n",
            "<ipython-input-66-b9b89ec60ecf>:3: PerformanceWarning: DataFrame is highly fragmented.  This is usually the result of calling `frame.insert` many times, which has poor performance.  Consider joining all columns at once using pd.concat(axis=1) instead. To get a de-fragmented frame, use `newframe = frame.copy()`\n",
            "  feature_df[f'new_feature_{i+1}'] = pd.NA\n",
            "<ipython-input-66-b9b89ec60ecf>:3: PerformanceWarning: DataFrame is highly fragmented.  This is usually the result of calling `frame.insert` many times, which has poor performance.  Consider joining all columns at once using pd.concat(axis=1) instead. To get a de-fragmented frame, use `newframe = frame.copy()`\n",
            "  feature_df[f'new_feature_{i+1}'] = pd.NA\n",
            "<ipython-input-66-b9b89ec60ecf>:3: PerformanceWarning: DataFrame is highly fragmented.  This is usually the result of calling `frame.insert` many times, which has poor performance.  Consider joining all columns at once using pd.concat(axis=1) instead. To get a de-fragmented frame, use `newframe = frame.copy()`\n",
            "  feature_df[f'new_feature_{i+1}'] = pd.NA\n",
            "<ipython-input-66-b9b89ec60ecf>:3: PerformanceWarning: DataFrame is highly fragmented.  This is usually the result of calling `frame.insert` many times, which has poor performance.  Consider joining all columns at once using pd.concat(axis=1) instead. To get a de-fragmented frame, use `newframe = frame.copy()`\n",
            "  feature_df[f'new_feature_{i+1}'] = pd.NA\n",
            "<ipython-input-66-b9b89ec60ecf>:3: PerformanceWarning: DataFrame is highly fragmented.  This is usually the result of calling `frame.insert` many times, which has poor performance.  Consider joining all columns at once using pd.concat(axis=1) instead. To get a de-fragmented frame, use `newframe = frame.copy()`\n",
            "  feature_df[f'new_feature_{i+1}'] = pd.NA\n",
            "<ipython-input-66-b9b89ec60ecf>:3: PerformanceWarning: DataFrame is highly fragmented.  This is usually the result of calling `frame.insert` many times, which has poor performance.  Consider joining all columns at once using pd.concat(axis=1) instead. To get a de-fragmented frame, use `newframe = frame.copy()`\n",
            "  feature_df[f'new_feature_{i+1}'] = pd.NA\n",
            "<ipython-input-66-b9b89ec60ecf>:3: PerformanceWarning: DataFrame is highly fragmented.  This is usually the result of calling `frame.insert` many times, which has poor performance.  Consider joining all columns at once using pd.concat(axis=1) instead. To get a de-fragmented frame, use `newframe = frame.copy()`\n",
            "  feature_df[f'new_feature_{i+1}'] = pd.NA\n",
            "<ipython-input-66-b9b89ec60ecf>:3: PerformanceWarning: DataFrame is highly fragmented.  This is usually the result of calling `frame.insert` many times, which has poor performance.  Consider joining all columns at once using pd.concat(axis=1) instead. To get a de-fragmented frame, use `newframe = frame.copy()`\n",
            "  feature_df[f'new_feature_{i+1}'] = pd.NA\n",
            "<ipython-input-66-b9b89ec60ecf>:3: PerformanceWarning: DataFrame is highly fragmented.  This is usually the result of calling `frame.insert` many times, which has poor performance.  Consider joining all columns at once using pd.concat(axis=1) instead. To get a de-fragmented frame, use `newframe = frame.copy()`\n",
            "  feature_df[f'new_feature_{i+1}'] = pd.NA\n",
            "<ipython-input-66-b9b89ec60ecf>:3: PerformanceWarning: DataFrame is highly fragmented.  This is usually the result of calling `frame.insert` many times, which has poor performance.  Consider joining all columns at once using pd.concat(axis=1) instead. To get a de-fragmented frame, use `newframe = frame.copy()`\n",
            "  feature_df[f'new_feature_{i+1}'] = pd.NA\n",
            "<ipython-input-66-b9b89ec60ecf>:3: PerformanceWarning: DataFrame is highly fragmented.  This is usually the result of calling `frame.insert` many times, which has poor performance.  Consider joining all columns at once using pd.concat(axis=1) instead. To get a de-fragmented frame, use `newframe = frame.copy()`\n",
            "  feature_df[f'new_feature_{i+1}'] = pd.NA\n",
            "<ipython-input-66-b9b89ec60ecf>:3: PerformanceWarning: DataFrame is highly fragmented.  This is usually the result of calling `frame.insert` many times, which has poor performance.  Consider joining all columns at once using pd.concat(axis=1) instead. To get a de-fragmented frame, use `newframe = frame.copy()`\n",
            "  feature_df[f'new_feature_{i+1}'] = pd.NA\n",
            "<ipython-input-66-b9b89ec60ecf>:3: PerformanceWarning: DataFrame is highly fragmented.  This is usually the result of calling `frame.insert` many times, which has poor performance.  Consider joining all columns at once using pd.concat(axis=1) instead. To get a de-fragmented frame, use `newframe = frame.copy()`\n",
            "  feature_df[f'new_feature_{i+1}'] = pd.NA\n",
            "<ipython-input-66-b9b89ec60ecf>:3: PerformanceWarning: DataFrame is highly fragmented.  This is usually the result of calling `frame.insert` many times, which has poor performance.  Consider joining all columns at once using pd.concat(axis=1) instead. To get a de-fragmented frame, use `newframe = frame.copy()`\n",
            "  feature_df[f'new_feature_{i+1}'] = pd.NA\n",
            "<ipython-input-66-b9b89ec60ecf>:3: PerformanceWarning: DataFrame is highly fragmented.  This is usually the result of calling `frame.insert` many times, which has poor performance.  Consider joining all columns at once using pd.concat(axis=1) instead. To get a de-fragmented frame, use `newframe = frame.copy()`\n",
            "  feature_df[f'new_feature_{i+1}'] = pd.NA\n",
            "<ipython-input-66-b9b89ec60ecf>:3: PerformanceWarning: DataFrame is highly fragmented.  This is usually the result of calling `frame.insert` many times, which has poor performance.  Consider joining all columns at once using pd.concat(axis=1) instead. To get a de-fragmented frame, use `newframe = frame.copy()`\n",
            "  feature_df[f'new_feature_{i+1}'] = pd.NA\n",
            "<ipython-input-66-b9b89ec60ecf>:3: PerformanceWarning: DataFrame is highly fragmented.  This is usually the result of calling `frame.insert` many times, which has poor performance.  Consider joining all columns at once using pd.concat(axis=1) instead. To get a de-fragmented frame, use `newframe = frame.copy()`\n",
            "  feature_df[f'new_feature_{i+1}'] = pd.NA\n",
            "<ipython-input-66-b9b89ec60ecf>:3: PerformanceWarning: DataFrame is highly fragmented.  This is usually the result of calling `frame.insert` many times, which has poor performance.  Consider joining all columns at once using pd.concat(axis=1) instead. To get a de-fragmented frame, use `newframe = frame.copy()`\n",
            "  feature_df[f'new_feature_{i+1}'] = pd.NA\n",
            "<ipython-input-66-b9b89ec60ecf>:3: PerformanceWarning: DataFrame is highly fragmented.  This is usually the result of calling `frame.insert` many times, which has poor performance.  Consider joining all columns at once using pd.concat(axis=1) instead. To get a de-fragmented frame, use `newframe = frame.copy()`\n",
            "  feature_df[f'new_feature_{i+1}'] = pd.NA\n",
            "<ipython-input-66-b9b89ec60ecf>:3: PerformanceWarning: DataFrame is highly fragmented.  This is usually the result of calling `frame.insert` many times, which has poor performance.  Consider joining all columns at once using pd.concat(axis=1) instead. To get a de-fragmented frame, use `newframe = frame.copy()`\n",
            "  feature_df[f'new_feature_{i+1}'] = pd.NA\n",
            "<ipython-input-66-b9b89ec60ecf>:3: PerformanceWarning: DataFrame is highly fragmented.  This is usually the result of calling `frame.insert` many times, which has poor performance.  Consider joining all columns at once using pd.concat(axis=1) instead. To get a de-fragmented frame, use `newframe = frame.copy()`\n",
            "  feature_df[f'new_feature_{i+1}'] = pd.NA\n",
            "<ipython-input-66-b9b89ec60ecf>:3: PerformanceWarning: DataFrame is highly fragmented.  This is usually the result of calling `frame.insert` many times, which has poor performance.  Consider joining all columns at once using pd.concat(axis=1) instead. To get a de-fragmented frame, use `newframe = frame.copy()`\n",
            "  feature_df[f'new_feature_{i+1}'] = pd.NA\n",
            "<ipython-input-66-b9b89ec60ecf>:3: PerformanceWarning: DataFrame is highly fragmented.  This is usually the result of calling `frame.insert` many times, which has poor performance.  Consider joining all columns at once using pd.concat(axis=1) instead. To get a de-fragmented frame, use `newframe = frame.copy()`\n",
            "  feature_df[f'new_feature_{i+1}'] = pd.NA\n",
            "<ipython-input-66-b9b89ec60ecf>:3: PerformanceWarning: DataFrame is highly fragmented.  This is usually the result of calling `frame.insert` many times, which has poor performance.  Consider joining all columns at once using pd.concat(axis=1) instead. To get a de-fragmented frame, use `newframe = frame.copy()`\n",
            "  feature_df[f'new_feature_{i+1}'] = pd.NA\n",
            "<ipython-input-66-b9b89ec60ecf>:3: PerformanceWarning: DataFrame is highly fragmented.  This is usually the result of calling `frame.insert` many times, which has poor performance.  Consider joining all columns at once using pd.concat(axis=1) instead. To get a de-fragmented frame, use `newframe = frame.copy()`\n",
            "  feature_df[f'new_feature_{i+1}'] = pd.NA\n",
            "<ipython-input-66-b9b89ec60ecf>:3: PerformanceWarning: DataFrame is highly fragmented.  This is usually the result of calling `frame.insert` many times, which has poor performance.  Consider joining all columns at once using pd.concat(axis=1) instead. To get a de-fragmented frame, use `newframe = frame.copy()`\n",
            "  feature_df[f'new_feature_{i+1}'] = pd.NA\n",
            "<ipython-input-66-b9b89ec60ecf>:3: PerformanceWarning: DataFrame is highly fragmented.  This is usually the result of calling `frame.insert` many times, which has poor performance.  Consider joining all columns at once using pd.concat(axis=1) instead. To get a de-fragmented frame, use `newframe = frame.copy()`\n",
            "  feature_df[f'new_feature_{i+1}'] = pd.NA\n",
            "<ipython-input-66-b9b89ec60ecf>:3: PerformanceWarning: DataFrame is highly fragmented.  This is usually the result of calling `frame.insert` many times, which has poor performance.  Consider joining all columns at once using pd.concat(axis=1) instead. To get a de-fragmented frame, use `newframe = frame.copy()`\n",
            "  feature_df[f'new_feature_{i+1}'] = pd.NA\n",
            "<ipython-input-66-b9b89ec60ecf>:3: PerformanceWarning: DataFrame is highly fragmented.  This is usually the result of calling `frame.insert` many times, which has poor performance.  Consider joining all columns at once using pd.concat(axis=1) instead. To get a de-fragmented frame, use `newframe = frame.copy()`\n",
            "  feature_df[f'new_feature_{i+1}'] = pd.NA\n",
            "<ipython-input-66-b9b89ec60ecf>:3: PerformanceWarning: DataFrame is highly fragmented.  This is usually the result of calling `frame.insert` many times, which has poor performance.  Consider joining all columns at once using pd.concat(axis=1) instead. To get a de-fragmented frame, use `newframe = frame.copy()`\n",
            "  feature_df[f'new_feature_{i+1}'] = pd.NA\n",
            "<ipython-input-66-b9b89ec60ecf>:3: PerformanceWarning: DataFrame is highly fragmented.  This is usually the result of calling `frame.insert` many times, which has poor performance.  Consider joining all columns at once using pd.concat(axis=1) instead. To get a de-fragmented frame, use `newframe = frame.copy()`\n",
            "  feature_df[f'new_feature_{i+1}'] = pd.NA\n",
            "<ipython-input-66-b9b89ec60ecf>:3: PerformanceWarning: DataFrame is highly fragmented.  This is usually the result of calling `frame.insert` many times, which has poor performance.  Consider joining all columns at once using pd.concat(axis=1) instead. To get a de-fragmented frame, use `newframe = frame.copy()`\n",
            "  feature_df[f'new_feature_{i+1}'] = pd.NA\n",
            "<ipython-input-66-b9b89ec60ecf>:3: PerformanceWarning: DataFrame is highly fragmented.  This is usually the result of calling `frame.insert` many times, which has poor performance.  Consider joining all columns at once using pd.concat(axis=1) instead. To get a de-fragmented frame, use `newframe = frame.copy()`\n",
            "  feature_df[f'new_feature_{i+1}'] = pd.NA\n",
            "<ipython-input-66-b9b89ec60ecf>:3: PerformanceWarning: DataFrame is highly fragmented.  This is usually the result of calling `frame.insert` many times, which has poor performance.  Consider joining all columns at once using pd.concat(axis=1) instead. To get a de-fragmented frame, use `newframe = frame.copy()`\n",
            "  feature_df[f'new_feature_{i+1}'] = pd.NA\n",
            "<ipython-input-66-b9b89ec60ecf>:3: PerformanceWarning: DataFrame is highly fragmented.  This is usually the result of calling `frame.insert` many times, which has poor performance.  Consider joining all columns at once using pd.concat(axis=1) instead. To get a de-fragmented frame, use `newframe = frame.copy()`\n",
            "  feature_df[f'new_feature_{i+1}'] = pd.NA\n",
            "<ipython-input-66-b9b89ec60ecf>:3: PerformanceWarning: DataFrame is highly fragmented.  This is usually the result of calling `frame.insert` many times, which has poor performance.  Consider joining all columns at once using pd.concat(axis=1) instead. To get a de-fragmented frame, use `newframe = frame.copy()`\n",
            "  feature_df[f'new_feature_{i+1}'] = pd.NA\n",
            "<ipython-input-66-b9b89ec60ecf>:3: PerformanceWarning: DataFrame is highly fragmented.  This is usually the result of calling `frame.insert` many times, which has poor performance.  Consider joining all columns at once using pd.concat(axis=1) instead. To get a de-fragmented frame, use `newframe = frame.copy()`\n",
            "  feature_df[f'new_feature_{i+1}'] = pd.NA\n",
            "<ipython-input-66-b9b89ec60ecf>:3: PerformanceWarning: DataFrame is highly fragmented.  This is usually the result of calling `frame.insert` many times, which has poor performance.  Consider joining all columns at once using pd.concat(axis=1) instead. To get a de-fragmented frame, use `newframe = frame.copy()`\n",
            "  feature_df[f'new_feature_{i+1}'] = pd.NA\n",
            "<ipython-input-66-b9b89ec60ecf>:3: PerformanceWarning: DataFrame is highly fragmented.  This is usually the result of calling `frame.insert` many times, which has poor performance.  Consider joining all columns at once using pd.concat(axis=1) instead. To get a de-fragmented frame, use `newframe = frame.copy()`\n",
            "  feature_df[f'new_feature_{i+1}'] = pd.NA\n",
            "<ipython-input-66-b9b89ec60ecf>:3: PerformanceWarning: DataFrame is highly fragmented.  This is usually the result of calling `frame.insert` many times, which has poor performance.  Consider joining all columns at once using pd.concat(axis=1) instead. To get a de-fragmented frame, use `newframe = frame.copy()`\n",
            "  feature_df[f'new_feature_{i+1}'] = pd.NA\n",
            "<ipython-input-66-b9b89ec60ecf>:3: PerformanceWarning: DataFrame is highly fragmented.  This is usually the result of calling `frame.insert` many times, which has poor performance.  Consider joining all columns at once using pd.concat(axis=1) instead. To get a de-fragmented frame, use `newframe = frame.copy()`\n",
            "  feature_df[f'new_feature_{i+1}'] = pd.NA\n",
            "<ipython-input-66-b9b89ec60ecf>:3: PerformanceWarning: DataFrame is highly fragmented.  This is usually the result of calling `frame.insert` many times, which has poor performance.  Consider joining all columns at once using pd.concat(axis=1) instead. To get a de-fragmented frame, use `newframe = frame.copy()`\n",
            "  feature_df[f'new_feature_{i+1}'] = pd.NA\n",
            "<ipython-input-66-b9b89ec60ecf>:3: PerformanceWarning: DataFrame is highly fragmented.  This is usually the result of calling `frame.insert` many times, which has poor performance.  Consider joining all columns at once using pd.concat(axis=1) instead. To get a de-fragmented frame, use `newframe = frame.copy()`\n",
            "  feature_df[f'new_feature_{i+1}'] = pd.NA\n",
            "<ipython-input-66-b9b89ec60ecf>:3: PerformanceWarning: DataFrame is highly fragmented.  This is usually the result of calling `frame.insert` many times, which has poor performance.  Consider joining all columns at once using pd.concat(axis=1) instead. To get a de-fragmented frame, use `newframe = frame.copy()`\n",
            "  feature_df[f'new_feature_{i+1}'] = pd.NA\n",
            "<ipython-input-66-b9b89ec60ecf>:3: PerformanceWarning: DataFrame is highly fragmented.  This is usually the result of calling `frame.insert` many times, which has poor performance.  Consider joining all columns at once using pd.concat(axis=1) instead. To get a de-fragmented frame, use `newframe = frame.copy()`\n",
            "  feature_df[f'new_feature_{i+1}'] = pd.NA\n",
            "<ipython-input-66-b9b89ec60ecf>:3: PerformanceWarning: DataFrame is highly fragmented.  This is usually the result of calling `frame.insert` many times, which has poor performance.  Consider joining all columns at once using pd.concat(axis=1) instead. To get a de-fragmented frame, use `newframe = frame.copy()`\n",
            "  feature_df[f'new_feature_{i+1}'] = pd.NA\n",
            "<ipython-input-66-b9b89ec60ecf>:3: PerformanceWarning: DataFrame is highly fragmented.  This is usually the result of calling `frame.insert` many times, which has poor performance.  Consider joining all columns at once using pd.concat(axis=1) instead. To get a de-fragmented frame, use `newframe = frame.copy()`\n",
            "  feature_df[f'new_feature_{i+1}'] = pd.NA\n",
            "<ipython-input-66-b9b89ec60ecf>:3: PerformanceWarning: DataFrame is highly fragmented.  This is usually the result of calling `frame.insert` many times, which has poor performance.  Consider joining all columns at once using pd.concat(axis=1) instead. To get a de-fragmented frame, use `newframe = frame.copy()`\n",
            "  feature_df[f'new_feature_{i+1}'] = pd.NA\n"
          ]
        }
      ]
    },
    {
      "cell_type": "markdown",
      "source": [
        "## Label 3"
      ],
      "metadata": {
        "id": "Kr8Wz_aOkwmY"
      }
    },
    {
      "cell_type": "code",
      "source": [
        "from sklearn.neighbors import KNeighborsClassifier\n",
        "classifier = KNeighborsClassifier(n_neighbors=5)\n",
        "classifier.fit(x_train['label_3'], y_train['label_3'])"
      ],
      "metadata": {
        "colab": {
          "base_uri": "https://localhost:8080/",
          "height": 74
        },
        "outputId": "d401fdbe-40dc-49d4-a817-e343553d80e8",
        "id": "tRjVJI5LqVTC"
      },
      "execution_count": null,
      "outputs": [
        {
          "output_type": "execute_result",
          "data": {
            "text/plain": [
              "KNeighborsClassifier()"
            ],
            "text/html": [
              "<style>#sk-container-id-18 {color: black;background-color: white;}#sk-container-id-18 pre{padding: 0;}#sk-container-id-18 div.sk-toggleable {background-color: white;}#sk-container-id-18 label.sk-toggleable__label {cursor: pointer;display: block;width: 100%;margin-bottom: 0;padding: 0.3em;box-sizing: border-box;text-align: center;}#sk-container-id-18 label.sk-toggleable__label-arrow:before {content: \"▸\";float: left;margin-right: 0.25em;color: #696969;}#sk-container-id-18 label.sk-toggleable__label-arrow:hover:before {color: black;}#sk-container-id-18 div.sk-estimator:hover label.sk-toggleable__label-arrow:before {color: black;}#sk-container-id-18 div.sk-toggleable__content {max-height: 0;max-width: 0;overflow: hidden;text-align: left;background-color: #f0f8ff;}#sk-container-id-18 div.sk-toggleable__content pre {margin: 0.2em;color: black;border-radius: 0.25em;background-color: #f0f8ff;}#sk-container-id-18 input.sk-toggleable__control:checked~div.sk-toggleable__content {max-height: 200px;max-width: 100%;overflow: auto;}#sk-container-id-18 input.sk-toggleable__control:checked~label.sk-toggleable__label-arrow:before {content: \"▾\";}#sk-container-id-18 div.sk-estimator input.sk-toggleable__control:checked~label.sk-toggleable__label {background-color: #d4ebff;}#sk-container-id-18 div.sk-label input.sk-toggleable__control:checked~label.sk-toggleable__label {background-color: #d4ebff;}#sk-container-id-18 input.sk-hidden--visually {border: 0;clip: rect(1px 1px 1px 1px);clip: rect(1px, 1px, 1px, 1px);height: 1px;margin: -1px;overflow: hidden;padding: 0;position: absolute;width: 1px;}#sk-container-id-18 div.sk-estimator {font-family: monospace;background-color: #f0f8ff;border: 1px dotted black;border-radius: 0.25em;box-sizing: border-box;margin-bottom: 0.5em;}#sk-container-id-18 div.sk-estimator:hover {background-color: #d4ebff;}#sk-container-id-18 div.sk-parallel-item::after {content: \"\";width: 100%;border-bottom: 1px solid gray;flex-grow: 1;}#sk-container-id-18 div.sk-label:hover label.sk-toggleable__label {background-color: #d4ebff;}#sk-container-id-18 div.sk-serial::before {content: \"\";position: absolute;border-left: 1px solid gray;box-sizing: border-box;top: 0;bottom: 0;left: 50%;z-index: 0;}#sk-container-id-18 div.sk-serial {display: flex;flex-direction: column;align-items: center;background-color: white;padding-right: 0.2em;padding-left: 0.2em;position: relative;}#sk-container-id-18 div.sk-item {position: relative;z-index: 1;}#sk-container-id-18 div.sk-parallel {display: flex;align-items: stretch;justify-content: center;background-color: white;position: relative;}#sk-container-id-18 div.sk-item::before, #sk-container-id-18 div.sk-parallel-item::before {content: \"\";position: absolute;border-left: 1px solid gray;box-sizing: border-box;top: 0;bottom: 0;left: 50%;z-index: -1;}#sk-container-id-18 div.sk-parallel-item {display: flex;flex-direction: column;z-index: 1;position: relative;background-color: white;}#sk-container-id-18 div.sk-parallel-item:first-child::after {align-self: flex-end;width: 50%;}#sk-container-id-18 div.sk-parallel-item:last-child::after {align-self: flex-start;width: 50%;}#sk-container-id-18 div.sk-parallel-item:only-child::after {width: 0;}#sk-container-id-18 div.sk-dashed-wrapped {border: 1px dashed gray;margin: 0 0.4em 0.5em 0.4em;box-sizing: border-box;padding-bottom: 0.4em;background-color: white;}#sk-container-id-18 div.sk-label label {font-family: monospace;font-weight: bold;display: inline-block;line-height: 1.2em;}#sk-container-id-18 div.sk-label-container {text-align: center;}#sk-container-id-18 div.sk-container {/* jupyter's `normalize.less` sets `[hidden] { display: none; }` but bootstrap.min.css set `[hidden] { display: none !important; }` so we also need the `!important` here to be able to override the default hidden behavior on the sphinx rendered scikit-learn.org. See: https://github.com/scikit-learn/scikit-learn/issues/21755 */display: inline-block !important;position: relative;}#sk-container-id-18 div.sk-text-repr-fallback {display: none;}</style><div id=\"sk-container-id-18\" class=\"sk-top-container\"><div class=\"sk-text-repr-fallback\"><pre>KNeighborsClassifier()</pre><b>In a Jupyter environment, please rerun this cell to show the HTML representation or trust the notebook. <br />On GitHub, the HTML representation is unable to render, please try loading this page with nbviewer.org.</b></div><div class=\"sk-container\" hidden><div class=\"sk-item\"><div class=\"sk-estimator sk-toggleable\"><input class=\"sk-toggleable__control sk-hidden--visually\" id=\"sk-estimator-id-18\" type=\"checkbox\" checked><label for=\"sk-estimator-id-18\" class=\"sk-toggleable__label sk-toggleable__label-arrow\">KNeighborsClassifier</label><div class=\"sk-toggleable__content\"><pre>KNeighborsClassifier()</pre></div></div></div></div></div>"
            ]
          },
          "metadata": {},
          "execution_count": 122
        }
      ]
    },
    {
      "cell_type": "code",
      "source": [
        "y_pred = classifier.predict(x_valid['label_3'])"
      ],
      "metadata": {
        "id": "HuHb_gPpqVTE"
      },
      "execution_count": null,
      "outputs": []
    },
    {
      "cell_type": "code",
      "source": [
        "from sklearn.metrics import classification_report, confusion_matrix\n",
        "print(confusion_matrix(y_valid['label_3'], y_pred))\n",
        "print(classification_report(y_valid['label_3'], y_pred))"
      ],
      "metadata": {
        "colab": {
          "base_uri": "https://localhost:8080/"
        },
        "outputId": "d81e0e1f-681e-49dd-f4c6-7d41d2239a03",
        "id": "CiMJ71wQqVTE"
      },
      "execution_count": null,
      "outputs": [
        {
          "output_type": "stream",
          "name": "stdout",
          "text": [
            "[[141   1]\n",
            " [  0 594]]\n",
            "              precision    recall  f1-score   support\n",
            "\n",
            "           0       1.00      0.99      1.00       142\n",
            "           1       1.00      1.00      1.00       594\n",
            "\n",
            "    accuracy                           1.00       736\n",
            "   macro avg       1.00      1.00      1.00       736\n",
            "weighted avg       1.00      1.00      1.00       736\n",
            "\n"
          ]
        }
      ]
    },
    {
      "cell_type": "code",
      "source": [
        "label_3_pred_before = classifier.predict(x_test['label_3'])"
      ],
      "metadata": {
        "id": "_93glS2T2R9D"
      },
      "execution_count": null,
      "outputs": []
    },
    {
      "cell_type": "markdown",
      "source": [
        "### Filter method"
      ],
      "metadata": {
        "id": "CJXb0J0gqYTW"
      }
    },
    {
      "cell_type": "code",
      "source": [
        "from sklearn.feature_selection import SelectKBest,f_classif\n",
        "\n",
        "# scaler = RobustScaler()\n",
        "# x_train_scaled = scaler.fit_transform(x_train[['label_1']])\n",
        "# y_train_scaled = scaler.transform(y_train[['label_2']])\n",
        "\n",
        "chi2_features = SelectKBest(f_classif, k=19)\n",
        "x_kbest = chi2_features.fit_transform(x_train['label_3'], y_train['label_3'])\n",
        "\n",
        "x_kbest.shape"
      ],
      "metadata": {
        "colab": {
          "base_uri": "https://localhost:8080/"
        },
        "outputId": "080ce66e-0efd-47d7-d0f3-1f62a1fcc446",
        "id": "YTb-2eRmn4t3"
      },
      "execution_count": null,
      "outputs": [
        {
          "output_type": "execute_result",
          "data": {
            "text/plain": [
              "(28040, 19)"
            ]
          },
          "metadata": {},
          "execution_count": 126
        }
      ]
    },
    {
      "cell_type": "code",
      "source": [
        "from sklearn.neighbors import KNeighborsClassifier\n",
        "classifier = KNeighborsClassifier(n_neighbors=5)\n",
        "classifier.fit(x_kbest, y_train['label_3'])"
      ],
      "metadata": {
        "colab": {
          "base_uri": "https://localhost:8080/",
          "height": 74
        },
        "outputId": "c4ac4bbd-e447-4bba-d60b-c3240bd2b385",
        "id": "_lsZNkVdn4t5"
      },
      "execution_count": null,
      "outputs": [
        {
          "output_type": "execute_result",
          "data": {
            "text/plain": [
              "KNeighborsClassifier()"
            ],
            "text/html": [
              "<style>#sk-container-id-19 {color: black;background-color: white;}#sk-container-id-19 pre{padding: 0;}#sk-container-id-19 div.sk-toggleable {background-color: white;}#sk-container-id-19 label.sk-toggleable__label {cursor: pointer;display: block;width: 100%;margin-bottom: 0;padding: 0.3em;box-sizing: border-box;text-align: center;}#sk-container-id-19 label.sk-toggleable__label-arrow:before {content: \"▸\";float: left;margin-right: 0.25em;color: #696969;}#sk-container-id-19 label.sk-toggleable__label-arrow:hover:before {color: black;}#sk-container-id-19 div.sk-estimator:hover label.sk-toggleable__label-arrow:before {color: black;}#sk-container-id-19 div.sk-toggleable__content {max-height: 0;max-width: 0;overflow: hidden;text-align: left;background-color: #f0f8ff;}#sk-container-id-19 div.sk-toggleable__content pre {margin: 0.2em;color: black;border-radius: 0.25em;background-color: #f0f8ff;}#sk-container-id-19 input.sk-toggleable__control:checked~div.sk-toggleable__content {max-height: 200px;max-width: 100%;overflow: auto;}#sk-container-id-19 input.sk-toggleable__control:checked~label.sk-toggleable__label-arrow:before {content: \"▾\";}#sk-container-id-19 div.sk-estimator input.sk-toggleable__control:checked~label.sk-toggleable__label {background-color: #d4ebff;}#sk-container-id-19 div.sk-label input.sk-toggleable__control:checked~label.sk-toggleable__label {background-color: #d4ebff;}#sk-container-id-19 input.sk-hidden--visually {border: 0;clip: rect(1px 1px 1px 1px);clip: rect(1px, 1px, 1px, 1px);height: 1px;margin: -1px;overflow: hidden;padding: 0;position: absolute;width: 1px;}#sk-container-id-19 div.sk-estimator {font-family: monospace;background-color: #f0f8ff;border: 1px dotted black;border-radius: 0.25em;box-sizing: border-box;margin-bottom: 0.5em;}#sk-container-id-19 div.sk-estimator:hover {background-color: #d4ebff;}#sk-container-id-19 div.sk-parallel-item::after {content: \"\";width: 100%;border-bottom: 1px solid gray;flex-grow: 1;}#sk-container-id-19 div.sk-label:hover label.sk-toggleable__label {background-color: #d4ebff;}#sk-container-id-19 div.sk-serial::before {content: \"\";position: absolute;border-left: 1px solid gray;box-sizing: border-box;top: 0;bottom: 0;left: 50%;z-index: 0;}#sk-container-id-19 div.sk-serial {display: flex;flex-direction: column;align-items: center;background-color: white;padding-right: 0.2em;padding-left: 0.2em;position: relative;}#sk-container-id-19 div.sk-item {position: relative;z-index: 1;}#sk-container-id-19 div.sk-parallel {display: flex;align-items: stretch;justify-content: center;background-color: white;position: relative;}#sk-container-id-19 div.sk-item::before, #sk-container-id-19 div.sk-parallel-item::before {content: \"\";position: absolute;border-left: 1px solid gray;box-sizing: border-box;top: 0;bottom: 0;left: 50%;z-index: -1;}#sk-container-id-19 div.sk-parallel-item {display: flex;flex-direction: column;z-index: 1;position: relative;background-color: white;}#sk-container-id-19 div.sk-parallel-item:first-child::after {align-self: flex-end;width: 50%;}#sk-container-id-19 div.sk-parallel-item:last-child::after {align-self: flex-start;width: 50%;}#sk-container-id-19 div.sk-parallel-item:only-child::after {width: 0;}#sk-container-id-19 div.sk-dashed-wrapped {border: 1px dashed gray;margin: 0 0.4em 0.5em 0.4em;box-sizing: border-box;padding-bottom: 0.4em;background-color: white;}#sk-container-id-19 div.sk-label label {font-family: monospace;font-weight: bold;display: inline-block;line-height: 1.2em;}#sk-container-id-19 div.sk-label-container {text-align: center;}#sk-container-id-19 div.sk-container {/* jupyter's `normalize.less` sets `[hidden] { display: none; }` but bootstrap.min.css set `[hidden] { display: none !important; }` so we also need the `!important` here to be able to override the default hidden behavior on the sphinx rendered scikit-learn.org. See: https://github.com/scikit-learn/scikit-learn/issues/21755 */display: inline-block !important;position: relative;}#sk-container-id-19 div.sk-text-repr-fallback {display: none;}</style><div id=\"sk-container-id-19\" class=\"sk-top-container\"><div class=\"sk-text-repr-fallback\"><pre>KNeighborsClassifier()</pre><b>In a Jupyter environment, please rerun this cell to show the HTML representation or trust the notebook. <br />On GitHub, the HTML representation is unable to render, please try loading this page with nbviewer.org.</b></div><div class=\"sk-container\" hidden><div class=\"sk-item\"><div class=\"sk-estimator sk-toggleable\"><input class=\"sk-toggleable__control sk-hidden--visually\" id=\"sk-estimator-id-19\" type=\"checkbox\" checked><label for=\"sk-estimator-id-19\" class=\"sk-toggleable__label sk-toggleable__label-arrow\">KNeighborsClassifier</label><div class=\"sk-toggleable__content\"><pre>KNeighborsClassifier()</pre></div></div></div></div></div>"
            ]
          },
          "metadata": {},
          "execution_count": 127
        }
      ]
    },
    {
      "cell_type": "code",
      "source": [
        "y_pred = classifier.predict(chi2_features.transform(x_valid['label_3']))"
      ],
      "metadata": {
        "id": "k8Djf-LSn4t5"
      },
      "execution_count": null,
      "outputs": []
    },
    {
      "cell_type": "code",
      "source": [
        "from sklearn.metrics import classification_report, confusion_matrix\n",
        "print(confusion_matrix(y_valid['label_3'], y_pred))\n",
        "print(classification_report(y_valid['label_3'], y_pred))"
      ],
      "metadata": {
        "colab": {
          "base_uri": "https://localhost:8080/"
        },
        "outputId": "018da8e9-a612-4d1a-b734-c97e48d452c7",
        "id": "03FdukESn4t5"
      },
      "execution_count": null,
      "outputs": [
        {
          "output_type": "stream",
          "name": "stdout",
          "text": [
            "[[142   0]\n",
            " [  3 591]]\n",
            "              precision    recall  f1-score   support\n",
            "\n",
            "           0       0.98      1.00      0.99       142\n",
            "           1       1.00      0.99      1.00       594\n",
            "\n",
            "    accuracy                           1.00       736\n",
            "   macro avg       0.99      1.00      0.99       736\n",
            "weighted avg       1.00      1.00      1.00       736\n",
            "\n"
          ]
        }
      ]
    },
    {
      "cell_type": "markdown",
      "source": [
        "### PCA"
      ],
      "metadata": {
        "id": "fNpkU9OqrZJx"
      }
    },
    {
      "cell_type": "code",
      "source": [
        "from sklearn.decomposition import PCA\n",
        "\n",
        "pca = PCA(n_components= 0.55, svd_solver=\"full\")\n",
        "pca.fit(x_train['label_3'])\n",
        "x_train_pca = pca.transform(x_train['label_3'])\n",
        "x_valid_pca = pca.transform(x_valid['label_3'])"
      ],
      "metadata": {
        "id": "702Ogv7TrbSB"
      },
      "execution_count": null,
      "outputs": []
    },
    {
      "cell_type": "code",
      "source": [
        "x_train_pca.shape"
      ],
      "metadata": {
        "colab": {
          "base_uri": "https://localhost:8080/"
        },
        "outputId": "8214b27b-118d-4cce-b9d5-fc2be510b219",
        "id": "jWfMLFpErbSC"
      },
      "execution_count": null,
      "outputs": [
        {
          "output_type": "execute_result",
          "data": {
            "text/plain": [
              "(28040, 12)"
            ]
          },
          "metadata": {},
          "execution_count": 131
        }
      ]
    },
    {
      "cell_type": "code",
      "source": [
        "from sklearn.neighbors import KNeighborsClassifier\n",
        "classifier = KNeighborsClassifier(n_neighbors=5)\n",
        "classifier.fit(x_train_pca, y_train['label_3'])"
      ],
      "metadata": {
        "colab": {
          "base_uri": "https://localhost:8080/",
          "height": 74
        },
        "outputId": "974655bb-b8a1-4988-8375-4d8b58a0cf32",
        "id": "b9zm42vPrbSD"
      },
      "execution_count": null,
      "outputs": [
        {
          "output_type": "execute_result",
          "data": {
            "text/plain": [
              "KNeighborsClassifier()"
            ],
            "text/html": [
              "<style>#sk-container-id-20 {color: black;background-color: white;}#sk-container-id-20 pre{padding: 0;}#sk-container-id-20 div.sk-toggleable {background-color: white;}#sk-container-id-20 label.sk-toggleable__label {cursor: pointer;display: block;width: 100%;margin-bottom: 0;padding: 0.3em;box-sizing: border-box;text-align: center;}#sk-container-id-20 label.sk-toggleable__label-arrow:before {content: \"▸\";float: left;margin-right: 0.25em;color: #696969;}#sk-container-id-20 label.sk-toggleable__label-arrow:hover:before {color: black;}#sk-container-id-20 div.sk-estimator:hover label.sk-toggleable__label-arrow:before {color: black;}#sk-container-id-20 div.sk-toggleable__content {max-height: 0;max-width: 0;overflow: hidden;text-align: left;background-color: #f0f8ff;}#sk-container-id-20 div.sk-toggleable__content pre {margin: 0.2em;color: black;border-radius: 0.25em;background-color: #f0f8ff;}#sk-container-id-20 input.sk-toggleable__control:checked~div.sk-toggleable__content {max-height: 200px;max-width: 100%;overflow: auto;}#sk-container-id-20 input.sk-toggleable__control:checked~label.sk-toggleable__label-arrow:before {content: \"▾\";}#sk-container-id-20 div.sk-estimator input.sk-toggleable__control:checked~label.sk-toggleable__label {background-color: #d4ebff;}#sk-container-id-20 div.sk-label input.sk-toggleable__control:checked~label.sk-toggleable__label {background-color: #d4ebff;}#sk-container-id-20 input.sk-hidden--visually {border: 0;clip: rect(1px 1px 1px 1px);clip: rect(1px, 1px, 1px, 1px);height: 1px;margin: -1px;overflow: hidden;padding: 0;position: absolute;width: 1px;}#sk-container-id-20 div.sk-estimator {font-family: monospace;background-color: #f0f8ff;border: 1px dotted black;border-radius: 0.25em;box-sizing: border-box;margin-bottom: 0.5em;}#sk-container-id-20 div.sk-estimator:hover {background-color: #d4ebff;}#sk-container-id-20 div.sk-parallel-item::after {content: \"\";width: 100%;border-bottom: 1px solid gray;flex-grow: 1;}#sk-container-id-20 div.sk-label:hover label.sk-toggleable__label {background-color: #d4ebff;}#sk-container-id-20 div.sk-serial::before {content: \"\";position: absolute;border-left: 1px solid gray;box-sizing: border-box;top: 0;bottom: 0;left: 50%;z-index: 0;}#sk-container-id-20 div.sk-serial {display: flex;flex-direction: column;align-items: center;background-color: white;padding-right: 0.2em;padding-left: 0.2em;position: relative;}#sk-container-id-20 div.sk-item {position: relative;z-index: 1;}#sk-container-id-20 div.sk-parallel {display: flex;align-items: stretch;justify-content: center;background-color: white;position: relative;}#sk-container-id-20 div.sk-item::before, #sk-container-id-20 div.sk-parallel-item::before {content: \"\";position: absolute;border-left: 1px solid gray;box-sizing: border-box;top: 0;bottom: 0;left: 50%;z-index: -1;}#sk-container-id-20 div.sk-parallel-item {display: flex;flex-direction: column;z-index: 1;position: relative;background-color: white;}#sk-container-id-20 div.sk-parallel-item:first-child::after {align-self: flex-end;width: 50%;}#sk-container-id-20 div.sk-parallel-item:last-child::after {align-self: flex-start;width: 50%;}#sk-container-id-20 div.sk-parallel-item:only-child::after {width: 0;}#sk-container-id-20 div.sk-dashed-wrapped {border: 1px dashed gray;margin: 0 0.4em 0.5em 0.4em;box-sizing: border-box;padding-bottom: 0.4em;background-color: white;}#sk-container-id-20 div.sk-label label {font-family: monospace;font-weight: bold;display: inline-block;line-height: 1.2em;}#sk-container-id-20 div.sk-label-container {text-align: center;}#sk-container-id-20 div.sk-container {/* jupyter's `normalize.less` sets `[hidden] { display: none; }` but bootstrap.min.css set `[hidden] { display: none !important; }` so we also need the `!important` here to be able to override the default hidden behavior on the sphinx rendered scikit-learn.org. See: https://github.com/scikit-learn/scikit-learn/issues/21755 */display: inline-block !important;position: relative;}#sk-container-id-20 div.sk-text-repr-fallback {display: none;}</style><div id=\"sk-container-id-20\" class=\"sk-top-container\"><div class=\"sk-text-repr-fallback\"><pre>KNeighborsClassifier()</pre><b>In a Jupyter environment, please rerun this cell to show the HTML representation or trust the notebook. <br />On GitHub, the HTML representation is unable to render, please try loading this page with nbviewer.org.</b></div><div class=\"sk-container\" hidden><div class=\"sk-item\"><div class=\"sk-estimator sk-toggleable\"><input class=\"sk-toggleable__control sk-hidden--visually\" id=\"sk-estimator-id-20\" type=\"checkbox\" checked><label for=\"sk-estimator-id-20\" class=\"sk-toggleable__label sk-toggleable__label-arrow\">KNeighborsClassifier</label><div class=\"sk-toggleable__content\"><pre>KNeighborsClassifier()</pre></div></div></div></div></div>"
            ]
          },
          "metadata": {},
          "execution_count": 132
        }
      ]
    },
    {
      "cell_type": "code",
      "source": [
        "y_pred = classifier.predict(x_valid_pca)"
      ],
      "metadata": {
        "id": "1yBfUM3ZrbSE"
      },
      "execution_count": null,
      "outputs": []
    },
    {
      "cell_type": "code",
      "source": [
        "from sklearn.metrics import classification_report, confusion_matrix\n",
        "print(confusion_matrix(y_valid['label_3'], y_pred))\n",
        "print(classification_report(y_valid['label_3'], y_pred))"
      ],
      "metadata": {
        "colab": {
          "base_uri": "https://localhost:8080/"
        },
        "outputId": "dff7d65c-9ecb-4a05-e7b9-c2bbfc9843d9",
        "id": "dgIiGIDerbSF"
      },
      "execution_count": null,
      "outputs": [
        {
          "output_type": "stream",
          "name": "stdout",
          "text": [
            "[[142   0]\n",
            " [  3 591]]\n",
            "              precision    recall  f1-score   support\n",
            "\n",
            "           0       0.98      1.00      0.99       142\n",
            "           1       1.00      0.99      1.00       594\n",
            "\n",
            "    accuracy                           1.00       736\n",
            "   macro avg       0.99      1.00      0.99       736\n",
            "weighted avg       1.00      1.00      1.00       736\n",
            "\n"
          ]
        }
      ]
    },
    {
      "cell_type": "code",
      "source": [],
      "metadata": {
        "id": "yre1g0fJ2zz6"
      },
      "execution_count": null,
      "outputs": []
    },
    {
      "cell_type": "code",
      "source": [
        "x_tets_pca = pca.transform(x_test['label_3'])\n",
        "label_3_pred_after = classifier.predict(x_tets_pca)\n",
        "\n",
        "pd.DataFrame(x_tets_pca)"
      ],
      "metadata": {
        "colab": {
          "base_uri": "https://localhost:8080/",
          "height": 423
        },
        "outputId": "1c2e7d69-0edd-4383-f7e7-98c64934b137",
        "id": "DO0oxdqY26Dm"
      },
      "execution_count": null,
      "outputs": [
        {
          "output_type": "execute_result",
          "data": {
            "text/plain": [
              "           0         1         2         3         4         5         6   \\\n",
              "0   -1.340205  4.974926 -2.463431 -0.293218 -4.929589 -0.123418  2.821178   \n",
              "1   -4.916497  5.968590  0.216444  5.458443 -5.255487  3.739646 -0.946314   \n",
              "2   -3.488105  2.233849 -0.015782  3.096022 -2.791336  0.041352 -0.145018   \n",
              "3   -1.514295  4.172956 -0.653871  0.501919  2.118996  3.109811 -0.061919   \n",
              "4    0.474417  4.185025  1.483051  1.486173 -2.755140 -0.114920  1.350989   \n",
              "..        ...       ...       ...       ...       ...       ...       ...   \n",
              "745  0.448947 -0.646220 -5.753660 -2.408283  0.738003 -3.273074  0.090460   \n",
              "746  8.518059  3.102605 -0.863859  0.605481 -0.400065  0.875040  0.714044   \n",
              "747 -4.120542  1.930092 -1.584527  1.149447  1.199155  3.698053 -4.019199   \n",
              "748 -3.353879  2.953521  2.631003 -2.415959 -1.040848 -0.376159 -0.225274   \n",
              "749  2.403618  2.169200 -2.802205 -2.172835 -4.548291 -1.379743 -1.034626   \n",
              "\n",
              "           7         8         9         10        11  \n",
              "0    1.792234  4.454589 -1.476093  3.161077  0.292941  \n",
              "1    2.011677 -2.027165 -6.018996 -0.333028  0.583661  \n",
              "2    0.186335 -4.450069 -3.704063  1.913868  0.410853  \n",
              "3    0.296568  1.147972 -4.216535  2.493196 -2.456245  \n",
              "4    2.659574  0.763504 -5.778474 -0.377765 -1.427959  \n",
              "..        ...       ...       ...       ...       ...  \n",
              "745 -2.777527 -0.996790 -0.866410 -0.818672  1.380985  \n",
              "746 -1.067262 -0.286181  1.480675 -2.455038  0.871299  \n",
              "747 -1.535927 -0.870620  0.250776  0.468023 -1.045527  \n",
              "748 -2.048063  2.418676  2.822469  4.462614 -0.087807  \n",
              "749 -0.010381  0.894225 -0.466329  2.470593  1.985181  \n",
              "\n",
              "[750 rows x 12 columns]"
            ],
            "text/html": [
              "\n",
              "  <div id=\"df-eb253e16-24b0-4225-9ee1-20dd9adc0976\" class=\"colab-df-container\">\n",
              "    <div>\n",
              "<style scoped>\n",
              "    .dataframe tbody tr th:only-of-type {\n",
              "        vertical-align: middle;\n",
              "    }\n",
              "\n",
              "    .dataframe tbody tr th {\n",
              "        vertical-align: top;\n",
              "    }\n",
              "\n",
              "    .dataframe thead th {\n",
              "        text-align: right;\n",
              "    }\n",
              "</style>\n",
              "<table border=\"1\" class=\"dataframe\">\n",
              "  <thead>\n",
              "    <tr style=\"text-align: right;\">\n",
              "      <th></th>\n",
              "      <th>0</th>\n",
              "      <th>1</th>\n",
              "      <th>2</th>\n",
              "      <th>3</th>\n",
              "      <th>4</th>\n",
              "      <th>5</th>\n",
              "      <th>6</th>\n",
              "      <th>7</th>\n",
              "      <th>8</th>\n",
              "      <th>9</th>\n",
              "      <th>10</th>\n",
              "      <th>11</th>\n",
              "    </tr>\n",
              "  </thead>\n",
              "  <tbody>\n",
              "    <tr>\n",
              "      <th>0</th>\n",
              "      <td>-1.340205</td>\n",
              "      <td>4.974926</td>\n",
              "      <td>-2.463431</td>\n",
              "      <td>-0.293218</td>\n",
              "      <td>-4.929589</td>\n",
              "      <td>-0.123418</td>\n",
              "      <td>2.821178</td>\n",
              "      <td>1.792234</td>\n",
              "      <td>4.454589</td>\n",
              "      <td>-1.476093</td>\n",
              "      <td>3.161077</td>\n",
              "      <td>0.292941</td>\n",
              "    </tr>\n",
              "    <tr>\n",
              "      <th>1</th>\n",
              "      <td>-4.916497</td>\n",
              "      <td>5.968590</td>\n",
              "      <td>0.216444</td>\n",
              "      <td>5.458443</td>\n",
              "      <td>-5.255487</td>\n",
              "      <td>3.739646</td>\n",
              "      <td>-0.946314</td>\n",
              "      <td>2.011677</td>\n",
              "      <td>-2.027165</td>\n",
              "      <td>-6.018996</td>\n",
              "      <td>-0.333028</td>\n",
              "      <td>0.583661</td>\n",
              "    </tr>\n",
              "    <tr>\n",
              "      <th>2</th>\n",
              "      <td>-3.488105</td>\n",
              "      <td>2.233849</td>\n",
              "      <td>-0.015782</td>\n",
              "      <td>3.096022</td>\n",
              "      <td>-2.791336</td>\n",
              "      <td>0.041352</td>\n",
              "      <td>-0.145018</td>\n",
              "      <td>0.186335</td>\n",
              "      <td>-4.450069</td>\n",
              "      <td>-3.704063</td>\n",
              "      <td>1.913868</td>\n",
              "      <td>0.410853</td>\n",
              "    </tr>\n",
              "    <tr>\n",
              "      <th>3</th>\n",
              "      <td>-1.514295</td>\n",
              "      <td>4.172956</td>\n",
              "      <td>-0.653871</td>\n",
              "      <td>0.501919</td>\n",
              "      <td>2.118996</td>\n",
              "      <td>3.109811</td>\n",
              "      <td>-0.061919</td>\n",
              "      <td>0.296568</td>\n",
              "      <td>1.147972</td>\n",
              "      <td>-4.216535</td>\n",
              "      <td>2.493196</td>\n",
              "      <td>-2.456245</td>\n",
              "    </tr>\n",
              "    <tr>\n",
              "      <th>4</th>\n",
              "      <td>0.474417</td>\n",
              "      <td>4.185025</td>\n",
              "      <td>1.483051</td>\n",
              "      <td>1.486173</td>\n",
              "      <td>-2.755140</td>\n",
              "      <td>-0.114920</td>\n",
              "      <td>1.350989</td>\n",
              "      <td>2.659574</td>\n",
              "      <td>0.763504</td>\n",
              "      <td>-5.778474</td>\n",
              "      <td>-0.377765</td>\n",
              "      <td>-1.427959</td>\n",
              "    </tr>\n",
              "    <tr>\n",
              "      <th>...</th>\n",
              "      <td>...</td>\n",
              "      <td>...</td>\n",
              "      <td>...</td>\n",
              "      <td>...</td>\n",
              "      <td>...</td>\n",
              "      <td>...</td>\n",
              "      <td>...</td>\n",
              "      <td>...</td>\n",
              "      <td>...</td>\n",
              "      <td>...</td>\n",
              "      <td>...</td>\n",
              "      <td>...</td>\n",
              "    </tr>\n",
              "    <tr>\n",
              "      <th>745</th>\n",
              "      <td>0.448947</td>\n",
              "      <td>-0.646220</td>\n",
              "      <td>-5.753660</td>\n",
              "      <td>-2.408283</td>\n",
              "      <td>0.738003</td>\n",
              "      <td>-3.273074</td>\n",
              "      <td>0.090460</td>\n",
              "      <td>-2.777527</td>\n",
              "      <td>-0.996790</td>\n",
              "      <td>-0.866410</td>\n",
              "      <td>-0.818672</td>\n",
              "      <td>1.380985</td>\n",
              "    </tr>\n",
              "    <tr>\n",
              "      <th>746</th>\n",
              "      <td>8.518059</td>\n",
              "      <td>3.102605</td>\n",
              "      <td>-0.863859</td>\n",
              "      <td>0.605481</td>\n",
              "      <td>-0.400065</td>\n",
              "      <td>0.875040</td>\n",
              "      <td>0.714044</td>\n",
              "      <td>-1.067262</td>\n",
              "      <td>-0.286181</td>\n",
              "      <td>1.480675</td>\n",
              "      <td>-2.455038</td>\n",
              "      <td>0.871299</td>\n",
              "    </tr>\n",
              "    <tr>\n",
              "      <th>747</th>\n",
              "      <td>-4.120542</td>\n",
              "      <td>1.930092</td>\n",
              "      <td>-1.584527</td>\n",
              "      <td>1.149447</td>\n",
              "      <td>1.199155</td>\n",
              "      <td>3.698053</td>\n",
              "      <td>-4.019199</td>\n",
              "      <td>-1.535927</td>\n",
              "      <td>-0.870620</td>\n",
              "      <td>0.250776</td>\n",
              "      <td>0.468023</td>\n",
              "      <td>-1.045527</td>\n",
              "    </tr>\n",
              "    <tr>\n",
              "      <th>748</th>\n",
              "      <td>-3.353879</td>\n",
              "      <td>2.953521</td>\n",
              "      <td>2.631003</td>\n",
              "      <td>-2.415959</td>\n",
              "      <td>-1.040848</td>\n",
              "      <td>-0.376159</td>\n",
              "      <td>-0.225274</td>\n",
              "      <td>-2.048063</td>\n",
              "      <td>2.418676</td>\n",
              "      <td>2.822469</td>\n",
              "      <td>4.462614</td>\n",
              "      <td>-0.087807</td>\n",
              "    </tr>\n",
              "    <tr>\n",
              "      <th>749</th>\n",
              "      <td>2.403618</td>\n",
              "      <td>2.169200</td>\n",
              "      <td>-2.802205</td>\n",
              "      <td>-2.172835</td>\n",
              "      <td>-4.548291</td>\n",
              "      <td>-1.379743</td>\n",
              "      <td>-1.034626</td>\n",
              "      <td>-0.010381</td>\n",
              "      <td>0.894225</td>\n",
              "      <td>-0.466329</td>\n",
              "      <td>2.470593</td>\n",
              "      <td>1.985181</td>\n",
              "    </tr>\n",
              "  </tbody>\n",
              "</table>\n",
              "<p>750 rows × 12 columns</p>\n",
              "</div>\n",
              "    <div class=\"colab-df-buttons\">\n",
              "\n",
              "  <div class=\"colab-df-container\">\n",
              "    <button class=\"colab-df-convert\" onclick=\"convertToInteractive('df-eb253e16-24b0-4225-9ee1-20dd9adc0976')\"\n",
              "            title=\"Convert this dataframe to an interactive table.\"\n",
              "            style=\"display:none;\">\n",
              "\n",
              "  <svg xmlns=\"http://www.w3.org/2000/svg\" height=\"24px\" viewBox=\"0 -960 960 960\">\n",
              "    <path d=\"M120-120v-720h720v720H120Zm60-500h600v-160H180v160Zm220 220h160v-160H400v160Zm0 220h160v-160H400v160ZM180-400h160v-160H180v160Zm440 0h160v-160H620v160ZM180-180h160v-160H180v160Zm440 0h160v-160H620v160Z\"/>\n",
              "  </svg>\n",
              "    </button>\n",
              "\n",
              "  <style>\n",
              "    .colab-df-container {\n",
              "      display:flex;\n",
              "      gap: 12px;\n",
              "    }\n",
              "\n",
              "    .colab-df-convert {\n",
              "      background-color: #E8F0FE;\n",
              "      border: none;\n",
              "      border-radius: 50%;\n",
              "      cursor: pointer;\n",
              "      display: none;\n",
              "      fill: #1967D2;\n",
              "      height: 32px;\n",
              "      padding: 0 0 0 0;\n",
              "      width: 32px;\n",
              "    }\n",
              "\n",
              "    .colab-df-convert:hover {\n",
              "      background-color: #E2EBFA;\n",
              "      box-shadow: 0px 1px 2px rgba(60, 64, 67, 0.3), 0px 1px 3px 1px rgba(60, 64, 67, 0.15);\n",
              "      fill: #174EA6;\n",
              "    }\n",
              "\n",
              "    .colab-df-buttons div {\n",
              "      margin-bottom: 4px;\n",
              "    }\n",
              "\n",
              "    [theme=dark] .colab-df-convert {\n",
              "      background-color: #3B4455;\n",
              "      fill: #D2E3FC;\n",
              "    }\n",
              "\n",
              "    [theme=dark] .colab-df-convert:hover {\n",
              "      background-color: #434B5C;\n",
              "      box-shadow: 0px 1px 3px 1px rgba(0, 0, 0, 0.15);\n",
              "      filter: drop-shadow(0px 1px 2px rgba(0, 0, 0, 0.3));\n",
              "      fill: #FFFFFF;\n",
              "    }\n",
              "  </style>\n",
              "\n",
              "    <script>\n",
              "      const buttonEl =\n",
              "        document.querySelector('#df-eb253e16-24b0-4225-9ee1-20dd9adc0976 button.colab-df-convert');\n",
              "      buttonEl.style.display =\n",
              "        google.colab.kernel.accessAllowed ? 'block' : 'none';\n",
              "\n",
              "      async function convertToInteractive(key) {\n",
              "        const element = document.querySelector('#df-eb253e16-24b0-4225-9ee1-20dd9adc0976');\n",
              "        const dataTable =\n",
              "          await google.colab.kernel.invokeFunction('convertToInteractive',\n",
              "                                                    [key], {});\n",
              "        if (!dataTable) return;\n",
              "\n",
              "        const docLinkHtml = 'Like what you see? Visit the ' +\n",
              "          '<a target=\"_blank\" href=https://colab.research.google.com/notebooks/data_table.ipynb>data table notebook</a>'\n",
              "          + ' to learn more about interactive tables.';\n",
              "        element.innerHTML = '';\n",
              "        dataTable['output_type'] = 'display_data';\n",
              "        await google.colab.output.renderOutput(dataTable, element);\n",
              "        const docLink = document.createElement('div');\n",
              "        docLink.innerHTML = docLinkHtml;\n",
              "        element.appendChild(docLink);\n",
              "      }\n",
              "    </script>\n",
              "  </div>\n",
              "\n",
              "\n",
              "<div id=\"df-dd1e94d9-d3bd-47c8-88d0-51fc567286ba\">\n",
              "  <button class=\"colab-df-quickchart\" onclick=\"quickchart('df-dd1e94d9-d3bd-47c8-88d0-51fc567286ba')\"\n",
              "            title=\"Suggest charts.\"\n",
              "            style=\"display:none;\">\n",
              "\n",
              "<svg xmlns=\"http://www.w3.org/2000/svg\" height=\"24px\"viewBox=\"0 0 24 24\"\n",
              "     width=\"24px\">\n",
              "    <g>\n",
              "        <path d=\"M19 3H5c-1.1 0-2 .9-2 2v14c0 1.1.9 2 2 2h14c1.1 0 2-.9 2-2V5c0-1.1-.9-2-2-2zM9 17H7v-7h2v7zm4 0h-2V7h2v10zm4 0h-2v-4h2v4z\"/>\n",
              "    </g>\n",
              "</svg>\n",
              "  </button>\n",
              "\n",
              "<style>\n",
              "  .colab-df-quickchart {\n",
              "    background-color: #E8F0FE;\n",
              "    border: none;\n",
              "    border-radius: 50%;\n",
              "    cursor: pointer;\n",
              "    display: none;\n",
              "    fill: #1967D2;\n",
              "    height: 32px;\n",
              "    padding: 0 0 0 0;\n",
              "    width: 32px;\n",
              "  }\n",
              "\n",
              "  .colab-df-quickchart:hover {\n",
              "    background-color: #E2EBFA;\n",
              "    box-shadow: 0px 1px 2px rgba(60, 64, 67, 0.3), 0px 1px 3px 1px rgba(60, 64, 67, 0.15);\n",
              "    fill: #174EA6;\n",
              "  }\n",
              "\n",
              "  [theme=dark] .colab-df-quickchart {\n",
              "    background-color: #3B4455;\n",
              "    fill: #D2E3FC;\n",
              "  }\n",
              "\n",
              "  [theme=dark] .colab-df-quickchart:hover {\n",
              "    background-color: #434B5C;\n",
              "    box-shadow: 0px 1px 3px 1px rgba(0, 0, 0, 0.15);\n",
              "    filter: drop-shadow(0px 1px 2px rgba(0, 0, 0, 0.3));\n",
              "    fill: #FFFFFF;\n",
              "  }\n",
              "</style>\n",
              "\n",
              "  <script>\n",
              "    async function quickchart(key) {\n",
              "      const charts = await google.colab.kernel.invokeFunction(\n",
              "          'suggestCharts', [key], {});\n",
              "    }\n",
              "    (() => {\n",
              "      let quickchartButtonEl =\n",
              "        document.querySelector('#df-dd1e94d9-d3bd-47c8-88d0-51fc567286ba button');\n",
              "      quickchartButtonEl.style.display =\n",
              "        google.colab.kernel.accessAllowed ? 'block' : 'none';\n",
              "    })();\n",
              "  </script>\n",
              "</div>\n",
              "    </div>\n",
              "  </div>\n"
            ]
          },
          "metadata": {},
          "execution_count": 135
        }
      ]
    },
    {
      "cell_type": "code",
      "source": [
        "label3_features = pd.DataFrame(data=x_tets_pca, columns=[f'new_feature_{i+1}' for i in range(x_tets_pca.shape[1])])\n",
        "label3_features.insert(0,'Predicted labels before feature engineering',label_3_pred_before)\n",
        "label3_features.insert(1,'Predicted labels after feature engineering', label_3_pred_after)\n",
        "label3_features.insert(2,'No of new features', x_tets_pca.shape[1])"
      ],
      "metadata": {
        "id": "5XSx403-26Dm"
      },
      "execution_count": null,
      "outputs": []
    },
    {
      "cell_type": "code",
      "source": [
        "write_csv(label3_features,\"label_3\")"
      ],
      "metadata": {
        "colab": {
          "base_uri": "https://localhost:8080/"
        },
        "outputId": "18f6d448-4625-4418-ef46-7aef542d3864",
        "id": "nkkrLf6A26Dm"
      },
      "execution_count": null,
      "outputs": [
        {
          "output_type": "stream",
          "name": "stderr",
          "text": [
            "<ipython-input-66-b9b89ec60ecf>:3: PerformanceWarning: DataFrame is highly fragmented.  This is usually the result of calling `frame.insert` many times, which has poor performance.  Consider joining all columns at once using pd.concat(axis=1) instead. To get a de-fragmented frame, use `newframe = frame.copy()`\n",
            "  feature_df[f'new_feature_{i+1}'] = pd.NA\n",
            "<ipython-input-66-b9b89ec60ecf>:3: PerformanceWarning: DataFrame is highly fragmented.  This is usually the result of calling `frame.insert` many times, which has poor performance.  Consider joining all columns at once using pd.concat(axis=1) instead. To get a de-fragmented frame, use `newframe = frame.copy()`\n",
            "  feature_df[f'new_feature_{i+1}'] = pd.NA\n",
            "<ipython-input-66-b9b89ec60ecf>:3: PerformanceWarning: DataFrame is highly fragmented.  This is usually the result of calling `frame.insert` many times, which has poor performance.  Consider joining all columns at once using pd.concat(axis=1) instead. To get a de-fragmented frame, use `newframe = frame.copy()`\n",
            "  feature_df[f'new_feature_{i+1}'] = pd.NA\n",
            "<ipython-input-66-b9b89ec60ecf>:3: PerformanceWarning: DataFrame is highly fragmented.  This is usually the result of calling `frame.insert` many times, which has poor performance.  Consider joining all columns at once using pd.concat(axis=1) instead. To get a de-fragmented frame, use `newframe = frame.copy()`\n",
            "  feature_df[f'new_feature_{i+1}'] = pd.NA\n",
            "<ipython-input-66-b9b89ec60ecf>:3: PerformanceWarning: DataFrame is highly fragmented.  This is usually the result of calling `frame.insert` many times, which has poor performance.  Consider joining all columns at once using pd.concat(axis=1) instead. To get a de-fragmented frame, use `newframe = frame.copy()`\n",
            "  feature_df[f'new_feature_{i+1}'] = pd.NA\n",
            "<ipython-input-66-b9b89ec60ecf>:3: PerformanceWarning: DataFrame is highly fragmented.  This is usually the result of calling `frame.insert` many times, which has poor performance.  Consider joining all columns at once using pd.concat(axis=1) instead. To get a de-fragmented frame, use `newframe = frame.copy()`\n",
            "  feature_df[f'new_feature_{i+1}'] = pd.NA\n",
            "<ipython-input-66-b9b89ec60ecf>:3: PerformanceWarning: DataFrame is highly fragmented.  This is usually the result of calling `frame.insert` many times, which has poor performance.  Consider joining all columns at once using pd.concat(axis=1) instead. To get a de-fragmented frame, use `newframe = frame.copy()`\n",
            "  feature_df[f'new_feature_{i+1}'] = pd.NA\n",
            "<ipython-input-66-b9b89ec60ecf>:3: PerformanceWarning: DataFrame is highly fragmented.  This is usually the result of calling `frame.insert` many times, which has poor performance.  Consider joining all columns at once using pd.concat(axis=1) instead. To get a de-fragmented frame, use `newframe = frame.copy()`\n",
            "  feature_df[f'new_feature_{i+1}'] = pd.NA\n",
            "<ipython-input-66-b9b89ec60ecf>:3: PerformanceWarning: DataFrame is highly fragmented.  This is usually the result of calling `frame.insert` many times, which has poor performance.  Consider joining all columns at once using pd.concat(axis=1) instead. To get a de-fragmented frame, use `newframe = frame.copy()`\n",
            "  feature_df[f'new_feature_{i+1}'] = pd.NA\n",
            "<ipython-input-66-b9b89ec60ecf>:3: PerformanceWarning: DataFrame is highly fragmented.  This is usually the result of calling `frame.insert` many times, which has poor performance.  Consider joining all columns at once using pd.concat(axis=1) instead. To get a de-fragmented frame, use `newframe = frame.copy()`\n",
            "  feature_df[f'new_feature_{i+1}'] = pd.NA\n",
            "<ipython-input-66-b9b89ec60ecf>:3: PerformanceWarning: DataFrame is highly fragmented.  This is usually the result of calling `frame.insert` many times, which has poor performance.  Consider joining all columns at once using pd.concat(axis=1) instead. To get a de-fragmented frame, use `newframe = frame.copy()`\n",
            "  feature_df[f'new_feature_{i+1}'] = pd.NA\n",
            "<ipython-input-66-b9b89ec60ecf>:3: PerformanceWarning: DataFrame is highly fragmented.  This is usually the result of calling `frame.insert` many times, which has poor performance.  Consider joining all columns at once using pd.concat(axis=1) instead. To get a de-fragmented frame, use `newframe = frame.copy()`\n",
            "  feature_df[f'new_feature_{i+1}'] = pd.NA\n",
            "<ipython-input-66-b9b89ec60ecf>:3: PerformanceWarning: DataFrame is highly fragmented.  This is usually the result of calling `frame.insert` many times, which has poor performance.  Consider joining all columns at once using pd.concat(axis=1) instead. To get a de-fragmented frame, use `newframe = frame.copy()`\n",
            "  feature_df[f'new_feature_{i+1}'] = pd.NA\n",
            "<ipython-input-66-b9b89ec60ecf>:3: PerformanceWarning: DataFrame is highly fragmented.  This is usually the result of calling `frame.insert` many times, which has poor performance.  Consider joining all columns at once using pd.concat(axis=1) instead. To get a de-fragmented frame, use `newframe = frame.copy()`\n",
            "  feature_df[f'new_feature_{i+1}'] = pd.NA\n",
            "<ipython-input-66-b9b89ec60ecf>:3: PerformanceWarning: DataFrame is highly fragmented.  This is usually the result of calling `frame.insert` many times, which has poor performance.  Consider joining all columns at once using pd.concat(axis=1) instead. To get a de-fragmented frame, use `newframe = frame.copy()`\n",
            "  feature_df[f'new_feature_{i+1}'] = pd.NA\n",
            "<ipython-input-66-b9b89ec60ecf>:3: PerformanceWarning: DataFrame is highly fragmented.  This is usually the result of calling `frame.insert` many times, which has poor performance.  Consider joining all columns at once using pd.concat(axis=1) instead. To get a de-fragmented frame, use `newframe = frame.copy()`\n",
            "  feature_df[f'new_feature_{i+1}'] = pd.NA\n",
            "<ipython-input-66-b9b89ec60ecf>:3: PerformanceWarning: DataFrame is highly fragmented.  This is usually the result of calling `frame.insert` many times, which has poor performance.  Consider joining all columns at once using pd.concat(axis=1) instead. To get a de-fragmented frame, use `newframe = frame.copy()`\n",
            "  feature_df[f'new_feature_{i+1}'] = pd.NA\n",
            "<ipython-input-66-b9b89ec60ecf>:3: PerformanceWarning: DataFrame is highly fragmented.  This is usually the result of calling `frame.insert` many times, which has poor performance.  Consider joining all columns at once using pd.concat(axis=1) instead. To get a de-fragmented frame, use `newframe = frame.copy()`\n",
            "  feature_df[f'new_feature_{i+1}'] = pd.NA\n",
            "<ipython-input-66-b9b89ec60ecf>:3: PerformanceWarning: DataFrame is highly fragmented.  This is usually the result of calling `frame.insert` many times, which has poor performance.  Consider joining all columns at once using pd.concat(axis=1) instead. To get a de-fragmented frame, use `newframe = frame.copy()`\n",
            "  feature_df[f'new_feature_{i+1}'] = pd.NA\n",
            "<ipython-input-66-b9b89ec60ecf>:3: PerformanceWarning: DataFrame is highly fragmented.  This is usually the result of calling `frame.insert` many times, which has poor performance.  Consider joining all columns at once using pd.concat(axis=1) instead. To get a de-fragmented frame, use `newframe = frame.copy()`\n",
            "  feature_df[f'new_feature_{i+1}'] = pd.NA\n",
            "<ipython-input-66-b9b89ec60ecf>:3: PerformanceWarning: DataFrame is highly fragmented.  This is usually the result of calling `frame.insert` many times, which has poor performance.  Consider joining all columns at once using pd.concat(axis=1) instead. To get a de-fragmented frame, use `newframe = frame.copy()`\n",
            "  feature_df[f'new_feature_{i+1}'] = pd.NA\n",
            "<ipython-input-66-b9b89ec60ecf>:3: PerformanceWarning: DataFrame is highly fragmented.  This is usually the result of calling `frame.insert` many times, which has poor performance.  Consider joining all columns at once using pd.concat(axis=1) instead. To get a de-fragmented frame, use `newframe = frame.copy()`\n",
            "  feature_df[f'new_feature_{i+1}'] = pd.NA\n",
            "<ipython-input-66-b9b89ec60ecf>:3: PerformanceWarning: DataFrame is highly fragmented.  This is usually the result of calling `frame.insert` many times, which has poor performance.  Consider joining all columns at once using pd.concat(axis=1) instead. To get a de-fragmented frame, use `newframe = frame.copy()`\n",
            "  feature_df[f'new_feature_{i+1}'] = pd.NA\n",
            "<ipython-input-66-b9b89ec60ecf>:3: PerformanceWarning: DataFrame is highly fragmented.  This is usually the result of calling `frame.insert` many times, which has poor performance.  Consider joining all columns at once using pd.concat(axis=1) instead. To get a de-fragmented frame, use `newframe = frame.copy()`\n",
            "  feature_df[f'new_feature_{i+1}'] = pd.NA\n",
            "<ipython-input-66-b9b89ec60ecf>:3: PerformanceWarning: DataFrame is highly fragmented.  This is usually the result of calling `frame.insert` many times, which has poor performance.  Consider joining all columns at once using pd.concat(axis=1) instead. To get a de-fragmented frame, use `newframe = frame.copy()`\n",
            "  feature_df[f'new_feature_{i+1}'] = pd.NA\n",
            "<ipython-input-66-b9b89ec60ecf>:3: PerformanceWarning: DataFrame is highly fragmented.  This is usually the result of calling `frame.insert` many times, which has poor performance.  Consider joining all columns at once using pd.concat(axis=1) instead. To get a de-fragmented frame, use `newframe = frame.copy()`\n",
            "  feature_df[f'new_feature_{i+1}'] = pd.NA\n",
            "<ipython-input-66-b9b89ec60ecf>:3: PerformanceWarning: DataFrame is highly fragmented.  This is usually the result of calling `frame.insert` many times, which has poor performance.  Consider joining all columns at once using pd.concat(axis=1) instead. To get a de-fragmented frame, use `newframe = frame.copy()`\n",
            "  feature_df[f'new_feature_{i+1}'] = pd.NA\n",
            "<ipython-input-66-b9b89ec60ecf>:3: PerformanceWarning: DataFrame is highly fragmented.  This is usually the result of calling `frame.insert` many times, which has poor performance.  Consider joining all columns at once using pd.concat(axis=1) instead. To get a de-fragmented frame, use `newframe = frame.copy()`\n",
            "  feature_df[f'new_feature_{i+1}'] = pd.NA\n",
            "<ipython-input-66-b9b89ec60ecf>:3: PerformanceWarning: DataFrame is highly fragmented.  This is usually the result of calling `frame.insert` many times, which has poor performance.  Consider joining all columns at once using pd.concat(axis=1) instead. To get a de-fragmented frame, use `newframe = frame.copy()`\n",
            "  feature_df[f'new_feature_{i+1}'] = pd.NA\n",
            "<ipython-input-66-b9b89ec60ecf>:3: PerformanceWarning: DataFrame is highly fragmented.  This is usually the result of calling `frame.insert` many times, which has poor performance.  Consider joining all columns at once using pd.concat(axis=1) instead. To get a de-fragmented frame, use `newframe = frame.copy()`\n",
            "  feature_df[f'new_feature_{i+1}'] = pd.NA\n",
            "<ipython-input-66-b9b89ec60ecf>:3: PerformanceWarning: DataFrame is highly fragmented.  This is usually the result of calling `frame.insert` many times, which has poor performance.  Consider joining all columns at once using pd.concat(axis=1) instead. To get a de-fragmented frame, use `newframe = frame.copy()`\n",
            "  feature_df[f'new_feature_{i+1}'] = pd.NA\n",
            "<ipython-input-66-b9b89ec60ecf>:3: PerformanceWarning: DataFrame is highly fragmented.  This is usually the result of calling `frame.insert` many times, which has poor performance.  Consider joining all columns at once using pd.concat(axis=1) instead. To get a de-fragmented frame, use `newframe = frame.copy()`\n",
            "  feature_df[f'new_feature_{i+1}'] = pd.NA\n",
            "<ipython-input-66-b9b89ec60ecf>:3: PerformanceWarning: DataFrame is highly fragmented.  This is usually the result of calling `frame.insert` many times, which has poor performance.  Consider joining all columns at once using pd.concat(axis=1) instead. To get a de-fragmented frame, use `newframe = frame.copy()`\n",
            "  feature_df[f'new_feature_{i+1}'] = pd.NA\n",
            "<ipython-input-66-b9b89ec60ecf>:3: PerformanceWarning: DataFrame is highly fragmented.  This is usually the result of calling `frame.insert` many times, which has poor performance.  Consider joining all columns at once using pd.concat(axis=1) instead. To get a de-fragmented frame, use `newframe = frame.copy()`\n",
            "  feature_df[f'new_feature_{i+1}'] = pd.NA\n",
            "<ipython-input-66-b9b89ec60ecf>:3: PerformanceWarning: DataFrame is highly fragmented.  This is usually the result of calling `frame.insert` many times, which has poor performance.  Consider joining all columns at once using pd.concat(axis=1) instead. To get a de-fragmented frame, use `newframe = frame.copy()`\n",
            "  feature_df[f'new_feature_{i+1}'] = pd.NA\n",
            "<ipython-input-66-b9b89ec60ecf>:3: PerformanceWarning: DataFrame is highly fragmented.  This is usually the result of calling `frame.insert` many times, which has poor performance.  Consider joining all columns at once using pd.concat(axis=1) instead. To get a de-fragmented frame, use `newframe = frame.copy()`\n",
            "  feature_df[f'new_feature_{i+1}'] = pd.NA\n",
            "<ipython-input-66-b9b89ec60ecf>:3: PerformanceWarning: DataFrame is highly fragmented.  This is usually the result of calling `frame.insert` many times, which has poor performance.  Consider joining all columns at once using pd.concat(axis=1) instead. To get a de-fragmented frame, use `newframe = frame.copy()`\n",
            "  feature_df[f'new_feature_{i+1}'] = pd.NA\n",
            "<ipython-input-66-b9b89ec60ecf>:3: PerformanceWarning: DataFrame is highly fragmented.  This is usually the result of calling `frame.insert` many times, which has poor performance.  Consider joining all columns at once using pd.concat(axis=1) instead. To get a de-fragmented frame, use `newframe = frame.copy()`\n",
            "  feature_df[f'new_feature_{i+1}'] = pd.NA\n",
            "<ipython-input-66-b9b89ec60ecf>:3: PerformanceWarning: DataFrame is highly fragmented.  This is usually the result of calling `frame.insert` many times, which has poor performance.  Consider joining all columns at once using pd.concat(axis=1) instead. To get a de-fragmented frame, use `newframe = frame.copy()`\n",
            "  feature_df[f'new_feature_{i+1}'] = pd.NA\n",
            "<ipython-input-66-b9b89ec60ecf>:3: PerformanceWarning: DataFrame is highly fragmented.  This is usually the result of calling `frame.insert` many times, which has poor performance.  Consider joining all columns at once using pd.concat(axis=1) instead. To get a de-fragmented frame, use `newframe = frame.copy()`\n",
            "  feature_df[f'new_feature_{i+1}'] = pd.NA\n",
            "<ipython-input-66-b9b89ec60ecf>:3: PerformanceWarning: DataFrame is highly fragmented.  This is usually the result of calling `frame.insert` many times, which has poor performance.  Consider joining all columns at once using pd.concat(axis=1) instead. To get a de-fragmented frame, use `newframe = frame.copy()`\n",
            "  feature_df[f'new_feature_{i+1}'] = pd.NA\n",
            "<ipython-input-66-b9b89ec60ecf>:3: PerformanceWarning: DataFrame is highly fragmented.  This is usually the result of calling `frame.insert` many times, which has poor performance.  Consider joining all columns at once using pd.concat(axis=1) instead. To get a de-fragmented frame, use `newframe = frame.copy()`\n",
            "  feature_df[f'new_feature_{i+1}'] = pd.NA\n",
            "<ipython-input-66-b9b89ec60ecf>:3: PerformanceWarning: DataFrame is highly fragmented.  This is usually the result of calling `frame.insert` many times, which has poor performance.  Consider joining all columns at once using pd.concat(axis=1) instead. To get a de-fragmented frame, use `newframe = frame.copy()`\n",
            "  feature_df[f'new_feature_{i+1}'] = pd.NA\n",
            "<ipython-input-66-b9b89ec60ecf>:3: PerformanceWarning: DataFrame is highly fragmented.  This is usually the result of calling `frame.insert` many times, which has poor performance.  Consider joining all columns at once using pd.concat(axis=1) instead. To get a de-fragmented frame, use `newframe = frame.copy()`\n",
            "  feature_df[f'new_feature_{i+1}'] = pd.NA\n",
            "<ipython-input-66-b9b89ec60ecf>:3: PerformanceWarning: DataFrame is highly fragmented.  This is usually the result of calling `frame.insert` many times, which has poor performance.  Consider joining all columns at once using pd.concat(axis=1) instead. To get a de-fragmented frame, use `newframe = frame.copy()`\n",
            "  feature_df[f'new_feature_{i+1}'] = pd.NA\n",
            "<ipython-input-66-b9b89ec60ecf>:3: PerformanceWarning: DataFrame is highly fragmented.  This is usually the result of calling `frame.insert` many times, which has poor performance.  Consider joining all columns at once using pd.concat(axis=1) instead. To get a de-fragmented frame, use `newframe = frame.copy()`\n",
            "  feature_df[f'new_feature_{i+1}'] = pd.NA\n",
            "<ipython-input-66-b9b89ec60ecf>:3: PerformanceWarning: DataFrame is highly fragmented.  This is usually the result of calling `frame.insert` many times, which has poor performance.  Consider joining all columns at once using pd.concat(axis=1) instead. To get a de-fragmented frame, use `newframe = frame.copy()`\n",
            "  feature_df[f'new_feature_{i+1}'] = pd.NA\n",
            "<ipython-input-66-b9b89ec60ecf>:3: PerformanceWarning: DataFrame is highly fragmented.  This is usually the result of calling `frame.insert` many times, which has poor performance.  Consider joining all columns at once using pd.concat(axis=1) instead. To get a de-fragmented frame, use `newframe = frame.copy()`\n",
            "  feature_df[f'new_feature_{i+1}'] = pd.NA\n",
            "<ipython-input-66-b9b89ec60ecf>:3: PerformanceWarning: DataFrame is highly fragmented.  This is usually the result of calling `frame.insert` many times, which has poor performance.  Consider joining all columns at once using pd.concat(axis=1) instead. To get a de-fragmented frame, use `newframe = frame.copy()`\n",
            "  feature_df[f'new_feature_{i+1}'] = pd.NA\n",
            "<ipython-input-66-b9b89ec60ecf>:3: PerformanceWarning: DataFrame is highly fragmented.  This is usually the result of calling `frame.insert` many times, which has poor performance.  Consider joining all columns at once using pd.concat(axis=1) instead. To get a de-fragmented frame, use `newframe = frame.copy()`\n",
            "  feature_df[f'new_feature_{i+1}'] = pd.NA\n",
            "<ipython-input-66-b9b89ec60ecf>:3: PerformanceWarning: DataFrame is highly fragmented.  This is usually the result of calling `frame.insert` many times, which has poor performance.  Consider joining all columns at once using pd.concat(axis=1) instead. To get a de-fragmented frame, use `newframe = frame.copy()`\n",
            "  feature_df[f'new_feature_{i+1}'] = pd.NA\n",
            "<ipython-input-66-b9b89ec60ecf>:3: PerformanceWarning: DataFrame is highly fragmented.  This is usually the result of calling `frame.insert` many times, which has poor performance.  Consider joining all columns at once using pd.concat(axis=1) instead. To get a de-fragmented frame, use `newframe = frame.copy()`\n",
            "  feature_df[f'new_feature_{i+1}'] = pd.NA\n",
            "<ipython-input-66-b9b89ec60ecf>:3: PerformanceWarning: DataFrame is highly fragmented.  This is usually the result of calling `frame.insert` many times, which has poor performance.  Consider joining all columns at once using pd.concat(axis=1) instead. To get a de-fragmented frame, use `newframe = frame.copy()`\n",
            "  feature_df[f'new_feature_{i+1}'] = pd.NA\n",
            "<ipython-input-66-b9b89ec60ecf>:3: PerformanceWarning: DataFrame is highly fragmented.  This is usually the result of calling `frame.insert` many times, which has poor performance.  Consider joining all columns at once using pd.concat(axis=1) instead. To get a de-fragmented frame, use `newframe = frame.copy()`\n",
            "  feature_df[f'new_feature_{i+1}'] = pd.NA\n",
            "<ipython-input-66-b9b89ec60ecf>:3: PerformanceWarning: DataFrame is highly fragmented.  This is usually the result of calling `frame.insert` many times, which has poor performance.  Consider joining all columns at once using pd.concat(axis=1) instead. To get a de-fragmented frame, use `newframe = frame.copy()`\n",
            "  feature_df[f'new_feature_{i+1}'] = pd.NA\n",
            "<ipython-input-66-b9b89ec60ecf>:3: PerformanceWarning: DataFrame is highly fragmented.  This is usually the result of calling `frame.insert` many times, which has poor performance.  Consider joining all columns at once using pd.concat(axis=1) instead. To get a de-fragmented frame, use `newframe = frame.copy()`\n",
            "  feature_df[f'new_feature_{i+1}'] = pd.NA\n",
            "<ipython-input-66-b9b89ec60ecf>:3: PerformanceWarning: DataFrame is highly fragmented.  This is usually the result of calling `frame.insert` many times, which has poor performance.  Consider joining all columns at once using pd.concat(axis=1) instead. To get a de-fragmented frame, use `newframe = frame.copy()`\n",
            "  feature_df[f'new_feature_{i+1}'] = pd.NA\n",
            "<ipython-input-66-b9b89ec60ecf>:3: PerformanceWarning: DataFrame is highly fragmented.  This is usually the result of calling `frame.insert` many times, which has poor performance.  Consider joining all columns at once using pd.concat(axis=1) instead. To get a de-fragmented frame, use `newframe = frame.copy()`\n",
            "  feature_df[f'new_feature_{i+1}'] = pd.NA\n",
            "<ipython-input-66-b9b89ec60ecf>:3: PerformanceWarning: DataFrame is highly fragmented.  This is usually the result of calling `frame.insert` many times, which has poor performance.  Consider joining all columns at once using pd.concat(axis=1) instead. To get a de-fragmented frame, use `newframe = frame.copy()`\n",
            "  feature_df[f'new_feature_{i+1}'] = pd.NA\n",
            "<ipython-input-66-b9b89ec60ecf>:3: PerformanceWarning: DataFrame is highly fragmented.  This is usually the result of calling `frame.insert` many times, which has poor performance.  Consider joining all columns at once using pd.concat(axis=1) instead. To get a de-fragmented frame, use `newframe = frame.copy()`\n",
            "  feature_df[f'new_feature_{i+1}'] = pd.NA\n",
            "<ipython-input-66-b9b89ec60ecf>:3: PerformanceWarning: DataFrame is highly fragmented.  This is usually the result of calling `frame.insert` many times, which has poor performance.  Consider joining all columns at once using pd.concat(axis=1) instead. To get a de-fragmented frame, use `newframe = frame.copy()`\n",
            "  feature_df[f'new_feature_{i+1}'] = pd.NA\n",
            "<ipython-input-66-b9b89ec60ecf>:3: PerformanceWarning: DataFrame is highly fragmented.  This is usually the result of calling `frame.insert` many times, which has poor performance.  Consider joining all columns at once using pd.concat(axis=1) instead. To get a de-fragmented frame, use `newframe = frame.copy()`\n",
            "  feature_df[f'new_feature_{i+1}'] = pd.NA\n",
            "<ipython-input-66-b9b89ec60ecf>:3: PerformanceWarning: DataFrame is highly fragmented.  This is usually the result of calling `frame.insert` many times, which has poor performance.  Consider joining all columns at once using pd.concat(axis=1) instead. To get a de-fragmented frame, use `newframe = frame.copy()`\n",
            "  feature_df[f'new_feature_{i+1}'] = pd.NA\n",
            "<ipython-input-66-b9b89ec60ecf>:3: PerformanceWarning: DataFrame is highly fragmented.  This is usually the result of calling `frame.insert` many times, which has poor performance.  Consider joining all columns at once using pd.concat(axis=1) instead. To get a de-fragmented frame, use `newframe = frame.copy()`\n",
            "  feature_df[f'new_feature_{i+1}'] = pd.NA\n",
            "<ipython-input-66-b9b89ec60ecf>:3: PerformanceWarning: DataFrame is highly fragmented.  This is usually the result of calling `frame.insert` many times, which has poor performance.  Consider joining all columns at once using pd.concat(axis=1) instead. To get a de-fragmented frame, use `newframe = frame.copy()`\n",
            "  feature_df[f'new_feature_{i+1}'] = pd.NA\n",
            "<ipython-input-66-b9b89ec60ecf>:3: PerformanceWarning: DataFrame is highly fragmented.  This is usually the result of calling `frame.insert` many times, which has poor performance.  Consider joining all columns at once using pd.concat(axis=1) instead. To get a de-fragmented frame, use `newframe = frame.copy()`\n",
            "  feature_df[f'new_feature_{i+1}'] = pd.NA\n",
            "<ipython-input-66-b9b89ec60ecf>:3: PerformanceWarning: DataFrame is highly fragmented.  This is usually the result of calling `frame.insert` many times, which has poor performance.  Consider joining all columns at once using pd.concat(axis=1) instead. To get a de-fragmented frame, use `newframe = frame.copy()`\n",
            "  feature_df[f'new_feature_{i+1}'] = pd.NA\n",
            "<ipython-input-66-b9b89ec60ecf>:3: PerformanceWarning: DataFrame is highly fragmented.  This is usually the result of calling `frame.insert` many times, which has poor performance.  Consider joining all columns at once using pd.concat(axis=1) instead. To get a de-fragmented frame, use `newframe = frame.copy()`\n",
            "  feature_df[f'new_feature_{i+1}'] = pd.NA\n",
            "<ipython-input-66-b9b89ec60ecf>:3: PerformanceWarning: DataFrame is highly fragmented.  This is usually the result of calling `frame.insert` many times, which has poor performance.  Consider joining all columns at once using pd.concat(axis=1) instead. To get a de-fragmented frame, use `newframe = frame.copy()`\n",
            "  feature_df[f'new_feature_{i+1}'] = pd.NA\n",
            "<ipython-input-66-b9b89ec60ecf>:3: PerformanceWarning: DataFrame is highly fragmented.  This is usually the result of calling `frame.insert` many times, which has poor performance.  Consider joining all columns at once using pd.concat(axis=1) instead. To get a de-fragmented frame, use `newframe = frame.copy()`\n",
            "  feature_df[f'new_feature_{i+1}'] = pd.NA\n",
            "<ipython-input-66-b9b89ec60ecf>:3: PerformanceWarning: DataFrame is highly fragmented.  This is usually the result of calling `frame.insert` many times, which has poor performance.  Consider joining all columns at once using pd.concat(axis=1) instead. To get a de-fragmented frame, use `newframe = frame.copy()`\n",
            "  feature_df[f'new_feature_{i+1}'] = pd.NA\n",
            "<ipython-input-66-b9b89ec60ecf>:3: PerformanceWarning: DataFrame is highly fragmented.  This is usually the result of calling `frame.insert` many times, which has poor performance.  Consider joining all columns at once using pd.concat(axis=1) instead. To get a de-fragmented frame, use `newframe = frame.copy()`\n",
            "  feature_df[f'new_feature_{i+1}'] = pd.NA\n",
            "<ipython-input-66-b9b89ec60ecf>:3: PerformanceWarning: DataFrame is highly fragmented.  This is usually the result of calling `frame.insert` many times, which has poor performance.  Consider joining all columns at once using pd.concat(axis=1) instead. To get a de-fragmented frame, use `newframe = frame.copy()`\n",
            "  feature_df[f'new_feature_{i+1}'] = pd.NA\n",
            "<ipython-input-66-b9b89ec60ecf>:3: PerformanceWarning: DataFrame is highly fragmented.  This is usually the result of calling `frame.insert` many times, which has poor performance.  Consider joining all columns at once using pd.concat(axis=1) instead. To get a de-fragmented frame, use `newframe = frame.copy()`\n",
            "  feature_df[f'new_feature_{i+1}'] = pd.NA\n",
            "<ipython-input-66-b9b89ec60ecf>:3: PerformanceWarning: DataFrame is highly fragmented.  This is usually the result of calling `frame.insert` many times, which has poor performance.  Consider joining all columns at once using pd.concat(axis=1) instead. To get a de-fragmented frame, use `newframe = frame.copy()`\n",
            "  feature_df[f'new_feature_{i+1}'] = pd.NA\n",
            "<ipython-input-66-b9b89ec60ecf>:3: PerformanceWarning: DataFrame is highly fragmented.  This is usually the result of calling `frame.insert` many times, which has poor performance.  Consider joining all columns at once using pd.concat(axis=1) instead. To get a de-fragmented frame, use `newframe = frame.copy()`\n",
            "  feature_df[f'new_feature_{i+1}'] = pd.NA\n",
            "<ipython-input-66-b9b89ec60ecf>:3: PerformanceWarning: DataFrame is highly fragmented.  This is usually the result of calling `frame.insert` many times, which has poor performance.  Consider joining all columns at once using pd.concat(axis=1) instead. To get a de-fragmented frame, use `newframe = frame.copy()`\n",
            "  feature_df[f'new_feature_{i+1}'] = pd.NA\n",
            "<ipython-input-66-b9b89ec60ecf>:3: PerformanceWarning: DataFrame is highly fragmented.  This is usually the result of calling `frame.insert` many times, which has poor performance.  Consider joining all columns at once using pd.concat(axis=1) instead. To get a de-fragmented frame, use `newframe = frame.copy()`\n",
            "  feature_df[f'new_feature_{i+1}'] = pd.NA\n",
            "<ipython-input-66-b9b89ec60ecf>:3: PerformanceWarning: DataFrame is highly fragmented.  This is usually the result of calling `frame.insert` many times, which has poor performance.  Consider joining all columns at once using pd.concat(axis=1) instead. To get a de-fragmented frame, use `newframe = frame.copy()`\n",
            "  feature_df[f'new_feature_{i+1}'] = pd.NA\n",
            "<ipython-input-66-b9b89ec60ecf>:3: PerformanceWarning: DataFrame is highly fragmented.  This is usually the result of calling `frame.insert` many times, which has poor performance.  Consider joining all columns at once using pd.concat(axis=1) instead. To get a de-fragmented frame, use `newframe = frame.copy()`\n",
            "  feature_df[f'new_feature_{i+1}'] = pd.NA\n",
            "<ipython-input-66-b9b89ec60ecf>:3: PerformanceWarning: DataFrame is highly fragmented.  This is usually the result of calling `frame.insert` many times, which has poor performance.  Consider joining all columns at once using pd.concat(axis=1) instead. To get a de-fragmented frame, use `newframe = frame.copy()`\n",
            "  feature_df[f'new_feature_{i+1}'] = pd.NA\n",
            "<ipython-input-66-b9b89ec60ecf>:3: PerformanceWarning: DataFrame is highly fragmented.  This is usually the result of calling `frame.insert` many times, which has poor performance.  Consider joining all columns at once using pd.concat(axis=1) instead. To get a de-fragmented frame, use `newframe = frame.copy()`\n",
            "  feature_df[f'new_feature_{i+1}'] = pd.NA\n",
            "<ipython-input-66-b9b89ec60ecf>:3: PerformanceWarning: DataFrame is highly fragmented.  This is usually the result of calling `frame.insert` many times, which has poor performance.  Consider joining all columns at once using pd.concat(axis=1) instead. To get a de-fragmented frame, use `newframe = frame.copy()`\n",
            "  feature_df[f'new_feature_{i+1}'] = pd.NA\n",
            "<ipython-input-66-b9b89ec60ecf>:3: PerformanceWarning: DataFrame is highly fragmented.  This is usually the result of calling `frame.insert` many times, which has poor performance.  Consider joining all columns at once using pd.concat(axis=1) instead. To get a de-fragmented frame, use `newframe = frame.copy()`\n",
            "  feature_df[f'new_feature_{i+1}'] = pd.NA\n",
            "<ipython-input-66-b9b89ec60ecf>:3: PerformanceWarning: DataFrame is highly fragmented.  This is usually the result of calling `frame.insert` many times, which has poor performance.  Consider joining all columns at once using pd.concat(axis=1) instead. To get a de-fragmented frame, use `newframe = frame.copy()`\n",
            "  feature_df[f'new_feature_{i+1}'] = pd.NA\n",
            "<ipython-input-66-b9b89ec60ecf>:3: PerformanceWarning: DataFrame is highly fragmented.  This is usually the result of calling `frame.insert` many times, which has poor performance.  Consider joining all columns at once using pd.concat(axis=1) instead. To get a de-fragmented frame, use `newframe = frame.copy()`\n",
            "  feature_df[f'new_feature_{i+1}'] = pd.NA\n",
            "<ipython-input-66-b9b89ec60ecf>:3: PerformanceWarning: DataFrame is highly fragmented.  This is usually the result of calling `frame.insert` many times, which has poor performance.  Consider joining all columns at once using pd.concat(axis=1) instead. To get a de-fragmented frame, use `newframe = frame.copy()`\n",
            "  feature_df[f'new_feature_{i+1}'] = pd.NA\n",
            "<ipython-input-66-b9b89ec60ecf>:3: PerformanceWarning: DataFrame is highly fragmented.  This is usually the result of calling `frame.insert` many times, which has poor performance.  Consider joining all columns at once using pd.concat(axis=1) instead. To get a de-fragmented frame, use `newframe = frame.copy()`\n",
            "  feature_df[f'new_feature_{i+1}'] = pd.NA\n",
            "<ipython-input-66-b9b89ec60ecf>:3: PerformanceWarning: DataFrame is highly fragmented.  This is usually the result of calling `frame.insert` many times, which has poor performance.  Consider joining all columns at once using pd.concat(axis=1) instead. To get a de-fragmented frame, use `newframe = frame.copy()`\n",
            "  feature_df[f'new_feature_{i+1}'] = pd.NA\n",
            "<ipython-input-66-b9b89ec60ecf>:3: PerformanceWarning: DataFrame is highly fragmented.  This is usually the result of calling `frame.insert` many times, which has poor performance.  Consider joining all columns at once using pd.concat(axis=1) instead. To get a de-fragmented frame, use `newframe = frame.copy()`\n",
            "  feature_df[f'new_feature_{i+1}'] = pd.NA\n",
            "<ipython-input-66-b9b89ec60ecf>:3: PerformanceWarning: DataFrame is highly fragmented.  This is usually the result of calling `frame.insert` many times, which has poor performance.  Consider joining all columns at once using pd.concat(axis=1) instead. To get a de-fragmented frame, use `newframe = frame.copy()`\n",
            "  feature_df[f'new_feature_{i+1}'] = pd.NA\n",
            "<ipython-input-66-b9b89ec60ecf>:3: PerformanceWarning: DataFrame is highly fragmented.  This is usually the result of calling `frame.insert` many times, which has poor performance.  Consider joining all columns at once using pd.concat(axis=1) instead. To get a de-fragmented frame, use `newframe = frame.copy()`\n",
            "  feature_df[f'new_feature_{i+1}'] = pd.NA\n",
            "<ipython-input-66-b9b89ec60ecf>:3: PerformanceWarning: DataFrame is highly fragmented.  This is usually the result of calling `frame.insert` many times, which has poor performance.  Consider joining all columns at once using pd.concat(axis=1) instead. To get a de-fragmented frame, use `newframe = frame.copy()`\n",
            "  feature_df[f'new_feature_{i+1}'] = pd.NA\n",
            "<ipython-input-66-b9b89ec60ecf>:3: PerformanceWarning: DataFrame is highly fragmented.  This is usually the result of calling `frame.insert` many times, which has poor performance.  Consider joining all columns at once using pd.concat(axis=1) instead. To get a de-fragmented frame, use `newframe = frame.copy()`\n",
            "  feature_df[f'new_feature_{i+1}'] = pd.NA\n",
            "<ipython-input-66-b9b89ec60ecf>:3: PerformanceWarning: DataFrame is highly fragmented.  This is usually the result of calling `frame.insert` many times, which has poor performance.  Consider joining all columns at once using pd.concat(axis=1) instead. To get a de-fragmented frame, use `newframe = frame.copy()`\n",
            "  feature_df[f'new_feature_{i+1}'] = pd.NA\n",
            "<ipython-input-66-b9b89ec60ecf>:3: PerformanceWarning: DataFrame is highly fragmented.  This is usually the result of calling `frame.insert` many times, which has poor performance.  Consider joining all columns at once using pd.concat(axis=1) instead. To get a de-fragmented frame, use `newframe = frame.copy()`\n",
            "  feature_df[f'new_feature_{i+1}'] = pd.NA\n",
            "<ipython-input-66-b9b89ec60ecf>:3: PerformanceWarning: DataFrame is highly fragmented.  This is usually the result of calling `frame.insert` many times, which has poor performance.  Consider joining all columns at once using pd.concat(axis=1) instead. To get a de-fragmented frame, use `newframe = frame.copy()`\n",
            "  feature_df[f'new_feature_{i+1}'] = pd.NA\n",
            "<ipython-input-66-b9b89ec60ecf>:3: PerformanceWarning: DataFrame is highly fragmented.  This is usually the result of calling `frame.insert` many times, which has poor performance.  Consider joining all columns at once using pd.concat(axis=1) instead. To get a de-fragmented frame, use `newframe = frame.copy()`\n",
            "  feature_df[f'new_feature_{i+1}'] = pd.NA\n",
            "<ipython-input-66-b9b89ec60ecf>:3: PerformanceWarning: DataFrame is highly fragmented.  This is usually the result of calling `frame.insert` many times, which has poor performance.  Consider joining all columns at once using pd.concat(axis=1) instead. To get a de-fragmented frame, use `newframe = frame.copy()`\n",
            "  feature_df[f'new_feature_{i+1}'] = pd.NA\n",
            "<ipython-input-66-b9b89ec60ecf>:3: PerformanceWarning: DataFrame is highly fragmented.  This is usually the result of calling `frame.insert` many times, which has poor performance.  Consider joining all columns at once using pd.concat(axis=1) instead. To get a de-fragmented frame, use `newframe = frame.copy()`\n",
            "  feature_df[f'new_feature_{i+1}'] = pd.NA\n",
            "<ipython-input-66-b9b89ec60ecf>:3: PerformanceWarning: DataFrame is highly fragmented.  This is usually the result of calling `frame.insert` many times, which has poor performance.  Consider joining all columns at once using pd.concat(axis=1) instead. To get a de-fragmented frame, use `newframe = frame.copy()`\n",
            "  feature_df[f'new_feature_{i+1}'] = pd.NA\n",
            "<ipython-input-66-b9b89ec60ecf>:3: PerformanceWarning: DataFrame is highly fragmented.  This is usually the result of calling `frame.insert` many times, which has poor performance.  Consider joining all columns at once using pd.concat(axis=1) instead. To get a de-fragmented frame, use `newframe = frame.copy()`\n",
            "  feature_df[f'new_feature_{i+1}'] = pd.NA\n",
            "<ipython-input-66-b9b89ec60ecf>:3: PerformanceWarning: DataFrame is highly fragmented.  This is usually the result of calling `frame.insert` many times, which has poor performance.  Consider joining all columns at once using pd.concat(axis=1) instead. To get a de-fragmented frame, use `newframe = frame.copy()`\n",
            "  feature_df[f'new_feature_{i+1}'] = pd.NA\n",
            "<ipython-input-66-b9b89ec60ecf>:3: PerformanceWarning: DataFrame is highly fragmented.  This is usually the result of calling `frame.insert` many times, which has poor performance.  Consider joining all columns at once using pd.concat(axis=1) instead. To get a de-fragmented frame, use `newframe = frame.copy()`\n",
            "  feature_df[f'new_feature_{i+1}'] = pd.NA\n",
            "<ipython-input-66-b9b89ec60ecf>:3: PerformanceWarning: DataFrame is highly fragmented.  This is usually the result of calling `frame.insert` many times, which has poor performance.  Consider joining all columns at once using pd.concat(axis=1) instead. To get a de-fragmented frame, use `newframe = frame.copy()`\n",
            "  feature_df[f'new_feature_{i+1}'] = pd.NA\n",
            "<ipython-input-66-b9b89ec60ecf>:3: PerformanceWarning: DataFrame is highly fragmented.  This is usually the result of calling `frame.insert` many times, which has poor performance.  Consider joining all columns at once using pd.concat(axis=1) instead. To get a de-fragmented frame, use `newframe = frame.copy()`\n",
            "  feature_df[f'new_feature_{i+1}'] = pd.NA\n",
            "<ipython-input-66-b9b89ec60ecf>:3: PerformanceWarning: DataFrame is highly fragmented.  This is usually the result of calling `frame.insert` many times, which has poor performance.  Consider joining all columns at once using pd.concat(axis=1) instead. To get a de-fragmented frame, use `newframe = frame.copy()`\n",
            "  feature_df[f'new_feature_{i+1}'] = pd.NA\n",
            "<ipython-input-66-b9b89ec60ecf>:3: PerformanceWarning: DataFrame is highly fragmented.  This is usually the result of calling `frame.insert` many times, which has poor performance.  Consider joining all columns at once using pd.concat(axis=1) instead. To get a de-fragmented frame, use `newframe = frame.copy()`\n",
            "  feature_df[f'new_feature_{i+1}'] = pd.NA\n",
            "<ipython-input-66-b9b89ec60ecf>:3: PerformanceWarning: DataFrame is highly fragmented.  This is usually the result of calling `frame.insert` many times, which has poor performance.  Consider joining all columns at once using pd.concat(axis=1) instead. To get a de-fragmented frame, use `newframe = frame.copy()`\n",
            "  feature_df[f'new_feature_{i+1}'] = pd.NA\n",
            "<ipython-input-66-b9b89ec60ecf>:3: PerformanceWarning: DataFrame is highly fragmented.  This is usually the result of calling `frame.insert` many times, which has poor performance.  Consider joining all columns at once using pd.concat(axis=1) instead. To get a de-fragmented frame, use `newframe = frame.copy()`\n",
            "  feature_df[f'new_feature_{i+1}'] = pd.NA\n",
            "<ipython-input-66-b9b89ec60ecf>:3: PerformanceWarning: DataFrame is highly fragmented.  This is usually the result of calling `frame.insert` many times, which has poor performance.  Consider joining all columns at once using pd.concat(axis=1) instead. To get a de-fragmented frame, use `newframe = frame.copy()`\n",
            "  feature_df[f'new_feature_{i+1}'] = pd.NA\n",
            "<ipython-input-66-b9b89ec60ecf>:3: PerformanceWarning: DataFrame is highly fragmented.  This is usually the result of calling `frame.insert` many times, which has poor performance.  Consider joining all columns at once using pd.concat(axis=1) instead. To get a de-fragmented frame, use `newframe = frame.copy()`\n",
            "  feature_df[f'new_feature_{i+1}'] = pd.NA\n",
            "<ipython-input-66-b9b89ec60ecf>:3: PerformanceWarning: DataFrame is highly fragmented.  This is usually the result of calling `frame.insert` many times, which has poor performance.  Consider joining all columns at once using pd.concat(axis=1) instead. To get a de-fragmented frame, use `newframe = frame.copy()`\n",
            "  feature_df[f'new_feature_{i+1}'] = pd.NA\n",
            "<ipython-input-66-b9b89ec60ecf>:3: PerformanceWarning: DataFrame is highly fragmented.  This is usually the result of calling `frame.insert` many times, which has poor performance.  Consider joining all columns at once using pd.concat(axis=1) instead. To get a de-fragmented frame, use `newframe = frame.copy()`\n",
            "  feature_df[f'new_feature_{i+1}'] = pd.NA\n",
            "<ipython-input-66-b9b89ec60ecf>:3: PerformanceWarning: DataFrame is highly fragmented.  This is usually the result of calling `frame.insert` many times, which has poor performance.  Consider joining all columns at once using pd.concat(axis=1) instead. To get a de-fragmented frame, use `newframe = frame.copy()`\n",
            "  feature_df[f'new_feature_{i+1}'] = pd.NA\n",
            "<ipython-input-66-b9b89ec60ecf>:3: PerformanceWarning: DataFrame is highly fragmented.  This is usually the result of calling `frame.insert` many times, which has poor performance.  Consider joining all columns at once using pd.concat(axis=1) instead. To get a de-fragmented frame, use `newframe = frame.copy()`\n",
            "  feature_df[f'new_feature_{i+1}'] = pd.NA\n",
            "<ipython-input-66-b9b89ec60ecf>:3: PerformanceWarning: DataFrame is highly fragmented.  This is usually the result of calling `frame.insert` many times, which has poor performance.  Consider joining all columns at once using pd.concat(axis=1) instead. To get a de-fragmented frame, use `newframe = frame.copy()`\n",
            "  feature_df[f'new_feature_{i+1}'] = pd.NA\n",
            "<ipython-input-66-b9b89ec60ecf>:3: PerformanceWarning: DataFrame is highly fragmented.  This is usually the result of calling `frame.insert` many times, which has poor performance.  Consider joining all columns at once using pd.concat(axis=1) instead. To get a de-fragmented frame, use `newframe = frame.copy()`\n",
            "  feature_df[f'new_feature_{i+1}'] = pd.NA\n",
            "<ipython-input-66-b9b89ec60ecf>:3: PerformanceWarning: DataFrame is highly fragmented.  This is usually the result of calling `frame.insert` many times, which has poor performance.  Consider joining all columns at once using pd.concat(axis=1) instead. To get a de-fragmented frame, use `newframe = frame.copy()`\n",
            "  feature_df[f'new_feature_{i+1}'] = pd.NA\n",
            "<ipython-input-66-b9b89ec60ecf>:3: PerformanceWarning: DataFrame is highly fragmented.  This is usually the result of calling `frame.insert` many times, which has poor performance.  Consider joining all columns at once using pd.concat(axis=1) instead. To get a de-fragmented frame, use `newframe = frame.copy()`\n",
            "  feature_df[f'new_feature_{i+1}'] = pd.NA\n",
            "<ipython-input-66-b9b89ec60ecf>:3: PerformanceWarning: DataFrame is highly fragmented.  This is usually the result of calling `frame.insert` many times, which has poor performance.  Consider joining all columns at once using pd.concat(axis=1) instead. To get a de-fragmented frame, use `newframe = frame.copy()`\n",
            "  feature_df[f'new_feature_{i+1}'] = pd.NA\n",
            "<ipython-input-66-b9b89ec60ecf>:3: PerformanceWarning: DataFrame is highly fragmented.  This is usually the result of calling `frame.insert` many times, which has poor performance.  Consider joining all columns at once using pd.concat(axis=1) instead. To get a de-fragmented frame, use `newframe = frame.copy()`\n",
            "  feature_df[f'new_feature_{i+1}'] = pd.NA\n",
            "<ipython-input-66-b9b89ec60ecf>:3: PerformanceWarning: DataFrame is highly fragmented.  This is usually the result of calling `frame.insert` many times, which has poor performance.  Consider joining all columns at once using pd.concat(axis=1) instead. To get a de-fragmented frame, use `newframe = frame.copy()`\n",
            "  feature_df[f'new_feature_{i+1}'] = pd.NA\n",
            "<ipython-input-66-b9b89ec60ecf>:3: PerformanceWarning: DataFrame is highly fragmented.  This is usually the result of calling `frame.insert` many times, which has poor performance.  Consider joining all columns at once using pd.concat(axis=1) instead. To get a de-fragmented frame, use `newframe = frame.copy()`\n",
            "  feature_df[f'new_feature_{i+1}'] = pd.NA\n",
            "<ipython-input-66-b9b89ec60ecf>:3: PerformanceWarning: DataFrame is highly fragmented.  This is usually the result of calling `frame.insert` many times, which has poor performance.  Consider joining all columns at once using pd.concat(axis=1) instead. To get a de-fragmented frame, use `newframe = frame.copy()`\n",
            "  feature_df[f'new_feature_{i+1}'] = pd.NA\n",
            "<ipython-input-66-b9b89ec60ecf>:3: PerformanceWarning: DataFrame is highly fragmented.  This is usually the result of calling `frame.insert` many times, which has poor performance.  Consider joining all columns at once using pd.concat(axis=1) instead. To get a de-fragmented frame, use `newframe = frame.copy()`\n",
            "  feature_df[f'new_feature_{i+1}'] = pd.NA\n",
            "<ipython-input-66-b9b89ec60ecf>:3: PerformanceWarning: DataFrame is highly fragmented.  This is usually the result of calling `frame.insert` many times, which has poor performance.  Consider joining all columns at once using pd.concat(axis=1) instead. To get a de-fragmented frame, use `newframe = frame.copy()`\n",
            "  feature_df[f'new_feature_{i+1}'] = pd.NA\n",
            "<ipython-input-66-b9b89ec60ecf>:3: PerformanceWarning: DataFrame is highly fragmented.  This is usually the result of calling `frame.insert` many times, which has poor performance.  Consider joining all columns at once using pd.concat(axis=1) instead. To get a de-fragmented frame, use `newframe = frame.copy()`\n",
            "  feature_df[f'new_feature_{i+1}'] = pd.NA\n",
            "<ipython-input-66-b9b89ec60ecf>:3: PerformanceWarning: DataFrame is highly fragmented.  This is usually the result of calling `frame.insert` many times, which has poor performance.  Consider joining all columns at once using pd.concat(axis=1) instead. To get a de-fragmented frame, use `newframe = frame.copy()`\n",
            "  feature_df[f'new_feature_{i+1}'] = pd.NA\n",
            "<ipython-input-66-b9b89ec60ecf>:3: PerformanceWarning: DataFrame is highly fragmented.  This is usually the result of calling `frame.insert` many times, which has poor performance.  Consider joining all columns at once using pd.concat(axis=1) instead. To get a de-fragmented frame, use `newframe = frame.copy()`\n",
            "  feature_df[f'new_feature_{i+1}'] = pd.NA\n",
            "<ipython-input-66-b9b89ec60ecf>:3: PerformanceWarning: DataFrame is highly fragmented.  This is usually the result of calling `frame.insert` many times, which has poor performance.  Consider joining all columns at once using pd.concat(axis=1) instead. To get a de-fragmented frame, use `newframe = frame.copy()`\n",
            "  feature_df[f'new_feature_{i+1}'] = pd.NA\n",
            "<ipython-input-66-b9b89ec60ecf>:3: PerformanceWarning: DataFrame is highly fragmented.  This is usually the result of calling `frame.insert` many times, which has poor performance.  Consider joining all columns at once using pd.concat(axis=1) instead. To get a de-fragmented frame, use `newframe = frame.copy()`\n",
            "  feature_df[f'new_feature_{i+1}'] = pd.NA\n",
            "<ipython-input-66-b9b89ec60ecf>:3: PerformanceWarning: DataFrame is highly fragmented.  This is usually the result of calling `frame.insert` many times, which has poor performance.  Consider joining all columns at once using pd.concat(axis=1) instead. To get a de-fragmented frame, use `newframe = frame.copy()`\n",
            "  feature_df[f'new_feature_{i+1}'] = pd.NA\n",
            "<ipython-input-66-b9b89ec60ecf>:3: PerformanceWarning: DataFrame is highly fragmented.  This is usually the result of calling `frame.insert` many times, which has poor performance.  Consider joining all columns at once using pd.concat(axis=1) instead. To get a de-fragmented frame, use `newframe = frame.copy()`\n",
            "  feature_df[f'new_feature_{i+1}'] = pd.NA\n",
            "<ipython-input-66-b9b89ec60ecf>:3: PerformanceWarning: DataFrame is highly fragmented.  This is usually the result of calling `frame.insert` many times, which has poor performance.  Consider joining all columns at once using pd.concat(axis=1) instead. To get a de-fragmented frame, use `newframe = frame.copy()`\n",
            "  feature_df[f'new_feature_{i+1}'] = pd.NA\n",
            "<ipython-input-66-b9b89ec60ecf>:3: PerformanceWarning: DataFrame is highly fragmented.  This is usually the result of calling `frame.insert` many times, which has poor performance.  Consider joining all columns at once using pd.concat(axis=1) instead. To get a de-fragmented frame, use `newframe = frame.copy()`\n",
            "  feature_df[f'new_feature_{i+1}'] = pd.NA\n",
            "<ipython-input-66-b9b89ec60ecf>:3: PerformanceWarning: DataFrame is highly fragmented.  This is usually the result of calling `frame.insert` many times, which has poor performance.  Consider joining all columns at once using pd.concat(axis=1) instead. To get a de-fragmented frame, use `newframe = frame.copy()`\n",
            "  feature_df[f'new_feature_{i+1}'] = pd.NA\n",
            "<ipython-input-66-b9b89ec60ecf>:3: PerformanceWarning: DataFrame is highly fragmented.  This is usually the result of calling `frame.insert` many times, which has poor performance.  Consider joining all columns at once using pd.concat(axis=1) instead. To get a de-fragmented frame, use `newframe = frame.copy()`\n",
            "  feature_df[f'new_feature_{i+1}'] = pd.NA\n",
            "<ipython-input-66-b9b89ec60ecf>:3: PerformanceWarning: DataFrame is highly fragmented.  This is usually the result of calling `frame.insert` many times, which has poor performance.  Consider joining all columns at once using pd.concat(axis=1) instead. To get a de-fragmented frame, use `newframe = frame.copy()`\n",
            "  feature_df[f'new_feature_{i+1}'] = pd.NA\n",
            "<ipython-input-66-b9b89ec60ecf>:3: PerformanceWarning: DataFrame is highly fragmented.  This is usually the result of calling `frame.insert` many times, which has poor performance.  Consider joining all columns at once using pd.concat(axis=1) instead. To get a de-fragmented frame, use `newframe = frame.copy()`\n",
            "  feature_df[f'new_feature_{i+1}'] = pd.NA\n",
            "<ipython-input-66-b9b89ec60ecf>:3: PerformanceWarning: DataFrame is highly fragmented.  This is usually the result of calling `frame.insert` many times, which has poor performance.  Consider joining all columns at once using pd.concat(axis=1) instead. To get a de-fragmented frame, use `newframe = frame.copy()`\n",
            "  feature_df[f'new_feature_{i+1}'] = pd.NA\n",
            "<ipython-input-66-b9b89ec60ecf>:3: PerformanceWarning: DataFrame is highly fragmented.  This is usually the result of calling `frame.insert` many times, which has poor performance.  Consider joining all columns at once using pd.concat(axis=1) instead. To get a de-fragmented frame, use `newframe = frame.copy()`\n",
            "  feature_df[f'new_feature_{i+1}'] = pd.NA\n",
            "<ipython-input-66-b9b89ec60ecf>:3: PerformanceWarning: DataFrame is highly fragmented.  This is usually the result of calling `frame.insert` many times, which has poor performance.  Consider joining all columns at once using pd.concat(axis=1) instead. To get a de-fragmented frame, use `newframe = frame.copy()`\n",
            "  feature_df[f'new_feature_{i+1}'] = pd.NA\n",
            "<ipython-input-66-b9b89ec60ecf>:3: PerformanceWarning: DataFrame is highly fragmented.  This is usually the result of calling `frame.insert` many times, which has poor performance.  Consider joining all columns at once using pd.concat(axis=1) instead. To get a de-fragmented frame, use `newframe = frame.copy()`\n",
            "  feature_df[f'new_feature_{i+1}'] = pd.NA\n",
            "<ipython-input-66-b9b89ec60ecf>:3: PerformanceWarning: DataFrame is highly fragmented.  This is usually the result of calling `frame.insert` many times, which has poor performance.  Consider joining all columns at once using pd.concat(axis=1) instead. To get a de-fragmented frame, use `newframe = frame.copy()`\n",
            "  feature_df[f'new_feature_{i+1}'] = pd.NA\n",
            "<ipython-input-66-b9b89ec60ecf>:3: PerformanceWarning: DataFrame is highly fragmented.  This is usually the result of calling `frame.insert` many times, which has poor performance.  Consider joining all columns at once using pd.concat(axis=1) instead. To get a de-fragmented frame, use `newframe = frame.copy()`\n",
            "  feature_df[f'new_feature_{i+1}'] = pd.NA\n",
            "<ipython-input-66-b9b89ec60ecf>:3: PerformanceWarning: DataFrame is highly fragmented.  This is usually the result of calling `frame.insert` many times, which has poor performance.  Consider joining all columns at once using pd.concat(axis=1) instead. To get a de-fragmented frame, use `newframe = frame.copy()`\n",
            "  feature_df[f'new_feature_{i+1}'] = pd.NA\n",
            "<ipython-input-66-b9b89ec60ecf>:3: PerformanceWarning: DataFrame is highly fragmented.  This is usually the result of calling `frame.insert` many times, which has poor performance.  Consider joining all columns at once using pd.concat(axis=1) instead. To get a de-fragmented frame, use `newframe = frame.copy()`\n",
            "  feature_df[f'new_feature_{i+1}'] = pd.NA\n"
          ]
        }
      ]
    },
    {
      "cell_type": "markdown",
      "source": [
        "## Label 4"
      ],
      "metadata": {
        "id": "-Nf3OEHlI6gJ"
      }
    },
    {
      "cell_type": "code",
      "source": [
        "from sklearn.svm import SVC"
      ],
      "metadata": {
        "id": "dEz8mx4MI-Dm"
      },
      "execution_count": null,
      "outputs": []
    },
    {
      "cell_type": "code",
      "source": [
        "svm_classifier = SVC(kernel='linear', class_weight='balanced')\n",
        "svm_classifier.fit(x_train['label_4'], y_train['label_4'])\n",
        "\n",
        "# Make predictions on the test data\n",
        "y_pred = svm_classifier.predict(x_valid['label_4'])\n",
        "\n",
        "# Evaluate model performance\n",
        "print(classification_report(y_valid['label_4'], y_pred))"
      ],
      "metadata": {
        "colab": {
          "base_uri": "https://localhost:8080/"
        },
        "id": "YTtDF-MNL10d",
        "outputId": "17439e86-8065-4dba-d13a-faff97de21bb"
      },
      "execution_count": null,
      "outputs": [
        {
          "output_type": "stream",
          "name": "stdout",
          "text": [
            "              precision    recall  f1-score   support\n",
            "\n",
            "           0       0.64      1.00      0.78        21\n",
            "           1       0.83      0.91      0.87        11\n",
            "           2       0.65      0.96      0.78        27\n",
            "           3       0.89      1.00      0.94         8\n",
            "           4       0.88      1.00      0.94        15\n",
            "           5       0.92      1.00      0.96        11\n",
            "           6       0.99      0.92      0.96       518\n",
            "           7       0.90      0.88      0.89        32\n",
            "           8       0.95      1.00      0.97        19\n",
            "           9       1.00      1.00      1.00        17\n",
            "          10       1.00      1.00      1.00        10\n",
            "          11       1.00      1.00      1.00        11\n",
            "          12       0.74      0.88      0.81        26\n",
            "          13       1.00      1.00      1.00        10\n",
            "\n",
            "    accuracy                           0.93       736\n",
            "   macro avg       0.89      0.97      0.92       736\n",
            "weighted avg       0.95      0.93      0.94       736\n",
            "\n"
          ]
        }
      ]
    },
    {
      "cell_type": "code",
      "source": [
        "label_4_pred_before = svm_classifier.predict(x_test['label_4'])"
      ],
      "metadata": {
        "id": "ZZspGzCQ4-v6"
      },
      "execution_count": null,
      "outputs": []
    },
    {
      "cell_type": "markdown",
      "source": [
        "### Random Forest"
      ],
      "metadata": {
        "id": "VHHBFs6ck30G"
      }
    },
    {
      "cell_type": "code",
      "source": [
        "from sklearn.feature_selection import SelectFromModel\n",
        "from sklearn.ensemble import RandomForestClassifier  # You can replace this with any other model\n"
      ],
      "metadata": {
        "id": "e1IFX5uiPI6W"
      },
      "execution_count": null,
      "outputs": []
    },
    {
      "cell_type": "code",
      "source": [
        "model = RandomForestClassifier(n_estimators=100)\n",
        "model.fit(x_train['label_4'], y_train['label_4'])  # Assuming x_train and y_train are your feature and target data\n"
      ],
      "metadata": {
        "colab": {
          "base_uri": "https://localhost:8080/",
          "height": 74
        },
        "outputId": "cc6817f9-c3c3-4c5c-807d-989043e35890",
        "id": "ODzlsa5SPI6X"
      },
      "execution_count": null,
      "outputs": [
        {
          "output_type": "execute_result",
          "data": {
            "text/plain": [
              "RandomForestClassifier()"
            ],
            "text/html": [
              "<style>#sk-container-id-21 {color: black;background-color: white;}#sk-container-id-21 pre{padding: 0;}#sk-container-id-21 div.sk-toggleable {background-color: white;}#sk-container-id-21 label.sk-toggleable__label {cursor: pointer;display: block;width: 100%;margin-bottom: 0;padding: 0.3em;box-sizing: border-box;text-align: center;}#sk-container-id-21 label.sk-toggleable__label-arrow:before {content: \"▸\";float: left;margin-right: 0.25em;color: #696969;}#sk-container-id-21 label.sk-toggleable__label-arrow:hover:before {color: black;}#sk-container-id-21 div.sk-estimator:hover label.sk-toggleable__label-arrow:before {color: black;}#sk-container-id-21 div.sk-toggleable__content {max-height: 0;max-width: 0;overflow: hidden;text-align: left;background-color: #f0f8ff;}#sk-container-id-21 div.sk-toggleable__content pre {margin: 0.2em;color: black;border-radius: 0.25em;background-color: #f0f8ff;}#sk-container-id-21 input.sk-toggleable__control:checked~div.sk-toggleable__content {max-height: 200px;max-width: 100%;overflow: auto;}#sk-container-id-21 input.sk-toggleable__control:checked~label.sk-toggleable__label-arrow:before {content: \"▾\";}#sk-container-id-21 div.sk-estimator input.sk-toggleable__control:checked~label.sk-toggleable__label {background-color: #d4ebff;}#sk-container-id-21 div.sk-label input.sk-toggleable__control:checked~label.sk-toggleable__label {background-color: #d4ebff;}#sk-container-id-21 input.sk-hidden--visually {border: 0;clip: rect(1px 1px 1px 1px);clip: rect(1px, 1px, 1px, 1px);height: 1px;margin: -1px;overflow: hidden;padding: 0;position: absolute;width: 1px;}#sk-container-id-21 div.sk-estimator {font-family: monospace;background-color: #f0f8ff;border: 1px dotted black;border-radius: 0.25em;box-sizing: border-box;margin-bottom: 0.5em;}#sk-container-id-21 div.sk-estimator:hover {background-color: #d4ebff;}#sk-container-id-21 div.sk-parallel-item::after {content: \"\";width: 100%;border-bottom: 1px solid gray;flex-grow: 1;}#sk-container-id-21 div.sk-label:hover label.sk-toggleable__label {background-color: #d4ebff;}#sk-container-id-21 div.sk-serial::before {content: \"\";position: absolute;border-left: 1px solid gray;box-sizing: border-box;top: 0;bottom: 0;left: 50%;z-index: 0;}#sk-container-id-21 div.sk-serial {display: flex;flex-direction: column;align-items: center;background-color: white;padding-right: 0.2em;padding-left: 0.2em;position: relative;}#sk-container-id-21 div.sk-item {position: relative;z-index: 1;}#sk-container-id-21 div.sk-parallel {display: flex;align-items: stretch;justify-content: center;background-color: white;position: relative;}#sk-container-id-21 div.sk-item::before, #sk-container-id-21 div.sk-parallel-item::before {content: \"\";position: absolute;border-left: 1px solid gray;box-sizing: border-box;top: 0;bottom: 0;left: 50%;z-index: -1;}#sk-container-id-21 div.sk-parallel-item {display: flex;flex-direction: column;z-index: 1;position: relative;background-color: white;}#sk-container-id-21 div.sk-parallel-item:first-child::after {align-self: flex-end;width: 50%;}#sk-container-id-21 div.sk-parallel-item:last-child::after {align-self: flex-start;width: 50%;}#sk-container-id-21 div.sk-parallel-item:only-child::after {width: 0;}#sk-container-id-21 div.sk-dashed-wrapped {border: 1px dashed gray;margin: 0 0.4em 0.5em 0.4em;box-sizing: border-box;padding-bottom: 0.4em;background-color: white;}#sk-container-id-21 div.sk-label label {font-family: monospace;font-weight: bold;display: inline-block;line-height: 1.2em;}#sk-container-id-21 div.sk-label-container {text-align: center;}#sk-container-id-21 div.sk-container {/* jupyter's `normalize.less` sets `[hidden] { display: none; }` but bootstrap.min.css set `[hidden] { display: none !important; }` so we also need the `!important` here to be able to override the default hidden behavior on the sphinx rendered scikit-learn.org. See: https://github.com/scikit-learn/scikit-learn/issues/21755 */display: inline-block !important;position: relative;}#sk-container-id-21 div.sk-text-repr-fallback {display: none;}</style><div id=\"sk-container-id-21\" class=\"sk-top-container\"><div class=\"sk-text-repr-fallback\"><pre>RandomForestClassifier()</pre><b>In a Jupyter environment, please rerun this cell to show the HTML representation or trust the notebook. <br />On GitHub, the HTML representation is unable to render, please try loading this page with nbviewer.org.</b></div><div class=\"sk-container\" hidden><div class=\"sk-item\"><div class=\"sk-estimator sk-toggleable\"><input class=\"sk-toggleable__control sk-hidden--visually\" id=\"sk-estimator-id-21\" type=\"checkbox\" checked><label for=\"sk-estimator-id-21\" class=\"sk-toggleable__label sk-toggleable__label-arrow\">RandomForestClassifier</label><div class=\"sk-toggleable__content\"><pre>RandomForestClassifier()</pre></div></div></div></div></div>"
            ]
          },
          "metadata": {},
          "execution_count": 143
        }
      ]
    },
    {
      "cell_type": "code",
      "source": [
        "impotance = model.feature_importances_\n",
        "final_df = pd.DataFrame({\"Features\":pd.DataFrame(x_train['label_4']).columns,\"importance\":impotance})\n",
        "final_df.set_index('importance')\n",
        "final_df_sorted = final_df.sort_values('importance')\n",
        "final_df_sorted"
      ],
      "metadata": {
        "colab": {
          "base_uri": "https://localhost:8080/",
          "height": 423
        },
        "id": "WbBxqQcGPSQT",
        "outputId": "2f0751af-850b-4213-dfec-2ae27b5c32fb"
      },
      "execution_count": null,
      "outputs": [
        {
          "output_type": "execute_result",
          "data": {
            "text/plain": [
              "     Features  importance\n",
              "207       207    0.002208\n",
              "47         47    0.002236\n",
              "147       147    0.002290\n",
              "238       238    0.002329\n",
              "58         58    0.002381\n",
              "..        ...         ...\n",
              "35         35    0.007197\n",
              "226       226    0.007386\n",
              "82         82    0.007553\n",
              "116       116    0.007607\n",
              "98         98    0.011302\n",
              "\n",
              "[256 rows x 2 columns]"
            ],
            "text/html": [
              "\n",
              "  <div id=\"df-dced2a19-371d-45af-babc-6291e2ce795f\" class=\"colab-df-container\">\n",
              "    <div>\n",
              "<style scoped>\n",
              "    .dataframe tbody tr th:only-of-type {\n",
              "        vertical-align: middle;\n",
              "    }\n",
              "\n",
              "    .dataframe tbody tr th {\n",
              "        vertical-align: top;\n",
              "    }\n",
              "\n",
              "    .dataframe thead th {\n",
              "        text-align: right;\n",
              "    }\n",
              "</style>\n",
              "<table border=\"1\" class=\"dataframe\">\n",
              "  <thead>\n",
              "    <tr style=\"text-align: right;\">\n",
              "      <th></th>\n",
              "      <th>Features</th>\n",
              "      <th>importance</th>\n",
              "    </tr>\n",
              "  </thead>\n",
              "  <tbody>\n",
              "    <tr>\n",
              "      <th>207</th>\n",
              "      <td>207</td>\n",
              "      <td>0.002208</td>\n",
              "    </tr>\n",
              "    <tr>\n",
              "      <th>47</th>\n",
              "      <td>47</td>\n",
              "      <td>0.002236</td>\n",
              "    </tr>\n",
              "    <tr>\n",
              "      <th>147</th>\n",
              "      <td>147</td>\n",
              "      <td>0.002290</td>\n",
              "    </tr>\n",
              "    <tr>\n",
              "      <th>238</th>\n",
              "      <td>238</td>\n",
              "      <td>0.002329</td>\n",
              "    </tr>\n",
              "    <tr>\n",
              "      <th>58</th>\n",
              "      <td>58</td>\n",
              "      <td>0.002381</td>\n",
              "    </tr>\n",
              "    <tr>\n",
              "      <th>...</th>\n",
              "      <td>...</td>\n",
              "      <td>...</td>\n",
              "    </tr>\n",
              "    <tr>\n",
              "      <th>35</th>\n",
              "      <td>35</td>\n",
              "      <td>0.007197</td>\n",
              "    </tr>\n",
              "    <tr>\n",
              "      <th>226</th>\n",
              "      <td>226</td>\n",
              "      <td>0.007386</td>\n",
              "    </tr>\n",
              "    <tr>\n",
              "      <th>82</th>\n",
              "      <td>82</td>\n",
              "      <td>0.007553</td>\n",
              "    </tr>\n",
              "    <tr>\n",
              "      <th>116</th>\n",
              "      <td>116</td>\n",
              "      <td>0.007607</td>\n",
              "    </tr>\n",
              "    <tr>\n",
              "      <th>98</th>\n",
              "      <td>98</td>\n",
              "      <td>0.011302</td>\n",
              "    </tr>\n",
              "  </tbody>\n",
              "</table>\n",
              "<p>256 rows × 2 columns</p>\n",
              "</div>\n",
              "    <div class=\"colab-df-buttons\">\n",
              "\n",
              "  <div class=\"colab-df-container\">\n",
              "    <button class=\"colab-df-convert\" onclick=\"convertToInteractive('df-dced2a19-371d-45af-babc-6291e2ce795f')\"\n",
              "            title=\"Convert this dataframe to an interactive table.\"\n",
              "            style=\"display:none;\">\n",
              "\n",
              "  <svg xmlns=\"http://www.w3.org/2000/svg\" height=\"24px\" viewBox=\"0 -960 960 960\">\n",
              "    <path d=\"M120-120v-720h720v720H120Zm60-500h600v-160H180v160Zm220 220h160v-160H400v160Zm0 220h160v-160H400v160ZM180-400h160v-160H180v160Zm440 0h160v-160H620v160ZM180-180h160v-160H180v160Zm440 0h160v-160H620v160Z\"/>\n",
              "  </svg>\n",
              "    </button>\n",
              "\n",
              "  <style>\n",
              "    .colab-df-container {\n",
              "      display:flex;\n",
              "      gap: 12px;\n",
              "    }\n",
              "\n",
              "    .colab-df-convert {\n",
              "      background-color: #E8F0FE;\n",
              "      border: none;\n",
              "      border-radius: 50%;\n",
              "      cursor: pointer;\n",
              "      display: none;\n",
              "      fill: #1967D2;\n",
              "      height: 32px;\n",
              "      padding: 0 0 0 0;\n",
              "      width: 32px;\n",
              "    }\n",
              "\n",
              "    .colab-df-convert:hover {\n",
              "      background-color: #E2EBFA;\n",
              "      box-shadow: 0px 1px 2px rgba(60, 64, 67, 0.3), 0px 1px 3px 1px rgba(60, 64, 67, 0.15);\n",
              "      fill: #174EA6;\n",
              "    }\n",
              "\n",
              "    .colab-df-buttons div {\n",
              "      margin-bottom: 4px;\n",
              "    }\n",
              "\n",
              "    [theme=dark] .colab-df-convert {\n",
              "      background-color: #3B4455;\n",
              "      fill: #D2E3FC;\n",
              "    }\n",
              "\n",
              "    [theme=dark] .colab-df-convert:hover {\n",
              "      background-color: #434B5C;\n",
              "      box-shadow: 0px 1px 3px 1px rgba(0, 0, 0, 0.15);\n",
              "      filter: drop-shadow(0px 1px 2px rgba(0, 0, 0, 0.3));\n",
              "      fill: #FFFFFF;\n",
              "    }\n",
              "  </style>\n",
              "\n",
              "    <script>\n",
              "      const buttonEl =\n",
              "        document.querySelector('#df-dced2a19-371d-45af-babc-6291e2ce795f button.colab-df-convert');\n",
              "      buttonEl.style.display =\n",
              "        google.colab.kernel.accessAllowed ? 'block' : 'none';\n",
              "\n",
              "      async function convertToInteractive(key) {\n",
              "        const element = document.querySelector('#df-dced2a19-371d-45af-babc-6291e2ce795f');\n",
              "        const dataTable =\n",
              "          await google.colab.kernel.invokeFunction('convertToInteractive',\n",
              "                                                    [key], {});\n",
              "        if (!dataTable) return;\n",
              "\n",
              "        const docLinkHtml = 'Like what you see? Visit the ' +\n",
              "          '<a target=\"_blank\" href=https://colab.research.google.com/notebooks/data_table.ipynb>data table notebook</a>'\n",
              "          + ' to learn more about interactive tables.';\n",
              "        element.innerHTML = '';\n",
              "        dataTable['output_type'] = 'display_data';\n",
              "        await google.colab.output.renderOutput(dataTable, element);\n",
              "        const docLink = document.createElement('div');\n",
              "        docLink.innerHTML = docLinkHtml;\n",
              "        element.appendChild(docLink);\n",
              "      }\n",
              "    </script>\n",
              "  </div>\n",
              "\n",
              "\n",
              "<div id=\"df-45b3e5b4-568d-4ee4-9e0c-8b0ca44a1e4a\">\n",
              "  <button class=\"colab-df-quickchart\" onclick=\"quickchart('df-45b3e5b4-568d-4ee4-9e0c-8b0ca44a1e4a')\"\n",
              "            title=\"Suggest charts.\"\n",
              "            style=\"display:none;\">\n",
              "\n",
              "<svg xmlns=\"http://www.w3.org/2000/svg\" height=\"24px\"viewBox=\"0 0 24 24\"\n",
              "     width=\"24px\">\n",
              "    <g>\n",
              "        <path d=\"M19 3H5c-1.1 0-2 .9-2 2v14c0 1.1.9 2 2 2h14c1.1 0 2-.9 2-2V5c0-1.1-.9-2-2-2zM9 17H7v-7h2v7zm4 0h-2V7h2v10zm4 0h-2v-4h2v4z\"/>\n",
              "    </g>\n",
              "</svg>\n",
              "  </button>\n",
              "\n",
              "<style>\n",
              "  .colab-df-quickchart {\n",
              "    background-color: #E8F0FE;\n",
              "    border: none;\n",
              "    border-radius: 50%;\n",
              "    cursor: pointer;\n",
              "    display: none;\n",
              "    fill: #1967D2;\n",
              "    height: 32px;\n",
              "    padding: 0 0 0 0;\n",
              "    width: 32px;\n",
              "  }\n",
              "\n",
              "  .colab-df-quickchart:hover {\n",
              "    background-color: #E2EBFA;\n",
              "    box-shadow: 0px 1px 2px rgba(60, 64, 67, 0.3), 0px 1px 3px 1px rgba(60, 64, 67, 0.15);\n",
              "    fill: #174EA6;\n",
              "  }\n",
              "\n",
              "  [theme=dark] .colab-df-quickchart {\n",
              "    background-color: #3B4455;\n",
              "    fill: #D2E3FC;\n",
              "  }\n",
              "\n",
              "  [theme=dark] .colab-df-quickchart:hover {\n",
              "    background-color: #434B5C;\n",
              "    box-shadow: 0px 1px 3px 1px rgba(0, 0, 0, 0.15);\n",
              "    filter: drop-shadow(0px 1px 2px rgba(0, 0, 0, 0.3));\n",
              "    fill: #FFFFFF;\n",
              "  }\n",
              "</style>\n",
              "\n",
              "  <script>\n",
              "    async function quickchart(key) {\n",
              "      const charts = await google.colab.kernel.invokeFunction(\n",
              "          'suggestCharts', [key], {});\n",
              "    }\n",
              "    (() => {\n",
              "      let quickchartButtonEl =\n",
              "        document.querySelector('#df-45b3e5b4-568d-4ee4-9e0c-8b0ca44a1e4a button');\n",
              "      quickchartButtonEl.style.display =\n",
              "        google.colab.kernel.accessAllowed ? 'block' : 'none';\n",
              "    })();\n",
              "  </script>\n",
              "</div>\n",
              "    </div>\n",
              "  </div>\n"
            ]
          },
          "metadata": {},
          "execution_count": 144
        }
      ]
    },
    {
      "cell_type": "code",
      "source": [
        "# Get the indices of the least important features to remove\n",
        "indices_to_remove = final_df_sorted[\"Features\"][:80]\n",
        "\n",
        "# Remove the least important features from the training dataset\n",
        "X_train_removed = np.delete(x_train['label_4'], indices_to_remove, axis=1)\n",
        "x_test_remove =  np.delete(x_test['label_4'], indices_to_remove, axis=1)"
      ],
      "metadata": {
        "id": "xGc5wgkATRFK"
      },
      "execution_count": null,
      "outputs": []
    },
    {
      "cell_type": "code",
      "source": [
        "svm_classifier = SVC(kernel='linear', class_weight='balanced')\n",
        "svm_classifier.fit(X_train_removed, y_train['label_4'])\n",
        "\n",
        "# Make predictions on the test data\n",
        "y_pred = svm_classifier.predict(np.delete(x_valid['label_4'], indices_to_remove, axis=1))\n",
        "\n",
        "# Evaluate model performance\n",
        "print(classification_report(y_valid['label_4'], y_pred))"
      ],
      "metadata": {
        "colab": {
          "base_uri": "https://localhost:8080/"
        },
        "outputId": "fd6f7522-9e05-402a-a51b-78cd8c21b147",
        "id": "aO-4bZCtTtpg"
      },
      "execution_count": null,
      "outputs": [
        {
          "output_type": "stream",
          "name": "stdout",
          "text": [
            "              precision    recall  f1-score   support\n",
            "\n",
            "           0       0.60      1.00      0.75        21\n",
            "           1       0.83      0.91      0.87        11\n",
            "           2       0.60      0.96      0.74        27\n",
            "           3       0.73      1.00      0.84         8\n",
            "           4       0.94      1.00      0.97        15\n",
            "           5       0.79      1.00      0.88        11\n",
            "           6       0.99      0.89      0.94       518\n",
            "           7       0.96      0.84      0.90        32\n",
            "           8       0.90      0.95      0.92        19\n",
            "           9       1.00      1.00      1.00        17\n",
            "          10       0.91      1.00      0.95        10\n",
            "          11       1.00      1.00      1.00        11\n",
            "          12       0.60      0.96      0.74        26\n",
            "          13       1.00      0.90      0.95        10\n",
            "\n",
            "    accuracy                           0.91       736\n",
            "   macro avg       0.85      0.96      0.89       736\n",
            "weighted avg       0.94      0.91      0.92       736\n",
            "\n"
          ]
        }
      ]
    },
    {
      "cell_type": "markdown",
      "source": [
        "j"
      ],
      "metadata": {
        "id": "zNcqQf42lh6_"
      }
    },
    {
      "cell_type": "markdown",
      "source": [
        "### PCA"
      ],
      "metadata": {
        "id": "hsNPMgE2lh-J"
      }
    },
    {
      "cell_type": "code",
      "source": [
        "from sklearn.decomposition import PCA\n",
        "\n",
        "pca = PCA(n_components= 0.99, svd_solver=\"full\")\n",
        "pca.fit(x_train['label_4'])\n",
        "x_train_pca = pca.transform(x_train['label_4'])\n",
        "x_valid_pca = pca.transform(x_valid['label_4'])"
      ],
      "metadata": {
        "id": "61_Y-UzqlMdR"
      },
      "execution_count": null,
      "outputs": []
    },
    {
      "cell_type": "code",
      "source": [
        "x_train_pca.shape"
      ],
      "metadata": {
        "colab": {
          "base_uri": "https://localhost:8080/"
        },
        "outputId": "5c2b3c19-01d0-410b-bc5f-7ab9af3d03f2",
        "id": "pKv9-mrelMdS"
      },
      "execution_count": null,
      "outputs": [
        {
          "output_type": "execute_result",
          "data": {
            "text/plain": [
              "(28040, 106)"
            ]
          },
          "metadata": {},
          "execution_count": 154
        }
      ]
    },
    {
      "cell_type": "code",
      "source": [
        "svm_classifier = SVC(kernel='linear', class_weight='balanced')\n",
        "svm_classifier.fit(x_train_pca, y_train['label_4'])\n",
        "\n",
        "# Make predictions on the test data\n",
        "y_pred = svm_classifier.predict(x_valid_pca)\n",
        "\n",
        "# Evaluate model performance\n",
        "print(classification_report(y_valid['label_4'], y_pred))"
      ],
      "metadata": {
        "colab": {
          "base_uri": "https://localhost:8080/"
        },
        "outputId": "7b87abf7-a561-4ed9-9f80-8679fa364a82",
        "id": "1qaCsz4KlUX-"
      },
      "execution_count": null,
      "outputs": [
        {
          "output_type": "stream",
          "name": "stdout",
          "text": [
            "              precision    recall  f1-score   support\n",
            "\n",
            "           0       0.47      0.86      0.61        21\n",
            "           1       0.77      0.91      0.83        11\n",
            "           2       0.52      0.96      0.68        27\n",
            "           3       0.80      1.00      0.89         8\n",
            "           4       0.79      1.00      0.88        15\n",
            "           5       0.61      1.00      0.76        11\n",
            "           6       0.98      0.83      0.90       518\n",
            "           7       0.72      0.88      0.79        32\n",
            "           8       0.90      1.00      0.95        19\n",
            "           9       0.94      1.00      0.97        17\n",
            "          10       0.77      1.00      0.87        10\n",
            "          11       1.00      1.00      1.00        11\n",
            "          12       0.56      0.88      0.69        26\n",
            "          13       1.00      0.90      0.95        10\n",
            "\n",
            "    accuracy                           0.86       736\n",
            "   macro avg       0.77      0.94      0.84       736\n",
            "weighted avg       0.90      0.86      0.87       736\n",
            "\n"
          ]
        }
      ]
    },
    {
      "cell_type": "markdown",
      "source": [
        "### Filter Method"
      ],
      "metadata": {
        "id": "bzCCy3wamTLB"
      }
    },
    {
      "cell_type": "code",
      "source": [
        "from sklearn.feature_selection import SelectKBest,f_classif\n",
        "\n",
        "# scaler = RobustScaler()\n",
        "# x_train_scaled = scaler.fit_transform(x_train[['label_1']])\n",
        "# y_train_scaled = scaler.transform(y_train[['label_2']])\n",
        "\n",
        "chi2_features = SelectKBest(f_classif, k=190)\n",
        "x_kbest = chi2_features.fit_transform(x_train['label_4'], y_train['label_4'])\n",
        "\n",
        "x_kbest.shape"
      ],
      "metadata": {
        "colab": {
          "base_uri": "https://localhost:8080/"
        },
        "outputId": "8aab0c55-d994-4b48-a26e-b55e95bff6a1",
        "id": "qMQMXuGimYUT"
      },
      "execution_count": null,
      "outputs": [
        {
          "output_type": "execute_result",
          "data": {
            "text/plain": [
              "(28040, 190)"
            ]
          },
          "metadata": {},
          "execution_count": 160
        }
      ]
    },
    {
      "cell_type": "code",
      "source": [
        "svm_classifier = SVC(kernel='linear', class_weight='balanced')\n",
        "svm_classifier.fit(x_train_pca, y_train['label_4'])\n",
        "\n",
        "# Make predictions on the test data\n",
        "y_pred = svm_classifier.predict(x_valid_pca)\n",
        "\n",
        "# Evaluate model performance\n",
        "print(classification_report(y_valid['label_4'], y_pred))"
      ],
      "metadata": {
        "colab": {
          "base_uri": "https://localhost:8080/"
        },
        "outputId": "36343e71-7448-47b7-f211-aeea5bedd2f0",
        "id": "IKw6K667mldX"
      },
      "execution_count": null,
      "outputs": [
        {
          "output_type": "stream",
          "name": "stdout",
          "text": [
            "              precision    recall  f1-score   support\n",
            "\n",
            "           0       0.47      0.86      0.61        21\n",
            "           1       0.77      0.91      0.83        11\n",
            "           2       0.52      0.96      0.68        27\n",
            "           3       0.80      1.00      0.89         8\n",
            "           4       0.79      1.00      0.88        15\n",
            "           5       0.61      1.00      0.76        11\n",
            "           6       0.98      0.83      0.90       518\n",
            "           7       0.72      0.88      0.79        32\n",
            "           8       0.90      1.00      0.95        19\n",
            "           9       0.94      1.00      0.97        17\n",
            "          10       0.77      1.00      0.87        10\n",
            "          11       1.00      1.00      1.00        11\n",
            "          12       0.56      0.88      0.69        26\n",
            "          13       1.00      0.90      0.95        10\n",
            "\n",
            "    accuracy                           0.86       736\n",
            "   macro avg       0.77      0.94      0.84       736\n",
            "weighted avg       0.90      0.86      0.87       736\n",
            "\n"
          ]
        }
      ]
    },
    {
      "cell_type": "code",
      "source": [],
      "metadata": {
        "id": "C4uq2LKx7Ntk"
      },
      "execution_count": null,
      "outputs": []
    },
    {
      "cell_type": "code",
      "source": [
        "x_tets_pca = pca.transform(x_test['label_4'])\n",
        "label_4_pred_after = svm_classifier.predict(x_test_remove)\n",
        "\n",
        "pd.DataFrame(x_test_remove)"
      ],
      "metadata": {
        "colab": {
          "base_uri": "https://localhost:8080/",
          "height": 443
        },
        "outputId": "75162f31-77da-4fde-8313-6230dd11901a",
        "id": "J0-2Pw1s7N-T"
      },
      "execution_count": null,
      "outputs": [
        {
          "output_type": "execute_result",
          "data": {
            "text/plain": [
              "          0         1         2         3         4         5         6    \\\n",
              "0   -0.724099  0.243082  1.478785 -1.424068  1.219783 -0.651757 -0.276519   \n",
              "1   -1.222010  0.407967  2.627972 -0.646625  0.315224 -1.256556  0.391020   \n",
              "2   -0.912279  0.140581  1.604592 -0.358110  0.241409 -0.942373 -0.056845   \n",
              "3    1.112461  0.366872  1.253339 -0.776183  1.184850  0.186864 -0.652759   \n",
              "4   -1.042800  0.325330  1.010588 -0.207308  0.635252 -0.262099 -0.549687   \n",
              "..        ...       ...       ...       ...       ...       ...       ...   \n",
              "745 -0.252621 -0.460511 -0.677400  0.723989  0.473791  0.021910 -0.491305   \n",
              "746 -0.246324 -1.176413 -0.960008  0.659857  0.400619  0.516162  0.370860   \n",
              "747  0.264746 -0.760078  0.543856 -0.293179  0.149160 -0.151330  0.246407   \n",
              "748  0.557539  0.259147  0.130087  0.601868 -0.108343  1.448241 -0.212337   \n",
              "749 -0.679785 -0.396586 -0.003415 -0.385927 -0.184637 -0.443110 -0.699789   \n",
              "\n",
              "          7         8         9    ...       166       167       168  \\\n",
              "0   -0.188429  0.880772  0.985548  ... -1.641943 -0.176763  1.133432   \n",
              "1    0.219483  0.860567  1.174878  ... -0.302797 -0.289969  0.388009   \n",
              "2   -0.659134  0.356959  0.215741  ... -1.379001  0.003627 -0.015949   \n",
              "3   -0.739469  1.035244  1.924699  ... -0.428502  0.270301  0.280280   \n",
              "4    0.702037  0.377281  0.538637  ... -1.619954  0.394104  1.521806   \n",
              "..        ...       ...       ...  ...       ...       ...       ...   \n",
              "745 -1.210693 -0.319138 -0.251740  ... -0.370226 -0.315825  0.757425   \n",
              "746  0.430125  0.890452  0.118196  ...  1.344524  0.276500  1.021200   \n",
              "747 -0.936890  1.103655 -0.161136  ...  0.777336 -0.459562 -0.263059   \n",
              "748 -1.114008  1.933827 -0.574729  ...  0.131545  0.102886  0.320871   \n",
              "749  0.170899  0.343282  1.000203  ... -0.680360  0.470844  1.549079   \n",
              "\n",
              "          169       170       171       172       173       174       175  \n",
              "0    0.786111  0.149253 -0.822809  0.648026 -0.645598 -1.070584  0.650088  \n",
              "1    0.823880  0.975161 -0.846089 -0.201287  0.176235  0.326525  0.054524  \n",
              "2   -0.475891  0.227348 -0.166000 -0.213037 -0.513933 -0.325998 -0.316061  \n",
              "3   -0.670332 -0.044446  0.689758  0.308167 -0.512299 -0.680800  0.167529  \n",
              "4    0.766298  0.136187  0.501297 -0.234312 -0.377410  0.562110 -0.048923  \n",
              "..        ...       ...       ...       ...       ...       ...       ...  \n",
              "745 -0.243151 -0.660508  0.552605 -0.058359 -0.444978 -1.390065 -0.231872  \n",
              "746  1.583635 -0.425096 -0.746123  1.175396 -0.158778 -0.338413  0.949265  \n",
              "747 -0.310094  0.328991  0.200051 -0.872118  1.629330  0.878083  0.402273  \n",
              "748 -0.867468  0.410845 -1.157011 -0.063201  0.357032 -0.074011 -0.385341  \n",
              "749  0.589145  0.566260  0.454782  0.692949  0.381028 -0.144886  0.632048  \n",
              "\n",
              "[750 rows x 176 columns]"
            ],
            "text/html": [
              "\n",
              "  <div id=\"df-974d6be5-bc17-492c-a701-a426ea7c0f00\" class=\"colab-df-container\">\n",
              "    <div>\n",
              "<style scoped>\n",
              "    .dataframe tbody tr th:only-of-type {\n",
              "        vertical-align: middle;\n",
              "    }\n",
              "\n",
              "    .dataframe tbody tr th {\n",
              "        vertical-align: top;\n",
              "    }\n",
              "\n",
              "    .dataframe thead th {\n",
              "        text-align: right;\n",
              "    }\n",
              "</style>\n",
              "<table border=\"1\" class=\"dataframe\">\n",
              "  <thead>\n",
              "    <tr style=\"text-align: right;\">\n",
              "      <th></th>\n",
              "      <th>0</th>\n",
              "      <th>1</th>\n",
              "      <th>2</th>\n",
              "      <th>3</th>\n",
              "      <th>4</th>\n",
              "      <th>5</th>\n",
              "      <th>6</th>\n",
              "      <th>7</th>\n",
              "      <th>8</th>\n",
              "      <th>9</th>\n",
              "      <th>...</th>\n",
              "      <th>166</th>\n",
              "      <th>167</th>\n",
              "      <th>168</th>\n",
              "      <th>169</th>\n",
              "      <th>170</th>\n",
              "      <th>171</th>\n",
              "      <th>172</th>\n",
              "      <th>173</th>\n",
              "      <th>174</th>\n",
              "      <th>175</th>\n",
              "    </tr>\n",
              "  </thead>\n",
              "  <tbody>\n",
              "    <tr>\n",
              "      <th>0</th>\n",
              "      <td>-0.724099</td>\n",
              "      <td>0.243082</td>\n",
              "      <td>1.478785</td>\n",
              "      <td>-1.424068</td>\n",
              "      <td>1.219783</td>\n",
              "      <td>-0.651757</td>\n",
              "      <td>-0.276519</td>\n",
              "      <td>-0.188429</td>\n",
              "      <td>0.880772</td>\n",
              "      <td>0.985548</td>\n",
              "      <td>...</td>\n",
              "      <td>-1.641943</td>\n",
              "      <td>-0.176763</td>\n",
              "      <td>1.133432</td>\n",
              "      <td>0.786111</td>\n",
              "      <td>0.149253</td>\n",
              "      <td>-0.822809</td>\n",
              "      <td>0.648026</td>\n",
              "      <td>-0.645598</td>\n",
              "      <td>-1.070584</td>\n",
              "      <td>0.650088</td>\n",
              "    </tr>\n",
              "    <tr>\n",
              "      <th>1</th>\n",
              "      <td>-1.222010</td>\n",
              "      <td>0.407967</td>\n",
              "      <td>2.627972</td>\n",
              "      <td>-0.646625</td>\n",
              "      <td>0.315224</td>\n",
              "      <td>-1.256556</td>\n",
              "      <td>0.391020</td>\n",
              "      <td>0.219483</td>\n",
              "      <td>0.860567</td>\n",
              "      <td>1.174878</td>\n",
              "      <td>...</td>\n",
              "      <td>-0.302797</td>\n",
              "      <td>-0.289969</td>\n",
              "      <td>0.388009</td>\n",
              "      <td>0.823880</td>\n",
              "      <td>0.975161</td>\n",
              "      <td>-0.846089</td>\n",
              "      <td>-0.201287</td>\n",
              "      <td>0.176235</td>\n",
              "      <td>0.326525</td>\n",
              "      <td>0.054524</td>\n",
              "    </tr>\n",
              "    <tr>\n",
              "      <th>2</th>\n",
              "      <td>-0.912279</td>\n",
              "      <td>0.140581</td>\n",
              "      <td>1.604592</td>\n",
              "      <td>-0.358110</td>\n",
              "      <td>0.241409</td>\n",
              "      <td>-0.942373</td>\n",
              "      <td>-0.056845</td>\n",
              "      <td>-0.659134</td>\n",
              "      <td>0.356959</td>\n",
              "      <td>0.215741</td>\n",
              "      <td>...</td>\n",
              "      <td>-1.379001</td>\n",
              "      <td>0.003627</td>\n",
              "      <td>-0.015949</td>\n",
              "      <td>-0.475891</td>\n",
              "      <td>0.227348</td>\n",
              "      <td>-0.166000</td>\n",
              "      <td>-0.213037</td>\n",
              "      <td>-0.513933</td>\n",
              "      <td>-0.325998</td>\n",
              "      <td>-0.316061</td>\n",
              "    </tr>\n",
              "    <tr>\n",
              "      <th>3</th>\n",
              "      <td>1.112461</td>\n",
              "      <td>0.366872</td>\n",
              "      <td>1.253339</td>\n",
              "      <td>-0.776183</td>\n",
              "      <td>1.184850</td>\n",
              "      <td>0.186864</td>\n",
              "      <td>-0.652759</td>\n",
              "      <td>-0.739469</td>\n",
              "      <td>1.035244</td>\n",
              "      <td>1.924699</td>\n",
              "      <td>...</td>\n",
              "      <td>-0.428502</td>\n",
              "      <td>0.270301</td>\n",
              "      <td>0.280280</td>\n",
              "      <td>-0.670332</td>\n",
              "      <td>-0.044446</td>\n",
              "      <td>0.689758</td>\n",
              "      <td>0.308167</td>\n",
              "      <td>-0.512299</td>\n",
              "      <td>-0.680800</td>\n",
              "      <td>0.167529</td>\n",
              "    </tr>\n",
              "    <tr>\n",
              "      <th>4</th>\n",
              "      <td>-1.042800</td>\n",
              "      <td>0.325330</td>\n",
              "      <td>1.010588</td>\n",
              "      <td>-0.207308</td>\n",
              "      <td>0.635252</td>\n",
              "      <td>-0.262099</td>\n",
              "      <td>-0.549687</td>\n",
              "      <td>0.702037</td>\n",
              "      <td>0.377281</td>\n",
              "      <td>0.538637</td>\n",
              "      <td>...</td>\n",
              "      <td>-1.619954</td>\n",
              "      <td>0.394104</td>\n",
              "      <td>1.521806</td>\n",
              "      <td>0.766298</td>\n",
              "      <td>0.136187</td>\n",
              "      <td>0.501297</td>\n",
              "      <td>-0.234312</td>\n",
              "      <td>-0.377410</td>\n",
              "      <td>0.562110</td>\n",
              "      <td>-0.048923</td>\n",
              "    </tr>\n",
              "    <tr>\n",
              "      <th>...</th>\n",
              "      <td>...</td>\n",
              "      <td>...</td>\n",
              "      <td>...</td>\n",
              "      <td>...</td>\n",
              "      <td>...</td>\n",
              "      <td>...</td>\n",
              "      <td>...</td>\n",
              "      <td>...</td>\n",
              "      <td>...</td>\n",
              "      <td>...</td>\n",
              "      <td>...</td>\n",
              "      <td>...</td>\n",
              "      <td>...</td>\n",
              "      <td>...</td>\n",
              "      <td>...</td>\n",
              "      <td>...</td>\n",
              "      <td>...</td>\n",
              "      <td>...</td>\n",
              "      <td>...</td>\n",
              "      <td>...</td>\n",
              "      <td>...</td>\n",
              "    </tr>\n",
              "    <tr>\n",
              "      <th>745</th>\n",
              "      <td>-0.252621</td>\n",
              "      <td>-0.460511</td>\n",
              "      <td>-0.677400</td>\n",
              "      <td>0.723989</td>\n",
              "      <td>0.473791</td>\n",
              "      <td>0.021910</td>\n",
              "      <td>-0.491305</td>\n",
              "      <td>-1.210693</td>\n",
              "      <td>-0.319138</td>\n",
              "      <td>-0.251740</td>\n",
              "      <td>...</td>\n",
              "      <td>-0.370226</td>\n",
              "      <td>-0.315825</td>\n",
              "      <td>0.757425</td>\n",
              "      <td>-0.243151</td>\n",
              "      <td>-0.660508</td>\n",
              "      <td>0.552605</td>\n",
              "      <td>-0.058359</td>\n",
              "      <td>-0.444978</td>\n",
              "      <td>-1.390065</td>\n",
              "      <td>-0.231872</td>\n",
              "    </tr>\n",
              "    <tr>\n",
              "      <th>746</th>\n",
              "      <td>-0.246324</td>\n",
              "      <td>-1.176413</td>\n",
              "      <td>-0.960008</td>\n",
              "      <td>0.659857</td>\n",
              "      <td>0.400619</td>\n",
              "      <td>0.516162</td>\n",
              "      <td>0.370860</td>\n",
              "      <td>0.430125</td>\n",
              "      <td>0.890452</td>\n",
              "      <td>0.118196</td>\n",
              "      <td>...</td>\n",
              "      <td>1.344524</td>\n",
              "      <td>0.276500</td>\n",
              "      <td>1.021200</td>\n",
              "      <td>1.583635</td>\n",
              "      <td>-0.425096</td>\n",
              "      <td>-0.746123</td>\n",
              "      <td>1.175396</td>\n",
              "      <td>-0.158778</td>\n",
              "      <td>-0.338413</td>\n",
              "      <td>0.949265</td>\n",
              "    </tr>\n",
              "    <tr>\n",
              "      <th>747</th>\n",
              "      <td>0.264746</td>\n",
              "      <td>-0.760078</td>\n",
              "      <td>0.543856</td>\n",
              "      <td>-0.293179</td>\n",
              "      <td>0.149160</td>\n",
              "      <td>-0.151330</td>\n",
              "      <td>0.246407</td>\n",
              "      <td>-0.936890</td>\n",
              "      <td>1.103655</td>\n",
              "      <td>-0.161136</td>\n",
              "      <td>...</td>\n",
              "      <td>0.777336</td>\n",
              "      <td>-0.459562</td>\n",
              "      <td>-0.263059</td>\n",
              "      <td>-0.310094</td>\n",
              "      <td>0.328991</td>\n",
              "      <td>0.200051</td>\n",
              "      <td>-0.872118</td>\n",
              "      <td>1.629330</td>\n",
              "      <td>0.878083</td>\n",
              "      <td>0.402273</td>\n",
              "    </tr>\n",
              "    <tr>\n",
              "      <th>748</th>\n",
              "      <td>0.557539</td>\n",
              "      <td>0.259147</td>\n",
              "      <td>0.130087</td>\n",
              "      <td>0.601868</td>\n",
              "      <td>-0.108343</td>\n",
              "      <td>1.448241</td>\n",
              "      <td>-0.212337</td>\n",
              "      <td>-1.114008</td>\n",
              "      <td>1.933827</td>\n",
              "      <td>-0.574729</td>\n",
              "      <td>...</td>\n",
              "      <td>0.131545</td>\n",
              "      <td>0.102886</td>\n",
              "      <td>0.320871</td>\n",
              "      <td>-0.867468</td>\n",
              "      <td>0.410845</td>\n",
              "      <td>-1.157011</td>\n",
              "      <td>-0.063201</td>\n",
              "      <td>0.357032</td>\n",
              "      <td>-0.074011</td>\n",
              "      <td>-0.385341</td>\n",
              "    </tr>\n",
              "    <tr>\n",
              "      <th>749</th>\n",
              "      <td>-0.679785</td>\n",
              "      <td>-0.396586</td>\n",
              "      <td>-0.003415</td>\n",
              "      <td>-0.385927</td>\n",
              "      <td>-0.184637</td>\n",
              "      <td>-0.443110</td>\n",
              "      <td>-0.699789</td>\n",
              "      <td>0.170899</td>\n",
              "      <td>0.343282</td>\n",
              "      <td>1.000203</td>\n",
              "      <td>...</td>\n",
              "      <td>-0.680360</td>\n",
              "      <td>0.470844</td>\n",
              "      <td>1.549079</td>\n",
              "      <td>0.589145</td>\n",
              "      <td>0.566260</td>\n",
              "      <td>0.454782</td>\n",
              "      <td>0.692949</td>\n",
              "      <td>0.381028</td>\n",
              "      <td>-0.144886</td>\n",
              "      <td>0.632048</td>\n",
              "    </tr>\n",
              "  </tbody>\n",
              "</table>\n",
              "<p>750 rows × 176 columns</p>\n",
              "</div>\n",
              "    <div class=\"colab-df-buttons\">\n",
              "\n",
              "  <div class=\"colab-df-container\">\n",
              "    <button class=\"colab-df-convert\" onclick=\"convertToInteractive('df-974d6be5-bc17-492c-a701-a426ea7c0f00')\"\n",
              "            title=\"Convert this dataframe to an interactive table.\"\n",
              "            style=\"display:none;\">\n",
              "\n",
              "  <svg xmlns=\"http://www.w3.org/2000/svg\" height=\"24px\" viewBox=\"0 -960 960 960\">\n",
              "    <path d=\"M120-120v-720h720v720H120Zm60-500h600v-160H180v160Zm220 220h160v-160H400v160Zm0 220h160v-160H400v160ZM180-400h160v-160H180v160Zm440 0h160v-160H620v160ZM180-180h160v-160H180v160Zm440 0h160v-160H620v160Z\"/>\n",
              "  </svg>\n",
              "    </button>\n",
              "\n",
              "  <style>\n",
              "    .colab-df-container {\n",
              "      display:flex;\n",
              "      gap: 12px;\n",
              "    }\n",
              "\n",
              "    .colab-df-convert {\n",
              "      background-color: #E8F0FE;\n",
              "      border: none;\n",
              "      border-radius: 50%;\n",
              "      cursor: pointer;\n",
              "      display: none;\n",
              "      fill: #1967D2;\n",
              "      height: 32px;\n",
              "      padding: 0 0 0 0;\n",
              "      width: 32px;\n",
              "    }\n",
              "\n",
              "    .colab-df-convert:hover {\n",
              "      background-color: #E2EBFA;\n",
              "      box-shadow: 0px 1px 2px rgba(60, 64, 67, 0.3), 0px 1px 3px 1px rgba(60, 64, 67, 0.15);\n",
              "      fill: #174EA6;\n",
              "    }\n",
              "\n",
              "    .colab-df-buttons div {\n",
              "      margin-bottom: 4px;\n",
              "    }\n",
              "\n",
              "    [theme=dark] .colab-df-convert {\n",
              "      background-color: #3B4455;\n",
              "      fill: #D2E3FC;\n",
              "    }\n",
              "\n",
              "    [theme=dark] .colab-df-convert:hover {\n",
              "      background-color: #434B5C;\n",
              "      box-shadow: 0px 1px 3px 1px rgba(0, 0, 0, 0.15);\n",
              "      filter: drop-shadow(0px 1px 2px rgba(0, 0, 0, 0.3));\n",
              "      fill: #FFFFFF;\n",
              "    }\n",
              "  </style>\n",
              "\n",
              "    <script>\n",
              "      const buttonEl =\n",
              "        document.querySelector('#df-974d6be5-bc17-492c-a701-a426ea7c0f00 button.colab-df-convert');\n",
              "      buttonEl.style.display =\n",
              "        google.colab.kernel.accessAllowed ? 'block' : 'none';\n",
              "\n",
              "      async function convertToInteractive(key) {\n",
              "        const element = document.querySelector('#df-974d6be5-bc17-492c-a701-a426ea7c0f00');\n",
              "        const dataTable =\n",
              "          await google.colab.kernel.invokeFunction('convertToInteractive',\n",
              "                                                    [key], {});\n",
              "        if (!dataTable) return;\n",
              "\n",
              "        const docLinkHtml = 'Like what you see? Visit the ' +\n",
              "          '<a target=\"_blank\" href=https://colab.research.google.com/notebooks/data_table.ipynb>data table notebook</a>'\n",
              "          + ' to learn more about interactive tables.';\n",
              "        element.innerHTML = '';\n",
              "        dataTable['output_type'] = 'display_data';\n",
              "        await google.colab.output.renderOutput(dataTable, element);\n",
              "        const docLink = document.createElement('div');\n",
              "        docLink.innerHTML = docLinkHtml;\n",
              "        element.appendChild(docLink);\n",
              "      }\n",
              "    </script>\n",
              "  </div>\n",
              "\n",
              "\n",
              "<div id=\"df-50750b91-7287-41f3-b8d7-ad3d8501c56a\">\n",
              "  <button class=\"colab-df-quickchart\" onclick=\"quickchart('df-50750b91-7287-41f3-b8d7-ad3d8501c56a')\"\n",
              "            title=\"Suggest charts.\"\n",
              "            style=\"display:none;\">\n",
              "\n",
              "<svg xmlns=\"http://www.w3.org/2000/svg\" height=\"24px\"viewBox=\"0 0 24 24\"\n",
              "     width=\"24px\">\n",
              "    <g>\n",
              "        <path d=\"M19 3H5c-1.1 0-2 .9-2 2v14c0 1.1.9 2 2 2h14c1.1 0 2-.9 2-2V5c0-1.1-.9-2-2-2zM9 17H7v-7h2v7zm4 0h-2V7h2v10zm4 0h-2v-4h2v4z\"/>\n",
              "    </g>\n",
              "</svg>\n",
              "  </button>\n",
              "\n",
              "<style>\n",
              "  .colab-df-quickchart {\n",
              "    background-color: #E8F0FE;\n",
              "    border: none;\n",
              "    border-radius: 50%;\n",
              "    cursor: pointer;\n",
              "    display: none;\n",
              "    fill: #1967D2;\n",
              "    height: 32px;\n",
              "    padding: 0 0 0 0;\n",
              "    width: 32px;\n",
              "  }\n",
              "\n",
              "  .colab-df-quickchart:hover {\n",
              "    background-color: #E2EBFA;\n",
              "    box-shadow: 0px 1px 2px rgba(60, 64, 67, 0.3), 0px 1px 3px 1px rgba(60, 64, 67, 0.15);\n",
              "    fill: #174EA6;\n",
              "  }\n",
              "\n",
              "  [theme=dark] .colab-df-quickchart {\n",
              "    background-color: #3B4455;\n",
              "    fill: #D2E3FC;\n",
              "  }\n",
              "\n",
              "  [theme=dark] .colab-df-quickchart:hover {\n",
              "    background-color: #434B5C;\n",
              "    box-shadow: 0px 1px 3px 1px rgba(0, 0, 0, 0.15);\n",
              "    filter: drop-shadow(0px 1px 2px rgba(0, 0, 0, 0.3));\n",
              "    fill: #FFFFFF;\n",
              "  }\n",
              "</style>\n",
              "\n",
              "  <script>\n",
              "    async function quickchart(key) {\n",
              "      const charts = await google.colab.kernel.invokeFunction(\n",
              "          'suggestCharts', [key], {});\n",
              "    }\n",
              "    (() => {\n",
              "      let quickchartButtonEl =\n",
              "        document.querySelector('#df-50750b91-7287-41f3-b8d7-ad3d8501c56a button');\n",
              "      quickchartButtonEl.style.display =\n",
              "        google.colab.kernel.accessAllowed ? 'block' : 'none';\n",
              "    })();\n",
              "  </script>\n",
              "</div>\n",
              "    </div>\n",
              "  </div>\n"
            ]
          },
          "metadata": {},
          "execution_count": 165
        }
      ]
    },
    {
      "cell_type": "code",
      "source": [
        "label4_features = pd.DataFrame(data=x_test_remove, columns=[f'new_feature_{i+1}' for i in range(x_test_remove.shape[1])])\n",
        "label4_features.insert(0,'Predicted labels before feature engineering',label_4_pred_before)\n",
        "label4_features.insert(1,'Predicted labels after feature engineering', label_4_pred_after)\n",
        "label4_features.insert(2,'No of new features', x_test_remove.shape[1])"
      ],
      "metadata": {
        "id": "Viz2sqeA7N-U"
      },
      "execution_count": null,
      "outputs": []
    },
    {
      "cell_type": "code",
      "source": [
        "write_csv(label4_features,\"label_4\")"
      ],
      "metadata": {
        "id": "LFQFrbp67N-U"
      },
      "execution_count": null,
      "outputs": []
    }
  ]
}